{
 "cells": [
  {
   "cell_type": "markdown",
   "metadata": {},
   "source": [
    "# Исследование пользовательского поведения в мобильном приложении\n",
    "Необходимо провести исследование поведения пользователей мобильного приложения для стартапа, который продаёт продукты питания. Нужно выяснить, как пользователи доходят до покупки, какая доля доходит, на каких шагах застревают. Нужно провести анализ А/А/В-тестирования, чтобы понять повлияло ли изменение шрифта на пользователей, если да, то как. \n",
    "\n",
    "**Цель:** исследование поведения пользователей мобильного приложения\n",
    "\n",
    "**Ход исследования:**  \n",
    "1. Загрузка и обзор данных\n",
    "2. Предобработка данных\n",
    "3. Изучение данных (количество событий, пользователей, рассматриваемый временной период)\n",
    "4. Исследование воронки событий (как пользователи доходят до покупки, сколько пользователей доходит до покупки)\n",
    "5. Исследование результатов проведения А/А/В-теста\n",
    "6. Написание общего вывода исследования"
   ]
  },
  {
   "cell_type": "code",
   "execution_count": 39,
   "metadata": {},
   "outputs": [],
   "source": [
    "import pandas as pd\n",
    "import numpy as np\n",
    "import datetime as dt\n",
    "import matplotlib.pyplot as plt\n",
    "import seaborn as sns\n",
    "from scipy import stats\n",
    "from plotly import graph_objects as go\n",
    "import math as mth"
   ]
  },
  {
   "cell_type": "markdown",
   "metadata": {},
   "source": [
    "## Загрузка и обзор данных\n",
    "Откроем файл с данными и изучите общую информацию, применив методы info(), describe(), также проверим данные на дубликаты."
   ]
  },
  {
   "cell_type": "code",
   "execution_count": 40,
   "metadata": {},
   "outputs": [],
   "source": [
    "# загрузим данных\n",
    "logs_exp = pd.read_csv('/datasets/logs_exp.csv', sep='\\t')"
   ]
  },
  {
   "cell_type": "code",
   "execution_count": 41,
   "metadata": {},
   "outputs": [
    {
     "name": "stdout",
     "output_type": "stream",
     "text": [
      "<class 'pandas.core.frame.DataFrame'>\n",
      "RangeIndex: 244126 entries, 0 to 244125\n",
      "Data columns (total 4 columns):\n",
      " #   Column          Non-Null Count   Dtype \n",
      "---  ------          --------------   ----- \n",
      " 0   EventName       244126 non-null  object\n",
      " 1   DeviceIDHash    244126 non-null  int64 \n",
      " 2   EventTimestamp  244126 non-null  int64 \n",
      " 3   ExpId           244126 non-null  int64 \n",
      "dtypes: int64(3), object(1)\n",
      "memory usage: 7.5+ MB\n"
     ]
    },
    {
     "data": {
      "text/html": [
       "<div>\n",
       "<style scoped>\n",
       "    .dataframe tbody tr th:only-of-type {\n",
       "        vertical-align: middle;\n",
       "    }\n",
       "\n",
       "    .dataframe tbody tr th {\n",
       "        vertical-align: top;\n",
       "    }\n",
       "\n",
       "    .dataframe thead th {\n",
       "        text-align: right;\n",
       "    }\n",
       "</style>\n",
       "<table border=\"1\" class=\"dataframe\">\n",
       "  <thead>\n",
       "    <tr style=\"text-align: right;\">\n",
       "      <th></th>\n",
       "      <th>EventName</th>\n",
       "      <th>DeviceIDHash</th>\n",
       "      <th>EventTimestamp</th>\n",
       "      <th>ExpId</th>\n",
       "    </tr>\n",
       "  </thead>\n",
       "  <tbody>\n",
       "    <tr>\n",
       "      <th>0</th>\n",
       "      <td>MainScreenAppear</td>\n",
       "      <td>4575588528974610257</td>\n",
       "      <td>1564029816</td>\n",
       "      <td>246</td>\n",
       "    </tr>\n",
       "    <tr>\n",
       "      <th>1</th>\n",
       "      <td>MainScreenAppear</td>\n",
       "      <td>7416695313311560658</td>\n",
       "      <td>1564053102</td>\n",
       "      <td>246</td>\n",
       "    </tr>\n",
       "    <tr>\n",
       "      <th>2</th>\n",
       "      <td>PaymentScreenSuccessful</td>\n",
       "      <td>3518123091307005509</td>\n",
       "      <td>1564054127</td>\n",
       "      <td>248</td>\n",
       "    </tr>\n",
       "    <tr>\n",
       "      <th>3</th>\n",
       "      <td>CartScreenAppear</td>\n",
       "      <td>3518123091307005509</td>\n",
       "      <td>1564054127</td>\n",
       "      <td>248</td>\n",
       "    </tr>\n",
       "    <tr>\n",
       "      <th>4</th>\n",
       "      <td>PaymentScreenSuccessful</td>\n",
       "      <td>6217807653094995999</td>\n",
       "      <td>1564055322</td>\n",
       "      <td>248</td>\n",
       "    </tr>\n",
       "  </tbody>\n",
       "</table>\n",
       "</div>"
      ],
      "text/plain": [
       "                 EventName         DeviceIDHash  EventTimestamp  ExpId\n",
       "0         MainScreenAppear  4575588528974610257      1564029816    246\n",
       "1         MainScreenAppear  7416695313311560658      1564053102    246\n",
       "2  PaymentScreenSuccessful  3518123091307005509      1564054127    248\n",
       "3         CartScreenAppear  3518123091307005509      1564054127    248\n",
       "4  PaymentScreenSuccessful  6217807653094995999      1564055322    248"
      ]
     },
     "metadata": {},
     "output_type": "display_data"
    },
    {
     "data": {
      "text/plain": [
       "None"
      ]
     },
     "metadata": {},
     "output_type": "display_data"
    },
    {
     "data": {
      "text/html": [
       "<div>\n",
       "<style scoped>\n",
       "    .dataframe tbody tr th:only-of-type {\n",
       "        vertical-align: middle;\n",
       "    }\n",
       "\n",
       "    .dataframe tbody tr th {\n",
       "        vertical-align: top;\n",
       "    }\n",
       "\n",
       "    .dataframe thead th {\n",
       "        text-align: right;\n",
       "    }\n",
       "</style>\n",
       "<table border=\"1\" class=\"dataframe\">\n",
       "  <thead>\n",
       "    <tr style=\"text-align: right;\">\n",
       "      <th></th>\n",
       "      <th>DeviceIDHash</th>\n",
       "      <th>EventTimestamp</th>\n",
       "      <th>ExpId</th>\n",
       "    </tr>\n",
       "  </thead>\n",
       "  <tbody>\n",
       "    <tr>\n",
       "      <th>count</th>\n",
       "      <td>2.441260e+05</td>\n",
       "      <td>2.441260e+05</td>\n",
       "      <td>244126.000000</td>\n",
       "    </tr>\n",
       "    <tr>\n",
       "      <th>mean</th>\n",
       "      <td>4.627568e+18</td>\n",
       "      <td>1.564914e+09</td>\n",
       "      <td>247.022296</td>\n",
       "    </tr>\n",
       "    <tr>\n",
       "      <th>std</th>\n",
       "      <td>2.642425e+18</td>\n",
       "      <td>1.771343e+05</td>\n",
       "      <td>0.824434</td>\n",
       "    </tr>\n",
       "    <tr>\n",
       "      <th>min</th>\n",
       "      <td>6.888747e+15</td>\n",
       "      <td>1.564030e+09</td>\n",
       "      <td>246.000000</td>\n",
       "    </tr>\n",
       "    <tr>\n",
       "      <th>25%</th>\n",
       "      <td>2.372212e+18</td>\n",
       "      <td>1.564757e+09</td>\n",
       "      <td>246.000000</td>\n",
       "    </tr>\n",
       "    <tr>\n",
       "      <th>50%</th>\n",
       "      <td>4.623192e+18</td>\n",
       "      <td>1.564919e+09</td>\n",
       "      <td>247.000000</td>\n",
       "    </tr>\n",
       "    <tr>\n",
       "      <th>75%</th>\n",
       "      <td>6.932517e+18</td>\n",
       "      <td>1.565075e+09</td>\n",
       "      <td>248.000000</td>\n",
       "    </tr>\n",
       "    <tr>\n",
       "      <th>max</th>\n",
       "      <td>9.222603e+18</td>\n",
       "      <td>1.565213e+09</td>\n",
       "      <td>248.000000</td>\n",
       "    </tr>\n",
       "  </tbody>\n",
       "</table>\n",
       "</div>"
      ],
      "text/plain": [
       "       DeviceIDHash  EventTimestamp          ExpId\n",
       "count  2.441260e+05    2.441260e+05  244126.000000\n",
       "mean   4.627568e+18    1.564914e+09     247.022296\n",
       "std    2.642425e+18    1.771343e+05       0.824434\n",
       "min    6.888747e+15    1.564030e+09     246.000000\n",
       "25%    2.372212e+18    1.564757e+09     246.000000\n",
       "50%    4.623192e+18    1.564919e+09     247.000000\n",
       "75%    6.932517e+18    1.565075e+09     248.000000\n",
       "max    9.222603e+18    1.565213e+09     248.000000"
      ]
     },
     "metadata": {},
     "output_type": "display_data"
    },
    {
     "data": {
      "text/plain": [
       "413"
      ]
     },
     "metadata": {},
     "output_type": "display_data"
    }
   ],
   "source": [
    "# изучим данные\n",
    "def analysis(df):\n",
    "    display(df.head(), df.info(), df.describe(), df.duplicated().sum())\n",
    "\n",
    "analysis(logs_exp)"
   ]
  },
  {
   "cell_type": "code",
   "execution_count": 42,
   "metadata": {},
   "outputs": [
    {
     "data": {
      "text/html": [
       "<div>\n",
       "<style scoped>\n",
       "    .dataframe tbody tr th:only-of-type {\n",
       "        vertical-align: middle;\n",
       "    }\n",
       "\n",
       "    .dataframe tbody tr th {\n",
       "        vertical-align: top;\n",
       "    }\n",
       "\n",
       "    .dataframe thead th {\n",
       "        text-align: right;\n",
       "    }\n",
       "</style>\n",
       "<table border=\"1\" class=\"dataframe\">\n",
       "  <thead>\n",
       "    <tr style=\"text-align: right;\">\n",
       "      <th></th>\n",
       "      <th>EventName</th>\n",
       "    </tr>\n",
       "  </thead>\n",
       "  <tbody>\n",
       "    <tr>\n",
       "      <th>MainScreenAppear</th>\n",
       "      <td>119205</td>\n",
       "    </tr>\n",
       "    <tr>\n",
       "      <th>OffersScreenAppear</th>\n",
       "      <td>46825</td>\n",
       "    </tr>\n",
       "    <tr>\n",
       "      <th>CartScreenAppear</th>\n",
       "      <td>42731</td>\n",
       "    </tr>\n",
       "    <tr>\n",
       "      <th>PaymentScreenSuccessful</th>\n",
       "      <td>34313</td>\n",
       "    </tr>\n",
       "    <tr>\n",
       "      <th>Tutorial</th>\n",
       "      <td>1052</td>\n",
       "    </tr>\n",
       "  </tbody>\n",
       "</table>\n",
       "</div>"
      ],
      "text/plain": [
       "                         EventName\n",
       "MainScreenAppear            119205\n",
       "OffersScreenAppear           46825\n",
       "CartScreenAppear             42731\n",
       "PaymentScreenSuccessful      34313\n",
       "Tutorial                      1052"
      ]
     },
     "metadata": {},
     "output_type": "display_data"
    },
    {
     "name": "stdout",
     "output_type": "stream",
     "text": [
      "['MainScreenAppear' 'PaymentScreenSuccessful' 'CartScreenAppear'\n",
      " 'OffersScreenAppear' 'Tutorial']\n",
      "\n"
     ]
    },
    {
     "data": {
      "text/html": [
       "<div>\n",
       "<style scoped>\n",
       "    .dataframe tbody tr th:only-of-type {\n",
       "        vertical-align: middle;\n",
       "    }\n",
       "\n",
       "    .dataframe tbody tr th {\n",
       "        vertical-align: top;\n",
       "    }\n",
       "\n",
       "    .dataframe thead th {\n",
       "        text-align: right;\n",
       "    }\n",
       "</style>\n",
       "<table border=\"1\" class=\"dataframe\">\n",
       "  <thead>\n",
       "    <tr style=\"text-align: right;\">\n",
       "      <th></th>\n",
       "      <th>DeviceIDHash</th>\n",
       "    </tr>\n",
       "  </thead>\n",
       "  <tbody>\n",
       "    <tr>\n",
       "      <th>6304868067479728361</th>\n",
       "      <td>2308</td>\n",
       "    </tr>\n",
       "    <tr>\n",
       "      <th>197027893265565660</th>\n",
       "      <td>2003</td>\n",
       "    </tr>\n",
       "    <tr>\n",
       "      <th>4623191541214045580</th>\n",
       "      <td>1771</td>\n",
       "    </tr>\n",
       "    <tr>\n",
       "      <th>6932517045703054087</th>\n",
       "      <td>1448</td>\n",
       "    </tr>\n",
       "    <tr>\n",
       "      <th>1754140665440434215</th>\n",
       "      <td>1222</td>\n",
       "    </tr>\n",
       "    <tr>\n",
       "      <th>...</th>\n",
       "      <td>...</td>\n",
       "    </tr>\n",
       "    <tr>\n",
       "      <th>8188293597840107588</th>\n",
       "      <td>1</td>\n",
       "    </tr>\n",
       "    <tr>\n",
       "      <th>1616856457908967248</th>\n",
       "      <td>1</td>\n",
       "    </tr>\n",
       "    <tr>\n",
       "      <th>732356052255400077</th>\n",
       "      <td>1</td>\n",
       "    </tr>\n",
       "    <tr>\n",
       "      <th>6671109879025379318</th>\n",
       "      <td>1</td>\n",
       "    </tr>\n",
       "    <tr>\n",
       "      <th>2275878174127603404</th>\n",
       "      <td>1</td>\n",
       "    </tr>\n",
       "  </tbody>\n",
       "</table>\n",
       "<p>7551 rows × 1 columns</p>\n",
       "</div>"
      ],
      "text/plain": [
       "                     DeviceIDHash\n",
       "6304868067479728361          2308\n",
       "197027893265565660           2003\n",
       "4623191541214045580          1771\n",
       "6932517045703054087          1448\n",
       "1754140665440434215          1222\n",
       "...                           ...\n",
       "8188293597840107588             1\n",
       "1616856457908967248             1\n",
       "732356052255400077              1\n",
       "6671109879025379318             1\n",
       "2275878174127603404             1\n",
       "\n",
       "[7551 rows x 1 columns]"
      ]
     },
     "metadata": {},
     "output_type": "display_data"
    },
    {
     "name": "stdout",
     "output_type": "stream",
     "text": [
      "[4575588528974610257 7416695313311560658 3518123091307005509 ...\n",
      " 6660805781687343085 7823752606740475984 3454683894921357834]\n",
      "\n"
     ]
    },
    {
     "data": {
      "text/html": [
       "<div>\n",
       "<style scoped>\n",
       "    .dataframe tbody tr th:only-of-type {\n",
       "        vertical-align: middle;\n",
       "    }\n",
       "\n",
       "    .dataframe tbody tr th {\n",
       "        vertical-align: top;\n",
       "    }\n",
       "\n",
       "    .dataframe thead th {\n",
       "        text-align: right;\n",
       "    }\n",
       "</style>\n",
       "<table border=\"1\" class=\"dataframe\">\n",
       "  <thead>\n",
       "    <tr style=\"text-align: right;\">\n",
       "      <th></th>\n",
       "      <th>EventTimestamp</th>\n",
       "    </tr>\n",
       "  </thead>\n",
       "  <tbody>\n",
       "    <tr>\n",
       "      <th>1564670435</th>\n",
       "      <td>9</td>\n",
       "    </tr>\n",
       "    <tr>\n",
       "      <th>1564935799</th>\n",
       "      <td>9</td>\n",
       "    </tr>\n",
       "    <tr>\n",
       "      <th>1564911846</th>\n",
       "      <td>8</td>\n",
       "    </tr>\n",
       "    <tr>\n",
       "      <th>1565176721</th>\n",
       "      <td>8</td>\n",
       "    </tr>\n",
       "    <tr>\n",
       "      <th>1565191469</th>\n",
       "      <td>8</td>\n",
       "    </tr>\n",
       "    <tr>\n",
       "      <th>...</th>\n",
       "      <td>...</td>\n",
       "    </tr>\n",
       "    <tr>\n",
       "      <th>1564980679</th>\n",
       "      <td>1</td>\n",
       "    </tr>\n",
       "    <tr>\n",
       "      <th>1564724680</th>\n",
       "      <td>1</td>\n",
       "    </tr>\n",
       "    <tr>\n",
       "      <th>1564732876</th>\n",
       "      <td>1</td>\n",
       "    </tr>\n",
       "    <tr>\n",
       "      <th>1564673489</th>\n",
       "      <td>1</td>\n",
       "    </tr>\n",
       "    <tr>\n",
       "      <th>1564668190</th>\n",
       "      <td>1</td>\n",
       "    </tr>\n",
       "  </tbody>\n",
       "</table>\n",
       "<p>176654 rows × 1 columns</p>\n",
       "</div>"
      ],
      "text/plain": [
       "            EventTimestamp\n",
       "1564670435               9\n",
       "1564935799               9\n",
       "1564911846               8\n",
       "1565176721               8\n",
       "1565191469               8\n",
       "...                    ...\n",
       "1564980679               1\n",
       "1564724680               1\n",
       "1564732876               1\n",
       "1564673489               1\n",
       "1564668190               1\n",
       "\n",
       "[176654 rows x 1 columns]"
      ]
     },
     "metadata": {},
     "output_type": "display_data"
    },
    {
     "name": "stdout",
     "output_type": "stream",
     "text": [
      "[1564029816 1564053102 1564054127 ... 1565212483 1565212498 1565212517]\n",
      "\n"
     ]
    },
    {
     "data": {
      "text/html": [
       "<div>\n",
       "<style scoped>\n",
       "    .dataframe tbody tr th:only-of-type {\n",
       "        vertical-align: middle;\n",
       "    }\n",
       "\n",
       "    .dataframe tbody tr th {\n",
       "        vertical-align: top;\n",
       "    }\n",
       "\n",
       "    .dataframe thead th {\n",
       "        text-align: right;\n",
       "    }\n",
       "</style>\n",
       "<table border=\"1\" class=\"dataframe\">\n",
       "  <thead>\n",
       "    <tr style=\"text-align: right;\">\n",
       "      <th></th>\n",
       "      <th>ExpId</th>\n",
       "    </tr>\n",
       "  </thead>\n",
       "  <tbody>\n",
       "    <tr>\n",
       "      <th>248</th>\n",
       "      <td>85747</td>\n",
       "    </tr>\n",
       "    <tr>\n",
       "      <th>246</th>\n",
       "      <td>80304</td>\n",
       "    </tr>\n",
       "    <tr>\n",
       "      <th>247</th>\n",
       "      <td>78075</td>\n",
       "    </tr>\n",
       "  </tbody>\n",
       "</table>\n",
       "</div>"
      ],
      "text/plain": [
       "     ExpId\n",
       "248  85747\n",
       "246  80304\n",
       "247  78075"
      ]
     },
     "metadata": {},
     "output_type": "display_data"
    },
    {
     "name": "stdout",
     "output_type": "stream",
     "text": [
      "[246 248 247]\n",
      "\n"
     ]
    }
   ],
   "source": [
    "# проверим уникальные значения каждого столбца (категориальных) для проверки на неявные дубликаты\n",
    "for i in logs_exp.columns:\n",
    "    display(logs_exp[i].value_counts().to_frame())\n",
    "    print(logs_exp[i].unique())\n",
    "    print()"
   ]
  },
  {
   "cell_type": "markdown",
   "metadata": {},
   "source": [
    "**Вывод:**\n",
    "\n",
    "Датасет содержит 244 126 строк и 4 столбца. Столбцы содержат следующую информацию:\n",
    "- EventName — название события\n",
    "- DeviceIDHash — уникальный идентификатор пользователя\n",
    "- EventTimestamp — время события\n",
    "- ExpId — номер эксперимента: 246 и 247 — контрольные группы, а 248 — экспериментальная\n",
    "\n",
    "Можем сделать следующие выводы, исследовав данные:\n",
    "- в данных нет пропусков\n",
    "- колонка EventTimestamp (время события) имеет неверный тип данных\n",
    "- названия колонок не имеют нижний регистр, можно их преобразовать для более удобного использования\n",
    "- в данных есть 413 дублированных строк\n",
    "- неявных дубликатов в данных нет"
   ]
  },
  {
   "cell_type": "markdown",
   "metadata": {},
   "source": [
    "## Предобработка данных\n",
    "Исходя из выводов предыдущего раздела изменим названия столбцов, изменим тип данных столбца EventTimestamp и удалим дубликаты.  \n",
    "Также создадим столбцы, содержащие только дату и только время события."
   ]
  },
  {
   "cell_type": "code",
   "execution_count": 43,
   "metadata": {},
   "outputs": [],
   "source": [
    "# изменим названия столбцов \n",
    "# logs_exp.columns = ['event_name', 'device_id_hash', 'event_timestamp', 'exp_id']\n",
    "logs_exp = logs_exp.rename(columns={'EventName': 'event_name',\n",
    "                                    'DeviceIDHash': 'device_id_hash',\n",
    "                                    'EventTimestamp': 'event_timestamp',\n",
    "                                    'ExpId': 'exp_id'})"
   ]
  },
  {
   "cell_type": "code",
   "execution_count": 44,
   "metadata": {},
   "outputs": [],
   "source": [
    "# преобразуем тип данных \n",
    "logs_exp.event_timestamp = pd.to_datetime(logs_exp.event_timestamp, unit='s')"
   ]
  },
  {
   "cell_type": "code",
   "execution_count": 45,
   "metadata": {},
   "outputs": [
    {
     "data": {
      "text/html": [
       "<div>\n",
       "<style scoped>\n",
       "    .dataframe tbody tr th:only-of-type {\n",
       "        vertical-align: middle;\n",
       "    }\n",
       "\n",
       "    .dataframe tbody tr th {\n",
       "        vertical-align: top;\n",
       "    }\n",
       "\n",
       "    .dataframe thead th {\n",
       "        text-align: right;\n",
       "    }\n",
       "</style>\n",
       "<table border=\"1\" class=\"dataframe\">\n",
       "  <thead>\n",
       "    <tr style=\"text-align: right;\">\n",
       "      <th></th>\n",
       "      <th>event_name</th>\n",
       "      <th>device_id_hash</th>\n",
       "      <th>event_timestamp</th>\n",
       "      <th>exp_id</th>\n",
       "    </tr>\n",
       "  </thead>\n",
       "  <tbody>\n",
       "    <tr>\n",
       "      <th>0</th>\n",
       "      <td>MainScreenAppear</td>\n",
       "      <td>4575588528974610257</td>\n",
       "      <td>2019-07-25 04:43:36</td>\n",
       "      <td>246</td>\n",
       "    </tr>\n",
       "    <tr>\n",
       "      <th>1</th>\n",
       "      <td>MainScreenAppear</td>\n",
       "      <td>7416695313311560658</td>\n",
       "      <td>2019-07-25 11:11:42</td>\n",
       "      <td>246</td>\n",
       "    </tr>\n",
       "    <tr>\n",
       "      <th>2</th>\n",
       "      <td>PaymentScreenSuccessful</td>\n",
       "      <td>3518123091307005509</td>\n",
       "      <td>2019-07-25 11:28:47</td>\n",
       "      <td>248</td>\n",
       "    </tr>\n",
       "    <tr>\n",
       "      <th>3</th>\n",
       "      <td>CartScreenAppear</td>\n",
       "      <td>3518123091307005509</td>\n",
       "      <td>2019-07-25 11:28:47</td>\n",
       "      <td>248</td>\n",
       "    </tr>\n",
       "    <tr>\n",
       "      <th>4</th>\n",
       "      <td>PaymentScreenSuccessful</td>\n",
       "      <td>6217807653094995999</td>\n",
       "      <td>2019-07-25 11:48:42</td>\n",
       "      <td>248</td>\n",
       "    </tr>\n",
       "    <tr>\n",
       "      <th>...</th>\n",
       "      <td>...</td>\n",
       "      <td>...</td>\n",
       "      <td>...</td>\n",
       "      <td>...</td>\n",
       "    </tr>\n",
       "    <tr>\n",
       "      <th>243708</th>\n",
       "      <td>MainScreenAppear</td>\n",
       "      <td>4599628364049201812</td>\n",
       "      <td>2019-08-07 21:12:25</td>\n",
       "      <td>247</td>\n",
       "    </tr>\n",
       "    <tr>\n",
       "      <th>243709</th>\n",
       "      <td>MainScreenAppear</td>\n",
       "      <td>5849806612437486590</td>\n",
       "      <td>2019-08-07 21:13:59</td>\n",
       "      <td>246</td>\n",
       "    </tr>\n",
       "    <tr>\n",
       "      <th>243710</th>\n",
       "      <td>MainScreenAppear</td>\n",
       "      <td>5746969938801999050</td>\n",
       "      <td>2019-08-07 21:14:43</td>\n",
       "      <td>246</td>\n",
       "    </tr>\n",
       "    <tr>\n",
       "      <th>243711</th>\n",
       "      <td>MainScreenAppear</td>\n",
       "      <td>5746969938801999050</td>\n",
       "      <td>2019-08-07 21:14:58</td>\n",
       "      <td>246</td>\n",
       "    </tr>\n",
       "    <tr>\n",
       "      <th>243712</th>\n",
       "      <td>OffersScreenAppear</td>\n",
       "      <td>5746969938801999050</td>\n",
       "      <td>2019-08-07 21:15:17</td>\n",
       "      <td>246</td>\n",
       "    </tr>\n",
       "  </tbody>\n",
       "</table>\n",
       "<p>243713 rows × 4 columns</p>\n",
       "</div>"
      ],
      "text/plain": [
       "                     event_name       device_id_hash     event_timestamp  \\\n",
       "0              MainScreenAppear  4575588528974610257 2019-07-25 04:43:36   \n",
       "1              MainScreenAppear  7416695313311560658 2019-07-25 11:11:42   \n",
       "2       PaymentScreenSuccessful  3518123091307005509 2019-07-25 11:28:47   \n",
       "3              CartScreenAppear  3518123091307005509 2019-07-25 11:28:47   \n",
       "4       PaymentScreenSuccessful  6217807653094995999 2019-07-25 11:48:42   \n",
       "...                         ...                  ...                 ...   \n",
       "243708         MainScreenAppear  4599628364049201812 2019-08-07 21:12:25   \n",
       "243709         MainScreenAppear  5849806612437486590 2019-08-07 21:13:59   \n",
       "243710         MainScreenAppear  5746969938801999050 2019-08-07 21:14:43   \n",
       "243711         MainScreenAppear  5746969938801999050 2019-08-07 21:14:58   \n",
       "243712       OffersScreenAppear  5746969938801999050 2019-08-07 21:15:17   \n",
       "\n",
       "        exp_id  \n",
       "0          246  \n",
       "1          246  \n",
       "2          248  \n",
       "3          248  \n",
       "4          248  \n",
       "...        ...  \n",
       "243708     247  \n",
       "243709     246  \n",
       "243710     246  \n",
       "243711     246  \n",
       "243712     246  \n",
       "\n",
       "[243713 rows x 4 columns]"
      ]
     },
     "execution_count": 45,
     "metadata": {},
     "output_type": "execute_result"
    }
   ],
   "source": [
    "# избавимся от дубликатов\n",
    "logs_exp = logs_exp.drop_duplicates().reset_index(drop=True)\n",
    "logs_exp"
   ]
  },
  {
   "cell_type": "code",
   "execution_count": 46,
   "metadata": {},
   "outputs": [],
   "source": [
    "# создадим столбец date, который содержит дату события\n",
    "logs_exp['date'] = logs_exp.event_timestamp.astype('datetime64[D]')\n",
    "\n",
    "# создадим столбец time, который содержит время события\n",
    "logs_exp['time'] = logs_exp.event_timestamp.dt.time"
   ]
  },
  {
   "cell_type": "code",
   "execution_count": 47,
   "metadata": {},
   "outputs": [
    {
     "name": "stdout",
     "output_type": "stream",
     "text": [
      "<class 'pandas.core.frame.DataFrame'>\n",
      "RangeIndex: 243713 entries, 0 to 243712\n",
      "Data columns (total 6 columns):\n",
      " #   Column           Non-Null Count   Dtype         \n",
      "---  ------           --------------   -----         \n",
      " 0   event_name       243713 non-null  object        \n",
      " 1   device_id_hash   243713 non-null  int64         \n",
      " 2   event_timestamp  243713 non-null  datetime64[ns]\n",
      " 3   exp_id           243713 non-null  int64         \n",
      " 4   date             243713 non-null  datetime64[ns]\n",
      " 5   time             243713 non-null  object        \n",
      "dtypes: datetime64[ns](2), int64(2), object(2)\n",
      "memory usage: 11.2+ MB\n"
     ]
    }
   ],
   "source": [
    "logs_exp.info()"
   ]
  },
  {
   "cell_type": "markdown",
   "metadata": {},
   "source": [
    "**Вывод:**  \n",
    "в ходе предобработки были изменены названия столбцов, тип данных столбца EventTimestamp и удалены дубликаты.\n",
    "Также были созданы дополнительные столбцы, содержащие дату и время события."
   ]
  },
  {
   "cell_type": "markdown",
   "metadata": {},
   "source": [
    "## Изучение и проверка данных\n",
    "### Количество событий, пользователей в логе"
   ]
  },
  {
   "cell_type": "code",
   "execution_count": 48,
   "metadata": {},
   "outputs": [
    {
     "name": "stdout",
     "output_type": "stream",
     "text": [
      "Количество событий в логе (одна запись - одно событие): 243713\n",
      "Количество уникальных пользователей в логе: 7551\n",
      "Количество событий на одного пользователя (по среднему значению): 32\n"
     ]
    }
   ],
   "source": [
    "# количество событий в логе (одна запись - одно событие)\n",
    "print(f'Количество событий в логе (одна запись - одно событие): {logs_exp.shape[0]}')\n",
    "\n",
    "# количество пользователей в логе\n",
    "print(f'Количество уникальных пользователей в логе: {logs_exp.device_id_hash.nunique()}')\n",
    "\n",
    "# количество событий на одного пользователя\n",
    "print(f'Количество событий на одного пользователя (по среднему значению): {logs_exp.shape[0] / logs_exp.device_id_hash.nunique():.0f}')"
   ]
  },
  {
   "cell_type": "markdown",
   "metadata": {},
   "source": [
    "Максимальное количество событий для одного пользователя равно 2307, а минимальное — 1. Если мы будем считать среднее количество событий на одного пользователя по среднему значению, то получится не совсем верное значение. По гистограммме также видно, что несмотря на высокие значения, доходящие до 2 тыс., основное количество расположено в диапозоне до 100, поэтому найдем среднее количество событий на одного пользователя по медиане.  \n",
    "\n",
    "Среднее количество событий на одного пользователя (по медиане): 20"
   ]
  },
  {
   "cell_type": "code",
   "execution_count": 49,
   "metadata": {},
   "outputs": [
    {
     "data": {
      "text/plain": [
       "20"
      ]
     },
     "execution_count": 49,
     "metadata": {},
     "output_type": "execute_result"
    },
    {
     "data": {
      "image/png": "[encoded data removed]",
      "text/plain": [
       "<Figure size 1440x432 with 1 Axes>"
      ]
     },
     "metadata": {
      "needs_background": "light"
     },
     "output_type": "display_data"
    },
    {
     "data": {
      "image/png": "[encoded data removed]",
      "text/plain": [
       "<Figure size 1440x432 with 1 Axes>"
      ]
     },
     "metadata": {
      "needs_background": "light"
     },
     "output_type": "display_data"
    }
   ],
   "source": [
    "plt.figure(figsize=(20, 6))\n",
    "logs_exp.device_id_hash.value_counts().hist(bins=1000)\n",
    "plt.title('Распределение количества событий для каждого пользователя')\n",
    "plt.xlabel('Количество событий');\n",
    "\n",
    "plt.figure(figsize=(20, 6))\n",
    "logs_exp.device_id_hash.value_counts().hist(bins=1000)\n",
    "plt.title('Распределение количества событий для каждого пользователя')\n",
    "plt.xlabel('Количество событий')\n",
    "plt.xlim(left=0, right=200);\n",
    "\n",
    "logs_exp.device_id_hash.value_counts().median().astype(int)"
   ]
  },
  {
   "cell_type": "markdown",
   "metadata": {},
   "source": [
    "### Изучение временного периода\n",
    "У нас есть данные за период с 25 июля до 7 августа 2019 года. По гистограмме видно, что большая часть данных с 1 августа, до этого периода данных очень мало, поэтому отбросим данные за период с 25 июля до 1 августа и проверим, много ли событий мы упустим."
   ]
  },
  {
   "cell_type": "code",
   "execution_count": 50,
   "metadata": {},
   "outputs": [
    {
     "name": "stdout",
     "output_type": "stream",
     "text": [
      "Минимальная дата: 2019-07-25 00:00:00\n",
      "Максимальная дата: 2019-08-07 00:00:00\n"
     ]
    }
   ],
   "source": [
    "# минимальная дата\n",
    "print(f'Минимальная дата: {logs_exp.date.min()}')\n",
    "\n",
    "# максимальная дата\n",
    "print(f'Максимальная дата: {logs_exp.date.max()}')"
   ]
  },
  {
   "cell_type": "code",
   "execution_count": 51,
   "metadata": {},
   "outputs": [
    {
     "data": {
      "text/html": [
       "<div>\n",
       "<style scoped>\n",
       "    .dataframe tbody tr th:only-of-type {\n",
       "        vertical-align: middle;\n",
       "    }\n",
       "\n",
       "    .dataframe tbody tr th {\n",
       "        vertical-align: top;\n",
       "    }\n",
       "\n",
       "    .dataframe thead th {\n",
       "        text-align: right;\n",
       "    }\n",
       "</style>\n",
       "<table border=\"1\" class=\"dataframe\">\n",
       "  <thead>\n",
       "    <tr style=\"text-align: right;\">\n",
       "      <th></th>\n",
       "      <th>date</th>\n",
       "    </tr>\n",
       "  </thead>\n",
       "  <tbody>\n",
       "    <tr>\n",
       "      <th>2019-08-01</th>\n",
       "      <td>36141</td>\n",
       "    </tr>\n",
       "    <tr>\n",
       "      <th>2019-08-05</th>\n",
       "      <td>36058</td>\n",
       "    </tr>\n",
       "    <tr>\n",
       "      <th>2019-08-06</th>\n",
       "      <td>35788</td>\n",
       "    </tr>\n",
       "    <tr>\n",
       "      <th>2019-08-02</th>\n",
       "      <td>35554</td>\n",
       "    </tr>\n",
       "    <tr>\n",
       "      <th>2019-08-03</th>\n",
       "      <td>33282</td>\n",
       "    </tr>\n",
       "    <tr>\n",
       "      <th>2019-08-04</th>\n",
       "      <td>32968</td>\n",
       "    </tr>\n",
       "    <tr>\n",
       "      <th>2019-08-07</th>\n",
       "      <td>31096</td>\n",
       "    </tr>\n",
       "    <tr>\n",
       "      <th>2019-07-31</th>\n",
       "      <td>2030</td>\n",
       "    </tr>\n",
       "    <tr>\n",
       "      <th>2019-07-30</th>\n",
       "      <td>412</td>\n",
       "    </tr>\n",
       "    <tr>\n",
       "      <th>2019-07-29</th>\n",
       "      <td>184</td>\n",
       "    </tr>\n",
       "    <tr>\n",
       "      <th>2019-07-28</th>\n",
       "      <td>105</td>\n",
       "    </tr>\n",
       "    <tr>\n",
       "      <th>2019-07-27</th>\n",
       "      <td>55</td>\n",
       "    </tr>\n",
       "    <tr>\n",
       "      <th>2019-07-26</th>\n",
       "      <td>31</td>\n",
       "    </tr>\n",
       "    <tr>\n",
       "      <th>2019-07-25</th>\n",
       "      <td>9</td>\n",
       "    </tr>\n",
       "  </tbody>\n",
       "</table>\n",
       "</div>"
      ],
      "text/plain": [
       "             date\n",
       "2019-08-01  36141\n",
       "2019-08-05  36058\n",
       "2019-08-06  35788\n",
       "2019-08-02  35554\n",
       "2019-08-03  33282\n",
       "2019-08-04  32968\n",
       "2019-08-07  31096\n",
       "2019-07-31   2030\n",
       "2019-07-30    412\n",
       "2019-07-29    184\n",
       "2019-07-28    105\n",
       "2019-07-27     55\n",
       "2019-07-26     31\n",
       "2019-07-25      9"
      ]
     },
     "execution_count": 51,
     "metadata": {},
     "output_type": "execute_result"
    }
   ],
   "source": [
    "logs_exp.date.value_counts().to_frame()"
   ]
  },
  {
   "cell_type": "code",
   "execution_count": 52,
   "metadata": {},
   "outputs": [
    {
     "data": {
      "image/png": "[encoded data removed]",
      "text/plain": [
       "<Figure size 1440x432 with 1 Axes>"
      ]
     },
     "metadata": {
      "needs_background": "light"
     },
     "output_type": "display_data"
    }
   ],
   "source": [
    "plt.figure(figsize=(20, 6))\n",
    "logs_exp.event_timestamp.hist(bins=24*14)\n",
    "plt.title('Распределение количества событий по дате и времени')\n",
    "plt.ylabel('Количество событий')\n",
    "plt.xlabel('Дата');"
   ]
  },
  {
   "cell_type": "markdown",
   "metadata": {},
   "source": [
    "### Изменения после отброса неполных данных"
   ]
  },
  {
   "cell_type": "code",
   "execution_count": 53,
   "metadata": {},
   "outputs": [],
   "source": [
    "logs_exp_new = logs_exp.query('date >= \"2019-08-01T00:00:00.000000000\"')"
   ]
  },
  {
   "cell_type": "code",
   "execution_count": 54,
   "metadata": {},
   "outputs": [
    {
     "name": "stdout",
     "output_type": "stream",
     "text": [
      "Количество событий в логе (одна запись - одно событие): 240887\n",
      "Отбросили 1.16% от всех событий\n",
      "\n",
      "Количество уникальных пользователей в логе: 7534\n",
      "Отбросили 0.23% от всех уникальных пользователей\n",
      "\n",
      "Количество событий на одного пользователя (по среднему значению): 32\n",
      "Количество событий на одного пользователя (по медиане): 19\n"
     ]
    }
   ],
   "source": [
    "# количество событий в логе (одна запись - одно событие)\n",
    "print(f'Количество событий в логе (одна запись - одно событие): {logs_exp_new.shape[0]}')\n",
    "print(f'Отбросили {-(len(logs_exp_new) / len(logs_exp) - 1):.2%} от всех событий')\n",
    "print()\n",
    "\n",
    "# количество пользователей в логе\n",
    "print(f'Количество уникальных пользователей в логе: {logs_exp_new.device_id_hash.nunique()}')\n",
    "print(f'Отбросили {-(logs_exp_new.device_id_hash.nunique() / logs_exp.device_id_hash.nunique() - 1):.2%} от всех уникальных пользователей')\n",
    "print()\n",
    "\n",
    "# количество событий на одного пользователя\n",
    "print(f'Количество событий на одного пользователя (по среднему значению): {logs_exp_new.shape[0] / logs_exp_new.device_id_hash.nunique():.0f}')\n",
    "print(f'Количество событий на одного пользователя (по медиане): {logs_exp_new.device_id_hash.value_counts().median().astype(int)}')"
   ]
  },
  {
   "cell_type": "markdown",
   "metadata": {},
   "source": [
    "Отбросив старые данные, мы отбросили 1.16% событий и 0.23% пользователей, что не очень много. Среднее значение событий на одного пользователя по среднему значению не изменилось и равно 32 события, по медиане стало 19 событий (предпочтительнее).  \n",
    "После отброса данных остались пользователи всех трех экспериментальных групп, более того группы не сильно отличаются друг от друга по размеру."
   ]
  },
  {
   "cell_type": "code",
   "execution_count": 55,
   "metadata": {},
   "outputs": [
    {
     "data": {
      "text/html": [
       "<div>\n",
       "<style scoped>\n",
       "    .dataframe tbody tr th:only-of-type {\n",
       "        vertical-align: middle;\n",
       "    }\n",
       "\n",
       "    .dataframe tbody tr th {\n",
       "        vertical-align: top;\n",
       "    }\n",
       "\n",
       "    .dataframe thead tr th {\n",
       "        text-align: left;\n",
       "    }\n",
       "\n",
       "    .dataframe thead tr:last-of-type th {\n",
       "        text-align: right;\n",
       "    }\n",
       "</style>\n",
       "<table border=\"1\" class=\"dataframe\">\n",
       "  <thead>\n",
       "    <tr>\n",
       "      <th></th>\n",
       "      <th colspan=\"2\" halign=\"left\">device_id_hash</th>\n",
       "    </tr>\n",
       "    <tr>\n",
       "      <th></th>\n",
       "      <th>count</th>\n",
       "      <th>nunique</th>\n",
       "    </tr>\n",
       "    <tr>\n",
       "      <th>exp_id</th>\n",
       "      <th></th>\n",
       "      <th></th>\n",
       "    </tr>\n",
       "  </thead>\n",
       "  <tbody>\n",
       "    <tr>\n",
       "      <th>246</th>\n",
       "      <td>79302</td>\n",
       "      <td>2484</td>\n",
       "    </tr>\n",
       "    <tr>\n",
       "      <th>247</th>\n",
       "      <td>77022</td>\n",
       "      <td>2513</td>\n",
       "    </tr>\n",
       "    <tr>\n",
       "      <th>248</th>\n",
       "      <td>84563</td>\n",
       "      <td>2537</td>\n",
       "    </tr>\n",
       "  </tbody>\n",
       "</table>\n",
       "</div>"
      ],
      "text/plain": [
       "       device_id_hash        \n",
       "                count nunique\n",
       "exp_id                       \n",
       "246             79302    2484\n",
       "247             77022    2513\n",
       "248             84563    2537"
      ]
     },
     "metadata": {},
     "output_type": "display_data"
    },
    {
     "data": {
      "image/png": "[encoded data removed]",
      "text/plain": [
       "<Figure size 1080x360 with 1 Axes>"
      ]
     },
     "metadata": {},
     "output_type": "display_data"
    }
   ],
   "source": [
    "display(logs_exp_new.groupby('exp_id').agg({'device_id_hash': ['count', 'nunique']}))\n",
    "\n",
    "plt.figure(figsize=(15, 5))\n",
    "logs_exp_new.exp_id.value_counts().plot(kind='pie', autopct='%1.1f%%')\n",
    "plt.suptitle('Распределение пользователей по группам');"
   ]
  },
  {
   "cell_type": "markdown",
   "metadata": {},
   "source": [
    "### Вывод\n",
    "\n",
    "- в логе 243 713 событий\n",
    "- в логе 7 551 уникальный пользователь  \n",
    "- на одного пользователя приходится 20 событий\n",
    "- в датасете представлены события за период с 25.07.2019 по 07.08.2019, но данные до 1 августа неполные, поэтому в исследовании рассматривались данные с 1 августа\n",
    "\n",
    "Выводы после отброса данных:\n",
    "- в логе 240 887 событий (отбросили 1.16% от всех событий)\n",
    "- в логе 7 534 уникальный пользователь (отбросили 0.23% от всех уникальных пользователей)\n",
    "- на одного пользователя приходится 19 событий\n",
    "\n",
    "После отброса данных остались пользователи всех трех экспериментальных групп, более того группы не сильно отличаются друг от друга по размеру."
   ]
  },
  {
   "cell_type": "markdown",
   "metadata": {},
   "source": [
    "## Изучение воронки событий\n",
    "### Распределение событий в логе\n",
    "Рассмотрим, какие события есть в логе и как они распределены.  \n",
    "Есть события: \n",
    "- MainScreenAppear — главный экран\n",
    "- OffersScreenAppear — экран предложения\n",
    "- CartScreenAppear — экран корзины\n",
    "- PaymentScreenSuccessful — экран успешного платежа\n",
    "- Tutorial\t— руководство\n",
    "\n",
    "Чаще всего среди них встречается событие MainScreenAppear, его доля от всего количества событий — 48.7%."
   ]
  },
  {
   "cell_type": "code",
   "execution_count": 56,
   "metadata": {},
   "outputs": [
    {
     "data": {
      "text/html": [
       "<div>\n",
       "<style scoped>\n",
       "    .dataframe tbody tr th:only-of-type {\n",
       "        vertical-align: middle;\n",
       "    }\n",
       "\n",
       "    .dataframe tbody tr th {\n",
       "        vertical-align: top;\n",
       "    }\n",
       "\n",
       "    .dataframe thead th {\n",
       "        text-align: right;\n",
       "    }\n",
       "</style>\n",
       "<table border=\"1\" class=\"dataframe\">\n",
       "  <thead>\n",
       "    <tr style=\"text-align: right;\">\n",
       "      <th></th>\n",
       "      <th>event_name</th>\n",
       "    </tr>\n",
       "  </thead>\n",
       "  <tbody>\n",
       "    <tr>\n",
       "      <th>MainScreenAppear</th>\n",
       "      <td>117328</td>\n",
       "    </tr>\n",
       "    <tr>\n",
       "      <th>OffersScreenAppear</th>\n",
       "      <td>46333</td>\n",
       "    </tr>\n",
       "    <tr>\n",
       "      <th>CartScreenAppear</th>\n",
       "      <td>42303</td>\n",
       "    </tr>\n",
       "    <tr>\n",
       "      <th>PaymentScreenSuccessful</th>\n",
       "      <td>33918</td>\n",
       "    </tr>\n",
       "    <tr>\n",
       "      <th>Tutorial</th>\n",
       "      <td>1005</td>\n",
       "    </tr>\n",
       "  </tbody>\n",
       "</table>\n",
       "</div>"
      ],
      "text/plain": [
       "                         event_name\n",
       "MainScreenAppear             117328\n",
       "OffersScreenAppear            46333\n",
       "CartScreenAppear              42303\n",
       "PaymentScreenSuccessful       33918\n",
       "Tutorial                       1005"
      ]
     },
     "metadata": {},
     "output_type": "display_data"
    },
    {
     "data": {
      "image/png": "[encoded data removed]",
      "text/plain": [
       "<Figure size 1080x360 with 1 Axes>"
      ]
     },
     "metadata": {},
     "output_type": "display_data"
    }
   ],
   "source": [
    "display(logs_exp_new.event_name.value_counts().to_frame())\n",
    "\n",
    "plt.figure(figsize=(15, 5))\n",
    "plt.suptitle('Распределение событий')\n",
    "logs_exp_new.event_name.value_counts().plot(kind='pie', autopct='%1.1f%%', subplots=True);"
   ]
  },
  {
   "cell_type": "markdown",
   "metadata": {},
   "source": [
    "### Количество пользователей для каждого события\n",
    "Рассмотрим теперь сколько пользователей совершали каждое из этих событий и какая доля тех пользователей, которые хоть раз совершали событие.  \n",
    "Последовательность событий по количеству уникальных пользователей такая же, как и по количеству событий. То есть из событий - MainScreenAppear, OffersScreenAppear, CartScreenAppear, PaymentScreenSuccessful можно выстроить воронку. Событие Tutorial скорее всего не входит в воронку, так как не появляется после этапа успешной оплаты заказа."
   ]
  },
  {
   "cell_type": "code",
   "execution_count": 57,
   "metadata": {},
   "outputs": [
    {
     "data": {
      "text/html": [
       "<div>\n",
       "<style scoped>\n",
       "    .dataframe tbody tr th:only-of-type {\n",
       "        vertical-align: middle;\n",
       "    }\n",
       "\n",
       "    .dataframe tbody tr th {\n",
       "        vertical-align: top;\n",
       "    }\n",
       "\n",
       "    .dataframe thead th {\n",
       "        text-align: right;\n",
       "    }\n",
       "</style>\n",
       "<table border=\"1\" class=\"dataframe\">\n",
       "  <thead>\n",
       "    <tr style=\"text-align: right;\">\n",
       "      <th></th>\n",
       "      <th>device_id_hash</th>\n",
       "      <th>share</th>\n",
       "    </tr>\n",
       "    <tr>\n",
       "      <th>event_name</th>\n",
       "      <th></th>\n",
       "      <th></th>\n",
       "    </tr>\n",
       "  </thead>\n",
       "  <tbody>\n",
       "    <tr>\n",
       "      <th>MainScreenAppear</th>\n",
       "      <td>7419</td>\n",
       "      <td>98.5%</td>\n",
       "    </tr>\n",
       "    <tr>\n",
       "      <th>OffersScreenAppear</th>\n",
       "      <td>4593</td>\n",
       "      <td>61.0%</td>\n",
       "    </tr>\n",
       "    <tr>\n",
       "      <th>CartScreenAppear</th>\n",
       "      <td>3734</td>\n",
       "      <td>49.6%</td>\n",
       "    </tr>\n",
       "    <tr>\n",
       "      <th>PaymentScreenSuccessful</th>\n",
       "      <td>3539</td>\n",
       "      <td>47.0%</td>\n",
       "    </tr>\n",
       "    <tr>\n",
       "      <th>Tutorial</th>\n",
       "      <td>840</td>\n",
       "      <td>11.1%</td>\n",
       "    </tr>\n",
       "  </tbody>\n",
       "</table>\n",
       "</div>"
      ],
      "text/plain": [
       "                         device_id_hash  share\n",
       "event_name                                    \n",
       "MainScreenAppear                   7419  98.5%\n",
       "OffersScreenAppear                 4593  61.0%\n",
       "CartScreenAppear                   3734  49.6%\n",
       "PaymentScreenSuccessful            3539  47.0%\n",
       "Tutorial                            840  11.1%"
      ]
     },
     "execution_count": 57,
     "metadata": {},
     "output_type": "execute_result"
    }
   ],
   "source": [
    "df1 = (logs_exp_new.pivot_table(index='event_name', values='device_id_hash', aggfunc=['nunique'])\n",
    "      .set_axis(['device_id_hash'], axis=1).sort_values(by='device_id_hash', ascending=False))\n",
    "df1['share'] = (df1['device_id_hash'] / \n",
    "               logs_exp_new.device_id_hash.nunique()).apply(lambda x: f'{x:.1%}')\n",
    "df1"
   ]
  },
  {
   "cell_type": "markdown",
   "metadata": {},
   "source": [
    "### Воронка событий\n",
    "Для того, чтобы понять, какая доля пользователей переходит на следующий шаг (от числа пользователей на предыдущем), построим воронку. \n",
    "\n",
    "Получаем,что:  \n",
    "- Количество пользователей на втором шаге составляет **62%** пользователей от предыдущего.   \n",
    "- Количество пользователей на третьем шаге составляет **81%** пользователей от предыдущего.  \n",
    "- Количество пользователей на четвертом шаге составляет **95%** пользователей от предыдущего.  \n",
    "\n",
    "То есть самое большое количество пользователей теряется при переходе с шага главного экрана (MainScreenAppear) на шаг с экраном предложения (OffersScreenAppear).  \n",
    "Больше всего сохраняется пользователей при переходе с шага с экраном корзины (CartScreenAppear) на шаг с экраном успешного платежа (PaymentScreenSuccessful)."
   ]
  },
  {
   "cell_type": "code",
   "execution_count": 58,
   "metadata": {},
   "outputs": [
    {
     "data": {
      "text/html": [
       "<div>\n",
       "<style scoped>\n",
       "    .dataframe tbody tr th:only-of-type {\n",
       "        vertical-align: middle;\n",
       "    }\n",
       "\n",
       "    .dataframe tbody tr th {\n",
       "        vertical-align: top;\n",
       "    }\n",
       "\n",
       "    .dataframe thead th {\n",
       "        text-align: right;\n",
       "    }\n",
       "</style>\n",
       "<table border=\"1\" class=\"dataframe\">\n",
       "  <thead>\n",
       "    <tr style=\"text-align: right;\">\n",
       "      <th></th>\n",
       "      <th>device_id_hash</th>\n",
       "      <th>share</th>\n",
       "      <th>conversion</th>\n",
       "    </tr>\n",
       "    <tr>\n",
       "      <th>event_name</th>\n",
       "      <th></th>\n",
       "      <th></th>\n",
       "      <th></th>\n",
       "    </tr>\n",
       "  </thead>\n",
       "  <tbody>\n",
       "    <tr>\n",
       "      <th>MainScreenAppear</th>\n",
       "      <td>7419</td>\n",
       "      <td>98.5%</td>\n",
       "      <td>100.0%</td>\n",
       "    </tr>\n",
       "    <tr>\n",
       "      <th>OffersScreenAppear</th>\n",
       "      <td>4593</td>\n",
       "      <td>61.0%</td>\n",
       "      <td>61.9%</td>\n",
       "    </tr>\n",
       "    <tr>\n",
       "      <th>CartScreenAppear</th>\n",
       "      <td>3734</td>\n",
       "      <td>49.6%</td>\n",
       "      <td>81.3%</td>\n",
       "    </tr>\n",
       "    <tr>\n",
       "      <th>PaymentScreenSuccessful</th>\n",
       "      <td>3539</td>\n",
       "      <td>47.0%</td>\n",
       "      <td>94.8%</td>\n",
       "    </tr>\n",
       "    <tr>\n",
       "      <th>Tutorial</th>\n",
       "      <td>840</td>\n",
       "      <td>11.1%</td>\n",
       "      <td>23.7%</td>\n",
       "    </tr>\n",
       "  </tbody>\n",
       "</table>\n",
       "</div>"
      ],
      "text/plain": [
       "                         device_id_hash  share conversion\n",
       "event_name                                               \n",
       "MainScreenAppear                   7419  98.5%     100.0%\n",
       "OffersScreenAppear                 4593  61.0%      61.9%\n",
       "CartScreenAppear                   3734  49.6%      81.3%\n",
       "PaymentScreenSuccessful            3539  47.0%      94.8%\n",
       "Tutorial                            840  11.1%      23.7%"
      ]
     },
     "execution_count": 58,
     "metadata": {},
     "output_type": "execute_result"
    }
   ],
   "source": [
    "event_name = df1.index[:-1]\n",
    "df1['conversion'] = (df1['device_id_hash'] / df1['device_id_hash']\n",
    "                     .shift(1, fill_value=df1['device_id_hash'][0])).apply(lambda x: f'{x:.1%}')\n",
    "df1"
   ]
  },
  {
   "cell_type": "code",
   "execution_count": 59,
   "metadata": {},
   "outputs": [
    {
     "data": {
      "text/html": [
       "<div>\n",
       "<style scoped>\n",
       "    .dataframe tbody tr th:only-of-type {\n",
       "        vertical-align: middle;\n",
       "    }\n",
       "\n",
       "    .dataframe tbody tr th {\n",
       "        vertical-align: top;\n",
       "    }\n",
       "\n",
       "    .dataframe thead th {\n",
       "        text-align: right;\n",
       "    }\n",
       "</style>\n",
       "<table border=\"1\" class=\"dataframe\">\n",
       "  <thead>\n",
       "    <tr style=\"text-align: right;\">\n",
       "      <th></th>\n",
       "      <th>event_name</th>\n",
       "      <th>device_id_hash</th>\n",
       "      <th>event_timestamp</th>\n",
       "      <th>exp_id</th>\n",
       "      <th>date</th>\n",
       "      <th>time</th>\n",
       "    </tr>\n",
       "  </thead>\n",
       "  <tbody>\n",
       "    <tr>\n",
       "      <th>2826</th>\n",
       "      <td>Tutorial</td>\n",
       "      <td>3737462046622621720</td>\n",
       "      <td>2019-08-01 00:07:28</td>\n",
       "      <td>246</td>\n",
       "      <td>2019-08-01</td>\n",
       "      <td>00:07:28</td>\n",
       "    </tr>\n",
       "    <tr>\n",
       "      <th>2827</th>\n",
       "      <td>MainScreenAppear</td>\n",
       "      <td>3737462046622621720</td>\n",
       "      <td>2019-08-01 00:08:00</td>\n",
       "      <td>246</td>\n",
       "      <td>2019-08-01</td>\n",
       "      <td>00:08:00</td>\n",
       "    </tr>\n",
       "    <tr>\n",
       "      <th>2828</th>\n",
       "      <td>MainScreenAppear</td>\n",
       "      <td>3737462046622621720</td>\n",
       "      <td>2019-08-01 00:08:55</td>\n",
       "      <td>246</td>\n",
       "      <td>2019-08-01</td>\n",
       "      <td>00:08:55</td>\n",
       "    </tr>\n",
       "    <tr>\n",
       "      <th>2829</th>\n",
       "      <td>OffersScreenAppear</td>\n",
       "      <td>3737462046622621720</td>\n",
       "      <td>2019-08-01 00:08:58</td>\n",
       "      <td>246</td>\n",
       "      <td>2019-08-01</td>\n",
       "      <td>00:08:58</td>\n",
       "    </tr>\n",
       "    <tr>\n",
       "      <th>2830</th>\n",
       "      <td>MainScreenAppear</td>\n",
       "      <td>1433840883824088890</td>\n",
       "      <td>2019-08-01 00:08:59</td>\n",
       "      <td>247</td>\n",
       "      <td>2019-08-01</td>\n",
       "      <td>00:08:59</td>\n",
       "    </tr>\n",
       "    <tr>\n",
       "      <th>...</th>\n",
       "      <td>...</td>\n",
       "      <td>...</td>\n",
       "      <td>...</td>\n",
       "      <td>...</td>\n",
       "      <td>...</td>\n",
       "      <td>...</td>\n",
       "    </tr>\n",
       "    <tr>\n",
       "      <th>243708</th>\n",
       "      <td>MainScreenAppear</td>\n",
       "      <td>4599628364049201812</td>\n",
       "      <td>2019-08-07 21:12:25</td>\n",
       "      <td>247</td>\n",
       "      <td>2019-08-07</td>\n",
       "      <td>21:12:25</td>\n",
       "    </tr>\n",
       "    <tr>\n",
       "      <th>243709</th>\n",
       "      <td>MainScreenAppear</td>\n",
       "      <td>5849806612437486590</td>\n",
       "      <td>2019-08-07 21:13:59</td>\n",
       "      <td>246</td>\n",
       "      <td>2019-08-07</td>\n",
       "      <td>21:13:59</td>\n",
       "    </tr>\n",
       "    <tr>\n",
       "      <th>243710</th>\n",
       "      <td>MainScreenAppear</td>\n",
       "      <td>5746969938801999050</td>\n",
       "      <td>2019-08-07 21:14:43</td>\n",
       "      <td>246</td>\n",
       "      <td>2019-08-07</td>\n",
       "      <td>21:14:43</td>\n",
       "    </tr>\n",
       "    <tr>\n",
       "      <th>243711</th>\n",
       "      <td>MainScreenAppear</td>\n",
       "      <td>5746969938801999050</td>\n",
       "      <td>2019-08-07 21:14:58</td>\n",
       "      <td>246</td>\n",
       "      <td>2019-08-07</td>\n",
       "      <td>21:14:58</td>\n",
       "    </tr>\n",
       "    <tr>\n",
       "      <th>243712</th>\n",
       "      <td>OffersScreenAppear</td>\n",
       "      <td>5746969938801999050</td>\n",
       "      <td>2019-08-07 21:15:17</td>\n",
       "      <td>246</td>\n",
       "      <td>2019-08-07</td>\n",
       "      <td>21:15:17</td>\n",
       "    </tr>\n",
       "  </tbody>\n",
       "</table>\n",
       "<p>240887 rows × 6 columns</p>\n",
       "</div>"
      ],
      "text/plain": [
       "                event_name       device_id_hash     event_timestamp  exp_id  \\\n",
       "2826              Tutorial  3737462046622621720 2019-08-01 00:07:28     246   \n",
       "2827      MainScreenAppear  3737462046622621720 2019-08-01 00:08:00     246   \n",
       "2828      MainScreenAppear  3737462046622621720 2019-08-01 00:08:55     246   \n",
       "2829    OffersScreenAppear  3737462046622621720 2019-08-01 00:08:58     246   \n",
       "2830      MainScreenAppear  1433840883824088890 2019-08-01 00:08:59     247   \n",
       "...                    ...                  ...                 ...     ...   \n",
       "243708    MainScreenAppear  4599628364049201812 2019-08-07 21:12:25     247   \n",
       "243709    MainScreenAppear  5849806612437486590 2019-08-07 21:13:59     246   \n",
       "243710    MainScreenAppear  5746969938801999050 2019-08-07 21:14:43     246   \n",
       "243711    MainScreenAppear  5746969938801999050 2019-08-07 21:14:58     246   \n",
       "243712  OffersScreenAppear  5746969938801999050 2019-08-07 21:15:17     246   \n",
       "\n",
       "             date      time  \n",
       "2826   2019-08-01  00:07:28  \n",
       "2827   2019-08-01  00:08:00  \n",
       "2828   2019-08-01  00:08:55  \n",
       "2829   2019-08-01  00:08:58  \n",
       "2830   2019-08-01  00:08:59  \n",
       "...           ...       ...  \n",
       "243708 2019-08-07  21:12:25  \n",
       "243709 2019-08-07  21:13:59  \n",
       "243710 2019-08-07  21:14:43  \n",
       "243711 2019-08-07  21:14:58  \n",
       "243712 2019-08-07  21:15:17  \n",
       "\n",
       "[240887 rows x 6 columns]"
      ]
     },
     "execution_count": 59,
     "metadata": {},
     "output_type": "execute_result"
    }
   ],
   "source": [
    "logs_exp_new"
   ]
  },
  {
   "cell_type": "code",
   "execution_count": 60,
   "metadata": {},
   "outputs": [
    {
     "data": {
      "application/vnd.plotly.v1+json": {
       "config": {
        "plotlyServerURL": "https://plot.ly"
       },
       "data": [
        {
         "connector": {
          "line": {
           "color": "wheat",
           "dash": "dot",
           "width": 3
          }
         },
         "marker": {
          "color": [
           "deepskyblue",
           "lightsalmon",
           "tan",
           "teal"
          ],
          "line": {
           "color": [
            "wheat",
            "wheat",
            "wheat",
            "wheat"
           ],
           "width": [
            4,
            2,
            2,
            1,
            1
           ]
          }
         },
         "opacity": 0.65,
         "textinfo": "value+percent initial",
         "textposition": "inside",
         "type": "funnel",
         "x": [
          7419,
          4593,
          3734,
          3539
         ],
         "y": [
          "MainScreenAppear",
          "OffersScreenAppear",
          "CartScreenAppear",
          "PaymentScreenSuccessful"
         ]
        }
       ],
       "layout": {
        "font": {
         "color": "RebeccaPurple",
         "family": "Courier New, monospace",
         "size": 18
        },
        "template": {
         "data": {
          "bar": [
           {
            "error_x": {
             "color": "#2a3f5f"
            },
            "error_y": {
             "color": "#2a3f5f"
            },
            "marker": {
             "line": {
              "color": "#E5ECF6",
              "width": 0.5
             },
             "pattern": {
              "fillmode": "overlay",
              "size": 10,
              "solidity": 0.2
             }
            },
            "type": "bar"
           }
          ],
          "barpolar": [
           {
            "marker": {
             "line": {
              "color": "#E5ECF6",
              "width": 0.5
             },
             "pattern": {
              "fillmode": "overlay",
              "size": 10,
              "solidity": 0.2
             }
            },
            "type": "barpolar"
           }
          ],
          "carpet": [
           {
            "aaxis": {
             "endlinecolor": "#2a3f5f",
             "gridcolor": "white",
             "linecolor": "white",
             "minorgridcolor": "white",
             "startlinecolor": "#2a3f5f"
            },
            "baxis": {
             "endlinecolor": "#2a3f5f",
             "gridcolor": "white",
             "linecolor": "white",
             "minorgridcolor": "white",
             "startlinecolor": "#2a3f5f"
            },
            "type": "carpet"
           }
          ],
          "choropleth": [
           {
            "colorbar": {
             "outlinewidth": 0,
             "ticks": ""
            },
            "type": "choropleth"
           }
          ],
          "contour": [
           {
            "colorbar": {
             "outlinewidth": 0,
             "ticks": ""
            },
            "colorscale": [
             [
              0,
              "#0d0887"
             ],
             [
              0.1111111111111111,
              "#46039f"
             ],
             [
              0.2222222222222222,
              "#7201a8"
             ],
             [
              0.3333333333333333,
              "#9c179e"
             ],
             [
              0.4444444444444444,
              "#bd3786"
             ],
             [
              0.5555555555555556,
              "#d8576b"
             ],
             [
              0.6666666666666666,
              "#ed7953"
             ],
             [
              0.7777777777777778,
              "#fb9f3a"
             ],
             [
              0.8888888888888888,
              "#fdca26"
             ],
             [
              1,
              "#f0f921"
             ]
            ],
            "type": "contour"
           }
          ],
          "contourcarpet": [
           {
            "colorbar": {
             "outlinewidth": 0,
             "ticks": ""
            },
            "type": "contourcarpet"
           }
          ],
          "heatmap": [
           {
            "colorbar": {
             "outlinewidth": 0,
             "ticks": ""
            },
            "colorscale": [
             [
              0,
              "#0d0887"
             ],
             [
              0.1111111111111111,
              "#46039f"
             ],
             [
              0.2222222222222222,
              "#7201a8"
             ],
             [
              0.3333333333333333,
              "#9c179e"
             ],
             [
              0.4444444444444444,
              "#bd3786"
             ],
             [
              0.5555555555555556,
              "#d8576b"
             ],
             [
              0.6666666666666666,
              "#ed7953"
             ],
             [
              0.7777777777777778,
              "#fb9f3a"
             ],
             [
              0.8888888888888888,
              "#fdca26"
             ],
             [
              1,
              "#f0f921"
             ]
            ],
            "type": "heatmap"
           }
          ],
          "heatmapgl": [
           {
            "colorbar": {
             "outlinewidth": 0,
             "ticks": ""
            },
            "colorscale": [
             [
              0,
              "#0d0887"
             ],
             [
              0.1111111111111111,
              "#46039f"
             ],
             [
              0.2222222222222222,
              "#7201a8"
             ],
             [
              0.3333333333333333,
              "#9c179e"
             ],
             [
              0.4444444444444444,
              "#bd3786"
             ],
             [
              0.5555555555555556,
              "#d8576b"
             ],
             [
              0.6666666666666666,
              "#ed7953"
             ],
             [
              0.7777777777777778,
              "#fb9f3a"
             ],
             [
              0.8888888888888888,
              "#fdca26"
             ],
             [
              1,
              "#f0f921"
             ]
            ],
            "type": "heatmapgl"
           }
          ],
          "histogram": [
           {
            "marker": {
             "pattern": {
              "fillmode": "overlay",
              "size": 10,
              "solidity": 0.2
             }
            },
            "type": "histogram"
           }
          ],
          "histogram2d": [
           {
            "colorbar": {
             "outlinewidth": 0,
             "ticks": ""
            },
            "colorscale": [
             [
              0,
              "#0d0887"
             ],
             [
              0.1111111111111111,
              "#46039f"
             ],
             [
              0.2222222222222222,
              "#7201a8"
             ],
             [
              0.3333333333333333,
              "#9c179e"
             ],
             [
              0.4444444444444444,
              "#bd3786"
             ],
             [
              0.5555555555555556,
              "#d8576b"
             ],
             [
              0.6666666666666666,
              "#ed7953"
             ],
             [
              0.7777777777777778,
              "#fb9f3a"
             ],
             [
              0.8888888888888888,
              "#fdca26"
             ],
             [
              1,
              "#f0f921"
             ]
            ],
            "type": "histogram2d"
           }
          ],
          "histogram2dcontour": [
           {
            "colorbar": {
             "outlinewidth": 0,
             "ticks": ""
            },
            "colorscale": [
             [
              0,
              "#0d0887"
             ],
             [
              0.1111111111111111,
              "#46039f"
             ],
             [
              0.2222222222222222,
              "#7201a8"
             ],
             [
              0.3333333333333333,
              "#9c179e"
             ],
             [
              0.4444444444444444,
              "#bd3786"
             ],
             [
              0.5555555555555556,
              "#d8576b"
             ],
             [
              0.6666666666666666,
              "#ed7953"
             ],
             [
              0.7777777777777778,
              "#fb9f3a"
             ],
             [
              0.8888888888888888,
              "#fdca26"
             ],
             [
              1,
              "#f0f921"
             ]
            ],
            "type": "histogram2dcontour"
           }
          ],
          "mesh3d": [
           {
            "colorbar": {
             "outlinewidth": 0,
             "ticks": ""
            },
            "type": "mesh3d"
           }
          ],
          "parcoords": [
           {
            "line": {
             "colorbar": {
              "outlinewidth": 0,
              "ticks": ""
             }
            },
            "type": "parcoords"
           }
          ],
          "pie": [
           {
            "automargin": true,
            "type": "pie"
           }
          ],
          "scatter": [
           {
            "marker": {
             "colorbar": {
              "outlinewidth": 0,
              "ticks": ""
             }
            },
            "type": "scatter"
           }
          ],
          "scatter3d": [
           {
            "line": {
             "colorbar": {
              "outlinewidth": 0,
              "ticks": ""
             }
            },
            "marker": {
             "colorbar": {
              "outlinewidth": 0,
              "ticks": ""
             }
            },
            "type": "scatter3d"
           }
          ],
          "scattercarpet": [
           {
            "marker": {
             "colorbar": {
              "outlinewidth": 0,
              "ticks": ""
             }
            },
            "type": "scattercarpet"
           }
          ],
          "scattergeo": [
           {
            "marker": {
             "colorbar": {
              "outlinewidth": 0,
              "ticks": ""
             }
            },
            "type": "scattergeo"
           }
          ],
          "scattergl": [
           {
            "marker": {
             "colorbar": {
              "outlinewidth": 0,
              "ticks": ""
             }
            },
            "type": "scattergl"
           }
          ],
          "scattermapbox": [
           {
            "marker": {
             "colorbar": {
              "outlinewidth": 0,
              "ticks": ""
             }
            },
            "type": "scattermapbox"
           }
          ],
          "scatterpolar": [
           {
            "marker": {
             "colorbar": {
              "outlinewidth": 0,
              "ticks": ""
             }
            },
            "type": "scatterpolar"
           }
          ],
          "scatterpolargl": [
           {
            "marker": {
             "colorbar": {
              "outlinewidth": 0,
              "ticks": ""
             }
            },
            "type": "scatterpolargl"
           }
          ],
          "scatterternary": [
           {
            "marker": {
             "colorbar": {
              "outlinewidth": 0,
              "ticks": ""
             }
            },
            "type": "scatterternary"
           }
          ],
          "surface": [
           {
            "colorbar": {
             "outlinewidth": 0,
             "ticks": ""
            },
            "colorscale": [
             [
              0,
              "#0d0887"
             ],
             [
              0.1111111111111111,
              "#46039f"
             ],
             [
              0.2222222222222222,
              "#7201a8"
             ],
             [
              0.3333333333333333,
              "#9c179e"
             ],
             [
              0.4444444444444444,
              "#bd3786"
             ],
             [
              0.5555555555555556,
              "#d8576b"
             ],
             [
              0.6666666666666666,
              "#ed7953"
             ],
             [
              0.7777777777777778,
              "#fb9f3a"
             ],
             [
              0.8888888888888888,
              "#fdca26"
             ],
             [
              1,
              "#f0f921"
             ]
            ],
            "type": "surface"
           }
          ],
          "table": [
           {
            "cells": {
             "fill": {
              "color": "#EBF0F8"
             },
             "line": {
              "color": "white"
             }
            },
            "header": {
             "fill": {
              "color": "#C8D4E3"
             },
             "line": {
              "color": "white"
             }
            },
            "type": "table"
           }
          ]
         },
         "layout": {
          "annotationdefaults": {
           "arrowcolor": "#2a3f5f",
           "arrowhead": 0,
           "arrowwidth": 1
          },
          "autotypenumbers": "strict",
          "coloraxis": {
           "colorbar": {
            "outlinewidth": 0,
            "ticks": ""
           }
          },
          "colorscale": {
           "diverging": [
            [
             0,
             "#8e0152"
            ],
            [
             0.1,
             "#c51b7d"
            ],
            [
             0.2,
             "#de77ae"
            ],
            [
             0.3,
             "#f1b6da"
            ],
            [
             0.4,
             "#fde0ef"
            ],
            [
             0.5,
             "#f7f7f7"
            ],
            [
             0.6,
             "#e6f5d0"
            ],
            [
             0.7,
             "#b8e186"
            ],
            [
             0.8,
             "#7fbc41"
            ],
            [
             0.9,
             "#4d9221"
            ],
            [
             1,
             "#276419"
            ]
           ],
           "sequential": [
            [
             0,
             "#0d0887"
            ],
            [
             0.1111111111111111,
             "#46039f"
            ],
            [
             0.2222222222222222,
             "#7201a8"
            ],
            [
             0.3333333333333333,
             "#9c179e"
            ],
            [
             0.4444444444444444,
             "#bd3786"
            ],
            [
             0.5555555555555556,
             "#d8576b"
            ],
            [
             0.6666666666666666,
             "#ed7953"
            ],
            [
             0.7777777777777778,
             "#fb9f3a"
            ],
            [
             0.8888888888888888,
             "#fdca26"
            ],
            [
             1,
             "#f0f921"
            ]
           ],
           "sequentialminus": [
            [
             0,
             "#0d0887"
            ],
            [
             0.1111111111111111,
             "#46039f"
            ],
            [
             0.2222222222222222,
             "#7201a8"
            ],
            [
             0.3333333333333333,
             "#9c179e"
            ],
            [
             0.4444444444444444,
             "#bd3786"
            ],
            [
             0.5555555555555556,
             "#d8576b"
            ],
            [
             0.6666666666666666,
             "#ed7953"
            ],
            [
             0.7777777777777778,
             "#fb9f3a"
            ],
            [
             0.8888888888888888,
             "#fdca26"
            ],
            [
             1,
             "#f0f921"
            ]
           ]
          },
          "colorway": [
           "#636efa",
           "#EF553B",
           "#00cc96",
           "#ab63fa",
           "#FFA15A",
           "#19d3f3",
           "#FF6692",
           "#B6E880",
           "#FF97FF",
           "#FECB52"
          ],
          "font": {
           "color": "#2a3f5f"
          },
          "geo": {
           "bgcolor": "white",
           "lakecolor": "white",
           "landcolor": "#E5ECF6",
           "showlakes": true,
           "showland": true,
           "subunitcolor": "white"
          },
          "hoverlabel": {
           "align": "left"
          },
          "hovermode": "closest",
          "mapbox": {
           "style": "light"
          },
          "paper_bgcolor": "white",
          "plot_bgcolor": "#E5ECF6",
          "polar": {
           "angularaxis": {
            "gridcolor": "white",
            "linecolor": "white",
            "ticks": ""
           },
           "bgcolor": "#E5ECF6",
           "radialaxis": {
            "gridcolor": "white",
            "linecolor": "white",
            "ticks": ""
           }
          },
          "scene": {
           "xaxis": {
            "backgroundcolor": "#E5ECF6",
            "gridcolor": "white",
            "gridwidth": 2,
            "linecolor": "white",
            "showbackground": true,
            "ticks": "",
            "zerolinecolor": "white"
           },
           "yaxis": {
            "backgroundcolor": "#E5ECF6",
            "gridcolor": "white",
            "gridwidth": 2,
            "linecolor": "white",
            "showbackground": true,
            "ticks": "",
            "zerolinecolor": "white"
           },
           "zaxis": {
            "backgroundcolor": "#E5ECF6",
            "gridcolor": "white",
            "gridwidth": 2,
            "linecolor": "white",
            "showbackground": true,
            "ticks": "",
            "zerolinecolor": "white"
           }
          },
          "shapedefaults": {
           "line": {
            "color": "#2a3f5f"
           }
          },
          "ternary": {
           "aaxis": {
            "gridcolor": "white",
            "linecolor": "white",
            "ticks": ""
           },
           "baxis": {
            "gridcolor": "white",
            "linecolor": "white",
            "ticks": ""
           },
           "bgcolor": "#E5ECF6",
           "caxis": {
            "gridcolor": "white",
            "linecolor": "white",
            "ticks": ""
           }
          },
          "title": {
           "x": 0.05
          },
          "xaxis": {
           "automargin": true,
           "gridcolor": "white",
           "linecolor": "white",
           "ticks": "",
           "title": {
            "standoff": 15
           },
           "zerolinecolor": "white",
           "zerolinewidth": 2
          },
          "yaxis": {
           "automargin": true,
           "gridcolor": "white",
           "linecolor": "white",
           "ticks": "",
           "title": {
            "standoff": 15
           },
           "zerolinecolor": "white",
           "zerolinewidth": 2
          }
         }
        },
        "title": {
         "text": "Воронка событий"
        },
        "yaxis": {
         "title": {
          "text": "Название события воронки"
         }
        }
       }
      },
      "text/html": [
       "<div>                            <div id=\"101b5308-a847-441a-8e16-65737a411ed7\" class=\"plotly-graph-div\" style=\"height:525px; width:100%;\"></div>            <script type=\"text/javascript\">                require([\"plotly\"], function(Plotly) {                    window.PLOTLYENV=window.PLOTLYENV || {};                                    if (document.getElementById(\"101b5308-a847-441a-8e16-65737a411ed7\")) {                    Plotly.newPlot(                        \"101b5308-a847-441a-8e16-65737a411ed7\",                        [{\"connector\":{\"line\":{\"color\":\"wheat\",\"dash\":\"dot\",\"width\":3}},\"marker\":{\"color\":[\"deepskyblue\",\"lightsalmon\",\"tan\",\"teal\"],\"line\":{\"color\":[\"wheat\",\"wheat\",\"wheat\",\"wheat\"],\"width\":[4,2,2,1,1]}},\"opacity\":0.65,\"textinfo\":\"value+percent initial\",\"textposition\":\"inside\",\"x\":[7419,4593,3734,3539],\"y\":[\"MainScreenAppear\",\"OffersScreenAppear\",\"CartScreenAppear\",\"PaymentScreenSuccessful\"],\"type\":\"funnel\"}],                        {\"template\":{\"data\":{\"bar\":[{\"error_x\":{\"color\":\"#2a3f5f\"},\"error_y\":{\"color\":\"#2a3f5f\"},\"marker\":{\"line\":{\"color\":\"#E5ECF6\",\"width\":0.5},\"pattern\":{\"fillmode\":\"overlay\",\"size\":10,\"solidity\":0.2}},\"type\":\"bar\"}],\"barpolar\":[{\"marker\":{\"line\":{\"color\":\"#E5ECF6\",\"width\":0.5},\"pattern\":{\"fillmode\":\"overlay\",\"size\":10,\"solidity\":0.2}},\"type\":\"barpolar\"}],\"carpet\":[{\"aaxis\":{\"endlinecolor\":\"#2a3f5f\",\"gridcolor\":\"white\",\"linecolor\":\"white\",\"minorgridcolor\":\"white\",\"startlinecolor\":\"#2a3f5f\"},\"baxis\":{\"endlinecolor\":\"#2a3f5f\",\"gridcolor\":\"white\",\"linecolor\":\"white\",\"minorgridcolor\":\"white\",\"startlinecolor\":\"#2a3f5f\"},\"type\":\"carpet\"}],\"choropleth\":[{\"colorbar\":{\"outlinewidth\":0,\"ticks\":\"\"},\"type\":\"choropleth\"}],\"contour\":[{\"colorbar\":{\"outlinewidth\":0,\"ticks\":\"\"},\"colorscale\":[[0.0,\"#0d0887\"],[0.1111111111111111,\"#46039f\"],[0.2222222222222222,\"#7201a8\"],[0.3333333333333333,\"#9c179e\"],[0.4444444444444444,\"#bd3786\"],[0.5555555555555556,\"#d8576b\"],[0.6666666666666666,\"#ed7953\"],[0.7777777777777778,\"#fb9f3a\"],[0.8888888888888888,\"#fdca26\"],[1.0,\"#f0f921\"]],\"type\":\"contour\"}],\"contourcarpet\":[{\"colorbar\":{\"outlinewidth\":0,\"ticks\":\"\"},\"type\":\"contourcarpet\"}],\"heatmap\":[{\"colorbar\":{\"outlinewidth\":0,\"ticks\":\"\"},\"colorscale\":[[0.0,\"#0d0887\"],[0.1111111111111111,\"#46039f\"],[0.2222222222222222,\"#7201a8\"],[0.3333333333333333,\"#9c179e\"],[0.4444444444444444,\"#bd3786\"],[0.5555555555555556,\"#d8576b\"],[0.6666666666666666,\"#ed7953\"],[0.7777777777777778,\"#fb9f3a\"],[0.8888888888888888,\"#fdca26\"],[1.0,\"#f0f921\"]],\"type\":\"heatmap\"}],\"heatmapgl\":[{\"colorbar\":{\"outlinewidth\":0,\"ticks\":\"\"},\"colorscale\":[[0.0,\"#0d0887\"],[0.1111111111111111,\"#46039f\"],[0.2222222222222222,\"#7201a8\"],[0.3333333333333333,\"#9c179e\"],[0.4444444444444444,\"#bd3786\"],[0.5555555555555556,\"#d8576b\"],[0.6666666666666666,\"#ed7953\"],[0.7777777777777778,\"#fb9f3a\"],[0.8888888888888888,\"#fdca26\"],[1.0,\"#f0f921\"]],\"type\":\"heatmapgl\"}],\"histogram\":[{\"marker\":{\"pattern\":{\"fillmode\":\"overlay\",\"size\":10,\"solidity\":0.2}},\"type\":\"histogram\"}],\"histogram2d\":[{\"colorbar\":{\"outlinewidth\":0,\"ticks\":\"\"},\"colorscale\":[[0.0,\"#0d0887\"],[0.1111111111111111,\"#46039f\"],[0.2222222222222222,\"#7201a8\"],[0.3333333333333333,\"#9c179e\"],[0.4444444444444444,\"#bd3786\"],[0.5555555555555556,\"#d8576b\"],[0.6666666666666666,\"#ed7953\"],[0.7777777777777778,\"#fb9f3a\"],[0.8888888888888888,\"#fdca26\"],[1.0,\"#f0f921\"]],\"type\":\"histogram2d\"}],\"histogram2dcontour\":[{\"colorbar\":{\"outlinewidth\":0,\"ticks\":\"\"},\"colorscale\":[[0.0,\"#0d0887\"],[0.1111111111111111,\"#46039f\"],[0.2222222222222222,\"#7201a8\"],[0.3333333333333333,\"#9c179e\"],[0.4444444444444444,\"#bd3786\"],[0.5555555555555556,\"#d8576b\"],[0.6666666666666666,\"#ed7953\"],[0.7777777777777778,\"#fb9f3a\"],[0.8888888888888888,\"#fdca26\"],[1.0,\"#f0f921\"]],\"type\":\"histogram2dcontour\"}],\"mesh3d\":[{\"colorbar\":{\"outlinewidth\":0,\"ticks\":\"\"},\"type\":\"mesh3d\"}],\"parcoords\":[{\"line\":{\"colorbar\":{\"outlinewidth\":0,\"ticks\":\"\"}},\"type\":\"parcoords\"}],\"pie\":[{\"automargin\":true,\"type\":\"pie\"}],\"scatter\":[{\"marker\":{\"colorbar\":{\"outlinewidth\":0,\"ticks\":\"\"}},\"type\":\"scatter\"}],\"scatter3d\":[{\"line\":{\"colorbar\":{\"outlinewidth\":0,\"ticks\":\"\"}},\"marker\":{\"colorbar\":{\"outlinewidth\":0,\"ticks\":\"\"}},\"type\":\"scatter3d\"}],\"scattercarpet\":[{\"marker\":{\"colorbar\":{\"outlinewidth\":0,\"ticks\":\"\"}},\"type\":\"scattercarpet\"}],\"scattergeo\":[{\"marker\":{\"colorbar\":{\"outlinewidth\":0,\"ticks\":\"\"}},\"type\":\"scattergeo\"}],\"scattergl\":[{\"marker\":{\"colorbar\":{\"outlinewidth\":0,\"ticks\":\"\"}},\"type\":\"scattergl\"}],\"scattermapbox\":[{\"marker\":{\"colorbar\":{\"outlinewidth\":0,\"ticks\":\"\"}},\"type\":\"scattermapbox\"}],\"scatterpolar\":[{\"marker\":{\"colorbar\":{\"outlinewidth\":0,\"ticks\":\"\"}},\"type\":\"scatterpolar\"}],\"scatterpolargl\":[{\"marker\":{\"colorbar\":{\"outlinewidth\":0,\"ticks\":\"\"}},\"type\":\"scatterpolargl\"}],\"scatterternary\":[{\"marker\":{\"colorbar\":{\"outlinewidth\":0,\"ticks\":\"\"}},\"type\":\"scatterternary\"}],\"surface\":[{\"colorbar\":{\"outlinewidth\":0,\"ticks\":\"\"},\"colorscale\":[[0.0,\"#0d0887\"],[0.1111111111111111,\"#46039f\"],[0.2222222222222222,\"#7201a8\"],[0.3333333333333333,\"#9c179e\"],[0.4444444444444444,\"#bd3786\"],[0.5555555555555556,\"#d8576b\"],[0.6666666666666666,\"#ed7953\"],[0.7777777777777778,\"#fb9f3a\"],[0.8888888888888888,\"#fdca26\"],[1.0,\"#f0f921\"]],\"type\":\"surface\"}],\"table\":[{\"cells\":{\"fill\":{\"color\":\"#EBF0F8\"},\"line\":{\"color\":\"white\"}},\"header\":{\"fill\":{\"color\":\"#C8D4E3\"},\"line\":{\"color\":\"white\"}},\"type\":\"table\"}]},\"layout\":{\"annotationdefaults\":{\"arrowcolor\":\"#2a3f5f\",\"arrowhead\":0,\"arrowwidth\":1},\"autotypenumbers\":\"strict\",\"coloraxis\":{\"colorbar\":{\"outlinewidth\":0,\"ticks\":\"\"}},\"colorscale\":{\"diverging\":[[0,\"#8e0152\"],[0.1,\"#c51b7d\"],[0.2,\"#de77ae\"],[0.3,\"#f1b6da\"],[0.4,\"#fde0ef\"],[0.5,\"#f7f7f7\"],[0.6,\"#e6f5d0\"],[0.7,\"#b8e186\"],[0.8,\"#7fbc41\"],[0.9,\"#4d9221\"],[1,\"#276419\"]],\"sequential\":[[0.0,\"#0d0887\"],[0.1111111111111111,\"#46039f\"],[0.2222222222222222,\"#7201a8\"],[0.3333333333333333,\"#9c179e\"],[0.4444444444444444,\"#bd3786\"],[0.5555555555555556,\"#d8576b\"],[0.6666666666666666,\"#ed7953\"],[0.7777777777777778,\"#fb9f3a\"],[0.8888888888888888,\"#fdca26\"],[1.0,\"#f0f921\"]],\"sequentialminus\":[[0.0,\"#0d0887\"],[0.1111111111111111,\"#46039f\"],[0.2222222222222222,\"#7201a8\"],[0.3333333333333333,\"#9c179e\"],[0.4444444444444444,\"#bd3786\"],[0.5555555555555556,\"#d8576b\"],[0.6666666666666666,\"#ed7953\"],[0.7777777777777778,\"#fb9f3a\"],[0.8888888888888888,\"#fdca26\"],[1.0,\"#f0f921\"]]},\"colorway\":[\"#636efa\",\"#EF553B\",\"#00cc96\",\"#ab63fa\",\"#FFA15A\",\"#19d3f3\",\"#FF6692\",\"#B6E880\",\"#FF97FF\",\"#FECB52\"],\"font\":{\"color\":\"#2a3f5f\"},\"geo\":{\"bgcolor\":\"white\",\"lakecolor\":\"white\",\"landcolor\":\"#E5ECF6\",\"showlakes\":true,\"showland\":true,\"subunitcolor\":\"white\"},\"hoverlabel\":{\"align\":\"left\"},\"hovermode\":\"closest\",\"mapbox\":{\"style\":\"light\"},\"paper_bgcolor\":\"white\",\"plot_bgcolor\":\"#E5ECF6\",\"polar\":{\"angularaxis\":{\"gridcolor\":\"white\",\"linecolor\":\"white\",\"ticks\":\"\"},\"bgcolor\":\"#E5ECF6\",\"radialaxis\":{\"gridcolor\":\"white\",\"linecolor\":\"white\",\"ticks\":\"\"}},\"scene\":{\"xaxis\":{\"backgroundcolor\":\"#E5ECF6\",\"gridcolor\":\"white\",\"gridwidth\":2,\"linecolor\":\"white\",\"showbackground\":true,\"ticks\":\"\",\"zerolinecolor\":\"white\"},\"yaxis\":{\"backgroundcolor\":\"#E5ECF6\",\"gridcolor\":\"white\",\"gridwidth\":2,\"linecolor\":\"white\",\"showbackground\":true,\"ticks\":\"\",\"zerolinecolor\":\"white\"},\"zaxis\":{\"backgroundcolor\":\"#E5ECF6\",\"gridcolor\":\"white\",\"gridwidth\":2,\"linecolor\":\"white\",\"showbackground\":true,\"ticks\":\"\",\"zerolinecolor\":\"white\"}},\"shapedefaults\":{\"line\":{\"color\":\"#2a3f5f\"}},\"ternary\":{\"aaxis\":{\"gridcolor\":\"white\",\"linecolor\":\"white\",\"ticks\":\"\"},\"baxis\":{\"gridcolor\":\"white\",\"linecolor\":\"white\",\"ticks\":\"\"},\"bgcolor\":\"#E5ECF6\",\"caxis\":{\"gridcolor\":\"white\",\"linecolor\":\"white\",\"ticks\":\"\"}},\"title\":{\"x\":0.05},\"xaxis\":{\"automargin\":true,\"gridcolor\":\"white\",\"linecolor\":\"white\",\"ticks\":\"\",\"title\":{\"standoff\":15},\"zerolinecolor\":\"white\",\"zerolinewidth\":2},\"yaxis\":{\"automargin\":true,\"gridcolor\":\"white\",\"linecolor\":\"white\",\"ticks\":\"\",\"title\":{\"standoff\":15},\"zerolinecolor\":\"white\",\"zerolinewidth\":2}}},\"font\":{\"family\":\"Courier New, monospace\",\"size\":18,\"color\":\"RebeccaPurple\"},\"title\":{\"text\":\"\\u0412\\u043e\\u0440\\u043e\\u043d\\u043a\\u0430 \\u0441\\u043e\\u0431\\u044b\\u0442\\u0438\\u0439\"},\"yaxis\":{\"title\":{\"text\":\"\\u041d\\u0430\\u0437\\u0432\\u0430\\u043d\\u0438\\u0435 \\u0441\\u043e\\u0431\\u044b\\u0442\\u0438\\u044f \\u0432\\u043e\\u0440\\u043e\\u043d\\u043a\\u0438\"}}},                        {\"responsive\": true}                    ).then(function(){\n",
       "                            \n",
       "var gd = document.getElementById('101b5308-a847-441a-8e16-65737a411ed7');\n",
       "var x = new MutationObserver(function (mutations, observer) {{\n",
       "        var display = window.getComputedStyle(gd).display;\n",
       "        if (!display || display === 'none') {{\n",
       "            console.log([gd, 'removed!']);\n",
       "            Plotly.purge(gd);\n",
       "            observer.disconnect();\n",
       "        }}\n",
       "}});\n",
       "\n",
       "// Listen for the removal of the full notebook cells\n",
       "var notebookContainer = gd.closest('#notebook-container');\n",
       "if (notebookContainer) {{\n",
       "    x.observe(notebookContainer, {childList: true});\n",
       "}}\n",
       "\n",
       "// Listen for the clearing of the current output cell\n",
       "var outputEl = gd.closest('.output');\n",
       "if (outputEl) {{\n",
       "    x.observe(outputEl, {childList: true});\n",
       "}}\n",
       "\n",
       "                        })                };                });            </script>        </div>"
      ]
     },
     "metadata": {},
     "output_type": "display_data"
    }
   ],
   "source": [
    "fig = go.Figure(go.Funnel(\n",
    "    y = event_name,\n",
    "    x = df1.device_id_hash[:-1],\n",
    "    textposition = \"inside\",\n",
    "    textinfo = \"value+percent initial\",\n",
    "    opacity = 0.65, marker = {\"color\": [\"deepskyblue\", \"lightsalmon\", \"tan\", \"teal\"],\n",
    "    \"line\": {\"width\": [4, 2, 2, 1, 1], \"color\": [\"wheat\", \"wheat\", \"wheat\", \"wheat\"]}},\n",
    "    connector = {\"line\": {\"color\": \"wheat\", \"dash\": \"dot\", \"width\": 3}})\n",
    "    )\n",
    "\n",
    "fig.update_layout(\n",
    "    title=\"Воронка событий\",\n",
    "    yaxis_title=\"Название события воронки\",\n",
    "    font=dict(\n",
    "        family=\"Courier New, monospace\",\n",
    "        size=18,\n",
    "        color=\"RebeccaPurple\"))\n",
    "\n",
    "fig.show()"
   ]
  },
  {
   "cell_type": "markdown",
   "metadata": {},
   "source": [
    "Теперь найдем количество пользователей, которые проходят от первого шага до последнего, то есть проходят все шаги последовательно и в итоге доходят до оплаты. Для этого построим сводную таблицу, при этом будем рассматривать только события, которые мы включаем в воронку (исключим события Tutorial).  \n",
    "Затем рассмотрим какое количество пользователей проходило все шаги воронки последовательно и дошло до конца. Для этого будем учитывать время перехода на каждый из шагов.  \n",
    "Получили, что от всего количества пользователей до оплаты доходят только 454 или 6%. То есть большая часть пользователей не проходят все шаги, а могут начать путь с любого другого шага, поскольку в предыдущем пункте мы видели, что до оплаты всего доходят 3539 пользователей."
   ]
  },
  {
   "cell_type": "code",
   "execution_count": 61,
   "metadata": {},
   "outputs": [
    {
     "data": {
      "text/html": [
       "<div>\n",
       "<style scoped>\n",
       "    .dataframe tbody tr th:only-of-type {\n",
       "        vertical-align: middle;\n",
       "    }\n",
       "\n",
       "    .dataframe tbody tr th {\n",
       "        vertical-align: top;\n",
       "    }\n",
       "\n",
       "    .dataframe thead th {\n",
       "        text-align: right;\n",
       "    }\n",
       "</style>\n",
       "<table border=\"1\" class=\"dataframe\">\n",
       "  <thead>\n",
       "    <tr style=\"text-align: right;\">\n",
       "      <th></th>\n",
       "      <th>device_id_hash</th>\n",
       "      <th>share</th>\n",
       "    </tr>\n",
       "    <tr>\n",
       "      <th>event_name</th>\n",
       "      <th></th>\n",
       "      <th></th>\n",
       "    </tr>\n",
       "  </thead>\n",
       "  <tbody>\n",
       "    <tr>\n",
       "      <th>MainScreenAppear</th>\n",
       "      <td>7419</td>\n",
       "      <td>100.00%</td>\n",
       "    </tr>\n",
       "    <tr>\n",
       "      <th>OffersScreenAppear</th>\n",
       "      <td>4201</td>\n",
       "      <td>56.62%</td>\n",
       "    </tr>\n",
       "    <tr>\n",
       "      <th>CartScreenAppear</th>\n",
       "      <td>1767</td>\n",
       "      <td>23.82%</td>\n",
       "    </tr>\n",
       "    <tr>\n",
       "      <th>PaymentScreenSuccessful</th>\n",
       "      <td>454</td>\n",
       "      <td>6.12%</td>\n",
       "    </tr>\n",
       "  </tbody>\n",
       "</table>\n",
       "</div>"
      ],
      "text/plain": [
       "                         device_id_hash    share\n",
       "event_name                                      \n",
       "MainScreenAppear                   7419  100.00%\n",
       "OffersScreenAppear                 4201   56.62%\n",
       "CartScreenAppear                   1767   23.82%\n",
       "PaymentScreenSuccessful             454    6.12%"
      ]
     },
     "execution_count": 61,
     "metadata": {},
     "output_type": "execute_result"
    }
   ],
   "source": [
    "logs_exp_new = logs_exp_new.query('event_name != \"Tutorial\"')\n",
    "\n",
    "# сводная таблица для шагов\n",
    "df2 = logs_exp_new.pivot_table(index='device_id_hash', \n",
    "                               columns='event_name', \n",
    "                               values='event_timestamp', \n",
    "                               aggfunc='min')\n",
    "\n",
    "# количество пользователей, переходящих на следующий шаг\n",
    "st1 = ~df2['MainScreenAppear'].isna()\n",
    "st2 = st1 & (df2['OffersScreenAppear'] > df2['MainScreenAppear'])\n",
    "st3 = st2 & (df2['CartScreenAppear'] > df2['OffersScreenAppear'])\n",
    "st4 = st3 & (df2['PaymentScreenSuccessful'] > df2['CartScreenAppear'])\n",
    "\n",
    "# выведем таблицу\n",
    "df3 = pd.DataFrame(data={'event_name': event_name, \n",
    "                   'device_id_hash': [st1.sum(), st2.sum(), st3.sum(), st4.sum()]}).set_index('event_name')\n",
    "df3['share'] = (df3['device_id_hash'] / st1.sum()).apply(lambda x: f'{x:.2%}')\n",
    "df3"
   ]
  },
  {
   "cell_type": "code",
   "execution_count": 77,
   "metadata": {},
   "outputs": [
    {
     "data": {
      "application/vnd.plotly.v1+json": {
       "config": {
        "plotlyServerURL": "https://plot.ly"
       },
       "data": [
        {
         "name": "Уникальные пользователи на каждом шагу",
         "orientation": "h",
         "textinfo": "value+percent previous",
         "textposition": "inside",
         "type": "funnel",
         "x": [
          7419,
          4593,
          3734,
          3539
         ],
         "y": [
          "MainScreenAppear",
          "OffersScreenAppear",
          "CartScreenAppear",
          "PaymentScreenSuccessful",
          "Tutorial"
         ]
        },
        {
         "name": "Уникальные пользователи, проходящие шаги последовательно от первоого до последнего",
         "orientation": "h",
         "textinfo": "value+percent previous",
         "textposition": "inside",
         "type": "funnel",
         "x": [
          7419,
          4201,
          1767,
          454
         ],
         "y": [
          "MainScreenAppear",
          "OffersScreenAppear",
          "CartScreenAppear",
          "PaymentScreenSuccessful",
          "Tutorial"
         ]
        }
       ],
       "layout": {
        "font": {
         "color": "RebeccaPurple",
         "family": "Courier New, monospace",
         "size": 12.5
        },
        "legend": {
         "orientation": "h",
         "title": {
          "text": "Группа"
         }
        },
        "template": {
         "data": {
          "bar": [
           {
            "error_x": {
             "color": "#2a3f5f"
            },
            "error_y": {
             "color": "#2a3f5f"
            },
            "marker": {
             "line": {
              "color": "#E5ECF6",
              "width": 0.5
             },
             "pattern": {
              "fillmode": "overlay",
              "size": 10,
              "solidity": 0.2
             }
            },
            "type": "bar"
           }
          ],
          "barpolar": [
           {
            "marker": {
             "line": {
              "color": "#E5ECF6",
              "width": 0.5
             },
             "pattern": {
              "fillmode": "overlay",
              "size": 10,
              "solidity": 0.2
             }
            },
            "type": "barpolar"
           }
          ],
          "carpet": [
           {
            "aaxis": {
             "endlinecolor": "#2a3f5f",
             "gridcolor": "white",
             "linecolor": "white",
             "minorgridcolor": "white",
             "startlinecolor": "#2a3f5f"
            },
            "baxis": {
             "endlinecolor": "#2a3f5f",
             "gridcolor": "white",
             "linecolor": "white",
             "minorgridcolor": "white",
             "startlinecolor": "#2a3f5f"
            },
            "type": "carpet"
           }
          ],
          "choropleth": [
           {
            "colorbar": {
             "outlinewidth": 0,
             "ticks": ""
            },
            "type": "choropleth"
           }
          ],
          "contour": [
           {
            "colorbar": {
             "outlinewidth": 0,
             "ticks": ""
            },
            "colorscale": [
             [
              0,
              "#0d0887"
             ],
             [
              0.1111111111111111,
              "#46039f"
             ],
             [
              0.2222222222222222,
              "#7201a8"
             ],
             [
              0.3333333333333333,
              "#9c179e"
             ],
             [
              0.4444444444444444,
              "#bd3786"
             ],
             [
              0.5555555555555556,
              "#d8576b"
             ],
             [
              0.6666666666666666,
              "#ed7953"
             ],
             [
              0.7777777777777778,
              "#fb9f3a"
             ],
             [
              0.8888888888888888,
              "#fdca26"
             ],
             [
              1,
              "#f0f921"
             ]
            ],
            "type": "contour"
           }
          ],
          "contourcarpet": [
           {
            "colorbar": {
             "outlinewidth": 0,
             "ticks": ""
            },
            "type": "contourcarpet"
           }
          ],
          "heatmap": [
           {
            "colorbar": {
             "outlinewidth": 0,
             "ticks": ""
            },
            "colorscale": [
             [
              0,
              "#0d0887"
             ],
             [
              0.1111111111111111,
              "#46039f"
             ],
             [
              0.2222222222222222,
              "#7201a8"
             ],
             [
              0.3333333333333333,
              "#9c179e"
             ],
             [
              0.4444444444444444,
              "#bd3786"
             ],
             [
              0.5555555555555556,
              "#d8576b"
             ],
             [
              0.6666666666666666,
              "#ed7953"
             ],
             [
              0.7777777777777778,
              "#fb9f3a"
             ],
             [
              0.8888888888888888,
              "#fdca26"
             ],
             [
              1,
              "#f0f921"
             ]
            ],
            "type": "heatmap"
           }
          ],
          "heatmapgl": [
           {
            "colorbar": {
             "outlinewidth": 0,
             "ticks": ""
            },
            "colorscale": [
             [
              0,
              "#0d0887"
             ],
             [
              0.1111111111111111,
              "#46039f"
             ],
             [
              0.2222222222222222,
              "#7201a8"
             ],
             [
              0.3333333333333333,
              "#9c179e"
             ],
             [
              0.4444444444444444,
              "#bd3786"
             ],
             [
              0.5555555555555556,
              "#d8576b"
             ],
             [
              0.6666666666666666,
              "#ed7953"
             ],
             [
              0.7777777777777778,
              "#fb9f3a"
             ],
             [
              0.8888888888888888,
              "#fdca26"
             ],
             [
              1,
              "#f0f921"
             ]
            ],
            "type": "heatmapgl"
           }
          ],
          "histogram": [
           {
            "marker": {
             "pattern": {
              "fillmode": "overlay",
              "size": 10,
              "solidity": 0.2
             }
            },
            "type": "histogram"
           }
          ],
          "histogram2d": [
           {
            "colorbar": {
             "outlinewidth": 0,
             "ticks": ""
            },
            "colorscale": [
             [
              0,
              "#0d0887"
             ],
             [
              0.1111111111111111,
              "#46039f"
             ],
             [
              0.2222222222222222,
              "#7201a8"
             ],
             [
              0.3333333333333333,
              "#9c179e"
             ],
             [
              0.4444444444444444,
              "#bd3786"
             ],
             [
              0.5555555555555556,
              "#d8576b"
             ],
             [
              0.6666666666666666,
              "#ed7953"
             ],
             [
              0.7777777777777778,
              "#fb9f3a"
             ],
             [
              0.8888888888888888,
              "#fdca26"
             ],
             [
              1,
              "#f0f921"
             ]
            ],
            "type": "histogram2d"
           }
          ],
          "histogram2dcontour": [
           {
            "colorbar": {
             "outlinewidth": 0,
             "ticks": ""
            },
            "colorscale": [
             [
              0,
              "#0d0887"
             ],
             [
              0.1111111111111111,
              "#46039f"
             ],
             [
              0.2222222222222222,
              "#7201a8"
             ],
             [
              0.3333333333333333,
              "#9c179e"
             ],
             [
              0.4444444444444444,
              "#bd3786"
             ],
             [
              0.5555555555555556,
              "#d8576b"
             ],
             [
              0.6666666666666666,
              "#ed7953"
             ],
             [
              0.7777777777777778,
              "#fb9f3a"
             ],
             [
              0.8888888888888888,
              "#fdca26"
             ],
             [
              1,
              "#f0f921"
             ]
            ],
            "type": "histogram2dcontour"
           }
          ],
          "mesh3d": [
           {
            "colorbar": {
             "outlinewidth": 0,
             "ticks": ""
            },
            "type": "mesh3d"
           }
          ],
          "parcoords": [
           {
            "line": {
             "colorbar": {
              "outlinewidth": 0,
              "ticks": ""
             }
            },
            "type": "parcoords"
           }
          ],
          "pie": [
           {
            "automargin": true,
            "type": "pie"
           }
          ],
          "scatter": [
           {
            "marker": {
             "colorbar": {
              "outlinewidth": 0,
              "ticks": ""
             }
            },
            "type": "scatter"
           }
          ],
          "scatter3d": [
           {
            "line": {
             "colorbar": {
              "outlinewidth": 0,
              "ticks": ""
             }
            },
            "marker": {
             "colorbar": {
              "outlinewidth": 0,
              "ticks": ""
             }
            },
            "type": "scatter3d"
           }
          ],
          "scattercarpet": [
           {
            "marker": {
             "colorbar": {
              "outlinewidth": 0,
              "ticks": ""
             }
            },
            "type": "scattercarpet"
           }
          ],
          "scattergeo": [
           {
            "marker": {
             "colorbar": {
              "outlinewidth": 0,
              "ticks": ""
             }
            },
            "type": "scattergeo"
           }
          ],
          "scattergl": [
           {
            "marker": {
             "colorbar": {
              "outlinewidth": 0,
              "ticks": ""
             }
            },
            "type": "scattergl"
           }
          ],
          "scattermapbox": [
           {
            "marker": {
             "colorbar": {
              "outlinewidth": 0,
              "ticks": ""
             }
            },
            "type": "scattermapbox"
           }
          ],
          "scatterpolar": [
           {
            "marker": {
             "colorbar": {
              "outlinewidth": 0,
              "ticks": ""
             }
            },
            "type": "scatterpolar"
           }
          ],
          "scatterpolargl": [
           {
            "marker": {
             "colorbar": {
              "outlinewidth": 0,
              "ticks": ""
             }
            },
            "type": "scatterpolargl"
           }
          ],
          "scatterternary": [
           {
            "marker": {
             "colorbar": {
              "outlinewidth": 0,
              "ticks": ""
             }
            },
            "type": "scatterternary"
           }
          ],
          "surface": [
           {
            "colorbar": {
             "outlinewidth": 0,
             "ticks": ""
            },
            "colorscale": [
             [
              0,
              "#0d0887"
             ],
             [
              0.1111111111111111,
              "#46039f"
             ],
             [
              0.2222222222222222,
              "#7201a8"
             ],
             [
              0.3333333333333333,
              "#9c179e"
             ],
             [
              0.4444444444444444,
              "#bd3786"
             ],
             [
              0.5555555555555556,
              "#d8576b"
             ],
             [
              0.6666666666666666,
              "#ed7953"
             ],
             [
              0.7777777777777778,
              "#fb9f3a"
             ],
             [
              0.8888888888888888,
              "#fdca26"
             ],
             [
              1,
              "#f0f921"
             ]
            ],
            "type": "surface"
           }
          ],
          "table": [
           {
            "cells": {
             "fill": {
              "color": "#EBF0F8"
             },
             "line": {
              "color": "white"
             }
            },
            "header": {
             "fill": {
              "color": "#C8D4E3"
             },
             "line": {
              "color": "white"
             }
            },
            "type": "table"
           }
          ]
         },
         "layout": {
          "annotationdefaults": {
           "arrowcolor": "#2a3f5f",
           "arrowhead": 0,
           "arrowwidth": 1
          },
          "autotypenumbers": "strict",
          "coloraxis": {
           "colorbar": {
            "outlinewidth": 0,
            "ticks": ""
           }
          },
          "colorscale": {
           "diverging": [
            [
             0,
             "#8e0152"
            ],
            [
             0.1,
             "#c51b7d"
            ],
            [
             0.2,
             "#de77ae"
            ],
            [
             0.3,
             "#f1b6da"
            ],
            [
             0.4,
             "#fde0ef"
            ],
            [
             0.5,
             "#f7f7f7"
            ],
            [
             0.6,
             "#e6f5d0"
            ],
            [
             0.7,
             "#b8e186"
            ],
            [
             0.8,
             "#7fbc41"
            ],
            [
             0.9,
             "#4d9221"
            ],
            [
             1,
             "#276419"
            ]
           ],
           "sequential": [
            [
             0,
             "#0d0887"
            ],
            [
             0.1111111111111111,
             "#46039f"
            ],
            [
             0.2222222222222222,
             "#7201a8"
            ],
            [
             0.3333333333333333,
             "#9c179e"
            ],
            [
             0.4444444444444444,
             "#bd3786"
            ],
            [
             0.5555555555555556,
             "#d8576b"
            ],
            [
             0.6666666666666666,
             "#ed7953"
            ],
            [
             0.7777777777777778,
             "#fb9f3a"
            ],
            [
             0.8888888888888888,
             "#fdca26"
            ],
            [
             1,
             "#f0f921"
            ]
           ],
           "sequentialminus": [
            [
             0,
             "#0d0887"
            ],
            [
             0.1111111111111111,
             "#46039f"
            ],
            [
             0.2222222222222222,
             "#7201a8"
            ],
            [
             0.3333333333333333,
             "#9c179e"
            ],
            [
             0.4444444444444444,
             "#bd3786"
            ],
            [
             0.5555555555555556,
             "#d8576b"
            ],
            [
             0.6666666666666666,
             "#ed7953"
            ],
            [
             0.7777777777777778,
             "#fb9f3a"
            ],
            [
             0.8888888888888888,
             "#fdca26"
            ],
            [
             1,
             "#f0f921"
            ]
           ]
          },
          "colorway": [
           "#636efa",
           "#EF553B",
           "#00cc96",
           "#ab63fa",
           "#FFA15A",
           "#19d3f3",
           "#FF6692",
           "#B6E880",
           "#FF97FF",
           "#FECB52"
          ],
          "font": {
           "color": "#2a3f5f"
          },
          "geo": {
           "bgcolor": "white",
           "lakecolor": "white",
           "landcolor": "#E5ECF6",
           "showlakes": true,
           "showland": true,
           "subunitcolor": "white"
          },
          "hoverlabel": {
           "align": "left"
          },
          "hovermode": "closest",
          "mapbox": {
           "style": "light"
          },
          "paper_bgcolor": "white",
          "plot_bgcolor": "#E5ECF6",
          "polar": {
           "angularaxis": {
            "gridcolor": "white",
            "linecolor": "white",
            "ticks": ""
           },
           "bgcolor": "#E5ECF6",
           "radialaxis": {
            "gridcolor": "white",
            "linecolor": "white",
            "ticks": ""
           }
          },
          "scene": {
           "xaxis": {
            "backgroundcolor": "#E5ECF6",
            "gridcolor": "white",
            "gridwidth": 2,
            "linecolor": "white",
            "showbackground": true,
            "ticks": "",
            "zerolinecolor": "white"
           },
           "yaxis": {
            "backgroundcolor": "#E5ECF6",
            "gridcolor": "white",
            "gridwidth": 2,
            "linecolor": "white",
            "showbackground": true,
            "ticks": "",
            "zerolinecolor": "white"
           },
           "zaxis": {
            "backgroundcolor": "#E5ECF6",
            "gridcolor": "white",
            "gridwidth": 2,
            "linecolor": "white",
            "showbackground": true,
            "ticks": "",
            "zerolinecolor": "white"
           }
          },
          "shapedefaults": {
           "line": {
            "color": "#2a3f5f"
           }
          },
          "ternary": {
           "aaxis": {
            "gridcolor": "white",
            "linecolor": "white",
            "ticks": ""
           },
           "baxis": {
            "gridcolor": "white",
            "linecolor": "white",
            "ticks": ""
           },
           "bgcolor": "#E5ECF6",
           "caxis": {
            "gridcolor": "white",
            "linecolor": "white",
            "ticks": ""
           }
          },
          "title": {
           "x": 0.05
          },
          "xaxis": {
           "automargin": true,
           "gridcolor": "white",
           "linecolor": "white",
           "ticks": "",
           "title": {
            "standoff": 15
           },
           "zerolinecolor": "white",
           "zerolinewidth": 2
          },
          "yaxis": {
           "automargin": true,
           "gridcolor": "white",
           "linecolor": "white",
           "ticks": "",
           "title": {
            "standoff": 15
           },
           "zerolinecolor": "white",
           "zerolinewidth": 2
          }
         }
        },
        "title": {
         "text": "Воронка событий"
        },
        "yaxis": {
         "title": {
          "text": "Название события воронки"
         }
        }
       }
      },
      "text/html": [
       "<div>                            <div id=\"5aaf601e-0028-4a42-8b8c-e8d25d293d4f\" class=\"plotly-graph-div\" style=\"height:525px; width:100%;\"></div>            <script type=\"text/javascript\">                require([\"plotly\"], function(Plotly) {                    window.PLOTLYENV=window.PLOTLYENV || {};                                    if (document.getElementById(\"5aaf601e-0028-4a42-8b8c-e8d25d293d4f\")) {                    Plotly.newPlot(                        \"5aaf601e-0028-4a42-8b8c-e8d25d293d4f\",                        [{\"name\":\"\\u0423\\u043d\\u0438\\u043a\\u0430\\u043b\\u044c\\u043d\\u044b\\u0435 \\u043f\\u043e\\u043b\\u044c\\u0437\\u043e\\u0432\\u0430\\u0442\\u0435\\u043b\\u0438 \\u043d\\u0430 \\u043a\\u0430\\u0436\\u0434\\u043e\\u043c \\u0448\\u0430\\u0433\\u0443\",\"orientation\":\"h\",\"textinfo\":\"value+percent previous\",\"textposition\":\"inside\",\"x\":[7419,4593,3734,3539],\"y\":[\"MainScreenAppear\",\"OffersScreenAppear\",\"CartScreenAppear\",\"PaymentScreenSuccessful\",\"Tutorial\"],\"type\":\"funnel\"},{\"name\":\"\\u0423\\u043d\\u0438\\u043a\\u0430\\u043b\\u044c\\u043d\\u044b\\u0435 \\u043f\\u043e\\u043b\\u044c\\u0437\\u043e\\u0432\\u0430\\u0442\\u0435\\u043b\\u0438, \\u043f\\u0440\\u043e\\u0445\\u043e\\u0434\\u044f\\u0449\\u0438\\u0435 \\u0448\\u0430\\u0433\\u0438 \\u043f\\u043e\\u0441\\u043b\\u0435\\u0434\\u043e\\u0432\\u0430\\u0442\\u0435\\u043b\\u044c\\u043d\\u043e \\u043e\\u0442 \\u043f\\u0435\\u0440\\u0432\\u043e\\u043e\\u0433\\u043e \\u0434\\u043e \\u043f\\u043e\\u0441\\u043b\\u0435\\u0434\\u043d\\u0435\\u0433\\u043e\",\"orientation\":\"h\",\"textinfo\":\"value+percent previous\",\"textposition\":\"inside\",\"x\":[7419,4201,1767,454],\"y\":[\"MainScreenAppear\",\"OffersScreenAppear\",\"CartScreenAppear\",\"PaymentScreenSuccessful\",\"Tutorial\"],\"type\":\"funnel\"}],                        {\"template\":{\"data\":{\"bar\":[{\"error_x\":{\"color\":\"#2a3f5f\"},\"error_y\":{\"color\":\"#2a3f5f\"},\"marker\":{\"line\":{\"color\":\"#E5ECF6\",\"width\":0.5},\"pattern\":{\"fillmode\":\"overlay\",\"size\":10,\"solidity\":0.2}},\"type\":\"bar\"}],\"barpolar\":[{\"marker\":{\"line\":{\"color\":\"#E5ECF6\",\"width\":0.5},\"pattern\":{\"fillmode\":\"overlay\",\"size\":10,\"solidity\":0.2}},\"type\":\"barpolar\"}],\"carpet\":[{\"aaxis\":{\"endlinecolor\":\"#2a3f5f\",\"gridcolor\":\"white\",\"linecolor\":\"white\",\"minorgridcolor\":\"white\",\"startlinecolor\":\"#2a3f5f\"},\"baxis\":{\"endlinecolor\":\"#2a3f5f\",\"gridcolor\":\"white\",\"linecolor\":\"white\",\"minorgridcolor\":\"white\",\"startlinecolor\":\"#2a3f5f\"},\"type\":\"carpet\"}],\"choropleth\":[{\"colorbar\":{\"outlinewidth\":0,\"ticks\":\"\"},\"type\":\"choropleth\"}],\"contour\":[{\"colorbar\":{\"outlinewidth\":0,\"ticks\":\"\"},\"colorscale\":[[0.0,\"#0d0887\"],[0.1111111111111111,\"#46039f\"],[0.2222222222222222,\"#7201a8\"],[0.3333333333333333,\"#9c179e\"],[0.4444444444444444,\"#bd3786\"],[0.5555555555555556,\"#d8576b\"],[0.6666666666666666,\"#ed7953\"],[0.7777777777777778,\"#fb9f3a\"],[0.8888888888888888,\"#fdca26\"],[1.0,\"#f0f921\"]],\"type\":\"contour\"}],\"contourcarpet\":[{\"colorbar\":{\"outlinewidth\":0,\"ticks\":\"\"},\"type\":\"contourcarpet\"}],\"heatmap\":[{\"colorbar\":{\"outlinewidth\":0,\"ticks\":\"\"},\"colorscale\":[[0.0,\"#0d0887\"],[0.1111111111111111,\"#46039f\"],[0.2222222222222222,\"#7201a8\"],[0.3333333333333333,\"#9c179e\"],[0.4444444444444444,\"#bd3786\"],[0.5555555555555556,\"#d8576b\"],[0.6666666666666666,\"#ed7953\"],[0.7777777777777778,\"#fb9f3a\"],[0.8888888888888888,\"#fdca26\"],[1.0,\"#f0f921\"]],\"type\":\"heatmap\"}],\"heatmapgl\":[{\"colorbar\":{\"outlinewidth\":0,\"ticks\":\"\"},\"colorscale\":[[0.0,\"#0d0887\"],[0.1111111111111111,\"#46039f\"],[0.2222222222222222,\"#7201a8\"],[0.3333333333333333,\"#9c179e\"],[0.4444444444444444,\"#bd3786\"],[0.5555555555555556,\"#d8576b\"],[0.6666666666666666,\"#ed7953\"],[0.7777777777777778,\"#fb9f3a\"],[0.8888888888888888,\"#fdca26\"],[1.0,\"#f0f921\"]],\"type\":\"heatmapgl\"}],\"histogram\":[{\"marker\":{\"pattern\":{\"fillmode\":\"overlay\",\"size\":10,\"solidity\":0.2}},\"type\":\"histogram\"}],\"histogram2d\":[{\"colorbar\":{\"outlinewidth\":0,\"ticks\":\"\"},\"colorscale\":[[0.0,\"#0d0887\"],[0.1111111111111111,\"#46039f\"],[0.2222222222222222,\"#7201a8\"],[0.3333333333333333,\"#9c179e\"],[0.4444444444444444,\"#bd3786\"],[0.5555555555555556,\"#d8576b\"],[0.6666666666666666,\"#ed7953\"],[0.7777777777777778,\"#fb9f3a\"],[0.8888888888888888,\"#fdca26\"],[1.0,\"#f0f921\"]],\"type\":\"histogram2d\"}],\"histogram2dcontour\":[{\"colorbar\":{\"outlinewidth\":0,\"ticks\":\"\"},\"colorscale\":[[0.0,\"#0d0887\"],[0.1111111111111111,\"#46039f\"],[0.2222222222222222,\"#7201a8\"],[0.3333333333333333,\"#9c179e\"],[0.4444444444444444,\"#bd3786\"],[0.5555555555555556,\"#d8576b\"],[0.6666666666666666,\"#ed7953\"],[0.7777777777777778,\"#fb9f3a\"],[0.8888888888888888,\"#fdca26\"],[1.0,\"#f0f921\"]],\"type\":\"histogram2dcontour\"}],\"mesh3d\":[{\"colorbar\":{\"outlinewidth\":0,\"ticks\":\"\"},\"type\":\"mesh3d\"}],\"parcoords\":[{\"line\":{\"colorbar\":{\"outlinewidth\":0,\"ticks\":\"\"}},\"type\":\"parcoords\"}],\"pie\":[{\"automargin\":true,\"type\":\"pie\"}],\"scatter\":[{\"marker\":{\"colorbar\":{\"outlinewidth\":0,\"ticks\":\"\"}},\"type\":\"scatter\"}],\"scatter3d\":[{\"line\":{\"colorbar\":{\"outlinewidth\":0,\"ticks\":\"\"}},\"marker\":{\"colorbar\":{\"outlinewidth\":0,\"ticks\":\"\"}},\"type\":\"scatter3d\"}],\"scattercarpet\":[{\"marker\":{\"colorbar\":{\"outlinewidth\":0,\"ticks\":\"\"}},\"type\":\"scattercarpet\"}],\"scattergeo\":[{\"marker\":{\"colorbar\":{\"outlinewidth\":0,\"ticks\":\"\"}},\"type\":\"scattergeo\"}],\"scattergl\":[{\"marker\":{\"colorbar\":{\"outlinewidth\":0,\"ticks\":\"\"}},\"type\":\"scattergl\"}],\"scattermapbox\":[{\"marker\":{\"colorbar\":{\"outlinewidth\":0,\"ticks\":\"\"}},\"type\":\"scattermapbox\"}],\"scatterpolar\":[{\"marker\":{\"colorbar\":{\"outlinewidth\":0,\"ticks\":\"\"}},\"type\":\"scatterpolar\"}],\"scatterpolargl\":[{\"marker\":{\"colorbar\":{\"outlinewidth\":0,\"ticks\":\"\"}},\"type\":\"scatterpolargl\"}],\"scatterternary\":[{\"marker\":{\"colorbar\":{\"outlinewidth\":0,\"ticks\":\"\"}},\"type\":\"scatterternary\"}],\"surface\":[{\"colorbar\":{\"outlinewidth\":0,\"ticks\":\"\"},\"colorscale\":[[0.0,\"#0d0887\"],[0.1111111111111111,\"#46039f\"],[0.2222222222222222,\"#7201a8\"],[0.3333333333333333,\"#9c179e\"],[0.4444444444444444,\"#bd3786\"],[0.5555555555555556,\"#d8576b\"],[0.6666666666666666,\"#ed7953\"],[0.7777777777777778,\"#fb9f3a\"],[0.8888888888888888,\"#fdca26\"],[1.0,\"#f0f921\"]],\"type\":\"surface\"}],\"table\":[{\"cells\":{\"fill\":{\"color\":\"#EBF0F8\"},\"line\":{\"color\":\"white\"}},\"header\":{\"fill\":{\"color\":\"#C8D4E3\"},\"line\":{\"color\":\"white\"}},\"type\":\"table\"}]},\"layout\":{\"annotationdefaults\":{\"arrowcolor\":\"#2a3f5f\",\"arrowhead\":0,\"arrowwidth\":1},\"autotypenumbers\":\"strict\",\"coloraxis\":{\"colorbar\":{\"outlinewidth\":0,\"ticks\":\"\"}},\"colorscale\":{\"diverging\":[[0,\"#8e0152\"],[0.1,\"#c51b7d\"],[0.2,\"#de77ae\"],[0.3,\"#f1b6da\"],[0.4,\"#fde0ef\"],[0.5,\"#f7f7f7\"],[0.6,\"#e6f5d0\"],[0.7,\"#b8e186\"],[0.8,\"#7fbc41\"],[0.9,\"#4d9221\"],[1,\"#276419\"]],\"sequential\":[[0.0,\"#0d0887\"],[0.1111111111111111,\"#46039f\"],[0.2222222222222222,\"#7201a8\"],[0.3333333333333333,\"#9c179e\"],[0.4444444444444444,\"#bd3786\"],[0.5555555555555556,\"#d8576b\"],[0.6666666666666666,\"#ed7953\"],[0.7777777777777778,\"#fb9f3a\"],[0.8888888888888888,\"#fdca26\"],[1.0,\"#f0f921\"]],\"sequentialminus\":[[0.0,\"#0d0887\"],[0.1111111111111111,\"#46039f\"],[0.2222222222222222,\"#7201a8\"],[0.3333333333333333,\"#9c179e\"],[0.4444444444444444,\"#bd3786\"],[0.5555555555555556,\"#d8576b\"],[0.6666666666666666,\"#ed7953\"],[0.7777777777777778,\"#fb9f3a\"],[0.8888888888888888,\"#fdca26\"],[1.0,\"#f0f921\"]]},\"colorway\":[\"#636efa\",\"#EF553B\",\"#00cc96\",\"#ab63fa\",\"#FFA15A\",\"#19d3f3\",\"#FF6692\",\"#B6E880\",\"#FF97FF\",\"#FECB52\"],\"font\":{\"color\":\"#2a3f5f\"},\"geo\":{\"bgcolor\":\"white\",\"lakecolor\":\"white\",\"landcolor\":\"#E5ECF6\",\"showlakes\":true,\"showland\":true,\"subunitcolor\":\"white\"},\"hoverlabel\":{\"align\":\"left\"},\"hovermode\":\"closest\",\"mapbox\":{\"style\":\"light\"},\"paper_bgcolor\":\"white\",\"plot_bgcolor\":\"#E5ECF6\",\"polar\":{\"angularaxis\":{\"gridcolor\":\"white\",\"linecolor\":\"white\",\"ticks\":\"\"},\"bgcolor\":\"#E5ECF6\",\"radialaxis\":{\"gridcolor\":\"white\",\"linecolor\":\"white\",\"ticks\":\"\"}},\"scene\":{\"xaxis\":{\"backgroundcolor\":\"#E5ECF6\",\"gridcolor\":\"white\",\"gridwidth\":2,\"linecolor\":\"white\",\"showbackground\":true,\"ticks\":\"\",\"zerolinecolor\":\"white\"},\"yaxis\":{\"backgroundcolor\":\"#E5ECF6\",\"gridcolor\":\"white\",\"gridwidth\":2,\"linecolor\":\"white\",\"showbackground\":true,\"ticks\":\"\",\"zerolinecolor\":\"white\"},\"zaxis\":{\"backgroundcolor\":\"#E5ECF6\",\"gridcolor\":\"white\",\"gridwidth\":2,\"linecolor\":\"white\",\"showbackground\":true,\"ticks\":\"\",\"zerolinecolor\":\"white\"}},\"shapedefaults\":{\"line\":{\"color\":\"#2a3f5f\"}},\"ternary\":{\"aaxis\":{\"gridcolor\":\"white\",\"linecolor\":\"white\",\"ticks\":\"\"},\"baxis\":{\"gridcolor\":\"white\",\"linecolor\":\"white\",\"ticks\":\"\"},\"bgcolor\":\"#E5ECF6\",\"caxis\":{\"gridcolor\":\"white\",\"linecolor\":\"white\",\"ticks\":\"\"}},\"title\":{\"x\":0.05},\"xaxis\":{\"automargin\":true,\"gridcolor\":\"white\",\"linecolor\":\"white\",\"ticks\":\"\",\"title\":{\"standoff\":15},\"zerolinecolor\":\"white\",\"zerolinewidth\":2},\"yaxis\":{\"automargin\":true,\"gridcolor\":\"white\",\"linecolor\":\"white\",\"ticks\":\"\",\"title\":{\"standoff\":15},\"zerolinecolor\":\"white\",\"zerolinewidth\":2}}},\"legend\":{\"title\":{\"text\":\"\\u0413\\u0440\\u0443\\u043f\\u043f\\u0430\"},\"orientation\":\"h\"},\"font\":{\"family\":\"Courier New, monospace\",\"size\":12.5,\"color\":\"RebeccaPurple\"},\"title\":{\"text\":\"\\u0412\\u043e\\u0440\\u043e\\u043d\\u043a\\u0430 \\u0441\\u043e\\u0431\\u044b\\u0442\\u0438\\u0439\"},\"yaxis\":{\"title\":{\"text\":\"\\u041d\\u0430\\u0437\\u0432\\u0430\\u043d\\u0438\\u0435 \\u0441\\u043e\\u0431\\u044b\\u0442\\u0438\\u044f \\u0432\\u043e\\u0440\\u043e\\u043d\\u043a\\u0438\"}}},                        {\"responsive\": true}                    ).then(function(){\n",
       "                            \n",
       "var gd = document.getElementById('5aaf601e-0028-4a42-8b8c-e8d25d293d4f');\n",
       "var x = new MutationObserver(function (mutations, observer) {{\n",
       "        var display = window.getComputedStyle(gd).display;\n",
       "        if (!display || display === 'none') {{\n",
       "            console.log([gd, 'removed!']);\n",
       "            Plotly.purge(gd);\n",
       "            observer.disconnect();\n",
       "        }}\n",
       "}});\n",
       "\n",
       "// Listen for the removal of the full notebook cells\n",
       "var notebookContainer = gd.closest('#notebook-container');\n",
       "if (notebookContainer) {{\n",
       "    x.observe(notebookContainer, {childList: true});\n",
       "}}\n",
       "\n",
       "// Listen for the clearing of the current output cell\n",
       "var outputEl = gd.closest('.output');\n",
       "if (outputEl) {{\n",
       "    x.observe(outputEl, {childList: true});\n",
       "}}\n",
       "\n",
       "                        })                };                });            </script>        </div>"
      ]
     },
     "metadata": {},
     "output_type": "display_data"
    }
   ],
   "source": [
    "fig = go.Figure()\n",
    "\n",
    "for group, name in ([df1[:-1].device_id_hash, 'Уникальные пользователи на каждом шагу'], \n",
    "                    [df3.device_id_hash, 'Уникальные пользователи, проходящие шаги последовательно от первоого до последнего']): \n",
    "    fig.add_trace(go.Funnel(\n",
    "        name = name,\n",
    "        orientation = \"h\",\n",
    "        y = df1.index,\n",
    "        x = group,\n",
    "        textposition = \"inside\",\n",
    "        textinfo = \"value+percent previous\"))\n",
    "    \n",
    "fig.update_layout(\n",
    "    title=\"Воронка событий\",\n",
    "    yaxis_title=\"Название события воронки\",\n",
    "    legend_title=\"Группа\",\n",
    "    legend_orientation=\"h\",\n",
    "    font=dict(\n",
    "        family=\"Courier New, monospace\",\n",
    "        size=12.5,\n",
    "        color=\"RebeccaPurple\"))\n",
    "\n",
    "fig.show()"
   ]
  },
  {
   "cell_type": "markdown",
   "metadata": {},
   "source": [
    "### Вывод\n",
    "\n",
    "В логах есть следующие события (в скобках указана доля события от всех событий):\n",
    "- MainScreenAppear — главный экран (48.7%)\n",
    "- OffersScreenAppear — экран предложения (19.2%)\n",
    "- CartScreenAppear — экран корзины (17.6%)\n",
    "- PaymentScreenSuccessful — экран успешного платежа (14.1%)\n",
    "- Tutorial — руководство (0.4%)\n",
    "\n",
    "События можно выстроить в воронку с следующей последовательность: \n",
    "1. MainScreenAppear\n",
    "2. OffersScreenAppear\n",
    "3. CartScreenAppear\n",
    "4. PaymentScreenSuccessful \n",
    "\n",
    "Событие Tutorial скорее всего не входит в воронку, так как не появляется после этапа успешной оплаты заказа, поэтому из дальнейшего анализа данное событие было удалено.  \n",
    "\n",
    "По количеству пользователей и доле от всех уникальных пользователей, которые хоть раз совершали событие, также выстраиваются в воронку:\n",
    "- MainScreenAppear (7419 пользователей,\t98.47% от всех уникальных пользователей)\n",
    "- OffersScreenAppear (4593 пользователей, 60.96% от всех уникальных пользователей)\n",
    "- CartScreenAppear (3734 пользователей,\t49.56% от всех уникальных пользователей)\n",
    "- PaymentScreenSuccessful (3539 пользователей,\t46.97% от всех уникальных пользователей)\n",
    "- Tutorial (840 пользователей,\t11.15% от всех уникальных пользователей)\n",
    "\n",
    "После построения воронки получили следующие выводы:\n",
    "- Количество пользователей на втором шаге составляет **62%** пользователей от предыдущего.   \n",
    "- Количество пользователей на третьем шаге составляет **81%** пользователей от предыдущего.  \n",
    "- Количество пользователей на четвертом шаге составляет **95%** пользователей от предыдущего.  \n",
    "\n",
    "То есть самое большое количество пользователей теряется при переходе с шага главного экрана (MainScreenAppear) на шаг с экраном предложения (OffersScreenAppear).  \n",
    "Больше всего сохраняется пользователей при переходе с шага с экраном корзины (CartScreenAppear) на шаг с экраном успешного платежа (PaymentScreenSuccessful).  \n",
    "\n",
    "Последовательно от первого события до оплаты проходят только 454 или 6% от тех, кто был на первой событии."
   ]
  },
  {
   "cell_type": "markdown",
   "metadata": {},
   "source": [
    "## Изучение результатов эксперимента\n",
    "### Проверка количества пользователей в группах\n",
    "\n",
    "Как уже смотрели ранее, количество уникальных пользователей в каждой эксперементальной группе не сильно отличается друг от друга."
   ]
  },
  {
   "cell_type": "code",
   "execution_count": 63,
   "metadata": {},
   "outputs": [
    {
     "data": {
      "text/html": [
       "<div>\n",
       "<style scoped>\n",
       "    .dataframe tbody tr th:only-of-type {\n",
       "        vertical-align: middle;\n",
       "    }\n",
       "\n",
       "    .dataframe tbody tr th {\n",
       "        vertical-align: top;\n",
       "    }\n",
       "\n",
       "    .dataframe thead th {\n",
       "        text-align: right;\n",
       "    }\n",
       "</style>\n",
       "<table border=\"1\" class=\"dataframe\">\n",
       "  <thead>\n",
       "    <tr style=\"text-align: right;\">\n",
       "      <th></th>\n",
       "      <th>exp_id</th>\n",
       "      <th>device_id_hash</th>\n",
       "    </tr>\n",
       "  </thead>\n",
       "  <tbody>\n",
       "    <tr>\n",
       "      <th>0</th>\n",
       "      <td>246</td>\n",
       "      <td>2483</td>\n",
       "    </tr>\n",
       "    <tr>\n",
       "      <th>1</th>\n",
       "      <td>247</td>\n",
       "      <td>2512</td>\n",
       "    </tr>\n",
       "    <tr>\n",
       "      <th>2</th>\n",
       "      <td>248</td>\n",
       "      <td>2535</td>\n",
       "    </tr>\n",
       "    <tr>\n",
       "      <th>3</th>\n",
       "      <td>246+247</td>\n",
       "      <td>4995</td>\n",
       "    </tr>\n",
       "  </tbody>\n",
       "</table>\n",
       "</div>"
      ],
      "text/plain": [
       "    exp_id  device_id_hash\n",
       "0      246            2483\n",
       "1      247            2512\n",
       "2      248            2535\n",
       "3  246+247            4995"
      ]
     },
     "metadata": {},
     "output_type": "display_data"
    },
    {
     "data": {
      "image/png": "[encoded data removed]",
      "text/plain": [
       "<Figure size 1080x360 with 1 Axes>"
      ]
     },
     "metadata": {},
     "output_type": "display_data"
    }
   ],
   "source": [
    "users = logs_exp_new.groupby('exp_id').agg({'device_id_hash':'nunique'}).reset_index()\n",
    "\n",
    "plt.figure(figsize=(15, 5))\n",
    "logs_exp_new.exp_id.value_counts().plot(kind='pie', autopct='%1.1f%%')\n",
    "plt.suptitle('Распределение пользователей по группам');\n",
    "users.loc[len(users.index )] = ['246+247', users.query('exp_id in (246, 247)').device_id_hash.sum()]\n",
    "display(users)"
   ]
  },
  {
   "cell_type": "markdown",
   "metadata": {},
   "source": [
    "Также выполним проверку того, нет ли в экперементальных групах повторяющихся пользователей. Для этого создадим сводную таблицу, в которой для каждого уникального пользователя посчитаем количество групп, в которые он попал, а затем выведем тех пользователей, которые попали больше, чем в одну группу.  \n",
    "Получили, что таких пользователей нет, то есть каждый уникальный пользователь попал только в одну группу."
   ]
  },
  {
   "cell_type": "code",
   "execution_count": 64,
   "metadata": {},
   "outputs": [
    {
     "data": {
      "text/html": [
       "<div>\n",
       "<style scoped>\n",
       "    .dataframe tbody tr th:only-of-type {\n",
       "        vertical-align: middle;\n",
       "    }\n",
       "\n",
       "    .dataframe tbody tr th {\n",
       "        vertical-align: top;\n",
       "    }\n",
       "\n",
       "    .dataframe thead th {\n",
       "        text-align: right;\n",
       "    }\n",
       "</style>\n",
       "<table border=\"1\" class=\"dataframe\">\n",
       "  <thead>\n",
       "    <tr style=\"text-align: right;\">\n",
       "      <th></th>\n",
       "      <th>exp_id</th>\n",
       "    </tr>\n",
       "    <tr>\n",
       "      <th>device_id_hash</th>\n",
       "      <th></th>\n",
       "    </tr>\n",
       "  </thead>\n",
       "  <tbody>\n",
       "  </tbody>\n",
       "</table>\n",
       "</div>"
      ],
      "text/plain": [
       "Empty DataFrame\n",
       "Columns: [exp_id]\n",
       "Index: []"
      ]
     },
     "execution_count": 64,
     "metadata": {},
     "output_type": "execute_result"
    }
   ],
   "source": [
    "logs_exp_new.pivot_table(index='device_id_hash', values='exp_id', aggfunc='nunique').query('exp_id > 1')"
   ]
  },
  {
   "cell_type": "markdown",
   "metadata": {},
   "source": [
    "### Проверка гипотез\n",
    "Теперь проверим с помощью статистических критериев, есть ли разница между группами. Для автоматизации этого создадим функцию, так как необходимо проверить разницу между всеми 3 группами. Функция будет создавать таблицу для расчетов, строить воронку событий по двум рассматриваемым группам, а также проверять есть ли статистическая разница между отношением уникальных пользователей, совершивших событие к количеству пользователей в группе.  \n",
    "\n",
    "Будет проверяться гипотеза о равенстве долей, проверяться она будет для каждого события. Сформулируем нулевую и альтернативную гипотезы.  \n",
    "\n",
    "**Н0:** Для рассматриваемых групп доли уникальных пользователей, совершивших событие к количеству пользователей в группе равны.   \n",
    "**Н1:** Для рассматриваемых групп доли уникальных пользователей, совершивших событие к количеству пользователей в группе не равны.  \n",
    "\n",
    "Для ее проверки будем использовать z-тест. Выберем уровень значимости равный alpha = 0.05."
   ]
  },
  {
   "cell_type": "code",
   "execution_count": 66,
   "metadata": {},
   "outputs": [],
   "source": [
    "def data(group1, group2):\n",
    "    if group1 == '246+247' or group2 == '246+247':\n",
    "        data = (logs_exp_new.pivot_table(index='event_name', \n",
    "                         columns='exp_id', \n",
    "                         values='device_id_hash', \n",
    "                         aggfunc='nunique').reset_index())\n",
    "        data['246+247'] = data[246] + data[247]\n",
    "    else:\n",
    "    # составляем сводную таблицу с количеством пользователей по событиям и группам    \n",
    "        data = (logs_exp_new.query('exp_id in (@group1, @group2)')\n",
    "            .pivot_table(index='event_name', \n",
    "                         columns='exp_id', \n",
    "                         values='device_id_hash', \n",
    "                         aggfunc='nunique').reset_index())\n",
    "    data = data.sort_values(by=data.columns[1], ascending=False).reset_index(drop=True)\n",
    "    return data\n",
    "\n",
    "def stat_difference(group1, group2, alpha, data):\n",
    "    # пропорция успехов в комбинированном датасете:\n",
    "    data['combined'] = (data[group1] + data[group2]) / (int(users[users.exp_id == group1].device_id_hash) \n",
    "                                                        + int(users[users.exp_id == group2].device_id_hash))\n",
    "    \n",
    "    # рассчитываем долю от для каждого шага \n",
    "    for group in [group1, group2]:\n",
    "         data['p_' + str(group)] = data[group].apply(lambda x: x / users[users.exp_id == group].device_id_hash)\n",
    "    \n",
    "    # разница пропорций в датасетах\n",
    "    data['difference'] = data['p_' + str(group1)] - data['p_' + str(group2)]\n",
    "    \n",
    "    # считаем статистику в ст.отклонениях стандартного нормального распределения\n",
    "    data['z_value'] = data['difference'] / (data['combined'] * (1 - data['combined']) \n",
    "                                            * (1/int(users[users.exp_id == group1].device_id_hash)\n",
    "                                               + 1/int(users[users.exp_id == group2].device_id_hash)))**0.5\n",
    "\n",
    "    data['p_value'] = (1 - stats.norm(0, 1).cdf(abs(data['z_value']))) * 2\n",
    "    display(data)\n",
    "    print(f'Для групп {group1} и {group2} с заданным уровнем значимости {alpha:.0%}')\n",
    "    print()\n",
    "    for i in range(len(data)):\n",
    "        print(f'{event_name[i]}')\n",
    "        print(f'p-значение: {data.p_value[i]:.4f}')\n",
    "        if data['p_value'][i] < alpha:\n",
    "            print('Отвергаем нулевую гипотезу: между долями есть значимая разница')\n",
    "        else:\n",
    "            print('Не получилось отвергнуть нулевую гипотезу, нет оснований считать доли разными') \n",
    "        print()\n",
    "\n",
    "def funnel(group1, group2, data):        \n",
    "    fig = go.Figure()\n",
    "\n",
    "    for group in [group1, group2]: \n",
    "        fig.add_trace(go.Funnel(\n",
    "            name = group,\n",
    "            orientation = \"h\",\n",
    "            y = event_name,\n",
    "            x = data[group],\n",
    "            textposition = \"inside\",\n",
    "            textinfo = \"value+percent previous\"))\n",
    "    \n",
    "    fig.update_layout(\n",
    "    title=\"Воронка событий\",\n",
    "    yaxis_title=\"Название события воронки\",\n",
    "    legend_title=\"Группа\",\n",
    "    legend_orientation=\"h\",\n",
    "    font=dict(\n",
    "        family=\"Courier New, monospace\",\n",
    "        size=12.5,\n",
    "        color=\"RebeccaPurple\"))\n",
    "\n",
    "    fig.show()"
   ]
  },
  {
   "cell_type": "markdown",
   "metadata": {},
   "source": [
    "В первую очередь проведем А/А тест для контрольных групп 246 и 247, чтобы проверить корректность всех механизмов и расчётов.  \n",
    "По воронке видно, что конверсия перехода к следующему событию для обеих групп различается на 1-2%.  \n",
    "Проведя статистический тест, получили, что для всех событий не получилось отвергнуть нулевую гипотезу, поэтому оснований считать доли разными нет. Поэтому можно сказать, что разбиение на группы работает корректно."
   ]
  },
  {
   "cell_type": "code",
   "execution_count": 67,
   "metadata": {},
   "outputs": [
    {
     "data": {
      "text/html": [
       "<div>\n",
       "<style scoped>\n",
       "    .dataframe tbody tr th:only-of-type {\n",
       "        vertical-align: middle;\n",
       "    }\n",
       "\n",
       "    .dataframe tbody tr th {\n",
       "        vertical-align: top;\n",
       "    }\n",
       "\n",
       "    .dataframe thead th {\n",
       "        text-align: right;\n",
       "    }\n",
       "</style>\n",
       "<table border=\"1\" class=\"dataframe\">\n",
       "  <thead>\n",
       "    <tr style=\"text-align: right;\">\n",
       "      <th>exp_id</th>\n",
       "      <th>event_name</th>\n",
       "      <th>246</th>\n",
       "      <th>247</th>\n",
       "      <th>combined</th>\n",
       "      <th>p_246</th>\n",
       "      <th>p_247</th>\n",
       "      <th>difference</th>\n",
       "      <th>z_value</th>\n",
       "      <th>p_value</th>\n",
       "    </tr>\n",
       "  </thead>\n",
       "  <tbody>\n",
       "    <tr>\n",
       "      <th>0</th>\n",
       "      <td>MainScreenAppear</td>\n",
       "      <td>2450</td>\n",
       "      <td>2476</td>\n",
       "      <td>0.986186</td>\n",
       "      <td>0.986710</td>\n",
       "      <td>0.985669</td>\n",
       "      <td>0.001041</td>\n",
       "      <td>0.315120</td>\n",
       "      <td>0.752670</td>\n",
       "    </tr>\n",
       "    <tr>\n",
       "      <th>1</th>\n",
       "      <td>OffersScreenAppear</td>\n",
       "      <td>1542</td>\n",
       "      <td>1520</td>\n",
       "      <td>0.613013</td>\n",
       "      <td>0.621023</td>\n",
       "      <td>0.605096</td>\n",
       "      <td>0.015927</td>\n",
       "      <td>1.155561</td>\n",
       "      <td>0.247861</td>\n",
       "    </tr>\n",
       "    <tr>\n",
       "      <th>2</th>\n",
       "      <td>CartScreenAppear</td>\n",
       "      <td>1266</td>\n",
       "      <td>1238</td>\n",
       "      <td>0.501301</td>\n",
       "      <td>0.509867</td>\n",
       "      <td>0.492834</td>\n",
       "      <td>0.017033</td>\n",
       "      <td>1.203775</td>\n",
       "      <td>0.228676</td>\n",
       "    </tr>\n",
       "    <tr>\n",
       "      <th>3</th>\n",
       "      <td>PaymentScreenSuccessful</td>\n",
       "      <td>1200</td>\n",
       "      <td>1158</td>\n",
       "      <td>0.472072</td>\n",
       "      <td>0.483286</td>\n",
       "      <td>0.460987</td>\n",
       "      <td>0.022299</td>\n",
       "      <td>1.578433</td>\n",
       "      <td>0.114466</td>\n",
       "    </tr>\n",
       "  </tbody>\n",
       "</table>\n",
       "</div>"
      ],
      "text/plain": [
       "exp_id               event_name   246   247  combined     p_246     p_247  \\\n",
       "0              MainScreenAppear  2450  2476  0.986186  0.986710  0.985669   \n",
       "1            OffersScreenAppear  1542  1520  0.613013  0.621023  0.605096   \n",
       "2              CartScreenAppear  1266  1238  0.501301  0.509867  0.492834   \n",
       "3       PaymentScreenSuccessful  1200  1158  0.472072  0.483286  0.460987   \n",
       "\n",
       "exp_id  difference   z_value   p_value  \n",
       "0         0.001041  0.315120  0.752670  \n",
       "1         0.015927  1.155561  0.247861  \n",
       "2         0.017033  1.203775  0.228676  \n",
       "3         0.022299  1.578433  0.114466  "
      ]
     },
     "metadata": {},
     "output_type": "display_data"
    },
    {
     "name": "stdout",
     "output_type": "stream",
     "text": [
      "Для групп 246 и 247 с заданным уровнем значимости 5%\n",
      "\n",
      "MainScreenAppear\n",
      "p-значение: 0.7527\n",
      "Не получилось отвергнуть нулевую гипотезу, нет оснований считать доли разными\n",
      "\n",
      "OffersScreenAppear\n",
      "p-значение: 0.2479\n",
      "Не получилось отвергнуть нулевую гипотезу, нет оснований считать доли разными\n",
      "\n",
      "CartScreenAppear\n",
      "p-значение: 0.2287\n",
      "Не получилось отвергнуть нулевую гипотезу, нет оснований считать доли разными\n",
      "\n",
      "PaymentScreenSuccessful\n",
      "p-значение: 0.1145\n",
      "Не получилось отвергнуть нулевую гипотезу, нет оснований считать доли разными\n",
      "\n"
     ]
    },
    {
     "data": {
      "application/vnd.plotly.v1+json": {
       "config": {
        "plotlyServerURL": "https://plot.ly"
       },
       "data": [
        {
         "name": "246",
         "orientation": "h",
         "textinfo": "value+percent previous",
         "textposition": "inside",
         "type": "funnel",
         "x": [
          2450,
          1542,
          1266,
          1200
         ],
         "y": [
          "MainScreenAppear",
          "OffersScreenAppear",
          "CartScreenAppear",
          "PaymentScreenSuccessful"
         ]
        },
        {
         "name": "247",
         "orientation": "h",
         "textinfo": "value+percent previous",
         "textposition": "inside",
         "type": "funnel",
         "x": [
          2476,
          1520,
          1238,
          1158
         ],
         "y": [
          "MainScreenAppear",
          "OffersScreenAppear",
          "CartScreenAppear",
          "PaymentScreenSuccessful"
         ]
        }
       ],
       "layout": {
        "font": {
         "color": "RebeccaPurple",
         "family": "Courier New, monospace",
         "size": 12.5
        },
        "legend": {
         "orientation": "h",
         "title": {
          "text": "Группа"
         }
        },
        "template": {
         "data": {
          "bar": [
           {
            "error_x": {
             "color": "#2a3f5f"
            },
            "error_y": {
             "color": "#2a3f5f"
            },
            "marker": {
             "line": {
              "color": "#E5ECF6",
              "width": 0.5
             },
             "pattern": {
              "fillmode": "overlay",
              "size": 10,
              "solidity": 0.2
             }
            },
            "type": "bar"
           }
          ],
          "barpolar": [
           {
            "marker": {
             "line": {
              "color": "#E5ECF6",
              "width": 0.5
             },
             "pattern": {
              "fillmode": "overlay",
              "size": 10,
              "solidity": 0.2
             }
            },
            "type": "barpolar"
           }
          ],
          "carpet": [
           {
            "aaxis": {
             "endlinecolor": "#2a3f5f",
             "gridcolor": "white",
             "linecolor": "white",
             "minorgridcolor": "white",
             "startlinecolor": "#2a3f5f"
            },
            "baxis": {
             "endlinecolor": "#2a3f5f",
             "gridcolor": "white",
             "linecolor": "white",
             "minorgridcolor": "white",
             "startlinecolor": "#2a3f5f"
            },
            "type": "carpet"
           }
          ],
          "choropleth": [
           {
            "colorbar": {
             "outlinewidth": 0,
             "ticks": ""
            },
            "type": "choropleth"
           }
          ],
          "contour": [
           {
            "colorbar": {
             "outlinewidth": 0,
             "ticks": ""
            },
            "colorscale": [
             [
              0,
              "#0d0887"
             ],
             [
              0.1111111111111111,
              "#46039f"
             ],
             [
              0.2222222222222222,
              "#7201a8"
             ],
             [
              0.3333333333333333,
              "#9c179e"
             ],
             [
              0.4444444444444444,
              "#bd3786"
             ],
             [
              0.5555555555555556,
              "#d8576b"
             ],
             [
              0.6666666666666666,
              "#ed7953"
             ],
             [
              0.7777777777777778,
              "#fb9f3a"
             ],
             [
              0.8888888888888888,
              "#fdca26"
             ],
             [
              1,
              "#f0f921"
             ]
            ],
            "type": "contour"
           }
          ],
          "contourcarpet": [
           {
            "colorbar": {
             "outlinewidth": 0,
             "ticks": ""
            },
            "type": "contourcarpet"
           }
          ],
          "heatmap": [
           {
            "colorbar": {
             "outlinewidth": 0,
             "ticks": ""
            },
            "colorscale": [
             [
              0,
              "#0d0887"
             ],
             [
              0.1111111111111111,
              "#46039f"
             ],
             [
              0.2222222222222222,
              "#7201a8"
             ],
             [
              0.3333333333333333,
              "#9c179e"
             ],
             [
              0.4444444444444444,
              "#bd3786"
             ],
             [
              0.5555555555555556,
              "#d8576b"
             ],
             [
              0.6666666666666666,
              "#ed7953"
             ],
             [
              0.7777777777777778,
              "#fb9f3a"
             ],
             [
              0.8888888888888888,
              "#fdca26"
             ],
             [
              1,
              "#f0f921"
             ]
            ],
            "type": "heatmap"
           }
          ],
          "heatmapgl": [
           {
            "colorbar": {
             "outlinewidth": 0,
             "ticks": ""
            },
            "colorscale": [
             [
              0,
              "#0d0887"
             ],
             [
              0.1111111111111111,
              "#46039f"
             ],
             [
              0.2222222222222222,
              "#7201a8"
             ],
             [
              0.3333333333333333,
              "#9c179e"
             ],
             [
              0.4444444444444444,
              "#bd3786"
             ],
             [
              0.5555555555555556,
              "#d8576b"
             ],
             [
              0.6666666666666666,
              "#ed7953"
             ],
             [
              0.7777777777777778,
              "#fb9f3a"
             ],
             [
              0.8888888888888888,
              "#fdca26"
             ],
             [
              1,
              "#f0f921"
             ]
            ],
            "type": "heatmapgl"
           }
          ],
          "histogram": [
           {
            "marker": {
             "pattern": {
              "fillmode": "overlay",
              "size": 10,
              "solidity": 0.2
             }
            },
            "type": "histogram"
           }
          ],
          "histogram2d": [
           {
            "colorbar": {
             "outlinewidth": 0,
             "ticks": ""
            },
            "colorscale": [
             [
              0,
              "#0d0887"
             ],
             [
              0.1111111111111111,
              "#46039f"
             ],
             [
              0.2222222222222222,
              "#7201a8"
             ],
             [
              0.3333333333333333,
              "#9c179e"
             ],
             [
              0.4444444444444444,
              "#bd3786"
             ],
             [
              0.5555555555555556,
              "#d8576b"
             ],
             [
              0.6666666666666666,
              "#ed7953"
             ],
             [
              0.7777777777777778,
              "#fb9f3a"
             ],
             [
              0.8888888888888888,
              "#fdca26"
             ],
             [
              1,
              "#f0f921"
             ]
            ],
            "type": "histogram2d"
           }
          ],
          "histogram2dcontour": [
           {
            "colorbar": {
             "outlinewidth": 0,
             "ticks": ""
            },
            "colorscale": [
             [
              0,
              "#0d0887"
             ],
             [
              0.1111111111111111,
              "#46039f"
             ],
             [
              0.2222222222222222,
              "#7201a8"
             ],
             [
              0.3333333333333333,
              "#9c179e"
             ],
             [
              0.4444444444444444,
              "#bd3786"
             ],
             [
              0.5555555555555556,
              "#d8576b"
             ],
             [
              0.6666666666666666,
              "#ed7953"
             ],
             [
              0.7777777777777778,
              "#fb9f3a"
             ],
             [
              0.8888888888888888,
              "#fdca26"
             ],
             [
              1,
              "#f0f921"
             ]
            ],
            "type": "histogram2dcontour"
           }
          ],
          "mesh3d": [
           {
            "colorbar": {
             "outlinewidth": 0,
             "ticks": ""
            },
            "type": "mesh3d"
           }
          ],
          "parcoords": [
           {
            "line": {
             "colorbar": {
              "outlinewidth": 0,
              "ticks": ""
             }
            },
            "type": "parcoords"
           }
          ],
          "pie": [
           {
            "automargin": true,
            "type": "pie"
           }
          ],
          "scatter": [
           {
            "marker": {
             "colorbar": {
              "outlinewidth": 0,
              "ticks": ""
             }
            },
            "type": "scatter"
           }
          ],
          "scatter3d": [
           {
            "line": {
             "colorbar": {
              "outlinewidth": 0,
              "ticks": ""
             }
            },
            "marker": {
             "colorbar": {
              "outlinewidth": 0,
              "ticks": ""
             }
            },
            "type": "scatter3d"
           }
          ],
          "scattercarpet": [
           {
            "marker": {
             "colorbar": {
              "outlinewidth": 0,
              "ticks": ""
             }
            },
            "type": "scattercarpet"
           }
          ],
          "scattergeo": [
           {
            "marker": {
             "colorbar": {
              "outlinewidth": 0,
              "ticks": ""
             }
            },
            "type": "scattergeo"
           }
          ],
          "scattergl": [
           {
            "marker": {
             "colorbar": {
              "outlinewidth": 0,
              "ticks": ""
             }
            },
            "type": "scattergl"
           }
          ],
          "scattermapbox": [
           {
            "marker": {
             "colorbar": {
              "outlinewidth": 0,
              "ticks": ""
             }
            },
            "type": "scattermapbox"
           }
          ],
          "scatterpolar": [
           {
            "marker": {
             "colorbar": {
              "outlinewidth": 0,
              "ticks": ""
             }
            },
            "type": "scatterpolar"
           }
          ],
          "scatterpolargl": [
           {
            "marker": {
             "colorbar": {
              "outlinewidth": 0,
              "ticks": ""
             }
            },
            "type": "scatterpolargl"
           }
          ],
          "scatterternary": [
           {
            "marker": {
             "colorbar": {
              "outlinewidth": 0,
              "ticks": ""
             }
            },
            "type": "scatterternary"
           }
          ],
          "surface": [
           {
            "colorbar": {
             "outlinewidth": 0,
             "ticks": ""
            },
            "colorscale": [
             [
              0,
              "#0d0887"
             ],
             [
              0.1111111111111111,
              "#46039f"
             ],
             [
              0.2222222222222222,
              "#7201a8"
             ],
             [
              0.3333333333333333,
              "#9c179e"
             ],
             [
              0.4444444444444444,
              "#bd3786"
             ],
             [
              0.5555555555555556,
              "#d8576b"
             ],
             [
              0.6666666666666666,
              "#ed7953"
             ],
             [
              0.7777777777777778,
              "#fb9f3a"
             ],
             [
              0.8888888888888888,
              "#fdca26"
             ],
             [
              1,
              "#f0f921"
             ]
            ],
            "type": "surface"
           }
          ],
          "table": [
           {
            "cells": {
             "fill": {
              "color": "#EBF0F8"
             },
             "line": {
              "color": "white"
             }
            },
            "header": {
             "fill": {
              "color": "#C8D4E3"
             },
             "line": {
              "color": "white"
             }
            },
            "type": "table"
           }
          ]
         },
         "layout": {
          "annotationdefaults": {
           "arrowcolor": "#2a3f5f",
           "arrowhead": 0,
           "arrowwidth": 1
          },
          "autotypenumbers": "strict",
          "coloraxis": {
           "colorbar": {
            "outlinewidth": 0,
            "ticks": ""
           }
          },
          "colorscale": {
           "diverging": [
            [
             0,
             "#8e0152"
            ],
            [
             0.1,
             "#c51b7d"
            ],
            [
             0.2,
             "#de77ae"
            ],
            [
             0.3,
             "#f1b6da"
            ],
            [
             0.4,
             "#fde0ef"
            ],
            [
             0.5,
             "#f7f7f7"
            ],
            [
             0.6,
             "#e6f5d0"
            ],
            [
             0.7,
             "#b8e186"
            ],
            [
             0.8,
             "#7fbc41"
            ],
            [
             0.9,
             "#4d9221"
            ],
            [
             1,
             "#276419"
            ]
           ],
           "sequential": [
            [
             0,
             "#0d0887"
            ],
            [
             0.1111111111111111,
             "#46039f"
            ],
            [
             0.2222222222222222,
             "#7201a8"
            ],
            [
             0.3333333333333333,
             "#9c179e"
            ],
            [
             0.4444444444444444,
             "#bd3786"
            ],
            [
             0.5555555555555556,
             "#d8576b"
            ],
            [
             0.6666666666666666,
             "#ed7953"
            ],
            [
             0.7777777777777778,
             "#fb9f3a"
            ],
            [
             0.8888888888888888,
             "#fdca26"
            ],
            [
             1,
             "#f0f921"
            ]
           ],
           "sequentialminus": [
            [
             0,
             "#0d0887"
            ],
            [
             0.1111111111111111,
             "#46039f"
            ],
            [
             0.2222222222222222,
             "#7201a8"
            ],
            [
             0.3333333333333333,
             "#9c179e"
            ],
            [
             0.4444444444444444,
             "#bd3786"
            ],
            [
             0.5555555555555556,
             "#d8576b"
            ],
            [
             0.6666666666666666,
             "#ed7953"
            ],
            [
             0.7777777777777778,
             "#fb9f3a"
            ],
            [
             0.8888888888888888,
             "#fdca26"
            ],
            [
             1,
             "#f0f921"
            ]
           ]
          },
          "colorway": [
           "#636efa",
           "#EF553B",
           "#00cc96",
           "#ab63fa",
           "#FFA15A",
           "#19d3f3",
           "#FF6692",
           "#B6E880",
           "#FF97FF",
           "#FECB52"
          ],
          "font": {
           "color": "#2a3f5f"
          },
          "geo": {
           "bgcolor": "white",
           "lakecolor": "white",
           "landcolor": "#E5ECF6",
           "showlakes": true,
           "showland": true,
           "subunitcolor": "white"
          },
          "hoverlabel": {
           "align": "left"
          },
          "hovermode": "closest",
          "mapbox": {
           "style": "light"
          },
          "paper_bgcolor": "white",
          "plot_bgcolor": "#E5ECF6",
          "polar": {
           "angularaxis": {
            "gridcolor": "white",
            "linecolor": "white",
            "ticks": ""
           },
           "bgcolor": "#E5ECF6",
           "radialaxis": {
            "gridcolor": "white",
            "linecolor": "white",
            "ticks": ""
           }
          },
          "scene": {
           "xaxis": {
            "backgroundcolor": "#E5ECF6",
            "gridcolor": "white",
            "gridwidth": 2,
            "linecolor": "white",
            "showbackground": true,
            "ticks": "",
            "zerolinecolor": "white"
           },
           "yaxis": {
            "backgroundcolor": "#E5ECF6",
            "gridcolor": "white",
            "gridwidth": 2,
            "linecolor": "white",
            "showbackground": true,
            "ticks": "",
            "zerolinecolor": "white"
           },
           "zaxis": {
            "backgroundcolor": "#E5ECF6",
            "gridcolor": "white",
            "gridwidth": 2,
            "linecolor": "white",
            "showbackground": true,
            "ticks": "",
            "zerolinecolor": "white"
           }
          },
          "shapedefaults": {
           "line": {
            "color": "#2a3f5f"
           }
          },
          "ternary": {
           "aaxis": {
            "gridcolor": "white",
            "linecolor": "white",
            "ticks": ""
           },
           "baxis": {
            "gridcolor": "white",
            "linecolor": "white",
            "ticks": ""
           },
           "bgcolor": "#E5ECF6",
           "caxis": {
            "gridcolor": "white",
            "linecolor": "white",
            "ticks": ""
           }
          },
          "title": {
           "x": 0.05
          },
          "xaxis": {
           "automargin": true,
           "gridcolor": "white",
           "linecolor": "white",
           "ticks": "",
           "title": {
            "standoff": 15
           },
           "zerolinecolor": "white",
           "zerolinewidth": 2
          },
          "yaxis": {
           "automargin": true,
           "gridcolor": "white",
           "linecolor": "white",
           "ticks": "",
           "title": {
            "standoff": 15
           },
           "zerolinecolor": "white",
           "zerolinewidth": 2
          }
         }
        },
        "title": {
         "text": "Воронка событий"
        },
        "yaxis": {
         "title": {
          "text": "Название события воронки"
         }
        }
       }
      },
      "text/html": [
       "<div>                            <div id=\"f5716f6a-dd21-4259-a0f3-e44db0b53e2d\" class=\"plotly-graph-div\" style=\"height:525px; width:100%;\"></div>            <script type=\"text/javascript\">                require([\"plotly\"], function(Plotly) {                    window.PLOTLYENV=window.PLOTLYENV || {};                                    if (document.getElementById(\"f5716f6a-dd21-4259-a0f3-e44db0b53e2d\")) {                    Plotly.newPlot(                        \"f5716f6a-dd21-4259-a0f3-e44db0b53e2d\",                        [{\"name\":\"246\",\"orientation\":\"h\",\"textinfo\":\"value+percent previous\",\"textposition\":\"inside\",\"x\":[2450,1542,1266,1200],\"y\":[\"MainScreenAppear\",\"OffersScreenAppear\",\"CartScreenAppear\",\"PaymentScreenSuccessful\"],\"type\":\"funnel\"},{\"name\":\"247\",\"orientation\":\"h\",\"textinfo\":\"value+percent previous\",\"textposition\":\"inside\",\"x\":[2476,1520,1238,1158],\"y\":[\"MainScreenAppear\",\"OffersScreenAppear\",\"CartScreenAppear\",\"PaymentScreenSuccessful\"],\"type\":\"funnel\"}],                        {\"template\":{\"data\":{\"bar\":[{\"error_x\":{\"color\":\"#2a3f5f\"},\"error_y\":{\"color\":\"#2a3f5f\"},\"marker\":{\"line\":{\"color\":\"#E5ECF6\",\"width\":0.5},\"pattern\":{\"fillmode\":\"overlay\",\"size\":10,\"solidity\":0.2}},\"type\":\"bar\"}],\"barpolar\":[{\"marker\":{\"line\":{\"color\":\"#E5ECF6\",\"width\":0.5},\"pattern\":{\"fillmode\":\"overlay\",\"size\":10,\"solidity\":0.2}},\"type\":\"barpolar\"}],\"carpet\":[{\"aaxis\":{\"endlinecolor\":\"#2a3f5f\",\"gridcolor\":\"white\",\"linecolor\":\"white\",\"minorgridcolor\":\"white\",\"startlinecolor\":\"#2a3f5f\"},\"baxis\":{\"endlinecolor\":\"#2a3f5f\",\"gridcolor\":\"white\",\"linecolor\":\"white\",\"minorgridcolor\":\"white\",\"startlinecolor\":\"#2a3f5f\"},\"type\":\"carpet\"}],\"choropleth\":[{\"colorbar\":{\"outlinewidth\":0,\"ticks\":\"\"},\"type\":\"choropleth\"}],\"contour\":[{\"colorbar\":{\"outlinewidth\":0,\"ticks\":\"\"},\"colorscale\":[[0.0,\"#0d0887\"],[0.1111111111111111,\"#46039f\"],[0.2222222222222222,\"#7201a8\"],[0.3333333333333333,\"#9c179e\"],[0.4444444444444444,\"#bd3786\"],[0.5555555555555556,\"#d8576b\"],[0.6666666666666666,\"#ed7953\"],[0.7777777777777778,\"#fb9f3a\"],[0.8888888888888888,\"#fdca26\"],[1.0,\"#f0f921\"]],\"type\":\"contour\"}],\"contourcarpet\":[{\"colorbar\":{\"outlinewidth\":0,\"ticks\":\"\"},\"type\":\"contourcarpet\"}],\"heatmap\":[{\"colorbar\":{\"outlinewidth\":0,\"ticks\":\"\"},\"colorscale\":[[0.0,\"#0d0887\"],[0.1111111111111111,\"#46039f\"],[0.2222222222222222,\"#7201a8\"],[0.3333333333333333,\"#9c179e\"],[0.4444444444444444,\"#bd3786\"],[0.5555555555555556,\"#d8576b\"],[0.6666666666666666,\"#ed7953\"],[0.7777777777777778,\"#fb9f3a\"],[0.8888888888888888,\"#fdca26\"],[1.0,\"#f0f921\"]],\"type\":\"heatmap\"}],\"heatmapgl\":[{\"colorbar\":{\"outlinewidth\":0,\"ticks\":\"\"},\"colorscale\":[[0.0,\"#0d0887\"],[0.1111111111111111,\"#46039f\"],[0.2222222222222222,\"#7201a8\"],[0.3333333333333333,\"#9c179e\"],[0.4444444444444444,\"#bd3786\"],[0.5555555555555556,\"#d8576b\"],[0.6666666666666666,\"#ed7953\"],[0.7777777777777778,\"#fb9f3a\"],[0.8888888888888888,\"#fdca26\"],[1.0,\"#f0f921\"]],\"type\":\"heatmapgl\"}],\"histogram\":[{\"marker\":{\"pattern\":{\"fillmode\":\"overlay\",\"size\":10,\"solidity\":0.2}},\"type\":\"histogram\"}],\"histogram2d\":[{\"colorbar\":{\"outlinewidth\":0,\"ticks\":\"\"},\"colorscale\":[[0.0,\"#0d0887\"],[0.1111111111111111,\"#46039f\"],[0.2222222222222222,\"#7201a8\"],[0.3333333333333333,\"#9c179e\"],[0.4444444444444444,\"#bd3786\"],[0.5555555555555556,\"#d8576b\"],[0.6666666666666666,\"#ed7953\"],[0.7777777777777778,\"#fb9f3a\"],[0.8888888888888888,\"#fdca26\"],[1.0,\"#f0f921\"]],\"type\":\"histogram2d\"}],\"histogram2dcontour\":[{\"colorbar\":{\"outlinewidth\":0,\"ticks\":\"\"},\"colorscale\":[[0.0,\"#0d0887\"],[0.1111111111111111,\"#46039f\"],[0.2222222222222222,\"#7201a8\"],[0.3333333333333333,\"#9c179e\"],[0.4444444444444444,\"#bd3786\"],[0.5555555555555556,\"#d8576b\"],[0.6666666666666666,\"#ed7953\"],[0.7777777777777778,\"#fb9f3a\"],[0.8888888888888888,\"#fdca26\"],[1.0,\"#f0f921\"]],\"type\":\"histogram2dcontour\"}],\"mesh3d\":[{\"colorbar\":{\"outlinewidth\":0,\"ticks\":\"\"},\"type\":\"mesh3d\"}],\"parcoords\":[{\"line\":{\"colorbar\":{\"outlinewidth\":0,\"ticks\":\"\"}},\"type\":\"parcoords\"}],\"pie\":[{\"automargin\":true,\"type\":\"pie\"}],\"scatter\":[{\"marker\":{\"colorbar\":{\"outlinewidth\":0,\"ticks\":\"\"}},\"type\":\"scatter\"}],\"scatter3d\":[{\"line\":{\"colorbar\":{\"outlinewidth\":0,\"ticks\":\"\"}},\"marker\":{\"colorbar\":{\"outlinewidth\":0,\"ticks\":\"\"}},\"type\":\"scatter3d\"}],\"scattercarpet\":[{\"marker\":{\"colorbar\":{\"outlinewidth\":0,\"ticks\":\"\"}},\"type\":\"scattercarpet\"}],\"scattergeo\":[{\"marker\":{\"colorbar\":{\"outlinewidth\":0,\"ticks\":\"\"}},\"type\":\"scattergeo\"}],\"scattergl\":[{\"marker\":{\"colorbar\":{\"outlinewidth\":0,\"ticks\":\"\"}},\"type\":\"scattergl\"}],\"scattermapbox\":[{\"marker\":{\"colorbar\":{\"outlinewidth\":0,\"ticks\":\"\"}},\"type\":\"scattermapbox\"}],\"scatterpolar\":[{\"marker\":{\"colorbar\":{\"outlinewidth\":0,\"ticks\":\"\"}},\"type\":\"scatterpolar\"}],\"scatterpolargl\":[{\"marker\":{\"colorbar\":{\"outlinewidth\":0,\"ticks\":\"\"}},\"type\":\"scatterpolargl\"}],\"scatterternary\":[{\"marker\":{\"colorbar\":{\"outlinewidth\":0,\"ticks\":\"\"}},\"type\":\"scatterternary\"}],\"surface\":[{\"colorbar\":{\"outlinewidth\":0,\"ticks\":\"\"},\"colorscale\":[[0.0,\"#0d0887\"],[0.1111111111111111,\"#46039f\"],[0.2222222222222222,\"#7201a8\"],[0.3333333333333333,\"#9c179e\"],[0.4444444444444444,\"#bd3786\"],[0.5555555555555556,\"#d8576b\"],[0.6666666666666666,\"#ed7953\"],[0.7777777777777778,\"#fb9f3a\"],[0.8888888888888888,\"#fdca26\"],[1.0,\"#f0f921\"]],\"type\":\"surface\"}],\"table\":[{\"cells\":{\"fill\":{\"color\":\"#EBF0F8\"},\"line\":{\"color\":\"white\"}},\"header\":{\"fill\":{\"color\":\"#C8D4E3\"},\"line\":{\"color\":\"white\"}},\"type\":\"table\"}]},\"layout\":{\"annotationdefaults\":{\"arrowcolor\":\"#2a3f5f\",\"arrowhead\":0,\"arrowwidth\":1},\"autotypenumbers\":\"strict\",\"coloraxis\":{\"colorbar\":{\"outlinewidth\":0,\"ticks\":\"\"}},\"colorscale\":{\"diverging\":[[0,\"#8e0152\"],[0.1,\"#c51b7d\"],[0.2,\"#de77ae\"],[0.3,\"#f1b6da\"],[0.4,\"#fde0ef\"],[0.5,\"#f7f7f7\"],[0.6,\"#e6f5d0\"],[0.7,\"#b8e186\"],[0.8,\"#7fbc41\"],[0.9,\"#4d9221\"],[1,\"#276419\"]],\"sequential\":[[0.0,\"#0d0887\"],[0.1111111111111111,\"#46039f\"],[0.2222222222222222,\"#7201a8\"],[0.3333333333333333,\"#9c179e\"],[0.4444444444444444,\"#bd3786\"],[0.5555555555555556,\"#d8576b\"],[0.6666666666666666,\"#ed7953\"],[0.7777777777777778,\"#fb9f3a\"],[0.8888888888888888,\"#fdca26\"],[1.0,\"#f0f921\"]],\"sequentialminus\":[[0.0,\"#0d0887\"],[0.1111111111111111,\"#46039f\"],[0.2222222222222222,\"#7201a8\"],[0.3333333333333333,\"#9c179e\"],[0.4444444444444444,\"#bd3786\"],[0.5555555555555556,\"#d8576b\"],[0.6666666666666666,\"#ed7953\"],[0.7777777777777778,\"#fb9f3a\"],[0.8888888888888888,\"#fdca26\"],[1.0,\"#f0f921\"]]},\"colorway\":[\"#636efa\",\"#EF553B\",\"#00cc96\",\"#ab63fa\",\"#FFA15A\",\"#19d3f3\",\"#FF6692\",\"#B6E880\",\"#FF97FF\",\"#FECB52\"],\"font\":{\"color\":\"#2a3f5f\"},\"geo\":{\"bgcolor\":\"white\",\"lakecolor\":\"white\",\"landcolor\":\"#E5ECF6\",\"showlakes\":true,\"showland\":true,\"subunitcolor\":\"white\"},\"hoverlabel\":{\"align\":\"left\"},\"hovermode\":\"closest\",\"mapbox\":{\"style\":\"light\"},\"paper_bgcolor\":\"white\",\"plot_bgcolor\":\"#E5ECF6\",\"polar\":{\"angularaxis\":{\"gridcolor\":\"white\",\"linecolor\":\"white\",\"ticks\":\"\"},\"bgcolor\":\"#E5ECF6\",\"radialaxis\":{\"gridcolor\":\"white\",\"linecolor\":\"white\",\"ticks\":\"\"}},\"scene\":{\"xaxis\":{\"backgroundcolor\":\"#E5ECF6\",\"gridcolor\":\"white\",\"gridwidth\":2,\"linecolor\":\"white\",\"showbackground\":true,\"ticks\":\"\",\"zerolinecolor\":\"white\"},\"yaxis\":{\"backgroundcolor\":\"#E5ECF6\",\"gridcolor\":\"white\",\"gridwidth\":2,\"linecolor\":\"white\",\"showbackground\":true,\"ticks\":\"\",\"zerolinecolor\":\"white\"},\"zaxis\":{\"backgroundcolor\":\"#E5ECF6\",\"gridcolor\":\"white\",\"gridwidth\":2,\"linecolor\":\"white\",\"showbackground\":true,\"ticks\":\"\",\"zerolinecolor\":\"white\"}},\"shapedefaults\":{\"line\":{\"color\":\"#2a3f5f\"}},\"ternary\":{\"aaxis\":{\"gridcolor\":\"white\",\"linecolor\":\"white\",\"ticks\":\"\"},\"baxis\":{\"gridcolor\":\"white\",\"linecolor\":\"white\",\"ticks\":\"\"},\"bgcolor\":\"#E5ECF6\",\"caxis\":{\"gridcolor\":\"white\",\"linecolor\":\"white\",\"ticks\":\"\"}},\"title\":{\"x\":0.05},\"xaxis\":{\"automargin\":true,\"gridcolor\":\"white\",\"linecolor\":\"white\",\"ticks\":\"\",\"title\":{\"standoff\":15},\"zerolinecolor\":\"white\",\"zerolinewidth\":2},\"yaxis\":{\"automargin\":true,\"gridcolor\":\"white\",\"linecolor\":\"white\",\"ticks\":\"\",\"title\":{\"standoff\":15},\"zerolinecolor\":\"white\",\"zerolinewidth\":2}}},\"legend\":{\"title\":{\"text\":\"\\u0413\\u0440\\u0443\\u043f\\u043f\\u0430\"},\"orientation\":\"h\"},\"font\":{\"family\":\"Courier New, monospace\",\"size\":12.5,\"color\":\"RebeccaPurple\"},\"title\":{\"text\":\"\\u0412\\u043e\\u0440\\u043e\\u043d\\u043a\\u0430 \\u0441\\u043e\\u0431\\u044b\\u0442\\u0438\\u0439\"},\"yaxis\":{\"title\":{\"text\":\"\\u041d\\u0430\\u0437\\u0432\\u0430\\u043d\\u0438\\u0435 \\u0441\\u043e\\u0431\\u044b\\u0442\\u0438\\u044f \\u0432\\u043e\\u0440\\u043e\\u043d\\u043a\\u0438\"}}},                        {\"responsive\": true}                    ).then(function(){\n",
       "                            \n",
       "var gd = document.getElementById('f5716f6a-dd21-4259-a0f3-e44db0b53e2d');\n",
       "var x = new MutationObserver(function (mutations, observer) {{\n",
       "        var display = window.getComputedStyle(gd).display;\n",
       "        if (!display || display === 'none') {{\n",
       "            console.log([gd, 'removed!']);\n",
       "            Plotly.purge(gd);\n",
       "            observer.disconnect();\n",
       "        }}\n",
       "}});\n",
       "\n",
       "// Listen for the removal of the full notebook cells\n",
       "var notebookContainer = gd.closest('#notebook-container');\n",
       "if (notebookContainer) {{\n",
       "    x.observe(notebookContainer, {childList: true});\n",
       "}}\n",
       "\n",
       "// Listen for the clearing of the current output cell\n",
       "var outputEl = gd.closest('.output');\n",
       "if (outputEl) {{\n",
       "    x.observe(outputEl, {childList: true});\n",
       "}}\n",
       "\n",
       "                        })                };                });            </script>        </div>"
      ]
     },
     "metadata": {},
     "output_type": "display_data"
    }
   ],
   "source": [
    "stat_difference(246, 247, 0.05, data(246, 247))\n",
    "funnel(246, 247, data(246, 247))"
   ]
  },
  {
   "cell_type": "markdown",
   "metadata": {},
   "source": [
    "Теперь проверим контрольную 246 группу и эксперементальную 248 группу. Разница в конверсии составляет также 1-2%.  \n",
    "После проверки гипотез значимых различий между событиями двух групп также не выявлено."
   ]
  },
  {
   "cell_type": "code",
   "execution_count": 68,
   "metadata": {},
   "outputs": [
    {
     "data": {
      "text/html": [
       "<div>\n",
       "<style scoped>\n",
       "    .dataframe tbody tr th:only-of-type {\n",
       "        vertical-align: middle;\n",
       "    }\n",
       "\n",
       "    .dataframe tbody tr th {\n",
       "        vertical-align: top;\n",
       "    }\n",
       "\n",
       "    .dataframe thead th {\n",
       "        text-align: right;\n",
       "    }\n",
       "</style>\n",
       "<table border=\"1\" class=\"dataframe\">\n",
       "  <thead>\n",
       "    <tr style=\"text-align: right;\">\n",
       "      <th>exp_id</th>\n",
       "      <th>event_name</th>\n",
       "      <th>246</th>\n",
       "      <th>248</th>\n",
       "      <th>combined</th>\n",
       "      <th>p_246</th>\n",
       "      <th>p_248</th>\n",
       "      <th>difference</th>\n",
       "      <th>z_value</th>\n",
       "      <th>p_value</th>\n",
       "    </tr>\n",
       "  </thead>\n",
       "  <tbody>\n",
       "    <tr>\n",
       "      <th>0</th>\n",
       "      <td>MainScreenAppear</td>\n",
       "      <td>2450</td>\n",
       "      <td>2493</td>\n",
       "      <td>0.985054</td>\n",
       "      <td>0.986710</td>\n",
       "      <td>0.983432</td>\n",
       "      <td>0.003278</td>\n",
       "      <td>0.956714</td>\n",
       "      <td>0.338711</td>\n",
       "    </tr>\n",
       "    <tr>\n",
       "      <th>1</th>\n",
       "      <td>OffersScreenAppear</td>\n",
       "      <td>1542</td>\n",
       "      <td>1531</td>\n",
       "      <td>0.612395</td>\n",
       "      <td>0.621023</td>\n",
       "      <td>0.603945</td>\n",
       "      <td>0.017078</td>\n",
       "      <td>1.241490</td>\n",
       "      <td>0.214425</td>\n",
       "    </tr>\n",
       "    <tr>\n",
       "      <th>2</th>\n",
       "      <td>CartScreenAppear</td>\n",
       "      <td>1266</td>\n",
       "      <td>1230</td>\n",
       "      <td>0.497409</td>\n",
       "      <td>0.509867</td>\n",
       "      <td>0.485207</td>\n",
       "      <td>0.024660</td>\n",
       "      <td>1.746791</td>\n",
       "      <td>0.080674</td>\n",
       "    </tr>\n",
       "    <tr>\n",
       "      <th>3</th>\n",
       "      <td>PaymentScreenSuccessful</td>\n",
       "      <td>1200</td>\n",
       "      <td>1181</td>\n",
       "      <td>0.474492</td>\n",
       "      <td>0.483286</td>\n",
       "      <td>0.465878</td>\n",
       "      <td>0.017409</td>\n",
       "      <td>1.234732</td>\n",
       "      <td>0.216930</td>\n",
       "    </tr>\n",
       "  </tbody>\n",
       "</table>\n",
       "</div>"
      ],
      "text/plain": [
       "exp_id               event_name   246   248  combined     p_246     p_248  \\\n",
       "0              MainScreenAppear  2450  2493  0.985054  0.986710  0.983432   \n",
       "1            OffersScreenAppear  1542  1531  0.612395  0.621023  0.603945   \n",
       "2              CartScreenAppear  1266  1230  0.497409  0.509867  0.485207   \n",
       "3       PaymentScreenSuccessful  1200  1181  0.474492  0.483286  0.465878   \n",
       "\n",
       "exp_id  difference   z_value   p_value  \n",
       "0         0.003278  0.956714  0.338711  \n",
       "1         0.017078  1.241490  0.214425  \n",
       "2         0.024660  1.746791  0.080674  \n",
       "3         0.017409  1.234732  0.216930  "
      ]
     },
     "metadata": {},
     "output_type": "display_data"
    },
    {
     "name": "stdout",
     "output_type": "stream",
     "text": [
      "Для групп 246 и 248 с заданным уровнем значимости 5%\n",
      "\n",
      "MainScreenAppear\n",
      "p-значение: 0.3387\n",
      "Не получилось отвергнуть нулевую гипотезу, нет оснований считать доли разными\n",
      "\n",
      "OffersScreenAppear\n",
      "p-значение: 0.2144\n",
      "Не получилось отвергнуть нулевую гипотезу, нет оснований считать доли разными\n",
      "\n",
      "CartScreenAppear\n",
      "p-значение: 0.0807\n",
      "Не получилось отвергнуть нулевую гипотезу, нет оснований считать доли разными\n",
      "\n",
      "PaymentScreenSuccessful\n",
      "p-значение: 0.2169\n",
      "Не получилось отвергнуть нулевую гипотезу, нет оснований считать доли разными\n",
      "\n"
     ]
    },
    {
     "data": {
      "application/vnd.plotly.v1+json": {
       "config": {
        "plotlyServerURL": "https://plot.ly"
       },
       "data": [
        {
         "name": "246",
         "orientation": "h",
         "textinfo": "value+percent previous",
         "textposition": "inside",
         "type": "funnel",
         "x": [
          2450,
          1542,
          1266,
          1200
         ],
         "y": [
          "MainScreenAppear",
          "OffersScreenAppear",
          "CartScreenAppear",
          "PaymentScreenSuccessful"
         ]
        },
        {
         "name": "248",
         "orientation": "h",
         "textinfo": "value+percent previous",
         "textposition": "inside",
         "type": "funnel",
         "x": [
          2493,
          1531,
          1230,
          1181
         ],
         "y": [
          "MainScreenAppear",
          "OffersScreenAppear",
          "CartScreenAppear",
          "PaymentScreenSuccessful"
         ]
        }
       ],
       "layout": {
        "font": {
         "color": "RebeccaPurple",
         "family": "Courier New, monospace",
         "size": 12.5
        },
        "legend": {
         "orientation": "h",
         "title": {
          "text": "Группа"
         }
        },
        "template": {
         "data": {
          "bar": [
           {
            "error_x": {
             "color": "#2a3f5f"
            },
            "error_y": {
             "color": "#2a3f5f"
            },
            "marker": {
             "line": {
              "color": "#E5ECF6",
              "width": 0.5
             },
             "pattern": {
              "fillmode": "overlay",
              "size": 10,
              "solidity": 0.2
             }
            },
            "type": "bar"
           }
          ],
          "barpolar": [
           {
            "marker": {
             "line": {
              "color": "#E5ECF6",
              "width": 0.5
             },
             "pattern": {
              "fillmode": "overlay",
              "size": 10,
              "solidity": 0.2
             }
            },
            "type": "barpolar"
           }
          ],
          "carpet": [
           {
            "aaxis": {
             "endlinecolor": "#2a3f5f",
             "gridcolor": "white",
             "linecolor": "white",
             "minorgridcolor": "white",
             "startlinecolor": "#2a3f5f"
            },
            "baxis": {
             "endlinecolor": "#2a3f5f",
             "gridcolor": "white",
             "linecolor": "white",
             "minorgridcolor": "white",
             "startlinecolor": "#2a3f5f"
            },
            "type": "carpet"
           }
          ],
          "choropleth": [
           {
            "colorbar": {
             "outlinewidth": 0,
             "ticks": ""
            },
            "type": "choropleth"
           }
          ],
          "contour": [
           {
            "colorbar": {
             "outlinewidth": 0,
             "ticks": ""
            },
            "colorscale": [
             [
              0,
              "#0d0887"
             ],
             [
              0.1111111111111111,
              "#46039f"
             ],
             [
              0.2222222222222222,
              "#7201a8"
             ],
             [
              0.3333333333333333,
              "#9c179e"
             ],
             [
              0.4444444444444444,
              "#bd3786"
             ],
             [
              0.5555555555555556,
              "#d8576b"
             ],
             [
              0.6666666666666666,
              "#ed7953"
             ],
             [
              0.7777777777777778,
              "#fb9f3a"
             ],
             [
              0.8888888888888888,
              "#fdca26"
             ],
             [
              1,
              "#f0f921"
             ]
            ],
            "type": "contour"
           }
          ],
          "contourcarpet": [
           {
            "colorbar": {
             "outlinewidth": 0,
             "ticks": ""
            },
            "type": "contourcarpet"
           }
          ],
          "heatmap": [
           {
            "colorbar": {
             "outlinewidth": 0,
             "ticks": ""
            },
            "colorscale": [
             [
              0,
              "#0d0887"
             ],
             [
              0.1111111111111111,
              "#46039f"
             ],
             [
              0.2222222222222222,
              "#7201a8"
             ],
             [
              0.3333333333333333,
              "#9c179e"
             ],
             [
              0.4444444444444444,
              "#bd3786"
             ],
             [
              0.5555555555555556,
              "#d8576b"
             ],
             [
              0.6666666666666666,
              "#ed7953"
             ],
             [
              0.7777777777777778,
              "#fb9f3a"
             ],
             [
              0.8888888888888888,
              "#fdca26"
             ],
             [
              1,
              "#f0f921"
             ]
            ],
            "type": "heatmap"
           }
          ],
          "heatmapgl": [
           {
            "colorbar": {
             "outlinewidth": 0,
             "ticks": ""
            },
            "colorscale": [
             [
              0,
              "#0d0887"
             ],
             [
              0.1111111111111111,
              "#46039f"
             ],
             [
              0.2222222222222222,
              "#7201a8"
             ],
             [
              0.3333333333333333,
              "#9c179e"
             ],
             [
              0.4444444444444444,
              "#bd3786"
             ],
             [
              0.5555555555555556,
              "#d8576b"
             ],
             [
              0.6666666666666666,
              "#ed7953"
             ],
             [
              0.7777777777777778,
              "#fb9f3a"
             ],
             [
              0.8888888888888888,
              "#fdca26"
             ],
             [
              1,
              "#f0f921"
             ]
            ],
            "type": "heatmapgl"
           }
          ],
          "histogram": [
           {
            "marker": {
             "pattern": {
              "fillmode": "overlay",
              "size": 10,
              "solidity": 0.2
             }
            },
            "type": "histogram"
           }
          ],
          "histogram2d": [
           {
            "colorbar": {
             "outlinewidth": 0,
             "ticks": ""
            },
            "colorscale": [
             [
              0,
              "#0d0887"
             ],
             [
              0.1111111111111111,
              "#46039f"
             ],
             [
              0.2222222222222222,
              "#7201a8"
             ],
             [
              0.3333333333333333,
              "#9c179e"
             ],
             [
              0.4444444444444444,
              "#bd3786"
             ],
             [
              0.5555555555555556,
              "#d8576b"
             ],
             [
              0.6666666666666666,
              "#ed7953"
             ],
             [
              0.7777777777777778,
              "#fb9f3a"
             ],
             [
              0.8888888888888888,
              "#fdca26"
             ],
             [
              1,
              "#f0f921"
             ]
            ],
            "type": "histogram2d"
           }
          ],
          "histogram2dcontour": [
           {
            "colorbar": {
             "outlinewidth": 0,
             "ticks": ""
            },
            "colorscale": [
             [
              0,
              "#0d0887"
             ],
             [
              0.1111111111111111,
              "#46039f"
             ],
             [
              0.2222222222222222,
              "#7201a8"
             ],
             [
              0.3333333333333333,
              "#9c179e"
             ],
             [
              0.4444444444444444,
              "#bd3786"
             ],
             [
              0.5555555555555556,
              "#d8576b"
             ],
             [
              0.6666666666666666,
              "#ed7953"
             ],
             [
              0.7777777777777778,
              "#fb9f3a"
             ],
             [
              0.8888888888888888,
              "#fdca26"
             ],
             [
              1,
              "#f0f921"
             ]
            ],
            "type": "histogram2dcontour"
           }
          ],
          "mesh3d": [
           {
            "colorbar": {
             "outlinewidth": 0,
             "ticks": ""
            },
            "type": "mesh3d"
           }
          ],
          "parcoords": [
           {
            "line": {
             "colorbar": {
              "outlinewidth": 0,
              "ticks": ""
             }
            },
            "type": "parcoords"
           }
          ],
          "pie": [
           {
            "automargin": true,
            "type": "pie"
           }
          ],
          "scatter": [
           {
            "marker": {
             "colorbar": {
              "outlinewidth": 0,
              "ticks": ""
             }
            },
            "type": "scatter"
           }
          ],
          "scatter3d": [
           {
            "line": {
             "colorbar": {
              "outlinewidth": 0,
              "ticks": ""
             }
            },
            "marker": {
             "colorbar": {
              "outlinewidth": 0,
              "ticks": ""
             }
            },
            "type": "scatter3d"
           }
          ],
          "scattercarpet": [
           {
            "marker": {
             "colorbar": {
              "outlinewidth": 0,
              "ticks": ""
             }
            },
            "type": "scattercarpet"
           }
          ],
          "scattergeo": [
           {
            "marker": {
             "colorbar": {
              "outlinewidth": 0,
              "ticks": ""
             }
            },
            "type": "scattergeo"
           }
          ],
          "scattergl": [
           {
            "marker": {
             "colorbar": {
              "outlinewidth": 0,
              "ticks": ""
             }
            },
            "type": "scattergl"
           }
          ],
          "scattermapbox": [
           {
            "marker": {
             "colorbar": {
              "outlinewidth": 0,
              "ticks": ""
             }
            },
            "type": "scattermapbox"
           }
          ],
          "scatterpolar": [
           {
            "marker": {
             "colorbar": {
              "outlinewidth": 0,
              "ticks": ""
             }
            },
            "type": "scatterpolar"
           }
          ],
          "scatterpolargl": [
           {
            "marker": {
             "colorbar": {
              "outlinewidth": 0,
              "ticks": ""
             }
            },
            "type": "scatterpolargl"
           }
          ],
          "scatterternary": [
           {
            "marker": {
             "colorbar": {
              "outlinewidth": 0,
              "ticks": ""
             }
            },
            "type": "scatterternary"
           }
          ],
          "surface": [
           {
            "colorbar": {
             "outlinewidth": 0,
             "ticks": ""
            },
            "colorscale": [
             [
              0,
              "#0d0887"
             ],
             [
              0.1111111111111111,
              "#46039f"
             ],
             [
              0.2222222222222222,
              "#7201a8"
             ],
             [
              0.3333333333333333,
              "#9c179e"
             ],
             [
              0.4444444444444444,
              "#bd3786"
             ],
             [
              0.5555555555555556,
              "#d8576b"
             ],
             [
              0.6666666666666666,
              "#ed7953"
             ],
             [
              0.7777777777777778,
              "#fb9f3a"
             ],
             [
              0.8888888888888888,
              "#fdca26"
             ],
             [
              1,
              "#f0f921"
             ]
            ],
            "type": "surface"
           }
          ],
          "table": [
           {
            "cells": {
             "fill": {
              "color": "#EBF0F8"
             },
             "line": {
              "color": "white"
             }
            },
            "header": {
             "fill": {
              "color": "#C8D4E3"
             },
             "line": {
              "color": "white"
             }
            },
            "type": "table"
           }
          ]
         },
         "layout": {
          "annotationdefaults": {
           "arrowcolor": "#2a3f5f",
           "arrowhead": 0,
           "arrowwidth": 1
          },
          "autotypenumbers": "strict",
          "coloraxis": {
           "colorbar": {
            "outlinewidth": 0,
            "ticks": ""
           }
          },
          "colorscale": {
           "diverging": [
            [
             0,
             "#8e0152"
            ],
            [
             0.1,
             "#c51b7d"
            ],
            [
             0.2,
             "#de77ae"
            ],
            [
             0.3,
             "#f1b6da"
            ],
            [
             0.4,
             "#fde0ef"
            ],
            [
             0.5,
             "#f7f7f7"
            ],
            [
             0.6,
             "#e6f5d0"
            ],
            [
             0.7,
             "#b8e186"
            ],
            [
             0.8,
             "#7fbc41"
            ],
            [
             0.9,
             "#4d9221"
            ],
            [
             1,
             "#276419"
            ]
           ],
           "sequential": [
            [
             0,
             "#0d0887"
            ],
            [
             0.1111111111111111,
             "#46039f"
            ],
            [
             0.2222222222222222,
             "#7201a8"
            ],
            [
             0.3333333333333333,
             "#9c179e"
            ],
            [
             0.4444444444444444,
             "#bd3786"
            ],
            [
             0.5555555555555556,
             "#d8576b"
            ],
            [
             0.6666666666666666,
             "#ed7953"
            ],
            [
             0.7777777777777778,
             "#fb9f3a"
            ],
            [
             0.8888888888888888,
             "#fdca26"
            ],
            [
             1,
             "#f0f921"
            ]
           ],
           "sequentialminus": [
            [
             0,
             "#0d0887"
            ],
            [
             0.1111111111111111,
             "#46039f"
            ],
            [
             0.2222222222222222,
             "#7201a8"
            ],
            [
             0.3333333333333333,
             "#9c179e"
            ],
            [
             0.4444444444444444,
             "#bd3786"
            ],
            [
             0.5555555555555556,
             "#d8576b"
            ],
            [
             0.6666666666666666,
             "#ed7953"
            ],
            [
             0.7777777777777778,
             "#fb9f3a"
            ],
            [
             0.8888888888888888,
             "#fdca26"
            ],
            [
             1,
             "#f0f921"
            ]
           ]
          },
          "colorway": [
           "#636efa",
           "#EF553B",
           "#00cc96",
           "#ab63fa",
           "#FFA15A",
           "#19d3f3",
           "#FF6692",
           "#B6E880",
           "#FF97FF",
           "#FECB52"
          ],
          "font": {
           "color": "#2a3f5f"
          },
          "geo": {
           "bgcolor": "white",
           "lakecolor": "white",
           "landcolor": "#E5ECF6",
           "showlakes": true,
           "showland": true,
           "subunitcolor": "white"
          },
          "hoverlabel": {
           "align": "left"
          },
          "hovermode": "closest",
          "mapbox": {
           "style": "light"
          },
          "paper_bgcolor": "white",
          "plot_bgcolor": "#E5ECF6",
          "polar": {
           "angularaxis": {
            "gridcolor": "white",
            "linecolor": "white",
            "ticks": ""
           },
           "bgcolor": "#E5ECF6",
           "radialaxis": {
            "gridcolor": "white",
            "linecolor": "white",
            "ticks": ""
           }
          },
          "scene": {
           "xaxis": {
            "backgroundcolor": "#E5ECF6",
            "gridcolor": "white",
            "gridwidth": 2,
            "linecolor": "white",
            "showbackground": true,
            "ticks": "",
            "zerolinecolor": "white"
           },
           "yaxis": {
            "backgroundcolor": "#E5ECF6",
            "gridcolor": "white",
            "gridwidth": 2,
            "linecolor": "white",
            "showbackground": true,
            "ticks": "",
            "zerolinecolor": "white"
           },
           "zaxis": {
            "backgroundcolor": "#E5ECF6",
            "gridcolor": "white",
            "gridwidth": 2,
            "linecolor": "white",
            "showbackground": true,
            "ticks": "",
            "zerolinecolor": "white"
           }
          },
          "shapedefaults": {
           "line": {
            "color": "#2a3f5f"
           }
          },
          "ternary": {
           "aaxis": {
            "gridcolor": "white",
            "linecolor": "white",
            "ticks": ""
           },
           "baxis": {
            "gridcolor": "white",
            "linecolor": "white",
            "ticks": ""
           },
           "bgcolor": "#E5ECF6",
           "caxis": {
            "gridcolor": "white",
            "linecolor": "white",
            "ticks": ""
           }
          },
          "title": {
           "x": 0.05
          },
          "xaxis": {
           "automargin": true,
           "gridcolor": "white",
           "linecolor": "white",
           "ticks": "",
           "title": {
            "standoff": 15
           },
           "zerolinecolor": "white",
           "zerolinewidth": 2
          },
          "yaxis": {
           "automargin": true,
           "gridcolor": "white",
           "linecolor": "white",
           "ticks": "",
           "title": {
            "standoff": 15
           },
           "zerolinecolor": "white",
           "zerolinewidth": 2
          }
         }
        },
        "title": {
         "text": "Воронка событий"
        },
        "yaxis": {
         "title": {
          "text": "Название события воронки"
         }
        }
       }
      },
      "text/html": [
       "<div>                            <div id=\"d9852287-767d-42b3-82d0-23701f24b03d\" class=\"plotly-graph-div\" style=\"height:525px; width:100%;\"></div>            <script type=\"text/javascript\">                require([\"plotly\"], function(Plotly) {                    window.PLOTLYENV=window.PLOTLYENV || {};                                    if (document.getElementById(\"d9852287-767d-42b3-82d0-23701f24b03d\")) {                    Plotly.newPlot(                        \"d9852287-767d-42b3-82d0-23701f24b03d\",                        [{\"name\":\"246\",\"orientation\":\"h\",\"textinfo\":\"value+percent previous\",\"textposition\":\"inside\",\"x\":[2450,1542,1266,1200],\"y\":[\"MainScreenAppear\",\"OffersScreenAppear\",\"CartScreenAppear\",\"PaymentScreenSuccessful\"],\"type\":\"funnel\"},{\"name\":\"248\",\"orientation\":\"h\",\"textinfo\":\"value+percent previous\",\"textposition\":\"inside\",\"x\":[2493,1531,1230,1181],\"y\":[\"MainScreenAppear\",\"OffersScreenAppear\",\"CartScreenAppear\",\"PaymentScreenSuccessful\"],\"type\":\"funnel\"}],                        {\"template\":{\"data\":{\"bar\":[{\"error_x\":{\"color\":\"#2a3f5f\"},\"error_y\":{\"color\":\"#2a3f5f\"},\"marker\":{\"line\":{\"color\":\"#E5ECF6\",\"width\":0.5},\"pattern\":{\"fillmode\":\"overlay\",\"size\":10,\"solidity\":0.2}},\"type\":\"bar\"}],\"barpolar\":[{\"marker\":{\"line\":{\"color\":\"#E5ECF6\",\"width\":0.5},\"pattern\":{\"fillmode\":\"overlay\",\"size\":10,\"solidity\":0.2}},\"type\":\"barpolar\"}],\"carpet\":[{\"aaxis\":{\"endlinecolor\":\"#2a3f5f\",\"gridcolor\":\"white\",\"linecolor\":\"white\",\"minorgridcolor\":\"white\",\"startlinecolor\":\"#2a3f5f\"},\"baxis\":{\"endlinecolor\":\"#2a3f5f\",\"gridcolor\":\"white\",\"linecolor\":\"white\",\"minorgridcolor\":\"white\",\"startlinecolor\":\"#2a3f5f\"},\"type\":\"carpet\"}],\"choropleth\":[{\"colorbar\":{\"outlinewidth\":0,\"ticks\":\"\"},\"type\":\"choropleth\"}],\"contour\":[{\"colorbar\":{\"outlinewidth\":0,\"ticks\":\"\"},\"colorscale\":[[0.0,\"#0d0887\"],[0.1111111111111111,\"#46039f\"],[0.2222222222222222,\"#7201a8\"],[0.3333333333333333,\"#9c179e\"],[0.4444444444444444,\"#bd3786\"],[0.5555555555555556,\"#d8576b\"],[0.6666666666666666,\"#ed7953\"],[0.7777777777777778,\"#fb9f3a\"],[0.8888888888888888,\"#fdca26\"],[1.0,\"#f0f921\"]],\"type\":\"contour\"}],\"contourcarpet\":[{\"colorbar\":{\"outlinewidth\":0,\"ticks\":\"\"},\"type\":\"contourcarpet\"}],\"heatmap\":[{\"colorbar\":{\"outlinewidth\":0,\"ticks\":\"\"},\"colorscale\":[[0.0,\"#0d0887\"],[0.1111111111111111,\"#46039f\"],[0.2222222222222222,\"#7201a8\"],[0.3333333333333333,\"#9c179e\"],[0.4444444444444444,\"#bd3786\"],[0.5555555555555556,\"#d8576b\"],[0.6666666666666666,\"#ed7953\"],[0.7777777777777778,\"#fb9f3a\"],[0.8888888888888888,\"#fdca26\"],[1.0,\"#f0f921\"]],\"type\":\"heatmap\"}],\"heatmapgl\":[{\"colorbar\":{\"outlinewidth\":0,\"ticks\":\"\"},\"colorscale\":[[0.0,\"#0d0887\"],[0.1111111111111111,\"#46039f\"],[0.2222222222222222,\"#7201a8\"],[0.3333333333333333,\"#9c179e\"],[0.4444444444444444,\"#bd3786\"],[0.5555555555555556,\"#d8576b\"],[0.6666666666666666,\"#ed7953\"],[0.7777777777777778,\"#fb9f3a\"],[0.8888888888888888,\"#fdca26\"],[1.0,\"#f0f921\"]],\"type\":\"heatmapgl\"}],\"histogram\":[{\"marker\":{\"pattern\":{\"fillmode\":\"overlay\",\"size\":10,\"solidity\":0.2}},\"type\":\"histogram\"}],\"histogram2d\":[{\"colorbar\":{\"outlinewidth\":0,\"ticks\":\"\"},\"colorscale\":[[0.0,\"#0d0887\"],[0.1111111111111111,\"#46039f\"],[0.2222222222222222,\"#7201a8\"],[0.3333333333333333,\"#9c179e\"],[0.4444444444444444,\"#bd3786\"],[0.5555555555555556,\"#d8576b\"],[0.6666666666666666,\"#ed7953\"],[0.7777777777777778,\"#fb9f3a\"],[0.8888888888888888,\"#fdca26\"],[1.0,\"#f0f921\"]],\"type\":\"histogram2d\"}],\"histogram2dcontour\":[{\"colorbar\":{\"outlinewidth\":0,\"ticks\":\"\"},\"colorscale\":[[0.0,\"#0d0887\"],[0.1111111111111111,\"#46039f\"],[0.2222222222222222,\"#7201a8\"],[0.3333333333333333,\"#9c179e\"],[0.4444444444444444,\"#bd3786\"],[0.5555555555555556,\"#d8576b\"],[0.6666666666666666,\"#ed7953\"],[0.7777777777777778,\"#fb9f3a\"],[0.8888888888888888,\"#fdca26\"],[1.0,\"#f0f921\"]],\"type\":\"histogram2dcontour\"}],\"mesh3d\":[{\"colorbar\":{\"outlinewidth\":0,\"ticks\":\"\"},\"type\":\"mesh3d\"}],\"parcoords\":[{\"line\":{\"colorbar\":{\"outlinewidth\":0,\"ticks\":\"\"}},\"type\":\"parcoords\"}],\"pie\":[{\"automargin\":true,\"type\":\"pie\"}],\"scatter\":[{\"marker\":{\"colorbar\":{\"outlinewidth\":0,\"ticks\":\"\"}},\"type\":\"scatter\"}],\"scatter3d\":[{\"line\":{\"colorbar\":{\"outlinewidth\":0,\"ticks\":\"\"}},\"marker\":{\"colorbar\":{\"outlinewidth\":0,\"ticks\":\"\"}},\"type\":\"scatter3d\"}],\"scattercarpet\":[{\"marker\":{\"colorbar\":{\"outlinewidth\":0,\"ticks\":\"\"}},\"type\":\"scattercarpet\"}],\"scattergeo\":[{\"marker\":{\"colorbar\":{\"outlinewidth\":0,\"ticks\":\"\"}},\"type\":\"scattergeo\"}],\"scattergl\":[{\"marker\":{\"colorbar\":{\"outlinewidth\":0,\"ticks\":\"\"}},\"type\":\"scattergl\"}],\"scattermapbox\":[{\"marker\":{\"colorbar\":{\"outlinewidth\":0,\"ticks\":\"\"}},\"type\":\"scattermapbox\"}],\"scatterpolar\":[{\"marker\":{\"colorbar\":{\"outlinewidth\":0,\"ticks\":\"\"}},\"type\":\"scatterpolar\"}],\"scatterpolargl\":[{\"marker\":{\"colorbar\":{\"outlinewidth\":0,\"ticks\":\"\"}},\"type\":\"scatterpolargl\"}],\"scatterternary\":[{\"marker\":{\"colorbar\":{\"outlinewidth\":0,\"ticks\":\"\"}},\"type\":\"scatterternary\"}],\"surface\":[{\"colorbar\":{\"outlinewidth\":0,\"ticks\":\"\"},\"colorscale\":[[0.0,\"#0d0887\"],[0.1111111111111111,\"#46039f\"],[0.2222222222222222,\"#7201a8\"],[0.3333333333333333,\"#9c179e\"],[0.4444444444444444,\"#bd3786\"],[0.5555555555555556,\"#d8576b\"],[0.6666666666666666,\"#ed7953\"],[0.7777777777777778,\"#fb9f3a\"],[0.8888888888888888,\"#fdca26\"],[1.0,\"#f0f921\"]],\"type\":\"surface\"}],\"table\":[{\"cells\":{\"fill\":{\"color\":\"#EBF0F8\"},\"line\":{\"color\":\"white\"}},\"header\":{\"fill\":{\"color\":\"#C8D4E3\"},\"line\":{\"color\":\"white\"}},\"type\":\"table\"}]},\"layout\":{\"annotationdefaults\":{\"arrowcolor\":\"#2a3f5f\",\"arrowhead\":0,\"arrowwidth\":1},\"autotypenumbers\":\"strict\",\"coloraxis\":{\"colorbar\":{\"outlinewidth\":0,\"ticks\":\"\"}},\"colorscale\":{\"diverging\":[[0,\"#8e0152\"],[0.1,\"#c51b7d\"],[0.2,\"#de77ae\"],[0.3,\"#f1b6da\"],[0.4,\"#fde0ef\"],[0.5,\"#f7f7f7\"],[0.6,\"#e6f5d0\"],[0.7,\"#b8e186\"],[0.8,\"#7fbc41\"],[0.9,\"#4d9221\"],[1,\"#276419\"]],\"sequential\":[[0.0,\"#0d0887\"],[0.1111111111111111,\"#46039f\"],[0.2222222222222222,\"#7201a8\"],[0.3333333333333333,\"#9c179e\"],[0.4444444444444444,\"#bd3786\"],[0.5555555555555556,\"#d8576b\"],[0.6666666666666666,\"#ed7953\"],[0.7777777777777778,\"#fb9f3a\"],[0.8888888888888888,\"#fdca26\"],[1.0,\"#f0f921\"]],\"sequentialminus\":[[0.0,\"#0d0887\"],[0.1111111111111111,\"#46039f\"],[0.2222222222222222,\"#7201a8\"],[0.3333333333333333,\"#9c179e\"],[0.4444444444444444,\"#bd3786\"],[0.5555555555555556,\"#d8576b\"],[0.6666666666666666,\"#ed7953\"],[0.7777777777777778,\"#fb9f3a\"],[0.8888888888888888,\"#fdca26\"],[1.0,\"#f0f921\"]]},\"colorway\":[\"#636efa\",\"#EF553B\",\"#00cc96\",\"#ab63fa\",\"#FFA15A\",\"#19d3f3\",\"#FF6692\",\"#B6E880\",\"#FF97FF\",\"#FECB52\"],\"font\":{\"color\":\"#2a3f5f\"},\"geo\":{\"bgcolor\":\"white\",\"lakecolor\":\"white\",\"landcolor\":\"#E5ECF6\",\"showlakes\":true,\"showland\":true,\"subunitcolor\":\"white\"},\"hoverlabel\":{\"align\":\"left\"},\"hovermode\":\"closest\",\"mapbox\":{\"style\":\"light\"},\"paper_bgcolor\":\"white\",\"plot_bgcolor\":\"#E5ECF6\",\"polar\":{\"angularaxis\":{\"gridcolor\":\"white\",\"linecolor\":\"white\",\"ticks\":\"\"},\"bgcolor\":\"#E5ECF6\",\"radialaxis\":{\"gridcolor\":\"white\",\"linecolor\":\"white\",\"ticks\":\"\"}},\"scene\":{\"xaxis\":{\"backgroundcolor\":\"#E5ECF6\",\"gridcolor\":\"white\",\"gridwidth\":2,\"linecolor\":\"white\",\"showbackground\":true,\"ticks\":\"\",\"zerolinecolor\":\"white\"},\"yaxis\":{\"backgroundcolor\":\"#E5ECF6\",\"gridcolor\":\"white\",\"gridwidth\":2,\"linecolor\":\"white\",\"showbackground\":true,\"ticks\":\"\",\"zerolinecolor\":\"white\"},\"zaxis\":{\"backgroundcolor\":\"#E5ECF6\",\"gridcolor\":\"white\",\"gridwidth\":2,\"linecolor\":\"white\",\"showbackground\":true,\"ticks\":\"\",\"zerolinecolor\":\"white\"}},\"shapedefaults\":{\"line\":{\"color\":\"#2a3f5f\"}},\"ternary\":{\"aaxis\":{\"gridcolor\":\"white\",\"linecolor\":\"white\",\"ticks\":\"\"},\"baxis\":{\"gridcolor\":\"white\",\"linecolor\":\"white\",\"ticks\":\"\"},\"bgcolor\":\"#E5ECF6\",\"caxis\":{\"gridcolor\":\"white\",\"linecolor\":\"white\",\"ticks\":\"\"}},\"title\":{\"x\":0.05},\"xaxis\":{\"automargin\":true,\"gridcolor\":\"white\",\"linecolor\":\"white\",\"ticks\":\"\",\"title\":{\"standoff\":15},\"zerolinecolor\":\"white\",\"zerolinewidth\":2},\"yaxis\":{\"automargin\":true,\"gridcolor\":\"white\",\"linecolor\":\"white\",\"ticks\":\"\",\"title\":{\"standoff\":15},\"zerolinecolor\":\"white\",\"zerolinewidth\":2}}},\"legend\":{\"title\":{\"text\":\"\\u0413\\u0440\\u0443\\u043f\\u043f\\u0430\"},\"orientation\":\"h\"},\"font\":{\"family\":\"Courier New, monospace\",\"size\":12.5,\"color\":\"RebeccaPurple\"},\"title\":{\"text\":\"\\u0412\\u043e\\u0440\\u043e\\u043d\\u043a\\u0430 \\u0441\\u043e\\u0431\\u044b\\u0442\\u0438\\u0439\"},\"yaxis\":{\"title\":{\"text\":\"\\u041d\\u0430\\u0437\\u0432\\u0430\\u043d\\u0438\\u0435 \\u0441\\u043e\\u0431\\u044b\\u0442\\u0438\\u044f \\u0432\\u043e\\u0440\\u043e\\u043d\\u043a\\u0438\"}}},                        {\"responsive\": true}                    ).then(function(){\n",
       "                            \n",
       "var gd = document.getElementById('d9852287-767d-42b3-82d0-23701f24b03d');\n",
       "var x = new MutationObserver(function (mutations, observer) {{\n",
       "        var display = window.getComputedStyle(gd).display;\n",
       "        if (!display || display === 'none') {{\n",
       "            console.log([gd, 'removed!']);\n",
       "            Plotly.purge(gd);\n",
       "            observer.disconnect();\n",
       "        }}\n",
       "}});\n",
       "\n",
       "// Listen for the removal of the full notebook cells\n",
       "var notebookContainer = gd.closest('#notebook-container');\n",
       "if (notebookContainer) {{\n",
       "    x.observe(notebookContainer, {childList: true});\n",
       "}}\n",
       "\n",
       "// Listen for the clearing of the current output cell\n",
       "var outputEl = gd.closest('.output');\n",
       "if (outputEl) {{\n",
       "    x.observe(outputEl, {childList: true});\n",
       "}}\n",
       "\n",
       "                        })                };                });            </script>        </div>"
      ]
     },
     "metadata": {},
     "output_type": "display_data"
    }
   ],
   "source": [
    "stat_difference(246, 248, 0.05, data(246, 248))\n",
    "funnel(246, 248, data(246, 248))"
   ]
  },
  {
   "cell_type": "markdown",
   "metadata": {},
   "source": [
    "Теперь проверим контрольную 247 группу и эксперементальную 248 группу. Тут разница в конверсии тоже составляет 1-2%.  \n",
    "После проверки гипотез значимых различий между событиями двух групп также не выявлено."
   ]
  },
  {
   "cell_type": "code",
   "execution_count": 69,
   "metadata": {},
   "outputs": [
    {
     "data": {
      "text/html": [
       "<div>\n",
       "<style scoped>\n",
       "    .dataframe tbody tr th:only-of-type {\n",
       "        vertical-align: middle;\n",
       "    }\n",
       "\n",
       "    .dataframe tbody tr th {\n",
       "        vertical-align: top;\n",
       "    }\n",
       "\n",
       "    .dataframe thead th {\n",
       "        text-align: right;\n",
       "    }\n",
       "</style>\n",
       "<table border=\"1\" class=\"dataframe\">\n",
       "  <thead>\n",
       "    <tr style=\"text-align: right;\">\n",
       "      <th>exp_id</th>\n",
       "      <th>event_name</th>\n",
       "      <th>247</th>\n",
       "      <th>248</th>\n",
       "      <th>combined</th>\n",
       "      <th>p_247</th>\n",
       "      <th>p_248</th>\n",
       "      <th>difference</th>\n",
       "      <th>z_value</th>\n",
       "      <th>p_value</th>\n",
       "    </tr>\n",
       "  </thead>\n",
       "  <tbody>\n",
       "    <tr>\n",
       "      <th>0</th>\n",
       "      <td>MainScreenAppear</td>\n",
       "      <td>2476</td>\n",
       "      <td>2493</td>\n",
       "      <td>0.984545</td>\n",
       "      <td>0.985669</td>\n",
       "      <td>0.983432</td>\n",
       "      <td>0.002237</td>\n",
       "      <td>0.644122</td>\n",
       "      <td>0.519496</td>\n",
       "    </tr>\n",
       "    <tr>\n",
       "      <th>1</th>\n",
       "      <td>OffersScreenAppear</td>\n",
       "      <td>1520</td>\n",
       "      <td>1531</td>\n",
       "      <td>0.604518</td>\n",
       "      <td>0.605096</td>\n",
       "      <td>0.603945</td>\n",
       "      <td>0.001151</td>\n",
       "      <td>0.083599</td>\n",
       "      <td>0.933375</td>\n",
       "    </tr>\n",
       "    <tr>\n",
       "      <th>2</th>\n",
       "      <td>CartScreenAppear</td>\n",
       "      <td>1238</td>\n",
       "      <td>1230</td>\n",
       "      <td>0.489003</td>\n",
       "      <td>0.492834</td>\n",
       "      <td>0.485207</td>\n",
       "      <td>0.007627</td>\n",
       "      <td>0.541986</td>\n",
       "      <td>0.587828</td>\n",
       "    </tr>\n",
       "    <tr>\n",
       "      <th>3</th>\n",
       "      <td>PaymentScreenSuccessful</td>\n",
       "      <td>1158</td>\n",
       "      <td>1181</td>\n",
       "      <td>0.463444</td>\n",
       "      <td>0.460987</td>\n",
       "      <td>0.465878</td>\n",
       "      <td>-0.004890</td>\n",
       "      <td>-0.348357</td>\n",
       "      <td>0.727572</td>\n",
       "    </tr>\n",
       "  </tbody>\n",
       "</table>\n",
       "</div>"
      ],
      "text/plain": [
       "exp_id               event_name   247   248  combined     p_247     p_248  \\\n",
       "0              MainScreenAppear  2476  2493  0.984545  0.985669  0.983432   \n",
       "1            OffersScreenAppear  1520  1531  0.604518  0.605096  0.603945   \n",
       "2              CartScreenAppear  1238  1230  0.489003  0.492834  0.485207   \n",
       "3       PaymentScreenSuccessful  1158  1181  0.463444  0.460987  0.465878   \n",
       "\n",
       "exp_id  difference   z_value   p_value  \n",
       "0         0.002237  0.644122  0.519496  \n",
       "1         0.001151  0.083599  0.933375  \n",
       "2         0.007627  0.541986  0.587828  \n",
       "3        -0.004890 -0.348357  0.727572  "
      ]
     },
     "metadata": {},
     "output_type": "display_data"
    },
    {
     "name": "stdout",
     "output_type": "stream",
     "text": [
      "Для групп 247 и 248 с заданным уровнем значимости 5%\n",
      "\n",
      "MainScreenAppear\n",
      "p-значение: 0.5195\n",
      "Не получилось отвергнуть нулевую гипотезу, нет оснований считать доли разными\n",
      "\n",
      "OffersScreenAppear\n",
      "p-значение: 0.9334\n",
      "Не получилось отвергнуть нулевую гипотезу, нет оснований считать доли разными\n",
      "\n",
      "CartScreenAppear\n",
      "p-значение: 0.5878\n",
      "Не получилось отвергнуть нулевую гипотезу, нет оснований считать доли разными\n",
      "\n",
      "PaymentScreenSuccessful\n",
      "p-значение: 0.7276\n",
      "Не получилось отвергнуть нулевую гипотезу, нет оснований считать доли разными\n",
      "\n"
     ]
    },
    {
     "data": {
      "application/vnd.plotly.v1+json": {
       "config": {
        "plotlyServerURL": "https://plot.ly"
       },
       "data": [
        {
         "name": "247",
         "orientation": "h",
         "textinfo": "value+percent previous",
         "textposition": "inside",
         "type": "funnel",
         "x": [
          2476,
          1520,
          1238,
          1158
         ],
         "y": [
          "MainScreenAppear",
          "OffersScreenAppear",
          "CartScreenAppear",
          "PaymentScreenSuccessful"
         ]
        },
        {
         "name": "248",
         "orientation": "h",
         "textinfo": "value+percent previous",
         "textposition": "inside",
         "type": "funnel",
         "x": [
          2493,
          1531,
          1230,
          1181
         ],
         "y": [
          "MainScreenAppear",
          "OffersScreenAppear",
          "CartScreenAppear",
          "PaymentScreenSuccessful"
         ]
        }
       ],
       "layout": {
        "font": {
         "color": "RebeccaPurple",
         "family": "Courier New, monospace",
         "size": 12.5
        },
        "legend": {
         "orientation": "h",
         "title": {
          "text": "Группа"
         }
        },
        "template": {
         "data": {
          "bar": [
           {
            "error_x": {
             "color": "#2a3f5f"
            },
            "error_y": {
             "color": "#2a3f5f"
            },
            "marker": {
             "line": {
              "color": "#E5ECF6",
              "width": 0.5
             },
             "pattern": {
              "fillmode": "overlay",
              "size": 10,
              "solidity": 0.2
             }
            },
            "type": "bar"
           }
          ],
          "barpolar": [
           {
            "marker": {
             "line": {
              "color": "#E5ECF6",
              "width": 0.5
             },
             "pattern": {
              "fillmode": "overlay",
              "size": 10,
              "solidity": 0.2
             }
            },
            "type": "barpolar"
           }
          ],
          "carpet": [
           {
            "aaxis": {
             "endlinecolor": "#2a3f5f",
             "gridcolor": "white",
             "linecolor": "white",
             "minorgridcolor": "white",
             "startlinecolor": "#2a3f5f"
            },
            "baxis": {
             "endlinecolor": "#2a3f5f",
             "gridcolor": "white",
             "linecolor": "white",
             "minorgridcolor": "white",
             "startlinecolor": "#2a3f5f"
            },
            "type": "carpet"
           }
          ],
          "choropleth": [
           {
            "colorbar": {
             "outlinewidth": 0,
             "ticks": ""
            },
            "type": "choropleth"
           }
          ],
          "contour": [
           {
            "colorbar": {
             "outlinewidth": 0,
             "ticks": ""
            },
            "colorscale": [
             [
              0,
              "#0d0887"
             ],
             [
              0.1111111111111111,
              "#46039f"
             ],
             [
              0.2222222222222222,
              "#7201a8"
             ],
             [
              0.3333333333333333,
              "#9c179e"
             ],
             [
              0.4444444444444444,
              "#bd3786"
             ],
             [
              0.5555555555555556,
              "#d8576b"
             ],
             [
              0.6666666666666666,
              "#ed7953"
             ],
             [
              0.7777777777777778,
              "#fb9f3a"
             ],
             [
              0.8888888888888888,
              "#fdca26"
             ],
             [
              1,
              "#f0f921"
             ]
            ],
            "type": "contour"
           }
          ],
          "contourcarpet": [
           {
            "colorbar": {
             "outlinewidth": 0,
             "ticks": ""
            },
            "type": "contourcarpet"
           }
          ],
          "heatmap": [
           {
            "colorbar": {
             "outlinewidth": 0,
             "ticks": ""
            },
            "colorscale": [
             [
              0,
              "#0d0887"
             ],
             [
              0.1111111111111111,
              "#46039f"
             ],
             [
              0.2222222222222222,
              "#7201a8"
             ],
             [
              0.3333333333333333,
              "#9c179e"
             ],
             [
              0.4444444444444444,
              "#bd3786"
             ],
             [
              0.5555555555555556,
              "#d8576b"
             ],
             [
              0.6666666666666666,
              "#ed7953"
             ],
             [
              0.7777777777777778,
              "#fb9f3a"
             ],
             [
              0.8888888888888888,
              "#fdca26"
             ],
             [
              1,
              "#f0f921"
             ]
            ],
            "type": "heatmap"
           }
          ],
          "heatmapgl": [
           {
            "colorbar": {
             "outlinewidth": 0,
             "ticks": ""
            },
            "colorscale": [
             [
              0,
              "#0d0887"
             ],
             [
              0.1111111111111111,
              "#46039f"
             ],
             [
              0.2222222222222222,
              "#7201a8"
             ],
             [
              0.3333333333333333,
              "#9c179e"
             ],
             [
              0.4444444444444444,
              "#bd3786"
             ],
             [
              0.5555555555555556,
              "#d8576b"
             ],
             [
              0.6666666666666666,
              "#ed7953"
             ],
             [
              0.7777777777777778,
              "#fb9f3a"
             ],
             [
              0.8888888888888888,
              "#fdca26"
             ],
             [
              1,
              "#f0f921"
             ]
            ],
            "type": "heatmapgl"
           }
          ],
          "histogram": [
           {
            "marker": {
             "pattern": {
              "fillmode": "overlay",
              "size": 10,
              "solidity": 0.2
             }
            },
            "type": "histogram"
           }
          ],
          "histogram2d": [
           {
            "colorbar": {
             "outlinewidth": 0,
             "ticks": ""
            },
            "colorscale": [
             [
              0,
              "#0d0887"
             ],
             [
              0.1111111111111111,
              "#46039f"
             ],
             [
              0.2222222222222222,
              "#7201a8"
             ],
             [
              0.3333333333333333,
              "#9c179e"
             ],
             [
              0.4444444444444444,
              "#bd3786"
             ],
             [
              0.5555555555555556,
              "#d8576b"
             ],
             [
              0.6666666666666666,
              "#ed7953"
             ],
             [
              0.7777777777777778,
              "#fb9f3a"
             ],
             [
              0.8888888888888888,
              "#fdca26"
             ],
             [
              1,
              "#f0f921"
             ]
            ],
            "type": "histogram2d"
           }
          ],
          "histogram2dcontour": [
           {
            "colorbar": {
             "outlinewidth": 0,
             "ticks": ""
            },
            "colorscale": [
             [
              0,
              "#0d0887"
             ],
             [
              0.1111111111111111,
              "#46039f"
             ],
             [
              0.2222222222222222,
              "#7201a8"
             ],
             [
              0.3333333333333333,
              "#9c179e"
             ],
             [
              0.4444444444444444,
              "#bd3786"
             ],
             [
              0.5555555555555556,
              "#d8576b"
             ],
             [
              0.6666666666666666,
              "#ed7953"
             ],
             [
              0.7777777777777778,
              "#fb9f3a"
             ],
             [
              0.8888888888888888,
              "#fdca26"
             ],
             [
              1,
              "#f0f921"
             ]
            ],
            "type": "histogram2dcontour"
           }
          ],
          "mesh3d": [
           {
            "colorbar": {
             "outlinewidth": 0,
             "ticks": ""
            },
            "type": "mesh3d"
           }
          ],
          "parcoords": [
           {
            "line": {
             "colorbar": {
              "outlinewidth": 0,
              "ticks": ""
             }
            },
            "type": "parcoords"
           }
          ],
          "pie": [
           {
            "automargin": true,
            "type": "pie"
           }
          ],
          "scatter": [
           {
            "marker": {
             "colorbar": {
              "outlinewidth": 0,
              "ticks": ""
             }
            },
            "type": "scatter"
           }
          ],
          "scatter3d": [
           {
            "line": {
             "colorbar": {
              "outlinewidth": 0,
              "ticks": ""
             }
            },
            "marker": {
             "colorbar": {
              "outlinewidth": 0,
              "ticks": ""
             }
            },
            "type": "scatter3d"
           }
          ],
          "scattercarpet": [
           {
            "marker": {
             "colorbar": {
              "outlinewidth": 0,
              "ticks": ""
             }
            },
            "type": "scattercarpet"
           }
          ],
          "scattergeo": [
           {
            "marker": {
             "colorbar": {
              "outlinewidth": 0,
              "ticks": ""
             }
            },
            "type": "scattergeo"
           }
          ],
          "scattergl": [
           {
            "marker": {
             "colorbar": {
              "outlinewidth": 0,
              "ticks": ""
             }
            },
            "type": "scattergl"
           }
          ],
          "scattermapbox": [
           {
            "marker": {
             "colorbar": {
              "outlinewidth": 0,
              "ticks": ""
             }
            },
            "type": "scattermapbox"
           }
          ],
          "scatterpolar": [
           {
            "marker": {
             "colorbar": {
              "outlinewidth": 0,
              "ticks": ""
             }
            },
            "type": "scatterpolar"
           }
          ],
          "scatterpolargl": [
           {
            "marker": {
             "colorbar": {
              "outlinewidth": 0,
              "ticks": ""
             }
            },
            "type": "scatterpolargl"
           }
          ],
          "scatterternary": [
           {
            "marker": {
             "colorbar": {
              "outlinewidth": 0,
              "ticks": ""
             }
            },
            "type": "scatterternary"
           }
          ],
          "surface": [
           {
            "colorbar": {
             "outlinewidth": 0,
             "ticks": ""
            },
            "colorscale": [
             [
              0,
              "#0d0887"
             ],
             [
              0.1111111111111111,
              "#46039f"
             ],
             [
              0.2222222222222222,
              "#7201a8"
             ],
             [
              0.3333333333333333,
              "#9c179e"
             ],
             [
              0.4444444444444444,
              "#bd3786"
             ],
             [
              0.5555555555555556,
              "#d8576b"
             ],
             [
              0.6666666666666666,
              "#ed7953"
             ],
             [
              0.7777777777777778,
              "#fb9f3a"
             ],
             [
              0.8888888888888888,
              "#fdca26"
             ],
             [
              1,
              "#f0f921"
             ]
            ],
            "type": "surface"
           }
          ],
          "table": [
           {
            "cells": {
             "fill": {
              "color": "#EBF0F8"
             },
             "line": {
              "color": "white"
             }
            },
            "header": {
             "fill": {
              "color": "#C8D4E3"
             },
             "line": {
              "color": "white"
             }
            },
            "type": "table"
           }
          ]
         },
         "layout": {
          "annotationdefaults": {
           "arrowcolor": "#2a3f5f",
           "arrowhead": 0,
           "arrowwidth": 1
          },
          "autotypenumbers": "strict",
          "coloraxis": {
           "colorbar": {
            "outlinewidth": 0,
            "ticks": ""
           }
          },
          "colorscale": {
           "diverging": [
            [
             0,
             "#8e0152"
            ],
            [
             0.1,
             "#c51b7d"
            ],
            [
             0.2,
             "#de77ae"
            ],
            [
             0.3,
             "#f1b6da"
            ],
            [
             0.4,
             "#fde0ef"
            ],
            [
             0.5,
             "#f7f7f7"
            ],
            [
             0.6,
             "#e6f5d0"
            ],
            [
             0.7,
             "#b8e186"
            ],
            [
             0.8,
             "#7fbc41"
            ],
            [
             0.9,
             "#4d9221"
            ],
            [
             1,
             "#276419"
            ]
           ],
           "sequential": [
            [
             0,
             "#0d0887"
            ],
            [
             0.1111111111111111,
             "#46039f"
            ],
            [
             0.2222222222222222,
             "#7201a8"
            ],
            [
             0.3333333333333333,
             "#9c179e"
            ],
            [
             0.4444444444444444,
             "#bd3786"
            ],
            [
             0.5555555555555556,
             "#d8576b"
            ],
            [
             0.6666666666666666,
             "#ed7953"
            ],
            [
             0.7777777777777778,
             "#fb9f3a"
            ],
            [
             0.8888888888888888,
             "#fdca26"
            ],
            [
             1,
             "#f0f921"
            ]
           ],
           "sequentialminus": [
            [
             0,
             "#0d0887"
            ],
            [
             0.1111111111111111,
             "#46039f"
            ],
            [
             0.2222222222222222,
             "#7201a8"
            ],
            [
             0.3333333333333333,
             "#9c179e"
            ],
            [
             0.4444444444444444,
             "#bd3786"
            ],
            [
             0.5555555555555556,
             "#d8576b"
            ],
            [
             0.6666666666666666,
             "#ed7953"
            ],
            [
             0.7777777777777778,
             "#fb9f3a"
            ],
            [
             0.8888888888888888,
             "#fdca26"
            ],
            [
             1,
             "#f0f921"
            ]
           ]
          },
          "colorway": [
           "#636efa",
           "#EF553B",
           "#00cc96",
           "#ab63fa",
           "#FFA15A",
           "#19d3f3",
           "#FF6692",
           "#B6E880",
           "#FF97FF",
           "#FECB52"
          ],
          "font": {
           "color": "#2a3f5f"
          },
          "geo": {
           "bgcolor": "white",
           "lakecolor": "white",
           "landcolor": "#E5ECF6",
           "showlakes": true,
           "showland": true,
           "subunitcolor": "white"
          },
          "hoverlabel": {
           "align": "left"
          },
          "hovermode": "closest",
          "mapbox": {
           "style": "light"
          },
          "paper_bgcolor": "white",
          "plot_bgcolor": "#E5ECF6",
          "polar": {
           "angularaxis": {
            "gridcolor": "white",
            "linecolor": "white",
            "ticks": ""
           },
           "bgcolor": "#E5ECF6",
           "radialaxis": {
            "gridcolor": "white",
            "linecolor": "white",
            "ticks": ""
           }
          },
          "scene": {
           "xaxis": {
            "backgroundcolor": "#E5ECF6",
            "gridcolor": "white",
            "gridwidth": 2,
            "linecolor": "white",
            "showbackground": true,
            "ticks": "",
            "zerolinecolor": "white"
           },
           "yaxis": {
            "backgroundcolor": "#E5ECF6",
            "gridcolor": "white",
            "gridwidth": 2,
            "linecolor": "white",
            "showbackground": true,
            "ticks": "",
            "zerolinecolor": "white"
           },
           "zaxis": {
            "backgroundcolor": "#E5ECF6",
            "gridcolor": "white",
            "gridwidth": 2,
            "linecolor": "white",
            "showbackground": true,
            "ticks": "",
            "zerolinecolor": "white"
           }
          },
          "shapedefaults": {
           "line": {
            "color": "#2a3f5f"
           }
          },
          "ternary": {
           "aaxis": {
            "gridcolor": "white",
            "linecolor": "white",
            "ticks": ""
           },
           "baxis": {
            "gridcolor": "white",
            "linecolor": "white",
            "ticks": ""
           },
           "bgcolor": "#E5ECF6",
           "caxis": {
            "gridcolor": "white",
            "linecolor": "white",
            "ticks": ""
           }
          },
          "title": {
           "x": 0.05
          },
          "xaxis": {
           "automargin": true,
           "gridcolor": "white",
           "linecolor": "white",
           "ticks": "",
           "title": {
            "standoff": 15
           },
           "zerolinecolor": "white",
           "zerolinewidth": 2
          },
          "yaxis": {
           "automargin": true,
           "gridcolor": "white",
           "linecolor": "white",
           "ticks": "",
           "title": {
            "standoff": 15
           },
           "zerolinecolor": "white",
           "zerolinewidth": 2
          }
         }
        },
        "title": {
         "text": "Воронка событий"
        },
        "yaxis": {
         "title": {
          "text": "Название события воронки"
         }
        }
       }
      },
      "text/html": [
       "<div>                            <div id=\"3e656659-e5c9-4a5d-b06c-c655b6363288\" class=\"plotly-graph-div\" style=\"height:525px; width:100%;\"></div>            <script type=\"text/javascript\">                require([\"plotly\"], function(Plotly) {                    window.PLOTLYENV=window.PLOTLYENV || {};                                    if (document.getElementById(\"3e656659-e5c9-4a5d-b06c-c655b6363288\")) {                    Plotly.newPlot(                        \"3e656659-e5c9-4a5d-b06c-c655b6363288\",                        [{\"name\":\"247\",\"orientation\":\"h\",\"textinfo\":\"value+percent previous\",\"textposition\":\"inside\",\"x\":[2476,1520,1238,1158],\"y\":[\"MainScreenAppear\",\"OffersScreenAppear\",\"CartScreenAppear\",\"PaymentScreenSuccessful\"],\"type\":\"funnel\"},{\"name\":\"248\",\"orientation\":\"h\",\"textinfo\":\"value+percent previous\",\"textposition\":\"inside\",\"x\":[2493,1531,1230,1181],\"y\":[\"MainScreenAppear\",\"OffersScreenAppear\",\"CartScreenAppear\",\"PaymentScreenSuccessful\"],\"type\":\"funnel\"}],                        {\"template\":{\"data\":{\"bar\":[{\"error_x\":{\"color\":\"#2a3f5f\"},\"error_y\":{\"color\":\"#2a3f5f\"},\"marker\":{\"line\":{\"color\":\"#E5ECF6\",\"width\":0.5},\"pattern\":{\"fillmode\":\"overlay\",\"size\":10,\"solidity\":0.2}},\"type\":\"bar\"}],\"barpolar\":[{\"marker\":{\"line\":{\"color\":\"#E5ECF6\",\"width\":0.5},\"pattern\":{\"fillmode\":\"overlay\",\"size\":10,\"solidity\":0.2}},\"type\":\"barpolar\"}],\"carpet\":[{\"aaxis\":{\"endlinecolor\":\"#2a3f5f\",\"gridcolor\":\"white\",\"linecolor\":\"white\",\"minorgridcolor\":\"white\",\"startlinecolor\":\"#2a3f5f\"},\"baxis\":{\"endlinecolor\":\"#2a3f5f\",\"gridcolor\":\"white\",\"linecolor\":\"white\",\"minorgridcolor\":\"white\",\"startlinecolor\":\"#2a3f5f\"},\"type\":\"carpet\"}],\"choropleth\":[{\"colorbar\":{\"outlinewidth\":0,\"ticks\":\"\"},\"type\":\"choropleth\"}],\"contour\":[{\"colorbar\":{\"outlinewidth\":0,\"ticks\":\"\"},\"colorscale\":[[0.0,\"#0d0887\"],[0.1111111111111111,\"#46039f\"],[0.2222222222222222,\"#7201a8\"],[0.3333333333333333,\"#9c179e\"],[0.4444444444444444,\"#bd3786\"],[0.5555555555555556,\"#d8576b\"],[0.6666666666666666,\"#ed7953\"],[0.7777777777777778,\"#fb9f3a\"],[0.8888888888888888,\"#fdca26\"],[1.0,\"#f0f921\"]],\"type\":\"contour\"}],\"contourcarpet\":[{\"colorbar\":{\"outlinewidth\":0,\"ticks\":\"\"},\"type\":\"contourcarpet\"}],\"heatmap\":[{\"colorbar\":{\"outlinewidth\":0,\"ticks\":\"\"},\"colorscale\":[[0.0,\"#0d0887\"],[0.1111111111111111,\"#46039f\"],[0.2222222222222222,\"#7201a8\"],[0.3333333333333333,\"#9c179e\"],[0.4444444444444444,\"#bd3786\"],[0.5555555555555556,\"#d8576b\"],[0.6666666666666666,\"#ed7953\"],[0.7777777777777778,\"#fb9f3a\"],[0.8888888888888888,\"#fdca26\"],[1.0,\"#f0f921\"]],\"type\":\"heatmap\"}],\"heatmapgl\":[{\"colorbar\":{\"outlinewidth\":0,\"ticks\":\"\"},\"colorscale\":[[0.0,\"#0d0887\"],[0.1111111111111111,\"#46039f\"],[0.2222222222222222,\"#7201a8\"],[0.3333333333333333,\"#9c179e\"],[0.4444444444444444,\"#bd3786\"],[0.5555555555555556,\"#d8576b\"],[0.6666666666666666,\"#ed7953\"],[0.7777777777777778,\"#fb9f3a\"],[0.8888888888888888,\"#fdca26\"],[1.0,\"#f0f921\"]],\"type\":\"heatmapgl\"}],\"histogram\":[{\"marker\":{\"pattern\":{\"fillmode\":\"overlay\",\"size\":10,\"solidity\":0.2}},\"type\":\"histogram\"}],\"histogram2d\":[{\"colorbar\":{\"outlinewidth\":0,\"ticks\":\"\"},\"colorscale\":[[0.0,\"#0d0887\"],[0.1111111111111111,\"#46039f\"],[0.2222222222222222,\"#7201a8\"],[0.3333333333333333,\"#9c179e\"],[0.4444444444444444,\"#bd3786\"],[0.5555555555555556,\"#d8576b\"],[0.6666666666666666,\"#ed7953\"],[0.7777777777777778,\"#fb9f3a\"],[0.8888888888888888,\"#fdca26\"],[1.0,\"#f0f921\"]],\"type\":\"histogram2d\"}],\"histogram2dcontour\":[{\"colorbar\":{\"outlinewidth\":0,\"ticks\":\"\"},\"colorscale\":[[0.0,\"#0d0887\"],[0.1111111111111111,\"#46039f\"],[0.2222222222222222,\"#7201a8\"],[0.3333333333333333,\"#9c179e\"],[0.4444444444444444,\"#bd3786\"],[0.5555555555555556,\"#d8576b\"],[0.6666666666666666,\"#ed7953\"],[0.7777777777777778,\"#fb9f3a\"],[0.8888888888888888,\"#fdca26\"],[1.0,\"#f0f921\"]],\"type\":\"histogram2dcontour\"}],\"mesh3d\":[{\"colorbar\":{\"outlinewidth\":0,\"ticks\":\"\"},\"type\":\"mesh3d\"}],\"parcoords\":[{\"line\":{\"colorbar\":{\"outlinewidth\":0,\"ticks\":\"\"}},\"type\":\"parcoords\"}],\"pie\":[{\"automargin\":true,\"type\":\"pie\"}],\"scatter\":[{\"marker\":{\"colorbar\":{\"outlinewidth\":0,\"ticks\":\"\"}},\"type\":\"scatter\"}],\"scatter3d\":[{\"line\":{\"colorbar\":{\"outlinewidth\":0,\"ticks\":\"\"}},\"marker\":{\"colorbar\":{\"outlinewidth\":0,\"ticks\":\"\"}},\"type\":\"scatter3d\"}],\"scattercarpet\":[{\"marker\":{\"colorbar\":{\"outlinewidth\":0,\"ticks\":\"\"}},\"type\":\"scattercarpet\"}],\"scattergeo\":[{\"marker\":{\"colorbar\":{\"outlinewidth\":0,\"ticks\":\"\"}},\"type\":\"scattergeo\"}],\"scattergl\":[{\"marker\":{\"colorbar\":{\"outlinewidth\":0,\"ticks\":\"\"}},\"type\":\"scattergl\"}],\"scattermapbox\":[{\"marker\":{\"colorbar\":{\"outlinewidth\":0,\"ticks\":\"\"}},\"type\":\"scattermapbox\"}],\"scatterpolar\":[{\"marker\":{\"colorbar\":{\"outlinewidth\":0,\"ticks\":\"\"}},\"type\":\"scatterpolar\"}],\"scatterpolargl\":[{\"marker\":{\"colorbar\":{\"outlinewidth\":0,\"ticks\":\"\"}},\"type\":\"scatterpolargl\"}],\"scatterternary\":[{\"marker\":{\"colorbar\":{\"outlinewidth\":0,\"ticks\":\"\"}},\"type\":\"scatterternary\"}],\"surface\":[{\"colorbar\":{\"outlinewidth\":0,\"ticks\":\"\"},\"colorscale\":[[0.0,\"#0d0887\"],[0.1111111111111111,\"#46039f\"],[0.2222222222222222,\"#7201a8\"],[0.3333333333333333,\"#9c179e\"],[0.4444444444444444,\"#bd3786\"],[0.5555555555555556,\"#d8576b\"],[0.6666666666666666,\"#ed7953\"],[0.7777777777777778,\"#fb9f3a\"],[0.8888888888888888,\"#fdca26\"],[1.0,\"#f0f921\"]],\"type\":\"surface\"}],\"table\":[{\"cells\":{\"fill\":{\"color\":\"#EBF0F8\"},\"line\":{\"color\":\"white\"}},\"header\":{\"fill\":{\"color\":\"#C8D4E3\"},\"line\":{\"color\":\"white\"}},\"type\":\"table\"}]},\"layout\":{\"annotationdefaults\":{\"arrowcolor\":\"#2a3f5f\",\"arrowhead\":0,\"arrowwidth\":1},\"autotypenumbers\":\"strict\",\"coloraxis\":{\"colorbar\":{\"outlinewidth\":0,\"ticks\":\"\"}},\"colorscale\":{\"diverging\":[[0,\"#8e0152\"],[0.1,\"#c51b7d\"],[0.2,\"#de77ae\"],[0.3,\"#f1b6da\"],[0.4,\"#fde0ef\"],[0.5,\"#f7f7f7\"],[0.6,\"#e6f5d0\"],[0.7,\"#b8e186\"],[0.8,\"#7fbc41\"],[0.9,\"#4d9221\"],[1,\"#276419\"]],\"sequential\":[[0.0,\"#0d0887\"],[0.1111111111111111,\"#46039f\"],[0.2222222222222222,\"#7201a8\"],[0.3333333333333333,\"#9c179e\"],[0.4444444444444444,\"#bd3786\"],[0.5555555555555556,\"#d8576b\"],[0.6666666666666666,\"#ed7953\"],[0.7777777777777778,\"#fb9f3a\"],[0.8888888888888888,\"#fdca26\"],[1.0,\"#f0f921\"]],\"sequentialminus\":[[0.0,\"#0d0887\"],[0.1111111111111111,\"#46039f\"],[0.2222222222222222,\"#7201a8\"],[0.3333333333333333,\"#9c179e\"],[0.4444444444444444,\"#bd3786\"],[0.5555555555555556,\"#d8576b\"],[0.6666666666666666,\"#ed7953\"],[0.7777777777777778,\"#fb9f3a\"],[0.8888888888888888,\"#fdca26\"],[1.0,\"#f0f921\"]]},\"colorway\":[\"#636efa\",\"#EF553B\",\"#00cc96\",\"#ab63fa\",\"#FFA15A\",\"#19d3f3\",\"#FF6692\",\"#B6E880\",\"#FF97FF\",\"#FECB52\"],\"font\":{\"color\":\"#2a3f5f\"},\"geo\":{\"bgcolor\":\"white\",\"lakecolor\":\"white\",\"landcolor\":\"#E5ECF6\",\"showlakes\":true,\"showland\":true,\"subunitcolor\":\"white\"},\"hoverlabel\":{\"align\":\"left\"},\"hovermode\":\"closest\",\"mapbox\":{\"style\":\"light\"},\"paper_bgcolor\":\"white\",\"plot_bgcolor\":\"#E5ECF6\",\"polar\":{\"angularaxis\":{\"gridcolor\":\"white\",\"linecolor\":\"white\",\"ticks\":\"\"},\"bgcolor\":\"#E5ECF6\",\"radialaxis\":{\"gridcolor\":\"white\",\"linecolor\":\"white\",\"ticks\":\"\"}},\"scene\":{\"xaxis\":{\"backgroundcolor\":\"#E5ECF6\",\"gridcolor\":\"white\",\"gridwidth\":2,\"linecolor\":\"white\",\"showbackground\":true,\"ticks\":\"\",\"zerolinecolor\":\"white\"},\"yaxis\":{\"backgroundcolor\":\"#E5ECF6\",\"gridcolor\":\"white\",\"gridwidth\":2,\"linecolor\":\"white\",\"showbackground\":true,\"ticks\":\"\",\"zerolinecolor\":\"white\"},\"zaxis\":{\"backgroundcolor\":\"#E5ECF6\",\"gridcolor\":\"white\",\"gridwidth\":2,\"linecolor\":\"white\",\"showbackground\":true,\"ticks\":\"\",\"zerolinecolor\":\"white\"}},\"shapedefaults\":{\"line\":{\"color\":\"#2a3f5f\"}},\"ternary\":{\"aaxis\":{\"gridcolor\":\"white\",\"linecolor\":\"white\",\"ticks\":\"\"},\"baxis\":{\"gridcolor\":\"white\",\"linecolor\":\"white\",\"ticks\":\"\"},\"bgcolor\":\"#E5ECF6\",\"caxis\":{\"gridcolor\":\"white\",\"linecolor\":\"white\",\"ticks\":\"\"}},\"title\":{\"x\":0.05},\"xaxis\":{\"automargin\":true,\"gridcolor\":\"white\",\"linecolor\":\"white\",\"ticks\":\"\",\"title\":{\"standoff\":15},\"zerolinecolor\":\"white\",\"zerolinewidth\":2},\"yaxis\":{\"automargin\":true,\"gridcolor\":\"white\",\"linecolor\":\"white\",\"ticks\":\"\",\"title\":{\"standoff\":15},\"zerolinecolor\":\"white\",\"zerolinewidth\":2}}},\"legend\":{\"title\":{\"text\":\"\\u0413\\u0440\\u0443\\u043f\\u043f\\u0430\"},\"orientation\":\"h\"},\"font\":{\"family\":\"Courier New, monospace\",\"size\":12.5,\"color\":\"RebeccaPurple\"},\"title\":{\"text\":\"\\u0412\\u043e\\u0440\\u043e\\u043d\\u043a\\u0430 \\u0441\\u043e\\u0431\\u044b\\u0442\\u0438\\u0439\"},\"yaxis\":{\"title\":{\"text\":\"\\u041d\\u0430\\u0437\\u0432\\u0430\\u043d\\u0438\\u0435 \\u0441\\u043e\\u0431\\u044b\\u0442\\u0438\\u044f \\u0432\\u043e\\u0440\\u043e\\u043d\\u043a\\u0438\"}}},                        {\"responsive\": true}                    ).then(function(){\n",
       "                            \n",
       "var gd = document.getElementById('3e656659-e5c9-4a5d-b06c-c655b6363288');\n",
       "var x = new MutationObserver(function (mutations, observer) {{\n",
       "        var display = window.getComputedStyle(gd).display;\n",
       "        if (!display || display === 'none') {{\n",
       "            console.log([gd, 'removed!']);\n",
       "            Plotly.purge(gd);\n",
       "            observer.disconnect();\n",
       "        }}\n",
       "}});\n",
       "\n",
       "// Listen for the removal of the full notebook cells\n",
       "var notebookContainer = gd.closest('#notebook-container');\n",
       "if (notebookContainer) {{\n",
       "    x.observe(notebookContainer, {childList: true});\n",
       "}}\n",
       "\n",
       "// Listen for the clearing of the current output cell\n",
       "var outputEl = gd.closest('.output');\n",
       "if (outputEl) {{\n",
       "    x.observe(outputEl, {childList: true});\n",
       "}}\n",
       "\n",
       "                        })                };                });            </script>        </div>"
      ]
     },
     "metadata": {},
     "output_type": "display_data"
    }
   ],
   "source": [
    "stat_difference(247, 248, 0.05, data(247, 248))\n",
    "funnel(247, 248, data(247, 248))"
   ]
  },
  {
   "cell_type": "markdown",
   "metadata": {},
   "source": [
    "Теперь сравним объединенную группу, состоящую из контрольных 246 и 247 групп и эксперементальную 248 группу. По воронке событий видно, что разница в конверсии составляет также 1-2%.  \n",
    "Проведя статистический тест, получили, что для всех событий не получилось отвергнуть нулевую гипотезу, поэтому оснований считать доли разными нет."
   ]
  },
  {
   "cell_type": "code",
   "execution_count": 70,
   "metadata": {},
   "outputs": [
    {
     "data": {
      "text/html": [
       "<div>\n",
       "<style scoped>\n",
       "    .dataframe tbody tr th:only-of-type {\n",
       "        vertical-align: middle;\n",
       "    }\n",
       "\n",
       "    .dataframe tbody tr th {\n",
       "        vertical-align: top;\n",
       "    }\n",
       "\n",
       "    .dataframe thead th {\n",
       "        text-align: right;\n",
       "    }\n",
       "</style>\n",
       "<table border=\"1\" class=\"dataframe\">\n",
       "  <thead>\n",
       "    <tr style=\"text-align: right;\">\n",
       "      <th>exp_id</th>\n",
       "      <th>event_name</th>\n",
       "      <th>246</th>\n",
       "      <th>247</th>\n",
       "      <th>248</th>\n",
       "      <th>246+247</th>\n",
       "      <th>combined</th>\n",
       "      <th>p_246+247</th>\n",
       "      <th>p_248</th>\n",
       "      <th>difference</th>\n",
       "      <th>z_value</th>\n",
       "      <th>p_value</th>\n",
       "    </tr>\n",
       "  </thead>\n",
       "  <tbody>\n",
       "    <tr>\n",
       "      <th>0</th>\n",
       "      <td>MainScreenAppear</td>\n",
       "      <td>2450</td>\n",
       "      <td>2476</td>\n",
       "      <td>2493</td>\n",
       "      <td>4926</td>\n",
       "      <td>0.985259</td>\n",
       "      <td>0.986186</td>\n",
       "      <td>0.983432</td>\n",
       "      <td>0.002754</td>\n",
       "      <td>0.937175</td>\n",
       "      <td>0.348668</td>\n",
       "    </tr>\n",
       "    <tr>\n",
       "      <th>1</th>\n",
       "      <td>OffersScreenAppear</td>\n",
       "      <td>1542</td>\n",
       "      <td>1520</td>\n",
       "      <td>1531</td>\n",
       "      <td>3062</td>\n",
       "      <td>0.609960</td>\n",
       "      <td>0.613013</td>\n",
       "      <td>0.603945</td>\n",
       "      <td>0.009068</td>\n",
       "      <td>0.762390</td>\n",
       "      <td>0.445827</td>\n",
       "    </tr>\n",
       "    <tr>\n",
       "      <th>2</th>\n",
       "      <td>CartScreenAppear</td>\n",
       "      <td>1266</td>\n",
       "      <td>1238</td>\n",
       "      <td>1230</td>\n",
       "      <td>2504</td>\n",
       "      <td>0.495883</td>\n",
       "      <td>0.501301</td>\n",
       "      <td>0.485207</td>\n",
       "      <td>0.016094</td>\n",
       "      <td>1.319998</td>\n",
       "      <td>0.186836</td>\n",
       "    </tr>\n",
       "    <tr>\n",
       "      <th>3</th>\n",
       "      <td>PaymentScreenSuccessful</td>\n",
       "      <td>1200</td>\n",
       "      <td>1158</td>\n",
       "      <td>1181</td>\n",
       "      <td>2358</td>\n",
       "      <td>0.469987</td>\n",
       "      <td>0.472072</td>\n",
       "      <td>0.465878</td>\n",
       "      <td>0.006194</td>\n",
       "      <td>0.508943</td>\n",
       "      <td>0.610792</td>\n",
       "    </tr>\n",
       "  </tbody>\n",
       "</table>\n",
       "</div>"
      ],
      "text/plain": [
       "exp_id               event_name   246   247   248  246+247  combined  \\\n",
       "0              MainScreenAppear  2450  2476  2493     4926  0.985259   \n",
       "1            OffersScreenAppear  1542  1520  1531     3062  0.609960   \n",
       "2              CartScreenAppear  1266  1238  1230     2504  0.495883   \n",
       "3       PaymentScreenSuccessful  1200  1158  1181     2358  0.469987   \n",
       "\n",
       "exp_id  p_246+247     p_248  difference   z_value   p_value  \n",
       "0        0.986186  0.983432    0.002754  0.937175  0.348668  \n",
       "1        0.613013  0.603945    0.009068  0.762390  0.445827  \n",
       "2        0.501301  0.485207    0.016094  1.319998  0.186836  \n",
       "3        0.472072  0.465878    0.006194  0.508943  0.610792  "
      ]
     },
     "metadata": {},
     "output_type": "display_data"
    },
    {
     "name": "stdout",
     "output_type": "stream",
     "text": [
      "Для групп 246+247 и 248 с заданным уровнем значимости 5%\n",
      "\n",
      "MainScreenAppear\n",
      "p-значение: 0.3487\n",
      "Не получилось отвергнуть нулевую гипотезу, нет оснований считать доли разными\n",
      "\n",
      "OffersScreenAppear\n",
      "p-значение: 0.4458\n",
      "Не получилось отвергнуть нулевую гипотезу, нет оснований считать доли разными\n",
      "\n",
      "CartScreenAppear\n",
      "p-значение: 0.1868\n",
      "Не получилось отвергнуть нулевую гипотезу, нет оснований считать доли разными\n",
      "\n",
      "PaymentScreenSuccessful\n",
      "p-значение: 0.6108\n",
      "Не получилось отвергнуть нулевую гипотезу, нет оснований считать доли разными\n",
      "\n"
     ]
    },
    {
     "data": {
      "application/vnd.plotly.v1+json": {
       "config": {
        "plotlyServerURL": "https://plot.ly"
       },
       "data": [
        {
         "name": "246+247",
         "orientation": "h",
         "textinfo": "value+percent previous",
         "textposition": "inside",
         "type": "funnel",
         "x": [
          4926,
          3062,
          2504,
          2358
         ],
         "y": [
          "MainScreenAppear",
          "OffersScreenAppear",
          "CartScreenAppear",
          "PaymentScreenSuccessful"
         ]
        },
        {
         "name": "248",
         "orientation": "h",
         "textinfo": "value+percent previous",
         "textposition": "inside",
         "type": "funnel",
         "x": [
          2493,
          1531,
          1230,
          1181
         ],
         "y": [
          "MainScreenAppear",
          "OffersScreenAppear",
          "CartScreenAppear",
          "PaymentScreenSuccessful"
         ]
        }
       ],
       "layout": {
        "font": {
         "color": "RebeccaPurple",
         "family": "Courier New, monospace",
         "size": 12.5
        },
        "legend": {
         "orientation": "h",
         "title": {
          "text": "Группа"
         }
        },
        "template": {
         "data": {
          "bar": [
           {
            "error_x": {
             "color": "#2a3f5f"
            },
            "error_y": {
             "color": "#2a3f5f"
            },
            "marker": {
             "line": {
              "color": "#E5ECF6",
              "width": 0.5
             },
             "pattern": {
              "fillmode": "overlay",
              "size": 10,
              "solidity": 0.2
             }
            },
            "type": "bar"
           }
          ],
          "barpolar": [
           {
            "marker": {
             "line": {
              "color": "#E5ECF6",
              "width": 0.5
             },
             "pattern": {
              "fillmode": "overlay",
              "size": 10,
              "solidity": 0.2
             }
            },
            "type": "barpolar"
           }
          ],
          "carpet": [
           {
            "aaxis": {
             "endlinecolor": "#2a3f5f",
             "gridcolor": "white",
             "linecolor": "white",
             "minorgridcolor": "white",
             "startlinecolor": "#2a3f5f"
            },
            "baxis": {
             "endlinecolor": "#2a3f5f",
             "gridcolor": "white",
             "linecolor": "white",
             "minorgridcolor": "white",
             "startlinecolor": "#2a3f5f"
            },
            "type": "carpet"
           }
          ],
          "choropleth": [
           {
            "colorbar": {
             "outlinewidth": 0,
             "ticks": ""
            },
            "type": "choropleth"
           }
          ],
          "contour": [
           {
            "colorbar": {
             "outlinewidth": 0,
             "ticks": ""
            },
            "colorscale": [
             [
              0,
              "#0d0887"
             ],
             [
              0.1111111111111111,
              "#46039f"
             ],
             [
              0.2222222222222222,
              "#7201a8"
             ],
             [
              0.3333333333333333,
              "#9c179e"
             ],
             [
              0.4444444444444444,
              "#bd3786"
             ],
             [
              0.5555555555555556,
              "#d8576b"
             ],
             [
              0.6666666666666666,
              "#ed7953"
             ],
             [
              0.7777777777777778,
              "#fb9f3a"
             ],
             [
              0.8888888888888888,
              "#fdca26"
             ],
             [
              1,
              "#f0f921"
             ]
            ],
            "type": "contour"
           }
          ],
          "contourcarpet": [
           {
            "colorbar": {
             "outlinewidth": 0,
             "ticks": ""
            },
            "type": "contourcarpet"
           }
          ],
          "heatmap": [
           {
            "colorbar": {
             "outlinewidth": 0,
             "ticks": ""
            },
            "colorscale": [
             [
              0,
              "#0d0887"
             ],
             [
              0.1111111111111111,
              "#46039f"
             ],
             [
              0.2222222222222222,
              "#7201a8"
             ],
             [
              0.3333333333333333,
              "#9c179e"
             ],
             [
              0.4444444444444444,
              "#bd3786"
             ],
             [
              0.5555555555555556,
              "#d8576b"
             ],
             [
              0.6666666666666666,
              "#ed7953"
             ],
             [
              0.7777777777777778,
              "#fb9f3a"
             ],
             [
              0.8888888888888888,
              "#fdca26"
             ],
             [
              1,
              "#f0f921"
             ]
            ],
            "type": "heatmap"
           }
          ],
          "heatmapgl": [
           {
            "colorbar": {
             "outlinewidth": 0,
             "ticks": ""
            },
            "colorscale": [
             [
              0,
              "#0d0887"
             ],
             [
              0.1111111111111111,
              "#46039f"
             ],
             [
              0.2222222222222222,
              "#7201a8"
             ],
             [
              0.3333333333333333,
              "#9c179e"
             ],
             [
              0.4444444444444444,
              "#bd3786"
             ],
             [
              0.5555555555555556,
              "#d8576b"
             ],
             [
              0.6666666666666666,
              "#ed7953"
             ],
             [
              0.7777777777777778,
              "#fb9f3a"
             ],
             [
              0.8888888888888888,
              "#fdca26"
             ],
             [
              1,
              "#f0f921"
             ]
            ],
            "type": "heatmapgl"
           }
          ],
          "histogram": [
           {
            "marker": {
             "pattern": {
              "fillmode": "overlay",
              "size": 10,
              "solidity": 0.2
             }
            },
            "type": "histogram"
           }
          ],
          "histogram2d": [
           {
            "colorbar": {
             "outlinewidth": 0,
             "ticks": ""
            },
            "colorscale": [
             [
              0,
              "#0d0887"
             ],
             [
              0.1111111111111111,
              "#46039f"
             ],
             [
              0.2222222222222222,
              "#7201a8"
             ],
             [
              0.3333333333333333,
              "#9c179e"
             ],
             [
              0.4444444444444444,
              "#bd3786"
             ],
             [
              0.5555555555555556,
              "#d8576b"
             ],
             [
              0.6666666666666666,
              "#ed7953"
             ],
             [
              0.7777777777777778,
              "#fb9f3a"
             ],
             [
              0.8888888888888888,
              "#fdca26"
             ],
             [
              1,
              "#f0f921"
             ]
            ],
            "type": "histogram2d"
           }
          ],
          "histogram2dcontour": [
           {
            "colorbar": {
             "outlinewidth": 0,
             "ticks": ""
            },
            "colorscale": [
             [
              0,
              "#0d0887"
             ],
             [
              0.1111111111111111,
              "#46039f"
             ],
             [
              0.2222222222222222,
              "#7201a8"
             ],
             [
              0.3333333333333333,
              "#9c179e"
             ],
             [
              0.4444444444444444,
              "#bd3786"
             ],
             [
              0.5555555555555556,
              "#d8576b"
             ],
             [
              0.6666666666666666,
              "#ed7953"
             ],
             [
              0.7777777777777778,
              "#fb9f3a"
             ],
             [
              0.8888888888888888,
              "#fdca26"
             ],
             [
              1,
              "#f0f921"
             ]
            ],
            "type": "histogram2dcontour"
           }
          ],
          "mesh3d": [
           {
            "colorbar": {
             "outlinewidth": 0,
             "ticks": ""
            },
            "type": "mesh3d"
           }
          ],
          "parcoords": [
           {
            "line": {
             "colorbar": {
              "outlinewidth": 0,
              "ticks": ""
             }
            },
            "type": "parcoords"
           }
          ],
          "pie": [
           {
            "automargin": true,
            "type": "pie"
           }
          ],
          "scatter": [
           {
            "marker": {
             "colorbar": {
              "outlinewidth": 0,
              "ticks": ""
             }
            },
            "type": "scatter"
           }
          ],
          "scatter3d": [
           {
            "line": {
             "colorbar": {
              "outlinewidth": 0,
              "ticks": ""
             }
            },
            "marker": {
             "colorbar": {
              "outlinewidth": 0,
              "ticks": ""
             }
            },
            "type": "scatter3d"
           }
          ],
          "scattercarpet": [
           {
            "marker": {
             "colorbar": {
              "outlinewidth": 0,
              "ticks": ""
             }
            },
            "type": "scattercarpet"
           }
          ],
          "scattergeo": [
           {
            "marker": {
             "colorbar": {
              "outlinewidth": 0,
              "ticks": ""
             }
            },
            "type": "scattergeo"
           }
          ],
          "scattergl": [
           {
            "marker": {
             "colorbar": {
              "outlinewidth": 0,
              "ticks": ""
             }
            },
            "type": "scattergl"
           }
          ],
          "scattermapbox": [
           {
            "marker": {
             "colorbar": {
              "outlinewidth": 0,
              "ticks": ""
             }
            },
            "type": "scattermapbox"
           }
          ],
          "scatterpolar": [
           {
            "marker": {
             "colorbar": {
              "outlinewidth": 0,
              "ticks": ""
             }
            },
            "type": "scatterpolar"
           }
          ],
          "scatterpolargl": [
           {
            "marker": {
             "colorbar": {
              "outlinewidth": 0,
              "ticks": ""
             }
            },
            "type": "scatterpolargl"
           }
          ],
          "scatterternary": [
           {
            "marker": {
             "colorbar": {
              "outlinewidth": 0,
              "ticks": ""
             }
            },
            "type": "scatterternary"
           }
          ],
          "surface": [
           {
            "colorbar": {
             "outlinewidth": 0,
             "ticks": ""
            },
            "colorscale": [
             [
              0,
              "#0d0887"
             ],
             [
              0.1111111111111111,
              "#46039f"
             ],
             [
              0.2222222222222222,
              "#7201a8"
             ],
             [
              0.3333333333333333,
              "#9c179e"
             ],
             [
              0.4444444444444444,
              "#bd3786"
             ],
             [
              0.5555555555555556,
              "#d8576b"
             ],
             [
              0.6666666666666666,
              "#ed7953"
             ],
             [
              0.7777777777777778,
              "#fb9f3a"
             ],
             [
              0.8888888888888888,
              "#fdca26"
             ],
             [
              1,
              "#f0f921"
             ]
            ],
            "type": "surface"
           }
          ],
          "table": [
           {
            "cells": {
             "fill": {
              "color": "#EBF0F8"
             },
             "line": {
              "color": "white"
             }
            },
            "header": {
             "fill": {
              "color": "#C8D4E3"
             },
             "line": {
              "color": "white"
             }
            },
            "type": "table"
           }
          ]
         },
         "layout": {
          "annotationdefaults": {
           "arrowcolor": "#2a3f5f",
           "arrowhead": 0,
           "arrowwidth": 1
          },
          "autotypenumbers": "strict",
          "coloraxis": {
           "colorbar": {
            "outlinewidth": 0,
            "ticks": ""
           }
          },
          "colorscale": {
           "diverging": [
            [
             0,
             "#8e0152"
            ],
            [
             0.1,
             "#c51b7d"
            ],
            [
             0.2,
             "#de77ae"
            ],
            [
             0.3,
             "#f1b6da"
            ],
            [
             0.4,
             "#fde0ef"
            ],
            [
             0.5,
             "#f7f7f7"
            ],
            [
             0.6,
             "#e6f5d0"
            ],
            [
             0.7,
             "#b8e186"
            ],
            [
             0.8,
             "#7fbc41"
            ],
            [
             0.9,
             "#4d9221"
            ],
            [
             1,
             "#276419"
            ]
           ],
           "sequential": [
            [
             0,
             "#0d0887"
            ],
            [
             0.1111111111111111,
             "#46039f"
            ],
            [
             0.2222222222222222,
             "#7201a8"
            ],
            [
             0.3333333333333333,
             "#9c179e"
            ],
            [
             0.4444444444444444,
             "#bd3786"
            ],
            [
             0.5555555555555556,
             "#d8576b"
            ],
            [
             0.6666666666666666,
             "#ed7953"
            ],
            [
             0.7777777777777778,
             "#fb9f3a"
            ],
            [
             0.8888888888888888,
             "#fdca26"
            ],
            [
             1,
             "#f0f921"
            ]
           ],
           "sequentialminus": [
            [
             0,
             "#0d0887"
            ],
            [
             0.1111111111111111,
             "#46039f"
            ],
            [
             0.2222222222222222,
             "#7201a8"
            ],
            [
             0.3333333333333333,
             "#9c179e"
            ],
            [
             0.4444444444444444,
             "#bd3786"
            ],
            [
             0.5555555555555556,
             "#d8576b"
            ],
            [
             0.6666666666666666,
             "#ed7953"
            ],
            [
             0.7777777777777778,
             "#fb9f3a"
            ],
            [
             0.8888888888888888,
             "#fdca26"
            ],
            [
             1,
             "#f0f921"
            ]
           ]
          },
          "colorway": [
           "#636efa",
           "#EF553B",
           "#00cc96",
           "#ab63fa",
           "#FFA15A",
           "#19d3f3",
           "#FF6692",
           "#B6E880",
           "#FF97FF",
           "#FECB52"
          ],
          "font": {
           "color": "#2a3f5f"
          },
          "geo": {
           "bgcolor": "white",
           "lakecolor": "white",
           "landcolor": "#E5ECF6",
           "showlakes": true,
           "showland": true,
           "subunitcolor": "white"
          },
          "hoverlabel": {
           "align": "left"
          },
          "hovermode": "closest",
          "mapbox": {
           "style": "light"
          },
          "paper_bgcolor": "white",
          "plot_bgcolor": "#E5ECF6",
          "polar": {
           "angularaxis": {
            "gridcolor": "white",
            "linecolor": "white",
            "ticks": ""
           },
           "bgcolor": "#E5ECF6",
           "radialaxis": {
            "gridcolor": "white",
            "linecolor": "white",
            "ticks": ""
           }
          },
          "scene": {
           "xaxis": {
            "backgroundcolor": "#E5ECF6",
            "gridcolor": "white",
            "gridwidth": 2,
            "linecolor": "white",
            "showbackground": true,
            "ticks": "",
            "zerolinecolor": "white"
           },
           "yaxis": {
            "backgroundcolor": "#E5ECF6",
            "gridcolor": "white",
            "gridwidth": 2,
            "linecolor": "white",
            "showbackground": true,
            "ticks": "",
            "zerolinecolor": "white"
           },
           "zaxis": {
            "backgroundcolor": "#E5ECF6",
            "gridcolor": "white",
            "gridwidth": 2,
            "linecolor": "white",
            "showbackground": true,
            "ticks": "",
            "zerolinecolor": "white"
           }
          },
          "shapedefaults": {
           "line": {
            "color": "#2a3f5f"
           }
          },
          "ternary": {
           "aaxis": {
            "gridcolor": "white",
            "linecolor": "white",
            "ticks": ""
           },
           "baxis": {
            "gridcolor": "white",
            "linecolor": "white",
            "ticks": ""
           },
           "bgcolor": "#E5ECF6",
           "caxis": {
            "gridcolor": "white",
            "linecolor": "white",
            "ticks": ""
           }
          },
          "title": {
           "x": 0.05
          },
          "xaxis": {
           "automargin": true,
           "gridcolor": "white",
           "linecolor": "white",
           "ticks": "",
           "title": {
            "standoff": 15
           },
           "zerolinecolor": "white",
           "zerolinewidth": 2
          },
          "yaxis": {
           "automargin": true,
           "gridcolor": "white",
           "linecolor": "white",
           "ticks": "",
           "title": {
            "standoff": 15
           },
           "zerolinecolor": "white",
           "zerolinewidth": 2
          }
         }
        },
        "title": {
         "text": "Воронка событий"
        },
        "yaxis": {
         "title": {
          "text": "Название события воронки"
         }
        }
       }
      },
      "text/html": [
       "<div>                            <div id=\"29718aa8-8323-4a42-a258-14cf872ffa32\" class=\"plotly-graph-div\" style=\"height:525px; width:100%;\"></div>            <script type=\"text/javascript\">                require([\"plotly\"], function(Plotly) {                    window.PLOTLYENV=window.PLOTLYENV || {};                                    if (document.getElementById(\"29718aa8-8323-4a42-a258-14cf872ffa32\")) {                    Plotly.newPlot(                        \"29718aa8-8323-4a42-a258-14cf872ffa32\",                        [{\"name\":\"246+247\",\"orientation\":\"h\",\"textinfo\":\"value+percent previous\",\"textposition\":\"inside\",\"x\":[4926,3062,2504,2358],\"y\":[\"MainScreenAppear\",\"OffersScreenAppear\",\"CartScreenAppear\",\"PaymentScreenSuccessful\"],\"type\":\"funnel\"},{\"name\":\"248\",\"orientation\":\"h\",\"textinfo\":\"value+percent previous\",\"textposition\":\"inside\",\"x\":[2493,1531,1230,1181],\"y\":[\"MainScreenAppear\",\"OffersScreenAppear\",\"CartScreenAppear\",\"PaymentScreenSuccessful\"],\"type\":\"funnel\"}],                        {\"template\":{\"data\":{\"bar\":[{\"error_x\":{\"color\":\"#2a3f5f\"},\"error_y\":{\"color\":\"#2a3f5f\"},\"marker\":{\"line\":{\"color\":\"#E5ECF6\",\"width\":0.5},\"pattern\":{\"fillmode\":\"overlay\",\"size\":10,\"solidity\":0.2}},\"type\":\"bar\"}],\"barpolar\":[{\"marker\":{\"line\":{\"color\":\"#E5ECF6\",\"width\":0.5},\"pattern\":{\"fillmode\":\"overlay\",\"size\":10,\"solidity\":0.2}},\"type\":\"barpolar\"}],\"carpet\":[{\"aaxis\":{\"endlinecolor\":\"#2a3f5f\",\"gridcolor\":\"white\",\"linecolor\":\"white\",\"minorgridcolor\":\"white\",\"startlinecolor\":\"#2a3f5f\"},\"baxis\":{\"endlinecolor\":\"#2a3f5f\",\"gridcolor\":\"white\",\"linecolor\":\"white\",\"minorgridcolor\":\"white\",\"startlinecolor\":\"#2a3f5f\"},\"type\":\"carpet\"}],\"choropleth\":[{\"colorbar\":{\"outlinewidth\":0,\"ticks\":\"\"},\"type\":\"choropleth\"}],\"contour\":[{\"colorbar\":{\"outlinewidth\":0,\"ticks\":\"\"},\"colorscale\":[[0.0,\"#0d0887\"],[0.1111111111111111,\"#46039f\"],[0.2222222222222222,\"#7201a8\"],[0.3333333333333333,\"#9c179e\"],[0.4444444444444444,\"#bd3786\"],[0.5555555555555556,\"#d8576b\"],[0.6666666666666666,\"#ed7953\"],[0.7777777777777778,\"#fb9f3a\"],[0.8888888888888888,\"#fdca26\"],[1.0,\"#f0f921\"]],\"type\":\"contour\"}],\"contourcarpet\":[{\"colorbar\":{\"outlinewidth\":0,\"ticks\":\"\"},\"type\":\"contourcarpet\"}],\"heatmap\":[{\"colorbar\":{\"outlinewidth\":0,\"ticks\":\"\"},\"colorscale\":[[0.0,\"#0d0887\"],[0.1111111111111111,\"#46039f\"],[0.2222222222222222,\"#7201a8\"],[0.3333333333333333,\"#9c179e\"],[0.4444444444444444,\"#bd3786\"],[0.5555555555555556,\"#d8576b\"],[0.6666666666666666,\"#ed7953\"],[0.7777777777777778,\"#fb9f3a\"],[0.8888888888888888,\"#fdca26\"],[1.0,\"#f0f921\"]],\"type\":\"heatmap\"}],\"heatmapgl\":[{\"colorbar\":{\"outlinewidth\":0,\"ticks\":\"\"},\"colorscale\":[[0.0,\"#0d0887\"],[0.1111111111111111,\"#46039f\"],[0.2222222222222222,\"#7201a8\"],[0.3333333333333333,\"#9c179e\"],[0.4444444444444444,\"#bd3786\"],[0.5555555555555556,\"#d8576b\"],[0.6666666666666666,\"#ed7953\"],[0.7777777777777778,\"#fb9f3a\"],[0.8888888888888888,\"#fdca26\"],[1.0,\"#f0f921\"]],\"type\":\"heatmapgl\"}],\"histogram\":[{\"marker\":{\"pattern\":{\"fillmode\":\"overlay\",\"size\":10,\"solidity\":0.2}},\"type\":\"histogram\"}],\"histogram2d\":[{\"colorbar\":{\"outlinewidth\":0,\"ticks\":\"\"},\"colorscale\":[[0.0,\"#0d0887\"],[0.1111111111111111,\"#46039f\"],[0.2222222222222222,\"#7201a8\"],[0.3333333333333333,\"#9c179e\"],[0.4444444444444444,\"#bd3786\"],[0.5555555555555556,\"#d8576b\"],[0.6666666666666666,\"#ed7953\"],[0.7777777777777778,\"#fb9f3a\"],[0.8888888888888888,\"#fdca26\"],[1.0,\"#f0f921\"]],\"type\":\"histogram2d\"}],\"histogram2dcontour\":[{\"colorbar\":{\"outlinewidth\":0,\"ticks\":\"\"},\"colorscale\":[[0.0,\"#0d0887\"],[0.1111111111111111,\"#46039f\"],[0.2222222222222222,\"#7201a8\"],[0.3333333333333333,\"#9c179e\"],[0.4444444444444444,\"#bd3786\"],[0.5555555555555556,\"#d8576b\"],[0.6666666666666666,\"#ed7953\"],[0.7777777777777778,\"#fb9f3a\"],[0.8888888888888888,\"#fdca26\"],[1.0,\"#f0f921\"]],\"type\":\"histogram2dcontour\"}],\"mesh3d\":[{\"colorbar\":{\"outlinewidth\":0,\"ticks\":\"\"},\"type\":\"mesh3d\"}],\"parcoords\":[{\"line\":{\"colorbar\":{\"outlinewidth\":0,\"ticks\":\"\"}},\"type\":\"parcoords\"}],\"pie\":[{\"automargin\":true,\"type\":\"pie\"}],\"scatter\":[{\"marker\":{\"colorbar\":{\"outlinewidth\":0,\"ticks\":\"\"}},\"type\":\"scatter\"}],\"scatter3d\":[{\"line\":{\"colorbar\":{\"outlinewidth\":0,\"ticks\":\"\"}},\"marker\":{\"colorbar\":{\"outlinewidth\":0,\"ticks\":\"\"}},\"type\":\"scatter3d\"}],\"scattercarpet\":[{\"marker\":{\"colorbar\":{\"outlinewidth\":0,\"ticks\":\"\"}},\"type\":\"scattercarpet\"}],\"scattergeo\":[{\"marker\":{\"colorbar\":{\"outlinewidth\":0,\"ticks\":\"\"}},\"type\":\"scattergeo\"}],\"scattergl\":[{\"marker\":{\"colorbar\":{\"outlinewidth\":0,\"ticks\":\"\"}},\"type\":\"scattergl\"}],\"scattermapbox\":[{\"marker\":{\"colorbar\":{\"outlinewidth\":0,\"ticks\":\"\"}},\"type\":\"scattermapbox\"}],\"scatterpolar\":[{\"marker\":{\"colorbar\":{\"outlinewidth\":0,\"ticks\":\"\"}},\"type\":\"scatterpolar\"}],\"scatterpolargl\":[{\"marker\":{\"colorbar\":{\"outlinewidth\":0,\"ticks\":\"\"}},\"type\":\"scatterpolargl\"}],\"scatterternary\":[{\"marker\":{\"colorbar\":{\"outlinewidth\":0,\"ticks\":\"\"}},\"type\":\"scatterternary\"}],\"surface\":[{\"colorbar\":{\"outlinewidth\":0,\"ticks\":\"\"},\"colorscale\":[[0.0,\"#0d0887\"],[0.1111111111111111,\"#46039f\"],[0.2222222222222222,\"#7201a8\"],[0.3333333333333333,\"#9c179e\"],[0.4444444444444444,\"#bd3786\"],[0.5555555555555556,\"#d8576b\"],[0.6666666666666666,\"#ed7953\"],[0.7777777777777778,\"#fb9f3a\"],[0.8888888888888888,\"#fdca26\"],[1.0,\"#f0f921\"]],\"type\":\"surface\"}],\"table\":[{\"cells\":{\"fill\":{\"color\":\"#EBF0F8\"},\"line\":{\"color\":\"white\"}},\"header\":{\"fill\":{\"color\":\"#C8D4E3\"},\"line\":{\"color\":\"white\"}},\"type\":\"table\"}]},\"layout\":{\"annotationdefaults\":{\"arrowcolor\":\"#2a3f5f\",\"arrowhead\":0,\"arrowwidth\":1},\"autotypenumbers\":\"strict\",\"coloraxis\":{\"colorbar\":{\"outlinewidth\":0,\"ticks\":\"\"}},\"colorscale\":{\"diverging\":[[0,\"#8e0152\"],[0.1,\"#c51b7d\"],[0.2,\"#de77ae\"],[0.3,\"#f1b6da\"],[0.4,\"#fde0ef\"],[0.5,\"#f7f7f7\"],[0.6,\"#e6f5d0\"],[0.7,\"#b8e186\"],[0.8,\"#7fbc41\"],[0.9,\"#4d9221\"],[1,\"#276419\"]],\"sequential\":[[0.0,\"#0d0887\"],[0.1111111111111111,\"#46039f\"],[0.2222222222222222,\"#7201a8\"],[0.3333333333333333,\"#9c179e\"],[0.4444444444444444,\"#bd3786\"],[0.5555555555555556,\"#d8576b\"],[0.6666666666666666,\"#ed7953\"],[0.7777777777777778,\"#fb9f3a\"],[0.8888888888888888,\"#fdca26\"],[1.0,\"#f0f921\"]],\"sequentialminus\":[[0.0,\"#0d0887\"],[0.1111111111111111,\"#46039f\"],[0.2222222222222222,\"#7201a8\"],[0.3333333333333333,\"#9c179e\"],[0.4444444444444444,\"#bd3786\"],[0.5555555555555556,\"#d8576b\"],[0.6666666666666666,\"#ed7953\"],[0.7777777777777778,\"#fb9f3a\"],[0.8888888888888888,\"#fdca26\"],[1.0,\"#f0f921\"]]},\"colorway\":[\"#636efa\",\"#EF553B\",\"#00cc96\",\"#ab63fa\",\"#FFA15A\",\"#19d3f3\",\"#FF6692\",\"#B6E880\",\"#FF97FF\",\"#FECB52\"],\"font\":{\"color\":\"#2a3f5f\"},\"geo\":{\"bgcolor\":\"white\",\"lakecolor\":\"white\",\"landcolor\":\"#E5ECF6\",\"showlakes\":true,\"showland\":true,\"subunitcolor\":\"white\"},\"hoverlabel\":{\"align\":\"left\"},\"hovermode\":\"closest\",\"mapbox\":{\"style\":\"light\"},\"paper_bgcolor\":\"white\",\"plot_bgcolor\":\"#E5ECF6\",\"polar\":{\"angularaxis\":{\"gridcolor\":\"white\",\"linecolor\":\"white\",\"ticks\":\"\"},\"bgcolor\":\"#E5ECF6\",\"radialaxis\":{\"gridcolor\":\"white\",\"linecolor\":\"white\",\"ticks\":\"\"}},\"scene\":{\"xaxis\":{\"backgroundcolor\":\"#E5ECF6\",\"gridcolor\":\"white\",\"gridwidth\":2,\"linecolor\":\"white\",\"showbackground\":true,\"ticks\":\"\",\"zerolinecolor\":\"white\"},\"yaxis\":{\"backgroundcolor\":\"#E5ECF6\",\"gridcolor\":\"white\",\"gridwidth\":2,\"linecolor\":\"white\",\"showbackground\":true,\"ticks\":\"\",\"zerolinecolor\":\"white\"},\"zaxis\":{\"backgroundcolor\":\"#E5ECF6\",\"gridcolor\":\"white\",\"gridwidth\":2,\"linecolor\":\"white\",\"showbackground\":true,\"ticks\":\"\",\"zerolinecolor\":\"white\"}},\"shapedefaults\":{\"line\":{\"color\":\"#2a3f5f\"}},\"ternary\":{\"aaxis\":{\"gridcolor\":\"white\",\"linecolor\":\"white\",\"ticks\":\"\"},\"baxis\":{\"gridcolor\":\"white\",\"linecolor\":\"white\",\"ticks\":\"\"},\"bgcolor\":\"#E5ECF6\",\"caxis\":{\"gridcolor\":\"white\",\"linecolor\":\"white\",\"ticks\":\"\"}},\"title\":{\"x\":0.05},\"xaxis\":{\"automargin\":true,\"gridcolor\":\"white\",\"linecolor\":\"white\",\"ticks\":\"\",\"title\":{\"standoff\":15},\"zerolinecolor\":\"white\",\"zerolinewidth\":2},\"yaxis\":{\"automargin\":true,\"gridcolor\":\"white\",\"linecolor\":\"white\",\"ticks\":\"\",\"title\":{\"standoff\":15},\"zerolinecolor\":\"white\",\"zerolinewidth\":2}}},\"legend\":{\"title\":{\"text\":\"\\u0413\\u0440\\u0443\\u043f\\u043f\\u0430\"},\"orientation\":\"h\"},\"font\":{\"family\":\"Courier New, monospace\",\"size\":12.5,\"color\":\"RebeccaPurple\"},\"title\":{\"text\":\"\\u0412\\u043e\\u0440\\u043e\\u043d\\u043a\\u0430 \\u0441\\u043e\\u0431\\u044b\\u0442\\u0438\\u0439\"},\"yaxis\":{\"title\":{\"text\":\"\\u041d\\u0430\\u0437\\u0432\\u0430\\u043d\\u0438\\u0435 \\u0441\\u043e\\u0431\\u044b\\u0442\\u0438\\u044f \\u0432\\u043e\\u0440\\u043e\\u043d\\u043a\\u0438\"}}},                        {\"responsive\": true}                    ).then(function(){\n",
       "                            \n",
       "var gd = document.getElementById('29718aa8-8323-4a42-a258-14cf872ffa32');\n",
       "var x = new MutationObserver(function (mutations, observer) {{\n",
       "        var display = window.getComputedStyle(gd).display;\n",
       "        if (!display || display === 'none') {{\n",
       "            console.log([gd, 'removed!']);\n",
       "            Plotly.purge(gd);\n",
       "            observer.disconnect();\n",
       "        }}\n",
       "}});\n",
       "\n",
       "// Listen for the removal of the full notebook cells\n",
       "var notebookContainer = gd.closest('#notebook-container');\n",
       "if (notebookContainer) {{\n",
       "    x.observe(notebookContainer, {childList: true});\n",
       "}}\n",
       "\n",
       "// Listen for the clearing of the current output cell\n",
       "var outputEl = gd.closest('.output');\n",
       "if (outputEl) {{\n",
       "    x.observe(outputEl, {childList: true});\n",
       "}}\n",
       "\n",
       "                        })                };                });            </script>        </div>"
      ]
     },
     "metadata": {},
     "output_type": "display_data"
    }
   ],
   "source": [
    "stat_difference('246+247', 248, 0.05, data('246+247', 248))\n",
    "funnel('246+247', 248, data('246+247', 248))"
   ]
  },
  {
   "cell_type": "markdown",
   "metadata": {},
   "source": [
    "#### Функция для проверки без использования датасета\n"
   ]
  },
  {
   "cell_type": "code",
   "execution_count": 71,
   "metadata": {},
   "outputs": [],
   "source": [
    "def stat_diff(group1, group2, event, alpha):\n",
    "    logs = logs_exp_new.copy()\n",
    "    logs.exp_id = logs.exp_id.replace({247:246})\n",
    "    if group1 == '246+247' or group2 == '246+247':\n",
    "        successes = np.array(logs.query('event_name == @event')\n",
    "                             .groupby('exp_id').nunique()\n",
    "                             .sort_values(by='device_id_hash').device_id_hash)\n",
    "        trials = np.array(users.query('exp_id in (\"246+247\", 248)').device_id_hash)\n",
    "        \n",
    "    else:\n",
    "        successes = np.array(logs_exp_new.query('exp_id in (@group1, @group2) & event_name == @event')\n",
    "                                 .groupby('exp_id').nunique().device_id_hash)\n",
    "        trials = np.array(users.query('exp_id in (@group1, @group2)').device_id_hash)\n",
    "\n",
    "    # пропорция успехов в первой группе:\n",
    "    p1 = successes[0]/trials[0]\n",
    "\n",
    "    # пропорция успехов во второй группе:\n",
    "    p2 = successes[1]/trials[1]\n",
    "\n",
    "    # пропорция успехов в комбинированном датасете:\n",
    "    p_combined = (successes[0] + successes[1]) / (trials[0] + trials[1])\n",
    "\n",
    "    # разница пропорций в датасетах\n",
    "    difference = p1 - p2 \n",
    "\n",
    "    # считаем статистику в ст.отклонениях стандартного нормального распределения\n",
    "    z_value = difference / mth.sqrt(p_combined * (1 - p_combined) * (1/trials[0] + 1/trials[1]))\n",
    "\n",
    "    p_value = (1 - stats.norm(0, 1).cdf(abs(z_value))) * 2\n",
    "    \n",
    "    print(f'{event}')\n",
    "    print(f'Для групп {group1} и {group2} с заданным уровнем значимости {alpha:.2%}')\n",
    "    print(f'p-значение: {p_value:.4f}')\n",
    "\n",
    "    if p_value < alpha:\n",
    "        print('Отвергаем нулевую гипотезу: между долями есть значимая разница')\n",
    "    else:\n",
    "        print('Не получилось отвергнуть нулевую гипотезу, нет оснований считать доли разными') \n",
    "    print()"
   ]
  },
  {
   "cell_type": "code",
   "execution_count": 72,
   "metadata": {},
   "outputs": [],
   "source": [
    "# for event in event_name:\n",
    "#     stat_diff(246, 247, event, .05)\n",
    "    \n",
    "# for event in event_name:\n",
    "#     stat_diff(246, 248, event, .05)\n",
    "    \n",
    "# for event in event_name:\n",
    "#     stat_diff(247, 248, event, .05)\n",
    "    \n",
    "# for event in event_name:\n",
    "#     stat_diff('246+247', 248, event, .05)"
   ]
  },
  {
   "cell_type": "markdown",
   "metadata": {},
   "source": [
    "Таким образом, проведя проверку гипотез для всех групп, можно сделать вывод, что ни для одной из них значимых различий между событиями групп выявлено не было. То есть конверсия для пользователей со старым шрифтом и с новым одинаковая. Изменение шрифта никак не повлияло на пользователей ни в худшую, ни в лучшую сторону. Шрифт не отпугнул пользователей, как боялись менеджеры, но и не привлек, поэтому шрифт в целом можно оставить прежним, если его изменение несет большие дополнительные затраты."
   ]
  },
  {
   "cell_type": "markdown",
   "metadata": {},
   "source": [
    "### Проверка гипотез с учетом поправки Бонферрони\n",
    "Для проверки статистических гипотез был выбран уровень значимости 5%. Всего было сделано 16 проверок статистических гипотез для 3 различных групп. Поскольку это множественный тест и его особенность в том, что с каждой новой проверкой гипотезы растёт вероятность ошибки первого рода, то необходимо применить один из методов корректировки уровня значимости. Применим поправку Бонферрони, так как этот метод более простой и часто используемый. "
   ]
  },
  {
   "cell_type": "code",
   "execution_count": 73,
   "metadata": {},
   "outputs": [
    {
     "name": "stdout",
     "output_type": "stream",
     "text": [
      "MainScreenAppear\n",
      "Для групп 246 и 247 с заданным уровнем значимости 0.31%\n",
      "p-значение: 0.7527\n",
      "Не получилось отвергнуть нулевую гипотезу, нет оснований считать доли разными\n",
      "\n",
      "OffersScreenAppear\n",
      "Для групп 246 и 247 с заданным уровнем значимости 0.31%\n",
      "p-значение: 0.2479\n",
      "Не получилось отвергнуть нулевую гипотезу, нет оснований считать доли разными\n",
      "\n",
      "CartScreenAppear\n",
      "Для групп 246 и 247 с заданным уровнем значимости 0.31%\n",
      "p-значение: 0.2287\n",
      "Не получилось отвергнуть нулевую гипотезу, нет оснований считать доли разными\n",
      "\n",
      "PaymentScreenSuccessful\n",
      "Для групп 246 и 247 с заданным уровнем значимости 0.31%\n",
      "p-значение: 0.1145\n",
      "Не получилось отвергнуть нулевую гипотезу, нет оснований считать доли разными\n",
      "\n"
     ]
    }
   ],
   "source": [
    "# скорректируем уровень значимости, применив поправку Бонферрони\n",
    "alpha = .05\n",
    "bonferroni_alpha = alpha / 16\n",
    "    \n",
    "for event in event_name:\n",
    "    stat_diff(246, 247, event, bonferroni_alpha)"
   ]
  },
  {
   "cell_type": "code",
   "execution_count": 74,
   "metadata": {},
   "outputs": [
    {
     "name": "stdout",
     "output_type": "stream",
     "text": [
      "MainScreenAppear\n",
      "Для групп 246 и 248 с заданным уровнем значимости 0.31%\n",
      "p-значение: 0.3387\n",
      "Не получилось отвергнуть нулевую гипотезу, нет оснований считать доли разными\n",
      "\n",
      "OffersScreenAppear\n",
      "Для групп 246 и 248 с заданным уровнем значимости 0.31%\n",
      "p-значение: 0.2144\n",
      "Не получилось отвергнуть нулевую гипотезу, нет оснований считать доли разными\n",
      "\n",
      "CartScreenAppear\n",
      "Для групп 246 и 248 с заданным уровнем значимости 0.31%\n",
      "p-значение: 0.0807\n",
      "Не получилось отвергнуть нулевую гипотезу, нет оснований считать доли разными\n",
      "\n",
      "PaymentScreenSuccessful\n",
      "Для групп 246 и 248 с заданным уровнем значимости 0.31%\n",
      "p-значение: 0.2169\n",
      "Не получилось отвергнуть нулевую гипотезу, нет оснований считать доли разными\n",
      "\n"
     ]
    }
   ],
   "source": [
    "# скорректируем уровень значимости, применив поправку Бонферрони\n",
    "alpha = .05\n",
    "bonferroni_alpha = alpha / 16\n",
    "\n",
    "for event in event_name:\n",
    "    stat_diff(246, 248, event, bonferroni_alpha)"
   ]
  },
  {
   "cell_type": "code",
   "execution_count": 75,
   "metadata": {},
   "outputs": [
    {
     "name": "stdout",
     "output_type": "stream",
     "text": [
      "MainScreenAppear\n",
      "Для групп 247 и 248 с заданным уровнем значимости 0.31%\n",
      "p-значение: 0.5195\n",
      "Не получилось отвергнуть нулевую гипотезу, нет оснований считать доли разными\n",
      "\n",
      "OffersScreenAppear\n",
      "Для групп 247 и 248 с заданным уровнем значимости 0.31%\n",
      "p-значение: 0.9334\n",
      "Не получилось отвергнуть нулевую гипотезу, нет оснований считать доли разными\n",
      "\n",
      "CartScreenAppear\n",
      "Для групп 247 и 248 с заданным уровнем значимости 0.31%\n",
      "p-значение: 0.5878\n",
      "Не получилось отвергнуть нулевую гипотезу, нет оснований считать доли разными\n",
      "\n",
      "PaymentScreenSuccessful\n",
      "Для групп 247 и 248 с заданным уровнем значимости 0.31%\n",
      "p-значение: 0.7276\n",
      "Не получилось отвергнуть нулевую гипотезу, нет оснований считать доли разными\n",
      "\n"
     ]
    }
   ],
   "source": [
    "# скорректируем уровень значимости, применив поправку Бонферрони\n",
    "alpha = .05\n",
    "bonferroni_alpha = alpha / 16\n",
    "\n",
    "for event in event_name:\n",
    "    stat_diff(247, 248, event, bonferroni_alpha)"
   ]
  },
  {
   "cell_type": "code",
   "execution_count": 76,
   "metadata": {},
   "outputs": [
    {
     "name": "stdout",
     "output_type": "stream",
     "text": [
      "MainScreenAppear\n",
      "Для групп 246+247 и 248 с заданным уровнем значимости 0.31%\n",
      "p-значение: 0.3487\n",
      "Не получилось отвергнуть нулевую гипотезу, нет оснований считать доли разными\n",
      "\n",
      "OffersScreenAppear\n",
      "Для групп 246+247 и 248 с заданным уровнем значимости 0.31%\n",
      "p-значение: 0.4458\n",
      "Не получилось отвергнуть нулевую гипотезу, нет оснований считать доли разными\n",
      "\n",
      "CartScreenAppear\n",
      "Для групп 246+247 и 248 с заданным уровнем значимости 0.31%\n",
      "p-значение: 0.1868\n",
      "Не получилось отвергнуть нулевую гипотезу, нет оснований считать доли разными\n",
      "\n",
      "PaymentScreenSuccessful\n",
      "Для групп 246+247 и 248 с заданным уровнем значимости 0.31%\n",
      "p-значение: 0.6108\n",
      "Не получилось отвергнуть нулевую гипотезу, нет оснований считать доли разными\n",
      "\n"
     ]
    }
   ],
   "source": [
    "# скорректируем уровень значимости, применив поправку Бонферрони\n",
    "alpha = .05\n",
    "bonferroni_alpha = alpha / 16\n",
    "\n",
    "for event in event_name:\n",
    "    stat_diff('246+247', 248, event, bonferroni_alpha)"
   ]
  },
  {
   "cell_type": "markdown",
   "metadata": {},
   "source": [
    "После применения поправки Бонферрони выводы не изменились, то есть наблюдаемые данные не подтверждают наличие разницы в долях уникальных пользователей, совершивших событие к количеству пользователей для различных групп."
   ]
  },
  {
   "cell_type": "markdown",
   "metadata": {},
   "source": [
    "### Вывод\n",
    "Была проверена проверка различий между группами с помощью статистических критериев. Проверялась гипотеза о равенстве долей для каждого события в группе. Для проверки использовался z-тест и уровень значимости был задан равный 5%.\n",
    "\n",
    "Проведя проверку гипотез для всех групп, мы сделали вывод, что ни для одной из них значимых различий между событиями групп нет. Изменение шрифта никак не повлияло на пользователей.  \n",
    "\n",
    "Также была применена поправка Бонферрони для корректировки уровня значимости и снижения групповой вероятности ошибки первого рода. После корректировки уровня значимости выводы не изменились, группы все также не различаются."
   ]
  },
  {
   "cell_type": "markdown",
   "metadata": {},
   "source": [
    "## Вывод\n",
    "Было проведено исследование пользовательского поведения мобильного приложения. Для исследования были предоставлены данные о действиях пользователей в приложении.  \n",
    "\n",
    "Исходный датасет содержит 244 126 строк и 4 столбца. Столбцы содержат следующую информацию:\n",
    "\n",
    "- EventName — название события\n",
    "- DeviceIDHash — уникальный идентификатор пользователя\n",
    "- EventTimestamp — время события\n",
    "- ExpId — номер эксперимента: 246 и 247 — контрольные группы, а 248 — экспериментальная\n",
    "\n",
    "После исследования датасета была проведена предобработка данных, в ходе которой были изменены названия столбцов, тип данных столбца EventTimestamp и удалены дубликаты. Также были созданы дополнительные столбцы, содержащие дату и время события.\n",
    "\n",
    "Далее данные были исследованы и было вывлено, что:\n",
    "- в логе 243 713 событий\n",
    "- в логе 7 551 уникальный пользователь  \n",
    "- на одного пользователя приходится 20 событий\n",
    "- в датасете представлены события за период с 25.07.2019 по 07.08.2019, но данные до 1 августа неполные, поэтому в исследовании рассматривались данные с 1 августа\n",
    "\n",
    "Затем были отброшены неполные данные и была проведена проверка после этого. В итоге после отброса данных:\n",
    "- в логе стало 240 887 событий (отбросили 1.16% от всех событий)\n",
    "- в логе стало 7 534 уникальный пользователь (отбросили 0.23% от всех уникальных пользователей)\n",
    "- на одного пользователя приходится 19 событий\n",
    "\n",
    "В ходе проведения исследования воронки событий, было выявлено, что в логах есть следующие события (в скобках указана доля события от всех событий):\n",
    "- MainScreenAppear — главный экран (48.7%)\n",
    "- OffersScreenAppear — экран предложения (19.2%)\n",
    "- CartScreenAppear — экран корзины (17.6%)\n",
    "- PaymentScreenSuccessful — экран успешного платежа (14.1%)\n",
    "- Tutorial — руководство (0.4%)\n",
    "\n",
    "События можно выстроить в воронку со следующей последовательностью: \n",
    "1. MainScreenAppear\n",
    "2. OffersScreenAppear\n",
    "3. CartScreenAppear\n",
    "4. PaymentScreenSuccessful \n",
    "\n",
    "Событие Tutorial было удалено из дальнейшего анализа, так как не появляется последовательно после этапа оплаты заказа и не подходит по смыслу для следующего этапа воронки.  \n",
    "\n",
    "По количеству пользователей и доле от всех уникальных пользователей, которые хоть раз совершали событие, также выстраиваются в воронку:\n",
    "- MainScreenAppear (7419 пользователей,\t98.47% от всех уникальных пользователей)\n",
    "- OffersScreenAppear (4593 пользователей, 60.96% от всех уникальных пользователей)\n",
    "- CartScreenAppear (3734 пользователей,\t49.56% от всех уникальных пользователей)\n",
    "- PaymentScreenSuccessful (3539 пользователей,\t46.97% от всех уникальных пользователей)\n",
    "- Tutorial (840 пользователей,\t11.15% от всех уникальных пользователей)\n",
    "\n",
    "После построения воронки получили следующие выводы:\n",
    "- Количество пользователей на втором шаге составляет 62% пользователей от предыдущего.   \n",
    "- Количество пользователей на третьем шаге составляет 81% пользователей от предыдущего.  \n",
    "- Количество пользователей на четвертом шаге составляет 95% пользователей от предыдущего.  \n",
    "\n",
    "То есть самое большое количество пользователей теряется при переходе с шага главного экрана (MainScreenAppear) на шаг с экраном предложения (OffersScreenAppear).  \n",
    "Больше всего сохраняется пользователей при переходе с шага с экраном корзины (CartScreenAppear) на шаг с экраном успешного платежа (PaymentScreenSuccessful).  \n",
    "Последовательно от первого события до оплаты проходят только 454 пользователей или 6% от тех, кто был на первом событии.  \n",
    "\n",
    "Была проверена проверка различий между группами с помощью статистических критериев. Проверялась гипотеза о равенстве долей для каждого события в группе. Для проверки использовался z-тест и уровень значимости был задан равный 5%.\n",
    "В итоге было выявлено, что ни для каких групп отношение количества уникальных пользователей, совершивших событие к количеству пользователей в группе не отличается.  \n",
    "\n",
    "Таким образом, по результатам А/А/В-теста можно сказать, что **изменение шрифта никак не повлияло на пользователей** ни в худшую, ни в лучшую сторону. Шрифт не отпугнул пользователей, как боялись менеджеры, но и не привлек, поэтому шрифт в целом можно оставить прежним, если его изменение несет большие дополнительные затраты.  \n",
    "\n",
    "**Рекомендации:**  \n",
    "1. Дополнительно исследовать причины того, почему так много пользователей отваливаются при переходе с шага главного экрана (MainScreenAppear) на шаг с экраном предложения (OffersScreenAppear). \n",
    "2. Поскольку шрифт не влияет на привлечение пользователей, можно в целом не переходить на новый шрифт, либо рассмотреть какой-то другой, который сможет привлечь больше пользователей."
   ]
  }
 ],
 "metadata": {
  "ExecuteTimeLog": [
   {
    "duration": 658,
    "start_time": "2023-05-04T08:50:09.090Z"
   },
   {
    "duration": 330,
    "start_time": "2023-05-04T08:50:36.530Z"
   },
   {
    "duration": 3,
    "start_time": "2023-05-04T08:50:55.789Z"
   },
   {
    "duration": 609,
    "start_time": "2023-05-04T08:51:26.871Z"
   },
   {
    "duration": 12,
    "start_time": "2023-05-04T08:51:30.584Z"
   },
   {
    "duration": 123,
    "start_time": "2023-05-04T08:51:39.692Z"
   },
   {
    "duration": 250,
    "start_time": "2023-05-04T08:51:54.074Z"
   },
   {
    "duration": 145,
    "start_time": "2023-05-04T08:51:59.790Z"
   },
   {
    "duration": 136,
    "start_time": "2023-05-04T08:52:04.386Z"
   },
   {
    "duration": 984,
    "start_time": "2023-05-04T08:52:06.631Z"
   },
   {
    "duration": 130,
    "start_time": "2023-05-04T08:54:11.855Z"
   },
   {
    "duration": 225,
    "start_time": "2023-05-04T08:54:25.006Z"
   },
   {
    "duration": 131,
    "start_time": "2023-05-04T08:54:29.344Z"
   },
   {
    "duration": 9,
    "start_time": "2023-05-04T08:54:29.682Z"
   },
   {
    "duration": 9,
    "start_time": "2023-05-04T08:55:23.916Z"
   },
   {
    "duration": 8,
    "start_time": "2023-05-04T08:55:46.880Z"
   },
   {
    "duration": 7,
    "start_time": "2023-05-04T08:55:59.791Z"
   },
   {
    "duration": 4,
    "start_time": "2023-05-04T08:56:04.690Z"
   },
   {
    "duration": 3,
    "start_time": "2023-05-04T08:56:10.304Z"
   },
   {
    "duration": 9,
    "start_time": "2023-05-04T08:56:16.799Z"
   },
   {
    "duration": 3,
    "start_time": "2023-05-04T08:58:06.376Z"
   },
   {
    "duration": 101,
    "start_time": "2023-05-04T08:58:17.074Z"
   },
   {
    "duration": 62,
    "start_time": "2023-05-04T08:58:48.718Z"
   },
   {
    "duration": 141,
    "start_time": "2023-05-04T09:00:38.618Z"
   },
   {
    "duration": 15,
    "start_time": "2023-05-04T09:00:38.972Z"
   },
   {
    "duration": 6,
    "start_time": "2023-05-04T09:00:40.478Z"
   },
   {
    "duration": 8,
    "start_time": "2023-05-04T09:00:40.962Z"
   },
   {
    "duration": 3,
    "start_time": "2023-05-04T09:00:41.799Z"
   },
   {
    "duration": 94,
    "start_time": "2023-05-04T09:00:42.189Z"
   },
   {
    "duration": 54,
    "start_time": "2023-05-04T09:00:44.685Z"
   },
   {
    "duration": 11,
    "start_time": "2023-05-04T09:00:53.122Z"
   },
   {
    "duration": 11,
    "start_time": "2023-05-04T09:02:52.314Z"
   },
   {
    "duration": 86,
    "start_time": "2023-05-04T09:03:17.485Z"
   },
   {
    "duration": 90,
    "start_time": "2023-05-04T09:03:21.805Z"
   },
   {
    "duration": 10,
    "start_time": "2023-05-04T09:04:00.693Z"
   },
   {
    "duration": 3,
    "start_time": "2023-05-04T09:04:46.519Z"
   },
   {
    "duration": 9,
    "start_time": "2023-05-04T09:04:47.143Z"
   },
   {
    "duration": 3,
    "start_time": "2023-05-04T09:04:47.701Z"
   },
   {
    "duration": 97,
    "start_time": "2023-05-04T09:04:48.254Z"
   },
   {
    "duration": 60,
    "start_time": "2023-05-04T09:04:48.985Z"
   },
   {
    "duration": 5,
    "start_time": "2023-05-04T09:04:49.537Z"
   },
   {
    "duration": 12,
    "start_time": "2023-05-04T09:05:02.884Z"
   },
   {
    "duration": 14,
    "start_time": "2023-05-04T09:05:13.679Z"
   },
   {
    "duration": 9,
    "start_time": "2023-05-04T09:05:17.211Z"
   },
   {
    "duration": 458,
    "start_time": "2023-05-04T09:41:03.934Z"
   },
   {
    "duration": 57,
    "start_time": "2023-05-04T09:50:58.759Z"
   },
   {
    "duration": 12,
    "start_time": "2023-05-04T10:03:15.392Z"
   },
   {
    "duration": 10,
    "start_time": "2023-05-04T10:03:30.003Z"
   },
   {
    "duration": 11,
    "start_time": "2023-05-04T10:03:34.395Z"
   },
   {
    "duration": 14,
    "start_time": "2023-05-04T10:03:38.311Z"
   },
   {
    "duration": 153,
    "start_time": "2023-05-04T10:04:57.995Z"
   },
   {
    "duration": 13,
    "start_time": "2023-05-04T10:04:58.314Z"
   },
   {
    "duration": 15,
    "start_time": "2023-05-04T10:05:00.735Z"
   },
   {
    "duration": 14,
    "start_time": "2023-05-04T10:05:01.548Z"
   },
   {
    "duration": 3,
    "start_time": "2023-05-04T10:05:03.609Z"
   },
   {
    "duration": 45,
    "start_time": "2023-05-04T10:05:45.696Z"
   },
   {
    "duration": 9,
    "start_time": "2023-05-04T10:05:46.088Z"
   },
   {
    "duration": 18,
    "start_time": "2023-05-04T10:05:57.603Z"
   },
   {
    "duration": 11,
    "start_time": "2023-05-04T10:05:59.187Z"
   },
   {
    "duration": 3,
    "start_time": "2023-05-04T10:05:59.614Z"
   },
   {
    "duration": 107,
    "start_time": "2023-05-04T10:05:59.834Z"
   },
   {
    "duration": 76,
    "start_time": "2023-05-04T10:06:00.633Z"
   },
   {
    "duration": 139,
    "start_time": "2023-05-04T10:06:05.840Z"
   },
   {
    "duration": 11,
    "start_time": "2023-05-04T10:06:06.305Z"
   },
   {
    "duration": 13,
    "start_time": "2023-05-04T10:06:07.336Z"
   },
   {
    "duration": 7,
    "start_time": "2023-05-04T10:06:33.271Z"
   },
   {
    "duration": 9,
    "start_time": "2023-05-04T10:06:35.001Z"
   },
   {
    "duration": 6,
    "start_time": "2023-05-04T10:06:36.212Z"
   },
   {
    "duration": 101,
    "start_time": "2023-05-04T10:06:36.747Z"
   },
   {
    "duration": 73,
    "start_time": "2023-05-04T10:06:38.534Z"
   },
   {
    "duration": 10,
    "start_time": "2023-05-04T10:06:39.121Z"
   },
   {
    "duration": 10,
    "start_time": "2023-05-04T10:06:39.825Z"
   },
   {
    "duration": 9,
    "start_time": "2023-05-04T10:12:29.523Z"
   },
   {
    "duration": 4,
    "start_time": "2023-05-04T10:17:35.233Z"
   },
   {
    "duration": 10,
    "start_time": "2023-05-04T10:17:36.940Z"
   },
   {
    "duration": 135,
    "start_time": "2023-05-04T10:17:40.596Z"
   },
   {
    "duration": 10,
    "start_time": "2023-05-04T10:17:40.995Z"
   },
   {
    "duration": 2,
    "start_time": "2023-05-04T10:17:41.529Z"
   },
   {
    "duration": 9,
    "start_time": "2023-05-04T10:17:42.510Z"
   },
   {
    "duration": 2,
    "start_time": "2023-05-04T10:17:43.606Z"
   },
   {
    "duration": 92,
    "start_time": "2023-05-04T10:17:43.893Z"
   },
   {
    "duration": 57,
    "start_time": "2023-05-04T10:17:44.158Z"
   },
   {
    "duration": 7,
    "start_time": "2023-05-04T10:17:44.372Z"
   },
   {
    "duration": 12,
    "start_time": "2023-05-04T10:17:44.599Z"
   },
   {
    "duration": 202,
    "start_time": "2023-05-04T10:17:44.807Z"
   },
   {
    "duration": 55,
    "start_time": "2023-05-04T10:18:04.702Z"
   },
   {
    "duration": 55,
    "start_time": "2023-05-04T10:18:14.359Z"
   },
   {
    "duration": 101,
    "start_time": "2023-05-04T10:18:21.496Z"
   },
   {
    "duration": 85,
    "start_time": "2023-05-04T10:18:32.420Z"
   },
   {
    "duration": 89,
    "start_time": "2023-05-04T10:18:50.889Z"
   },
   {
    "duration": 15,
    "start_time": "2023-05-04T10:18:58.686Z"
   },
   {
    "duration": 164,
    "start_time": "2023-05-04T13:23:01.179Z"
   },
   {
    "duration": 3,
    "start_time": "2023-05-04T13:23:01.621Z"
   },
   {
    "duration": 91,
    "start_time": "2023-05-04T13:23:07.229Z"
   },
   {
    "duration": 90,
    "start_time": "2023-05-04T13:24:46.894Z"
   },
   {
    "duration": 99,
    "start_time": "2023-05-04T13:25:27.526Z"
   },
   {
    "duration": 55,
    "start_time": "2023-05-04T13:35:01.786Z"
   },
   {
    "duration": 2,
    "start_time": "2023-05-04T15:20:44.595Z"
   },
   {
    "duration": 9,
    "start_time": "2023-05-04T15:20:53.086Z"
   },
   {
    "duration": 40,
    "start_time": "2023-05-04T15:21:10.020Z"
   },
   {
    "duration": 67,
    "start_time": "2023-05-04T15:25:25.327Z"
   },
   {
    "duration": 61,
    "start_time": "2023-05-04T15:25:38.714Z"
   },
   {
    "duration": 2,
    "start_time": "2023-05-04T15:32:51.364Z"
   },
   {
    "duration": 6,
    "start_time": "2023-05-04T15:32:51.732Z"
   },
   {
    "duration": 63,
    "start_time": "2023-05-04T15:32:52.051Z"
   },
   {
    "duration": 140,
    "start_time": "2023-05-04T15:33:52.386Z"
   },
   {
    "duration": 182,
    "start_time": "2023-05-04T15:35:34.776Z"
   },
   {
    "duration": 13,
    "start_time": "2023-05-04T17:00:04.217Z"
   },
   {
    "duration": 31,
    "start_time": "2023-05-04T17:00:10.626Z"
   },
   {
    "duration": 82,
    "start_time": "2023-05-04T17:02:56.164Z"
   },
   {
    "duration": 57,
    "start_time": "2023-05-04T17:03:02.807Z"
   },
   {
    "duration": 148,
    "start_time": "2023-05-04T17:03:08.535Z"
   },
   {
    "duration": 140,
    "start_time": "2023-05-04T17:03:10.107Z"
   },
   {
    "duration": 8,
    "start_time": "2023-05-04T17:11:25.788Z"
   },
   {
    "duration": 7,
    "start_time": "2023-05-04T17:11:29.732Z"
   },
   {
    "duration": 10,
    "start_time": "2023-05-04T17:13:13.816Z"
   },
   {
    "duration": 7,
    "start_time": "2023-05-04T17:13:17.108Z"
   },
   {
    "duration": 8,
    "start_time": "2023-05-04T17:13:24.550Z"
   },
   {
    "duration": 8,
    "start_time": "2023-05-04T17:14:00.369Z"
   },
   {
    "duration": 8,
    "start_time": "2023-05-04T17:14:05.963Z"
   },
   {
    "duration": 11,
    "start_time": "2023-05-04T17:14:18.217Z"
   },
   {
    "duration": 10,
    "start_time": "2023-05-04T17:14:23.199Z"
   },
   {
    "duration": 4,
    "start_time": "2023-05-04T17:14:45.060Z"
   },
   {
    "duration": 172,
    "start_time": "2023-05-04T17:14:45.066Z"
   },
   {
    "duration": 108,
    "start_time": "2023-05-04T17:14:45.240Z"
   },
   {
    "duration": 78,
    "start_time": "2023-05-04T17:14:45.350Z"
   },
   {
    "duration": 3,
    "start_time": "2023-05-04T17:14:45.429Z"
   },
   {
    "duration": 15,
    "start_time": "2023-05-04T17:14:45.433Z"
   },
   {
    "duration": 85,
    "start_time": "2023-05-04T17:14:45.449Z"
   },
   {
    "duration": 161,
    "start_time": "2023-05-04T17:14:45.535Z"
   },
   {
    "duration": 41,
    "start_time": "2023-05-04T17:14:45.698Z"
   },
   {
    "duration": 9,
    "start_time": "2023-05-04T17:14:45.740Z"
   },
   {
    "duration": 2,
    "start_time": "2023-05-04T17:15:04.332Z"
   },
   {
    "duration": 156,
    "start_time": "2023-05-04T17:15:04.336Z"
   },
   {
    "duration": 102,
    "start_time": "2023-05-04T17:15:04.494Z"
   },
   {
    "duration": 81,
    "start_time": "2023-05-04T17:15:04.597Z"
   },
   {
    "duration": 4,
    "start_time": "2023-05-04T17:15:04.683Z"
   },
   {
    "duration": 18,
    "start_time": "2023-05-04T17:15:04.688Z"
   },
   {
    "duration": 55,
    "start_time": "2023-05-04T17:15:04.708Z"
   },
   {
    "duration": 144,
    "start_time": "2023-05-04T17:15:04.764Z"
   },
   {
    "duration": 30,
    "start_time": "2023-05-04T17:15:04.909Z"
   },
   {
    "duration": 8,
    "start_time": "2023-05-04T17:15:04.940Z"
   },
   {
    "duration": 7,
    "start_time": "2023-05-04T17:15:15.860Z"
   },
   {
    "duration": 6,
    "start_time": "2023-05-04T17:16:02.243Z"
   },
   {
    "duration": 6,
    "start_time": "2023-05-04T17:16:10.323Z"
   },
   {
    "duration": 10,
    "start_time": "2023-05-04T17:17:00.716Z"
   },
   {
    "duration": 20,
    "start_time": "2023-05-04T17:17:13.290Z"
   },
   {
    "duration": 20,
    "start_time": "2023-05-04T17:17:18.221Z"
   },
   {
    "duration": 23,
    "start_time": "2023-05-04T17:17:38.462Z"
   },
   {
    "duration": 11,
    "start_time": "2023-05-04T17:17:52.308Z"
   },
   {
    "duration": 8,
    "start_time": "2023-05-04T17:18:52.900Z"
   },
   {
    "duration": 14,
    "start_time": "2023-05-04T17:19:00.806Z"
   },
   {
    "duration": 16,
    "start_time": "2023-05-04T17:19:04.320Z"
   },
   {
    "duration": 27,
    "start_time": "2023-05-04T17:19:14.456Z"
   },
   {
    "duration": 168,
    "start_time": "2023-05-04T17:55:02.661Z"
   },
   {
    "duration": 146,
    "start_time": "2023-05-04T17:55:12.916Z"
   },
   {
    "duration": 191,
    "start_time": "2023-05-04T17:55:22.808Z"
   },
   {
    "duration": 2,
    "start_time": "2023-05-04T17:55:40.803Z"
   },
   {
    "duration": 150,
    "start_time": "2023-05-04T17:55:40.807Z"
   },
   {
    "duration": 97,
    "start_time": "2023-05-04T17:55:40.958Z"
   },
   {
    "duration": 84,
    "start_time": "2023-05-04T17:55:41.057Z"
   },
   {
    "duration": 2,
    "start_time": "2023-05-04T17:55:41.143Z"
   },
   {
    "duration": 11,
    "start_time": "2023-05-04T17:55:41.146Z"
   },
   {
    "duration": 27,
    "start_time": "2023-05-04T17:55:41.158Z"
   },
   {
    "duration": 154,
    "start_time": "2023-05-04T17:55:41.186Z"
   },
   {
    "duration": 43,
    "start_time": "2023-05-04T17:55:41.341Z"
   },
   {
    "duration": 12,
    "start_time": "2023-05-04T17:55:41.385Z"
   },
   {
    "duration": 31,
    "start_time": "2023-05-04T17:55:41.399Z"
   },
   {
    "duration": 187,
    "start_time": "2023-05-04T17:55:48.703Z"
   },
   {
    "duration": 3,
    "start_time": "2023-05-04T17:55:53.161Z"
   },
   {
    "duration": 193,
    "start_time": "2023-05-04T17:55:53.166Z"
   },
   {
    "duration": 96,
    "start_time": "2023-05-04T17:55:53.360Z"
   },
   {
    "duration": 88,
    "start_time": "2023-05-04T17:55:53.457Z"
   },
   {
    "duration": 3,
    "start_time": "2023-05-04T17:55:53.547Z"
   },
   {
    "duration": 38,
    "start_time": "2023-05-04T17:55:53.552Z"
   },
   {
    "duration": 99,
    "start_time": "2023-05-04T17:55:53.596Z"
   },
   {
    "duration": 182,
    "start_time": "2023-05-04T17:55:53.698Z"
   },
   {
    "duration": 67,
    "start_time": "2023-05-04T17:55:53.882Z"
   },
   {
    "duration": 11,
    "start_time": "2023-05-04T17:55:53.950Z"
   },
   {
    "duration": 53,
    "start_time": "2023-05-04T17:55:53.963Z"
   },
   {
    "duration": 161,
    "start_time": "2023-05-04T17:56:30.632Z"
   },
   {
    "duration": 151,
    "start_time": "2023-05-04T17:56:33.496Z"
   },
   {
    "duration": 162,
    "start_time": "2023-05-04T17:56:41.203Z"
   },
   {
    "duration": 213,
    "start_time": "2023-05-04T17:56:48.393Z"
   },
   {
    "duration": 123,
    "start_time": "2023-05-04T17:56:52.228Z"
   },
   {
    "duration": 169,
    "start_time": "2023-05-04T17:57:04.900Z"
   },
   {
    "duration": 18,
    "start_time": "2023-05-04T17:57:19.419Z"
   },
   {
    "duration": 17,
    "start_time": "2023-05-04T17:58:02.127Z"
   },
   {
    "duration": 186,
    "start_time": "2023-05-04T17:58:21.632Z"
   },
   {
    "duration": 133,
    "start_time": "2023-05-04T17:58:33.429Z"
   },
   {
    "duration": 156,
    "start_time": "2023-05-04T18:01:43.940Z"
   },
   {
    "duration": 152,
    "start_time": "2023-05-04T18:02:01.189Z"
   },
   {
    "duration": 96,
    "start_time": "2023-05-04T18:02:07.827Z"
   },
   {
    "duration": 168,
    "start_time": "2023-05-04T18:02:11.661Z"
   },
   {
    "duration": 135,
    "start_time": "2023-05-04T18:03:49.513Z"
   },
   {
    "duration": 9,
    "start_time": "2023-05-04T18:04:47.924Z"
   },
   {
    "duration": 8,
    "start_time": "2023-05-04T18:05:07.440Z"
   },
   {
    "duration": 36,
    "start_time": "2023-05-04T18:05:24.303Z"
   },
   {
    "duration": 30,
    "start_time": "2023-05-04T18:05:42.095Z"
   },
   {
    "duration": 145,
    "start_time": "2023-05-04T18:06:02.808Z"
   },
   {
    "duration": 24,
    "start_time": "2023-05-04T18:06:07.192Z"
   },
   {
    "duration": 43,
    "start_time": "2023-05-04T18:06:11.668Z"
   },
   {
    "duration": 49,
    "start_time": "2023-05-04T18:06:42.035Z"
   },
   {
    "duration": 28,
    "start_time": "2023-05-04T18:06:44.587Z"
   },
   {
    "duration": 143,
    "start_time": "2023-05-04T18:06:50.392Z"
   },
   {
    "duration": 140,
    "start_time": "2023-05-04T18:06:57.155Z"
   },
   {
    "duration": 135,
    "start_time": "2023-05-04T18:08:09.099Z"
   },
   {
    "duration": 143,
    "start_time": "2023-05-04T18:08:41.009Z"
   },
   {
    "duration": 170,
    "start_time": "2023-05-04T18:08:52.911Z"
   },
   {
    "duration": 197,
    "start_time": "2023-05-04T18:09:01.111Z"
   },
   {
    "duration": 694,
    "start_time": "2023-05-04T18:09:08.818Z"
   },
   {
    "duration": 5609,
    "start_time": "2023-05-04T18:09:14.303Z"
   },
   {
    "duration": 1431,
    "start_time": "2023-05-04T18:09:21.823Z"
   },
   {
    "duration": 1369,
    "start_time": "2023-05-04T18:09:37.746Z"
   },
   {
    "duration": 150,
    "start_time": "2023-05-04T18:10:21.922Z"
   },
   {
    "duration": 1040,
    "start_time": "2023-05-04T18:11:04.545Z"
   },
   {
    "duration": 506,
    "start_time": "2023-05-04T18:12:01.232Z"
   },
   {
    "duration": 188,
    "start_time": "2023-05-04T18:12:06.232Z"
   },
   {
    "duration": 144,
    "start_time": "2023-05-04T18:12:33.739Z"
   },
   {
    "duration": 1099,
    "start_time": "2023-05-04T18:12:38.745Z"
   },
   {
    "duration": 1478,
    "start_time": "2023-05-04T18:14:20.925Z"
   },
   {
    "duration": 1098,
    "start_time": "2023-05-04T18:14:42.384Z"
   },
   {
    "duration": 1486,
    "start_time": "2023-05-04T18:15:15.891Z"
   },
   {
    "duration": 1419,
    "start_time": "2023-05-04T18:15:46.645Z"
   },
   {
    "duration": 1091,
    "start_time": "2023-05-04T18:28:40.092Z"
   },
   {
    "duration": 1520,
    "start_time": "2023-05-04T18:28:48.342Z"
   },
   {
    "duration": 1142,
    "start_time": "2023-05-04T18:29:01.006Z"
   },
   {
    "duration": 1100,
    "start_time": "2023-05-04T18:29:17.965Z"
   },
   {
    "duration": 10,
    "start_time": "2023-05-04T18:30:23.829Z"
   },
   {
    "duration": 329,
    "start_time": "2023-05-04T18:30:27.559Z"
   },
   {
    "duration": 95,
    "start_time": "2023-05-04T18:30:53.814Z"
   },
   {
    "duration": 137,
    "start_time": "2023-05-04T18:31:14.461Z"
   },
   {
    "duration": 76,
    "start_time": "2023-05-04T18:31:21.359Z"
   },
   {
    "duration": 91,
    "start_time": "2023-05-04T18:31:25.094Z"
   },
   {
    "duration": 78,
    "start_time": "2023-05-04T18:31:35.031Z"
   },
   {
    "duration": 11,
    "start_time": "2023-05-04T18:31:45.716Z"
   },
   {
    "duration": 10,
    "start_time": "2023-05-04T18:32:33.375Z"
   },
   {
    "duration": 1593,
    "start_time": "2023-05-04T18:33:04.714Z"
   },
   {
    "duration": 1457,
    "start_time": "2023-05-04T18:33:20.604Z"
   },
   {
    "duration": 9,
    "start_time": "2023-05-04T18:35:11.106Z"
   },
   {
    "duration": 1061,
    "start_time": "2023-05-04T18:35:36.096Z"
   },
   {
    "duration": 144,
    "start_time": "2023-05-04T18:35:37.158Z"
   },
   {
    "duration": 116,
    "start_time": "2023-05-04T18:35:37.303Z"
   },
   {
    "duration": 70,
    "start_time": "2023-05-04T18:35:37.421Z"
   },
   {
    "duration": 2,
    "start_time": "2023-05-04T18:35:37.493Z"
   },
   {
    "duration": 10,
    "start_time": "2023-05-04T18:35:37.498Z"
   },
   {
    "duration": 91,
    "start_time": "2023-05-04T18:35:37.509Z"
   },
   {
    "duration": 143,
    "start_time": "2023-05-04T18:35:37.602Z"
   },
   {
    "duration": 40,
    "start_time": "2023-05-04T18:35:37.746Z"
   },
   {
    "duration": 9,
    "start_time": "2023-05-04T18:35:37.788Z"
   },
   {
    "duration": 1143,
    "start_time": "2023-05-04T18:35:37.799Z"
   },
   {
    "duration": 102,
    "start_time": "2023-05-04T18:36:55.877Z"
   },
   {
    "duration": 14,
    "start_time": "2023-05-04T18:37:08.957Z"
   },
   {
    "duration": 24,
    "start_time": "2023-05-04T18:37:54.039Z"
   },
   {
    "duration": 27,
    "start_time": "2023-05-04T18:38:28.570Z"
   },
   {
    "duration": 25,
    "start_time": "2023-05-04T18:38:54.773Z"
   },
   {
    "duration": 5,
    "start_time": "2023-05-04T18:39:24.100Z"
   },
   {
    "duration": 27,
    "start_time": "2023-05-04T18:39:37.739Z"
   },
   {
    "duration": 137,
    "start_time": "2023-05-04T18:39:49.570Z"
   },
   {
    "duration": 1129,
    "start_time": "2023-05-04T18:40:40.095Z"
   },
   {
    "duration": 22,
    "start_time": "2023-05-04T18:40:58.257Z"
   },
   {
    "duration": 220,
    "start_time": "2023-05-04T18:44:33.178Z"
   },
   {
    "duration": 141,
    "start_time": "2023-05-04T18:44:37.945Z"
   },
   {
    "duration": 169,
    "start_time": "2023-05-04T18:44:51.978Z"
   },
   {
    "duration": 124,
    "start_time": "2023-05-04T22:48:48.383Z"
   },
   {
    "duration": 11,
    "start_time": "2023-05-04T22:49:04.084Z"
   },
   {
    "duration": 1410,
    "start_time": "2023-05-04T22:49:11.404Z"
   },
   {
    "duration": 128,
    "start_time": "2023-05-04T22:49:42.604Z"
   },
   {
    "duration": 183,
    "start_time": "2023-05-04T23:10:50.421Z"
   },
   {
    "duration": 229,
    "start_time": "2023-05-04T23:10:56.552Z"
   },
   {
    "duration": 279,
    "start_time": "2023-05-04T23:11:01.050Z"
   },
   {
    "duration": 713,
    "start_time": "2023-05-04T23:11:11.986Z"
   },
   {
    "duration": 1217,
    "start_time": "2023-05-04T23:11:17.726Z"
   },
   {
    "duration": 15,
    "start_time": "2023-05-04T23:12:48.736Z"
   },
   {
    "duration": 23,
    "start_time": "2023-05-04T23:13:02.984Z"
   },
   {
    "duration": 137,
    "start_time": "2023-05-04T23:13:12.167Z"
   },
   {
    "duration": 1281,
    "start_time": "2023-05-05T06:19:59.528Z"
   },
   {
    "duration": 724,
    "start_time": "2023-05-05T06:20:00.811Z"
   },
   {
    "duration": 124,
    "start_time": "2023-05-05T06:20:01.537Z"
   },
   {
    "duration": 80,
    "start_time": "2023-05-05T06:20:01.663Z"
   },
   {
    "duration": 12,
    "start_time": "2023-05-05T06:20:01.745Z"
   },
   {
    "duration": 36,
    "start_time": "2023-05-05T06:20:01.759Z"
   },
   {
    "duration": 132,
    "start_time": "2023-05-05T06:20:01.797Z"
   },
   {
    "duration": 174,
    "start_time": "2023-05-05T06:20:01.931Z"
   },
   {
    "duration": 36,
    "start_time": "2023-05-05T06:20:02.107Z"
   },
   {
    "duration": 12,
    "start_time": "2023-05-05T06:20:02.145Z"
   },
   {
    "duration": 1460,
    "start_time": "2023-05-05T06:20:02.158Z"
   },
   {
    "duration": 23,
    "start_time": "2023-05-05T06:20:03.620Z"
   },
   {
    "duration": 1468,
    "start_time": "2023-05-05T06:20:03.645Z"
   },
   {
    "duration": 21,
    "start_time": "2023-05-05T06:20:05.115Z"
   },
   {
    "duration": 1511,
    "start_time": "2023-05-05T06:20:05.138Z"
   },
   {
    "duration": 229,
    "start_time": "2023-05-05T06:20:06.651Z"
   },
   {
    "duration": 0,
    "start_time": "2023-05-05T06:20:06.882Z"
   },
   {
    "duration": 3,
    "start_time": "2023-05-05T06:26:19.534Z"
   },
   {
    "duration": 1403,
    "start_time": "2023-05-05T07:19:59.365Z"
   },
   {
    "duration": 179,
    "start_time": "2023-05-05T07:20:00.771Z"
   },
   {
    "duration": 164,
    "start_time": "2023-05-05T07:20:00.952Z"
   },
   {
    "duration": 100,
    "start_time": "2023-05-05T07:20:01.118Z"
   },
   {
    "duration": 4,
    "start_time": "2023-05-05T07:20:01.223Z"
   },
   {
    "duration": 40,
    "start_time": "2023-05-05T07:20:01.229Z"
   },
   {
    "duration": 147,
    "start_time": "2023-05-05T07:20:01.271Z"
   },
   {
    "duration": 277,
    "start_time": "2023-05-05T07:20:01.421Z"
   },
   {
    "duration": 44,
    "start_time": "2023-05-05T07:20:01.700Z"
   },
   {
    "duration": 46,
    "start_time": "2023-05-05T07:20:01.745Z"
   },
   {
    "duration": 1806,
    "start_time": "2023-05-05T07:20:01.793Z"
   },
   {
    "duration": 28,
    "start_time": "2023-05-05T07:20:03.601Z"
   },
   {
    "duration": 29,
    "start_time": "2023-05-05T07:20:03.631Z"
   },
   {
    "duration": 1695,
    "start_time": "2023-05-05T07:20:03.662Z"
   },
   {
    "duration": 36,
    "start_time": "2023-05-05T07:20:05.359Z"
   },
   {
    "duration": 0,
    "start_time": "2023-05-05T07:20:05.397Z"
   },
   {
    "duration": 323,
    "start_time": "2023-05-05T07:20:17.644Z"
   },
   {
    "duration": 50,
    "start_time": "2023-05-05T07:23:41.345Z"
   },
   {
    "duration": 41,
    "start_time": "2023-05-05T07:23:45.732Z"
   },
   {
    "duration": 144,
    "start_time": "2023-05-05T07:23:52.620Z"
   },
   {
    "duration": 133,
    "start_time": "2023-05-05T07:24:05.120Z"
   },
   {
    "duration": 254,
    "start_time": "2023-05-05T07:24:09.057Z"
   },
   {
    "duration": 13,
    "start_time": "2023-05-05T07:24:14.660Z"
   },
   {
    "duration": 26,
    "start_time": "2023-05-05T07:24:44.959Z"
   },
   {
    "duration": 8,
    "start_time": "2023-05-05T07:24:47.871Z"
   },
   {
    "duration": 4,
    "start_time": "2023-05-05T07:24:51.312Z"
   },
   {
    "duration": 189,
    "start_time": "2023-05-05T07:24:51.319Z"
   },
   {
    "duration": 124,
    "start_time": "2023-05-05T07:24:51.510Z"
   },
   {
    "duration": 97,
    "start_time": "2023-05-05T07:24:51.636Z"
   },
   {
    "duration": 3,
    "start_time": "2023-05-05T07:24:51.736Z"
   },
   {
    "duration": 16,
    "start_time": "2023-05-05T07:24:51.741Z"
   },
   {
    "duration": 100,
    "start_time": "2023-05-05T07:24:51.759Z"
   },
   {
    "duration": 117,
    "start_time": "2023-05-05T07:24:51.861Z"
   },
   {
    "duration": 44,
    "start_time": "2023-05-05T07:24:51.980Z"
   },
   {
    "duration": 12,
    "start_time": "2023-05-05T07:24:52.026Z"
   },
   {
    "duration": 1746,
    "start_time": "2023-05-05T07:24:52.040Z"
   },
   {
    "duration": 9,
    "start_time": "2023-05-05T07:24:53.788Z"
   },
   {
    "duration": 12,
    "start_time": "2023-05-05T07:24:53.799Z"
   },
   {
    "duration": 1749,
    "start_time": "2023-05-05T07:24:53.814Z"
   },
   {
    "duration": 25,
    "start_time": "2023-05-05T07:24:55.564Z"
   },
   {
    "duration": 0,
    "start_time": "2023-05-05T07:24:55.591Z"
   },
   {
    "duration": 8,
    "start_time": "2023-05-05T07:25:14.720Z"
   },
   {
    "duration": 51,
    "start_time": "2023-05-05T07:25:47.431Z"
   },
   {
    "duration": 46,
    "start_time": "2023-05-05T07:25:52.419Z"
   },
   {
    "duration": 17,
    "start_time": "2023-05-05T07:26:53.046Z"
   },
   {
    "duration": 4,
    "start_time": "2023-05-05T07:27:19.807Z"
   },
   {
    "duration": 4,
    "start_time": "2023-05-05T07:27:29.412Z"
   },
   {
    "duration": 6,
    "start_time": "2023-05-05T07:27:52.871Z"
   },
   {
    "duration": 5,
    "start_time": "2023-05-05T07:28:15.829Z"
   },
   {
    "duration": 34,
    "start_time": "2023-05-05T07:28:40.037Z"
   },
   {
    "duration": 70,
    "start_time": "2023-05-05T07:29:08.663Z"
   },
   {
    "duration": 46,
    "start_time": "2023-05-05T07:30:38.449Z"
   },
   {
    "duration": 5,
    "start_time": "2023-05-05T07:30:47.663Z"
   },
   {
    "duration": 5,
    "start_time": "2023-05-05T07:31:06.296Z"
   },
   {
    "duration": 14,
    "start_time": "2023-05-05T07:31:13.055Z"
   },
   {
    "duration": 6,
    "start_time": "2023-05-05T07:31:37.979Z"
   },
   {
    "duration": 3,
    "start_time": "2023-05-05T07:31:46.881Z"
   },
   {
    "duration": 16,
    "start_time": "2023-05-05T07:32:27.403Z"
   },
   {
    "duration": 13,
    "start_time": "2023-05-05T07:32:45.959Z"
   },
   {
    "duration": 16,
    "start_time": "2023-05-05T07:32:56.419Z"
   },
   {
    "duration": 77,
    "start_time": "2023-05-05T07:33:43.891Z"
   },
   {
    "duration": 25,
    "start_time": "2023-05-05T07:34:13.675Z"
   },
   {
    "duration": 89,
    "start_time": "2023-05-05T07:35:08.512Z"
   },
   {
    "duration": 20,
    "start_time": "2023-05-05T07:35:19.952Z"
   },
   {
    "duration": 18,
    "start_time": "2023-05-05T07:35:35.976Z"
   },
   {
    "duration": 27,
    "start_time": "2023-05-05T07:35:48.615Z"
   },
   {
    "duration": 12,
    "start_time": "2023-05-05T07:36:16.035Z"
   },
   {
    "duration": 20,
    "start_time": "2023-05-05T07:37:26.742Z"
   },
   {
    "duration": 26,
    "start_time": "2023-05-05T07:39:48.529Z"
   },
   {
    "duration": 27,
    "start_time": "2023-05-05T07:39:55.413Z"
   },
   {
    "duration": 26,
    "start_time": "2023-05-05T07:41:35.795Z"
   },
   {
    "duration": 26,
    "start_time": "2023-05-05T07:42:35.685Z"
   },
   {
    "duration": 21,
    "start_time": "2023-05-05T07:43:10.962Z"
   },
   {
    "duration": 256,
    "start_time": "2023-05-05T07:44:44.508Z"
   },
   {
    "duration": 19,
    "start_time": "2023-05-05T07:45:50.224Z"
   },
   {
    "duration": 21,
    "start_time": "2023-05-05T07:46:18.019Z"
   },
   {
    "duration": 17,
    "start_time": "2023-05-05T07:46:22.500Z"
   },
   {
    "duration": 13,
    "start_time": "2023-05-05T07:46:28.266Z"
   },
   {
    "duration": 26,
    "start_time": "2023-05-05T07:46:47.174Z"
   },
   {
    "duration": 42,
    "start_time": "2023-05-05T07:47:00.176Z"
   },
   {
    "duration": 47,
    "start_time": "2023-05-05T07:49:16.437Z"
   },
   {
    "duration": 50,
    "start_time": "2023-05-05T07:49:20.615Z"
   },
   {
    "duration": 117,
    "start_time": "2023-05-05T07:49:26.147Z"
   },
   {
    "duration": 45,
    "start_time": "2023-05-05T07:49:32.561Z"
   },
   {
    "duration": 194,
    "start_time": "2023-05-05T07:49:57.887Z"
   },
   {
    "duration": 128,
    "start_time": "2023-05-05T07:50:07.161Z"
   },
   {
    "duration": 112,
    "start_time": "2023-05-05T07:50:26.323Z"
   },
   {
    "duration": 125,
    "start_time": "2023-05-05T07:50:49.384Z"
   },
   {
    "duration": 283,
    "start_time": "2023-05-05T07:51:03.488Z"
   },
   {
    "duration": 126,
    "start_time": "2023-05-05T07:51:22.524Z"
   },
   {
    "duration": 196,
    "start_time": "2023-05-05T07:52:07.738Z"
   },
   {
    "duration": 139,
    "start_time": "2023-05-05T07:52:14.792Z"
   },
   {
    "duration": 116,
    "start_time": "2023-05-05T07:52:18.645Z"
   },
   {
    "duration": 18,
    "start_time": "2023-05-05T07:52:42.231Z"
   },
   {
    "duration": 134,
    "start_time": "2023-05-05T07:52:48.437Z"
   },
   {
    "duration": 122,
    "start_time": "2023-05-05T07:52:56.227Z"
   },
   {
    "duration": 35,
    "start_time": "2023-05-05T07:55:01.486Z"
   },
   {
    "duration": 10,
    "start_time": "2023-05-05T07:55:29.138Z"
   },
   {
    "duration": 1268,
    "start_time": "2023-05-05T07:58:32.499Z"
   },
   {
    "duration": 177,
    "start_time": "2023-05-05T07:58:33.769Z"
   },
   {
    "duration": 147,
    "start_time": "2023-05-05T07:58:33.948Z"
   },
   {
    "duration": 92,
    "start_time": "2023-05-05T07:58:34.103Z"
   },
   {
    "duration": 4,
    "start_time": "2023-05-05T07:58:34.204Z"
   },
   {
    "duration": 14,
    "start_time": "2023-05-05T07:58:34.210Z"
   },
   {
    "duration": 96,
    "start_time": "2023-05-05T07:58:34.227Z"
   },
   {
    "duration": 117,
    "start_time": "2023-05-05T07:58:34.325Z"
   },
   {
    "duration": 33,
    "start_time": "2023-05-05T07:58:34.444Z"
   },
   {
    "duration": 20,
    "start_time": "2023-05-05T07:58:34.479Z"
   },
   {
    "duration": 1691,
    "start_time": "2023-05-05T07:58:34.501Z"
   },
   {
    "duration": 9,
    "start_time": "2023-05-05T07:58:36.194Z"
   },
   {
    "duration": 34,
    "start_time": "2023-05-05T07:58:36.205Z"
   },
   {
    "duration": 1933,
    "start_time": "2023-05-05T07:58:36.242Z"
   },
   {
    "duration": 44,
    "start_time": "2023-05-05T07:58:38.177Z"
   },
   {
    "duration": 25,
    "start_time": "2023-05-05T07:58:38.223Z"
   },
   {
    "duration": 151,
    "start_time": "2023-05-05T07:58:38.249Z"
   },
   {
    "duration": 125,
    "start_time": "2023-05-05T07:58:38.402Z"
   },
   {
    "duration": 196,
    "start_time": "2023-05-05T07:58:38.529Z"
   },
   {
    "duration": 22,
    "start_time": "2023-05-05T08:04:41.433Z"
   },
   {
    "duration": 33,
    "start_time": "2023-05-05T08:08:36.539Z"
   },
   {
    "duration": 216,
    "start_time": "2023-05-05T08:08:43.913Z"
   },
   {
    "duration": 248,
    "start_time": "2023-05-05T08:08:57.055Z"
   },
   {
    "duration": 218,
    "start_time": "2023-05-05T08:09:06.037Z"
   },
   {
    "duration": 184,
    "start_time": "2023-05-05T08:10:35.506Z"
   },
   {
    "duration": 500,
    "start_time": "2023-05-05T08:10:46.248Z"
   },
   {
    "duration": 238,
    "start_time": "2023-05-05T08:11:01.134Z"
   },
   {
    "duration": 261,
    "start_time": "2023-05-05T08:11:04.803Z"
   },
   {
    "duration": 231,
    "start_time": "2023-05-05T08:11:12.323Z"
   },
   {
    "duration": 130,
    "start_time": "2023-05-05T08:11:34.086Z"
   },
   {
    "duration": 126,
    "start_time": "2023-05-05T08:11:56.162Z"
   },
   {
    "duration": 138,
    "start_time": "2023-05-05T08:12:02.821Z"
   },
   {
    "duration": 169,
    "start_time": "2023-05-05T08:12:32.048Z"
   },
   {
    "duration": 164,
    "start_time": "2023-05-05T08:12:49.925Z"
   },
   {
    "duration": 142,
    "start_time": "2023-05-05T08:13:41.325Z"
   },
   {
    "duration": 33,
    "start_time": "2023-05-05T08:24:07.920Z"
   },
   {
    "duration": 23,
    "start_time": "2023-05-05T08:24:42.763Z"
   },
   {
    "duration": 33,
    "start_time": "2023-05-05T08:24:47.740Z"
   },
   {
    "duration": 244,
    "start_time": "2023-05-05T08:25:52.858Z"
   },
   {
    "duration": 198,
    "start_time": "2023-05-05T08:26:11.523Z"
   },
   {
    "duration": 76,
    "start_time": "2023-05-05T08:26:23.579Z"
   },
   {
    "duration": 291,
    "start_time": "2023-05-05T08:26:29.457Z"
   },
   {
    "duration": 15,
    "start_time": "2023-05-05T08:27:01.626Z"
   },
   {
    "duration": 36,
    "start_time": "2023-05-05T08:27:13.776Z"
   },
   {
    "duration": 179,
    "start_time": "2023-05-05T08:31:04.386Z"
   },
   {
    "duration": 142,
    "start_time": "2023-05-05T08:32:55.250Z"
   },
   {
    "duration": 18,
    "start_time": "2023-05-05T08:34:34.028Z"
   },
   {
    "duration": 195,
    "start_time": "2023-05-05T08:34:43.252Z"
   },
   {
    "duration": 197,
    "start_time": "2023-05-05T08:34:53.730Z"
   },
   {
    "duration": 173,
    "start_time": "2023-05-05T08:35:47.951Z"
   },
   {
    "duration": 40,
    "start_time": "2023-05-05T08:42:42.477Z"
   },
   {
    "duration": 149,
    "start_time": "2023-05-05T08:42:49.074Z"
   },
   {
    "duration": 24,
    "start_time": "2023-05-05T08:43:28.126Z"
   },
   {
    "duration": 138,
    "start_time": "2023-05-05T08:44:52.540Z"
   },
   {
    "duration": 32,
    "start_time": "2023-05-05T08:44:54.721Z"
   },
   {
    "duration": 17,
    "start_time": "2023-05-05T08:46:40.050Z"
   },
   {
    "duration": 35,
    "start_time": "2023-05-05T08:46:56.738Z"
   },
   {
    "duration": 22,
    "start_time": "2023-05-05T08:47:08.526Z"
   },
   {
    "duration": 121,
    "start_time": "2023-05-05T08:47:11.083Z"
   },
   {
    "duration": 73,
    "start_time": "2023-05-05T08:47:41.017Z"
   },
   {
    "duration": 88,
    "start_time": "2023-05-05T08:47:48.067Z"
   },
   {
    "duration": 106,
    "start_time": "2023-05-05T08:47:58.307Z"
   },
   {
    "duration": 79,
    "start_time": "2023-05-05T08:48:04.021Z"
   },
   {
    "duration": 77,
    "start_time": "2023-05-05T08:48:08.470Z"
   },
   {
    "duration": 107,
    "start_time": "2023-05-05T08:48:15.826Z"
   },
   {
    "duration": 92,
    "start_time": "2023-05-05T08:48:23.332Z"
   },
   {
    "duration": 188,
    "start_time": "2023-05-05T08:50:33.171Z"
   },
   {
    "duration": 74,
    "start_time": "2023-05-05T08:50:43.657Z"
   },
   {
    "duration": 16,
    "start_time": "2023-05-05T08:50:59.386Z"
   },
   {
    "duration": 93,
    "start_time": "2023-05-05T08:51:03.973Z"
   },
   {
    "duration": 11,
    "start_time": "2023-05-05T08:51:23.919Z"
   },
   {
    "duration": 90,
    "start_time": "2023-05-05T08:51:29.281Z"
   },
   {
    "duration": 441,
    "start_time": "2023-05-05T08:51:49.171Z"
   },
   {
    "duration": 108,
    "start_time": "2023-05-05T08:51:56.654Z"
   },
   {
    "duration": 93,
    "start_time": "2023-05-05T08:52:10.081Z"
   },
   {
    "duration": 125,
    "start_time": "2023-05-05T08:52:21.781Z"
   },
   {
    "duration": 9,
    "start_time": "2023-05-05T08:52:29.667Z"
   },
   {
    "duration": 82,
    "start_time": "2023-05-05T08:52:32.540Z"
   },
   {
    "duration": 89,
    "start_time": "2023-05-05T08:52:37.678Z"
   },
   {
    "duration": 74,
    "start_time": "2023-05-05T08:54:56.787Z"
   },
   {
    "duration": 10,
    "start_time": "2023-05-05T08:55:24.550Z"
   },
   {
    "duration": 252,
    "start_time": "2023-05-05T08:55:30.365Z"
   },
   {
    "duration": 104,
    "start_time": "2023-05-05T08:57:07.297Z"
   },
   {
    "duration": 100,
    "start_time": "2023-05-05T08:57:34.817Z"
   },
   {
    "duration": 88,
    "start_time": "2023-05-05T08:57:56.740Z"
   },
   {
    "duration": 106,
    "start_time": "2023-05-05T09:01:12.081Z"
   },
   {
    "duration": 112,
    "start_time": "2023-05-05T09:01:26.745Z"
   },
   {
    "duration": 115,
    "start_time": "2023-05-05T09:01:44.843Z"
   },
   {
    "duration": 118,
    "start_time": "2023-05-05T09:02:08.013Z"
   },
   {
    "duration": 124,
    "start_time": "2023-05-05T09:02:29.522Z"
   },
   {
    "duration": 139,
    "start_time": "2023-05-05T09:03:00.870Z"
   },
   {
    "duration": 129,
    "start_time": "2023-05-05T09:03:35.429Z"
   },
   {
    "duration": 117,
    "start_time": "2023-05-05T09:03:43.619Z"
   },
   {
    "duration": 123,
    "start_time": "2023-05-05T09:08:38.425Z"
   },
   {
    "duration": 116,
    "start_time": "2023-05-05T09:08:41.688Z"
   },
   {
    "duration": 1278,
    "start_time": "2023-05-05T09:12:11.969Z"
   },
   {
    "duration": 109,
    "start_time": "2023-05-05T09:12:21.526Z"
   },
   {
    "duration": 99,
    "start_time": "2023-05-05T09:12:43.610Z"
   },
   {
    "duration": 978,
    "start_time": "2023-05-05T09:12:54.025Z"
   },
   {
    "duration": 110,
    "start_time": "2023-05-05T09:13:05.440Z"
   },
   {
    "duration": 123,
    "start_time": "2023-05-05T09:13:34.774Z"
   },
   {
    "duration": 202,
    "start_time": "2023-05-05T09:13:39.356Z"
   },
   {
    "duration": 164,
    "start_time": "2023-05-05T09:13:50.629Z"
   },
   {
    "duration": 63,
    "start_time": "2023-05-05T09:13:58.389Z"
   },
   {
    "duration": 216,
    "start_time": "2023-05-05T09:14:01.313Z"
   },
   {
    "duration": 109,
    "start_time": "2023-05-05T09:14:18.829Z"
   },
   {
    "duration": 78,
    "start_time": "2023-05-05T09:14:29.468Z"
   },
   {
    "duration": 57,
    "start_time": "2023-05-05T09:14:46.664Z"
   },
   {
    "duration": 90,
    "start_time": "2023-05-05T09:14:53.730Z"
   },
   {
    "duration": 119,
    "start_time": "2023-05-05T09:15:32.252Z"
   },
   {
    "duration": 115,
    "start_time": "2023-05-05T09:15:41.137Z"
   },
   {
    "duration": 84,
    "start_time": "2023-05-05T09:15:52.761Z"
   },
   {
    "duration": 90,
    "start_time": "2023-05-05T09:16:36.004Z"
   },
   {
    "duration": 9,
    "start_time": "2023-05-05T09:20:03.338Z"
   },
   {
    "duration": 150,
    "start_time": "2023-05-05T09:23:35.820Z"
   },
   {
    "duration": 165,
    "start_time": "2023-05-05T09:23:52.364Z"
   },
   {
    "duration": 11,
    "start_time": "2023-05-05T09:32:03.654Z"
   },
   {
    "duration": 187,
    "start_time": "2023-05-05T09:32:22.120Z"
   },
   {
    "duration": 38,
    "start_time": "2023-05-05T09:36:32.470Z"
   },
   {
    "duration": 127,
    "start_time": "2023-05-05T09:44:10.477Z"
   },
   {
    "duration": 6,
    "start_time": "2023-05-05T09:44:22.809Z"
   },
   {
    "duration": 8,
    "start_time": "2023-05-05T09:44:28.324Z"
   },
   {
    "duration": 327,
    "start_time": "2023-05-05T09:44:38.872Z"
   },
   {
    "duration": 67,
    "start_time": "2023-05-05T09:44:49.580Z"
   },
   {
    "duration": 71,
    "start_time": "2023-05-05T09:45:07.562Z"
   },
   {
    "duration": 11,
    "start_time": "2023-05-05T09:45:24.922Z"
   },
   {
    "duration": 57,
    "start_time": "2023-05-05T09:45:30.552Z"
   },
   {
    "duration": 4,
    "start_time": "2023-05-05T09:45:40.739Z"
   },
   {
    "duration": 78,
    "start_time": "2023-05-05T09:45:49.890Z"
   },
   {
    "duration": 44,
    "start_time": "2023-05-05T09:46:11.225Z"
   },
   {
    "duration": 161,
    "start_time": "2023-05-05T09:46:49.780Z"
   },
   {
    "duration": 47,
    "start_time": "2023-05-05T09:46:58.138Z"
   },
   {
    "duration": 20,
    "start_time": "2023-05-05T09:47:05.818Z"
   },
   {
    "duration": 61,
    "start_time": "2023-05-05T09:47:23.089Z"
   },
   {
    "duration": 13,
    "start_time": "2023-05-05T09:47:27.482Z"
   },
   {
    "duration": 13,
    "start_time": "2023-05-05T09:47:33.525Z"
   },
   {
    "duration": 5,
    "start_time": "2023-05-05T09:47:37.634Z"
   },
   {
    "duration": 5,
    "start_time": "2023-05-05T09:47:43.745Z"
   },
   {
    "duration": 50,
    "start_time": "2023-05-05T09:47:52.254Z"
   },
   {
    "duration": 44,
    "start_time": "2023-05-05T09:50:47.138Z"
   },
   {
    "duration": 62,
    "start_time": "2023-05-05T09:50:51.867Z"
   },
   {
    "duration": 25,
    "start_time": "2023-05-05T09:51:02.506Z"
   },
   {
    "duration": 22,
    "start_time": "2023-05-05T09:51:45.118Z"
   },
   {
    "duration": 15,
    "start_time": "2023-05-05T09:51:50.237Z"
   },
   {
    "duration": 18,
    "start_time": "2023-05-05T09:53:13.006Z"
   },
   {
    "duration": 5,
    "start_time": "2023-05-05T09:53:42.254Z"
   },
   {
    "duration": 67,
    "start_time": "2023-05-05T09:53:59.831Z"
   },
   {
    "duration": 15,
    "start_time": "2023-05-05T09:54:08.571Z"
   },
   {
    "duration": 24,
    "start_time": "2023-05-05T09:54:47.018Z"
   },
   {
    "duration": 20,
    "start_time": "2023-05-05T09:55:15.321Z"
   },
   {
    "duration": 16,
    "start_time": "2023-05-05T09:55:44.180Z"
   },
   {
    "duration": 4,
    "start_time": "2023-05-05T09:57:24.482Z"
   },
   {
    "duration": 17,
    "start_time": "2023-05-05T11:01:12.971Z"
   },
   {
    "duration": 14,
    "start_time": "2023-05-05T11:03:58.545Z"
   },
   {
    "duration": 18,
    "start_time": "2023-05-05T11:04:24.889Z"
   },
   {
    "duration": 97,
    "start_time": "2023-05-05T11:04:40.224Z"
   },
   {
    "duration": 1277,
    "start_time": "2023-05-05T11:06:50.183Z"
   },
   {
    "duration": 180,
    "start_time": "2023-05-05T11:06:51.461Z"
   },
   {
    "duration": 143,
    "start_time": "2023-05-05T11:06:51.643Z"
   },
   {
    "duration": 122,
    "start_time": "2023-05-05T11:06:51.788Z"
   },
   {
    "duration": 5,
    "start_time": "2023-05-05T11:06:51.914Z"
   },
   {
    "duration": 13,
    "start_time": "2023-05-05T11:06:51.921Z"
   },
   {
    "duration": 109,
    "start_time": "2023-05-05T11:06:51.936Z"
   },
   {
    "duration": 121,
    "start_time": "2023-05-05T11:06:52.047Z"
   },
   {
    "duration": 43,
    "start_time": "2023-05-05T11:06:52.170Z"
   },
   {
    "duration": 17,
    "start_time": "2023-05-05T11:06:52.217Z"
   },
   {
    "duration": 1830,
    "start_time": "2023-05-05T11:06:52.237Z"
   },
   {
    "duration": 5,
    "start_time": "2023-05-05T11:06:54.069Z"
   },
   {
    "duration": 11,
    "start_time": "2023-05-05T11:06:54.076Z"
   },
   {
    "duration": 1866,
    "start_time": "2023-05-05T11:06:54.092Z"
   },
   {
    "duration": 40,
    "start_time": "2023-05-05T11:06:55.960Z"
   },
   {
    "duration": 34,
    "start_time": "2023-05-05T11:06:56.003Z"
   },
   {
    "duration": 171,
    "start_time": "2023-05-05T11:06:56.039Z"
   },
   {
    "duration": 176,
    "start_time": "2023-05-05T11:06:56.212Z"
   },
   {
    "duration": 89,
    "start_time": "2023-05-05T11:06:56.397Z"
   },
   {
    "duration": 198,
    "start_time": "2023-05-05T11:06:56.488Z"
   },
   {
    "duration": 34,
    "start_time": "2023-05-05T11:06:56.688Z"
   },
   {
    "duration": 114,
    "start_time": "2023-05-05T11:06:56.724Z"
   },
   {
    "duration": 7,
    "start_time": "2023-05-05T11:06:56.840Z"
   },
   {
    "duration": 69,
    "start_time": "2023-05-05T11:07:29.330Z"
   },
   {
    "duration": 74,
    "start_time": "2023-05-05T11:07:45.632Z"
   },
   {
    "duration": 70,
    "start_time": "2023-05-05T11:08:39.582Z"
   },
   {
    "duration": 89,
    "start_time": "2023-05-05T11:08:45.844Z"
   },
   {
    "duration": 60,
    "start_time": "2023-05-05T11:09:04.080Z"
   },
   {
    "duration": 213,
    "start_time": "2023-05-05T11:09:06.586Z"
   },
   {
    "duration": 58,
    "start_time": "2023-05-05T11:09:09.355Z"
   },
   {
    "duration": 68,
    "start_time": "2023-05-05T11:09:15.773Z"
   },
   {
    "duration": 69,
    "start_time": "2023-05-05T11:09:19.221Z"
   },
   {
    "duration": 1150,
    "start_time": "2023-05-05T11:12:14.611Z"
   },
   {
    "duration": 170,
    "start_time": "2023-05-05T11:12:15.763Z"
   },
   {
    "duration": 145,
    "start_time": "2023-05-05T11:12:15.935Z"
   },
   {
    "duration": 130,
    "start_time": "2023-05-05T11:12:16.082Z"
   },
   {
    "duration": 3,
    "start_time": "2023-05-05T11:12:16.214Z"
   },
   {
    "duration": 19,
    "start_time": "2023-05-05T11:12:16.219Z"
   },
   {
    "duration": 111,
    "start_time": "2023-05-05T11:12:16.240Z"
   },
   {
    "duration": 124,
    "start_time": "2023-05-05T11:12:16.353Z"
   },
   {
    "duration": 40,
    "start_time": "2023-05-05T11:12:16.479Z"
   },
   {
    "duration": 17,
    "start_time": "2023-05-05T11:12:16.521Z"
   },
   {
    "duration": 1618,
    "start_time": "2023-05-05T11:12:16.540Z"
   },
   {
    "duration": 5,
    "start_time": "2023-05-05T11:12:18.160Z"
   },
   {
    "duration": 16,
    "start_time": "2023-05-05T11:12:18.167Z"
   },
   {
    "duration": 1693,
    "start_time": "2023-05-05T11:12:18.195Z"
   },
   {
    "duration": 34,
    "start_time": "2023-05-05T11:12:19.889Z"
   },
   {
    "duration": 23,
    "start_time": "2023-05-05T11:12:19.925Z"
   },
   {
    "duration": 180,
    "start_time": "2023-05-05T11:12:19.949Z"
   },
   {
    "duration": 173,
    "start_time": "2023-05-05T11:12:20.131Z"
   },
   {
    "duration": 92,
    "start_time": "2023-05-05T11:12:20.307Z"
   },
   {
    "duration": 148,
    "start_time": "2023-05-05T11:12:20.404Z"
   },
   {
    "duration": 41,
    "start_time": "2023-05-05T11:12:20.554Z"
   },
   {
    "duration": 111,
    "start_time": "2023-05-05T11:12:20.597Z"
   },
   {
    "duration": 70,
    "start_time": "2023-05-05T11:12:45.694Z"
   },
   {
    "duration": 75,
    "start_time": "2023-05-05T11:12:53.558Z"
   },
   {
    "duration": 89,
    "start_time": "2023-05-05T11:13:25.703Z"
   },
   {
    "duration": 88,
    "start_time": "2023-05-05T11:13:34.949Z"
   },
   {
    "duration": 76,
    "start_time": "2023-05-05T11:13:40.685Z"
   },
   {
    "duration": 71,
    "start_time": "2023-05-05T11:13:44.596Z"
   },
   {
    "duration": 79,
    "start_time": "2023-05-05T11:14:07.278Z"
   },
   {
    "duration": 72,
    "start_time": "2023-05-05T11:14:17.005Z"
   },
   {
    "duration": 86,
    "start_time": "2023-05-05T11:14:26.170Z"
   },
   {
    "duration": 97,
    "start_time": "2023-05-05T11:14:40.361Z"
   },
   {
    "duration": 80,
    "start_time": "2023-05-05T11:14:41.405Z"
   },
   {
    "duration": 70,
    "start_time": "2023-05-05T11:15:14.021Z"
   },
   {
    "duration": 90,
    "start_time": "2023-05-05T11:15:22.131Z"
   },
   {
    "duration": 62,
    "start_time": "2023-05-05T11:15:45.012Z"
   },
   {
    "duration": 66,
    "start_time": "2023-05-05T11:15:48.555Z"
   },
   {
    "duration": 1185,
    "start_time": "2023-05-05T11:19:35.221Z"
   },
   {
    "duration": 169,
    "start_time": "2023-05-05T11:19:36.408Z"
   },
   {
    "duration": 148,
    "start_time": "2023-05-05T11:19:36.579Z"
   },
   {
    "duration": 107,
    "start_time": "2023-05-05T11:19:36.729Z"
   },
   {
    "duration": 3,
    "start_time": "2023-05-05T11:19:36.838Z"
   },
   {
    "duration": 19,
    "start_time": "2023-05-05T11:19:36.842Z"
   },
   {
    "duration": 94,
    "start_time": "2023-05-05T11:19:36.864Z"
   },
   {
    "duration": 118,
    "start_time": "2023-05-05T11:19:36.959Z"
   },
   {
    "duration": 30,
    "start_time": "2023-05-05T11:19:37.079Z"
   },
   {
    "duration": 40,
    "start_time": "2023-05-05T11:19:37.112Z"
   },
   {
    "duration": 1612,
    "start_time": "2023-05-05T11:19:37.154Z"
   },
   {
    "duration": 6,
    "start_time": "2023-05-05T11:19:38.767Z"
   },
   {
    "duration": 24,
    "start_time": "2023-05-05T11:19:38.774Z"
   },
   {
    "duration": 1581,
    "start_time": "2023-05-05T11:19:38.800Z"
   },
   {
    "duration": 40,
    "start_time": "2023-05-05T11:19:40.383Z"
   },
   {
    "duration": 37,
    "start_time": "2023-05-05T11:19:40.424Z"
   },
   {
    "duration": 150,
    "start_time": "2023-05-05T11:19:40.463Z"
   },
   {
    "duration": 166,
    "start_time": "2023-05-05T11:19:40.615Z"
   },
   {
    "duration": 85,
    "start_time": "2023-05-05T11:19:40.783Z"
   },
   {
    "duration": 162,
    "start_time": "2023-05-05T11:19:40.870Z"
   },
   {
    "duration": 18,
    "start_time": "2023-05-05T11:19:41.035Z"
   },
   {
    "duration": 162,
    "start_time": "2023-05-05T11:19:41.055Z"
   },
   {
    "duration": 53,
    "start_time": "2023-05-05T11:19:41.219Z"
   },
   {
    "duration": 74,
    "start_time": "2023-05-05T11:20:16.273Z"
   },
   {
    "duration": 73,
    "start_time": "2023-05-05T11:20:50.839Z"
   },
   {
    "duration": 22,
    "start_time": "2023-05-05T11:20:54.281Z"
   },
   {
    "duration": 83,
    "start_time": "2023-05-05T11:21:17.093Z"
   },
   {
    "duration": 66,
    "start_time": "2023-05-05T11:21:24.001Z"
   },
   {
    "duration": 1080,
    "start_time": "2023-05-05T11:23:13.831Z"
   },
   {
    "duration": 151,
    "start_time": "2023-05-05T11:23:14.913Z"
   },
   {
    "duration": 144,
    "start_time": "2023-05-05T11:23:15.066Z"
   },
   {
    "duration": 104,
    "start_time": "2023-05-05T11:23:15.212Z"
   },
   {
    "duration": 2,
    "start_time": "2023-05-05T11:23:15.318Z"
   },
   {
    "duration": 12,
    "start_time": "2023-05-05T11:23:15.322Z"
   },
   {
    "duration": 99,
    "start_time": "2023-05-05T11:23:15.336Z"
   },
   {
    "duration": 106,
    "start_time": "2023-05-05T11:23:15.437Z"
   },
   {
    "duration": 28,
    "start_time": "2023-05-05T11:23:15.545Z"
   },
   {
    "duration": 25,
    "start_time": "2023-05-05T11:23:15.575Z"
   },
   {
    "duration": 4,
    "start_time": "2023-05-05T11:24:14.613Z"
   },
   {
    "duration": 182,
    "start_time": "2023-05-05T11:24:14.619Z"
   },
   {
    "duration": 122,
    "start_time": "2023-05-05T11:24:14.807Z"
   },
   {
    "duration": 109,
    "start_time": "2023-05-05T11:24:14.931Z"
   },
   {
    "duration": 3,
    "start_time": "2023-05-05T11:24:15.042Z"
   },
   {
    "duration": 9,
    "start_time": "2023-05-05T11:24:15.047Z"
   },
   {
    "duration": 97,
    "start_time": "2023-05-05T11:24:15.058Z"
   },
   {
    "duration": 122,
    "start_time": "2023-05-05T11:24:15.157Z"
   },
   {
    "duration": 35,
    "start_time": "2023-05-05T11:24:15.282Z"
   },
   {
    "duration": 10,
    "start_time": "2023-05-05T11:24:15.321Z"
   },
   {
    "duration": 1687,
    "start_time": "2023-05-05T11:24:15.332Z"
   },
   {
    "duration": 6,
    "start_time": "2023-05-05T11:24:17.022Z"
   },
   {
    "duration": 19,
    "start_time": "2023-05-05T11:24:17.030Z"
   },
   {
    "duration": 1742,
    "start_time": "2023-05-05T11:24:17.051Z"
   },
   {
    "duration": 26,
    "start_time": "2023-05-05T11:24:18.795Z"
   },
   {
    "duration": 27,
    "start_time": "2023-05-05T11:24:18.822Z"
   },
   {
    "duration": 309,
    "start_time": "2023-05-05T11:24:18.850Z"
   },
   {
    "duration": 169,
    "start_time": "2023-05-05T11:24:19.161Z"
   },
   {
    "duration": 81,
    "start_time": "2023-05-05T11:24:19.333Z"
   },
   {
    "duration": 14,
    "start_time": "2023-05-05T11:24:19.416Z"
   },
   {
    "duration": 19,
    "start_time": "2023-05-05T11:24:19.432Z"
   },
   {
    "duration": 99,
    "start_time": "2023-05-05T11:24:19.453Z"
   },
   {
    "duration": 79,
    "start_time": "2023-05-05T11:24:19.554Z"
   },
   {
    "duration": 97,
    "start_time": "2023-05-05T11:24:19.634Z"
   },
   {
    "duration": 21,
    "start_time": "2023-05-05T11:24:19.733Z"
   },
   {
    "duration": 23,
    "start_time": "2023-05-05T11:25:42.430Z"
   },
   {
    "duration": 60,
    "start_time": "2023-05-05T11:29:55.959Z"
   },
   {
    "duration": 90,
    "start_time": "2023-05-05T11:30:12.385Z"
   },
   {
    "duration": 1245,
    "start_time": "2023-05-05T11:38:25.927Z"
   },
   {
    "duration": 183,
    "start_time": "2023-05-05T11:38:27.174Z"
   },
   {
    "duration": 192,
    "start_time": "2023-05-05T11:38:27.359Z"
   },
   {
    "duration": 129,
    "start_time": "2023-05-05T11:38:27.553Z"
   },
   {
    "duration": 6,
    "start_time": "2023-05-05T11:38:27.702Z"
   },
   {
    "duration": 22,
    "start_time": "2023-05-05T11:38:27.709Z"
   },
   {
    "duration": 92,
    "start_time": "2023-05-05T11:38:27.733Z"
   },
   {
    "duration": 126,
    "start_time": "2023-05-05T11:38:27.827Z"
   },
   {
    "duration": 27,
    "start_time": "2023-05-05T11:38:27.954Z"
   },
   {
    "duration": 18,
    "start_time": "2023-05-05T11:38:27.998Z"
   },
   {
    "duration": 1554,
    "start_time": "2023-05-05T11:38:28.019Z"
   },
   {
    "duration": 5,
    "start_time": "2023-05-05T11:38:29.575Z"
   },
   {
    "duration": 43,
    "start_time": "2023-05-05T11:38:29.581Z"
   },
   {
    "duration": 1764,
    "start_time": "2023-05-05T11:38:29.625Z"
   },
   {
    "duration": 40,
    "start_time": "2023-05-05T11:38:31.391Z"
   },
   {
    "duration": 36,
    "start_time": "2023-05-05T11:38:31.433Z"
   },
   {
    "duration": 208,
    "start_time": "2023-05-05T11:38:31.471Z"
   },
   {
    "duration": 192,
    "start_time": "2023-05-05T11:38:31.681Z"
   },
   {
    "duration": 95,
    "start_time": "2023-05-05T11:38:31.875Z"
   },
   {
    "duration": 201,
    "start_time": "2023-05-05T11:38:31.972Z"
   },
   {
    "duration": 34,
    "start_time": "2023-05-05T11:38:32.175Z"
   },
   {
    "duration": 132,
    "start_time": "2023-05-05T11:38:32.219Z"
   },
   {
    "duration": 111,
    "start_time": "2023-05-05T11:38:32.353Z"
   },
   {
    "duration": 109,
    "start_time": "2023-05-05T11:38:32.465Z"
   },
   {
    "duration": 53,
    "start_time": "2023-05-05T11:38:32.576Z"
   },
   {
    "duration": 17,
    "start_time": "2023-05-05T11:38:32.631Z"
   },
   {
    "duration": 306,
    "start_time": "2023-05-05T11:41:28.411Z"
   },
   {
    "duration": 132,
    "start_time": "2023-05-05T11:41:44.522Z"
   },
   {
    "duration": 1352,
    "start_time": "2023-05-05T11:46:36.233Z"
   },
   {
    "duration": 210,
    "start_time": "2023-05-05T11:46:37.588Z"
   },
   {
    "duration": 188,
    "start_time": "2023-05-05T11:46:37.800Z"
   },
   {
    "duration": 135,
    "start_time": "2023-05-05T11:46:37.994Z"
   },
   {
    "duration": 3,
    "start_time": "2023-05-05T11:46:38.131Z"
   },
   {
    "duration": 15,
    "start_time": "2023-05-05T11:46:38.137Z"
   },
   {
    "duration": 108,
    "start_time": "2023-05-05T11:46:38.153Z"
   },
   {
    "duration": 146,
    "start_time": "2023-05-05T11:46:38.263Z"
   },
   {
    "duration": 32,
    "start_time": "2023-05-05T11:46:38.417Z"
   },
   {
    "duration": 22,
    "start_time": "2023-05-05T11:46:38.452Z"
   },
   {
    "duration": 1634,
    "start_time": "2023-05-05T11:46:38.481Z"
   },
   {
    "duration": 7,
    "start_time": "2023-05-05T11:46:40.116Z"
   },
   {
    "duration": 15,
    "start_time": "2023-05-05T11:46:40.125Z"
   },
   {
    "duration": 1785,
    "start_time": "2023-05-05T11:46:40.142Z"
   },
   {
    "duration": 29,
    "start_time": "2023-05-05T11:46:41.928Z"
   },
   {
    "duration": 22,
    "start_time": "2023-05-05T11:46:41.959Z"
   },
   {
    "duration": 163,
    "start_time": "2023-05-05T11:46:41.982Z"
   },
   {
    "duration": 174,
    "start_time": "2023-05-05T11:46:42.146Z"
   },
   {
    "duration": 92,
    "start_time": "2023-05-05T11:46:42.321Z"
   },
   {
    "duration": 172,
    "start_time": "2023-05-05T11:46:42.415Z"
   },
   {
    "duration": 143,
    "start_time": "2023-05-05T11:46:42.588Z"
   },
   {
    "duration": 120,
    "start_time": "2023-05-05T11:46:42.732Z"
   },
   {
    "duration": 91,
    "start_time": "2023-05-05T11:46:42.854Z"
   },
   {
    "duration": 68,
    "start_time": "2023-05-05T11:46:42.947Z"
   },
   {
    "duration": 16,
    "start_time": "2023-05-05T11:46:43.017Z"
   },
   {
    "duration": 144,
    "start_time": "2023-05-05T11:46:43.035Z"
   },
   {
    "duration": 7,
    "start_time": "2023-05-05T11:48:05.538Z"
   },
   {
    "duration": 63,
    "start_time": "2023-05-05T11:48:13.586Z"
   },
   {
    "duration": 8,
    "start_time": "2023-05-05T11:48:16.972Z"
   },
   {
    "duration": 8,
    "start_time": "2023-05-05T11:52:47.229Z"
   },
   {
    "duration": 10,
    "start_time": "2023-05-05T11:52:59.619Z"
   },
   {
    "duration": 8,
    "start_time": "2023-05-05T11:53:25.116Z"
   },
   {
    "duration": 1261,
    "start_time": "2023-05-05T11:57:42.382Z"
   },
   {
    "duration": 177,
    "start_time": "2023-05-05T11:57:43.645Z"
   },
   {
    "duration": 170,
    "start_time": "2023-05-05T11:57:43.824Z"
   },
   {
    "duration": 106,
    "start_time": "2023-05-05T11:57:44.004Z"
   },
   {
    "duration": 5,
    "start_time": "2023-05-05T11:57:44.114Z"
   },
   {
    "duration": 10,
    "start_time": "2023-05-05T11:57:44.124Z"
   },
   {
    "duration": 94,
    "start_time": "2023-05-05T11:57:44.136Z"
   },
   {
    "duration": 122,
    "start_time": "2023-05-05T11:57:44.232Z"
   },
   {
    "duration": 24,
    "start_time": "2023-05-05T11:57:44.356Z"
   },
   {
    "duration": 14,
    "start_time": "2023-05-05T11:57:44.399Z"
   },
   {
    "duration": 1718,
    "start_time": "2023-05-05T11:57:44.415Z"
   },
   {
    "duration": 6,
    "start_time": "2023-05-05T11:57:46.135Z"
   },
   {
    "duration": 15,
    "start_time": "2023-05-05T11:57:46.143Z"
   },
   {
    "duration": 1982,
    "start_time": "2023-05-05T11:57:46.159Z"
   },
   {
    "duration": 33,
    "start_time": "2023-05-05T11:57:48.143Z"
   },
   {
    "duration": 47,
    "start_time": "2023-05-05T11:57:48.178Z"
   },
   {
    "duration": 187,
    "start_time": "2023-05-05T11:57:48.228Z"
   },
   {
    "duration": 178,
    "start_time": "2023-05-05T11:57:48.430Z"
   },
   {
    "duration": 91,
    "start_time": "2023-05-05T11:57:48.609Z"
   },
   {
    "duration": 210,
    "start_time": "2023-05-05T11:57:48.701Z"
   },
   {
    "duration": 127,
    "start_time": "2023-05-05T11:57:48.912Z"
   },
   {
    "duration": 190,
    "start_time": "2023-05-05T11:57:49.041Z"
   },
   {
    "duration": 0,
    "start_time": "2023-05-05T11:57:49.233Z"
   },
   {
    "duration": 0,
    "start_time": "2023-05-05T11:57:49.235Z"
   },
   {
    "duration": 0,
    "start_time": "2023-05-05T11:57:49.236Z"
   },
   {
    "duration": 0,
    "start_time": "2023-05-05T11:57:49.238Z"
   },
   {
    "duration": 0,
    "start_time": "2023-05-05T11:57:49.239Z"
   },
   {
    "duration": 10,
    "start_time": "2023-05-05T11:58:03.461Z"
   },
   {
    "duration": 1291,
    "start_time": "2023-05-05T12:07:31.633Z"
   },
   {
    "duration": 173,
    "start_time": "2023-05-05T12:07:32.930Z"
   },
   {
    "duration": 154,
    "start_time": "2023-05-05T12:07:33.105Z"
   },
   {
    "duration": 134,
    "start_time": "2023-05-05T12:07:33.261Z"
   },
   {
    "duration": 8,
    "start_time": "2023-05-05T12:07:33.400Z"
   },
   {
    "duration": 22,
    "start_time": "2023-05-05T12:07:33.420Z"
   },
   {
    "duration": 90,
    "start_time": "2023-05-05T12:07:33.444Z"
   },
   {
    "duration": 136,
    "start_time": "2023-05-05T12:07:33.536Z"
   },
   {
    "duration": 43,
    "start_time": "2023-05-05T12:07:33.674Z"
   },
   {
    "duration": 16,
    "start_time": "2023-05-05T12:07:33.724Z"
   },
   {
    "duration": 1800,
    "start_time": "2023-05-05T12:07:33.741Z"
   },
   {
    "duration": 5,
    "start_time": "2023-05-05T12:07:35.543Z"
   },
   {
    "duration": 13,
    "start_time": "2023-05-05T12:07:35.550Z"
   },
   {
    "duration": 1844,
    "start_time": "2023-05-05T12:07:35.566Z"
   },
   {
    "duration": 43,
    "start_time": "2023-05-05T12:07:37.414Z"
   },
   {
    "duration": 32,
    "start_time": "2023-05-05T12:07:37.459Z"
   },
   {
    "duration": 201,
    "start_time": "2023-05-05T12:07:37.493Z"
   },
   {
    "duration": 219,
    "start_time": "2023-05-05T12:07:37.696Z"
   },
   {
    "duration": 101,
    "start_time": "2023-05-05T12:07:37.920Z"
   },
   {
    "duration": 199,
    "start_time": "2023-05-05T12:07:38.024Z"
   },
   {
    "duration": 107,
    "start_time": "2023-05-05T12:07:38.225Z"
   },
   {
    "duration": 43,
    "start_time": "2023-05-05T12:07:38.337Z"
   },
   {
    "duration": 0,
    "start_time": "2023-05-05T12:07:38.382Z"
   },
   {
    "duration": 1,
    "start_time": "2023-05-05T12:07:38.383Z"
   },
   {
    "duration": 0,
    "start_time": "2023-05-05T12:07:38.385Z"
   },
   {
    "duration": 0,
    "start_time": "2023-05-05T12:07:38.391Z"
   },
   {
    "duration": 0,
    "start_time": "2023-05-05T12:07:38.392Z"
   },
   {
    "duration": 104,
    "start_time": "2023-05-05T13:02:35.772Z"
   },
   {
    "duration": 109,
    "start_time": "2023-05-05T13:02:42.385Z"
   },
   {
    "duration": 87,
    "start_time": "2023-05-05T13:03:20.472Z"
   },
   {
    "duration": 88,
    "start_time": "2023-05-05T13:03:44.464Z"
   },
   {
    "duration": 83,
    "start_time": "2023-05-05T13:04:06.538Z"
   },
   {
    "duration": 92,
    "start_time": "2023-05-05T13:04:17.261Z"
   },
   {
    "duration": 86,
    "start_time": "2023-05-05T13:04:20.137Z"
   },
   {
    "duration": 95,
    "start_time": "2023-05-05T13:04:20.879Z"
   },
   {
    "duration": 14,
    "start_time": "2023-05-05T13:04:28.230Z"
   },
   {
    "duration": 13,
    "start_time": "2023-05-05T13:04:34.552Z"
   },
   {
    "duration": 15,
    "start_time": "2023-05-05T13:04:37.996Z"
   },
   {
    "duration": 16,
    "start_time": "2023-05-05T13:05:14.022Z"
   },
   {
    "duration": 13,
    "start_time": "2023-05-05T13:05:17.924Z"
   },
   {
    "duration": 23,
    "start_time": "2023-05-05T13:05:37.826Z"
   },
   {
    "duration": 39,
    "start_time": "2023-05-05T13:05:40.128Z"
   },
   {
    "duration": 13,
    "start_time": "2023-05-05T13:05:42.348Z"
   },
   {
    "duration": 121,
    "start_time": "2023-05-05T13:05:57.561Z"
   },
   {
    "duration": 87,
    "start_time": "2023-05-05T13:06:09.581Z"
   },
   {
    "duration": 19,
    "start_time": "2023-05-05T13:06:14.840Z"
   },
   {
    "duration": 88,
    "start_time": "2023-05-05T13:06:18.235Z"
   },
   {
    "duration": 16,
    "start_time": "2023-05-05T13:06:21.535Z"
   },
   {
    "duration": 8,
    "start_time": "2023-05-05T13:06:26.782Z"
   },
   {
    "duration": 83,
    "start_time": "2023-05-05T13:06:29.614Z"
   },
   {
    "duration": 22,
    "start_time": "2023-05-05T13:06:48.701Z"
   },
   {
    "duration": 13,
    "start_time": "2023-05-05T13:06:55.247Z"
   },
   {
    "duration": 257,
    "start_time": "2023-05-05T13:07:02.910Z"
   },
   {
    "duration": 41,
    "start_time": "2023-05-05T13:07:33.667Z"
   },
   {
    "duration": 1472,
    "start_time": "2023-05-05T13:08:34.384Z"
   },
   {
    "duration": 205,
    "start_time": "2023-05-05T13:08:35.858Z"
   },
   {
    "duration": 201,
    "start_time": "2023-05-05T13:08:36.065Z"
   },
   {
    "duration": 144,
    "start_time": "2023-05-05T13:08:36.269Z"
   },
   {
    "duration": 9,
    "start_time": "2023-05-05T13:08:36.424Z"
   },
   {
    "duration": 24,
    "start_time": "2023-05-05T13:08:36.436Z"
   },
   {
    "duration": 111,
    "start_time": "2023-05-05T13:08:36.463Z"
   },
   {
    "duration": 343,
    "start_time": "2023-05-05T13:08:36.576Z"
   },
   {
    "duration": 48,
    "start_time": "2023-05-05T13:08:36.921Z"
   },
   {
    "duration": 10,
    "start_time": "2023-05-05T13:08:36.972Z"
   },
   {
    "duration": 2150,
    "start_time": "2023-05-05T13:08:36.984Z"
   },
   {
    "duration": 8,
    "start_time": "2023-05-05T13:08:39.137Z"
   },
   {
    "duration": 16,
    "start_time": "2023-05-05T13:08:39.147Z"
   },
   {
    "duration": 2021,
    "start_time": "2023-05-05T13:08:39.165Z"
   },
   {
    "duration": 46,
    "start_time": "2023-05-05T13:08:41.195Z"
   },
   {
    "duration": 39,
    "start_time": "2023-05-05T13:08:41.247Z"
   },
   {
    "duration": 249,
    "start_time": "2023-05-05T13:08:41.288Z"
   },
   {
    "duration": 243,
    "start_time": "2023-05-05T13:08:41.540Z"
   },
   {
    "duration": 100,
    "start_time": "2023-05-05T13:08:41.785Z"
   },
   {
    "duration": 223,
    "start_time": "2023-05-05T13:08:41.887Z"
   },
   {
    "duration": 167,
    "start_time": "2023-05-05T13:08:42.113Z"
   },
   {
    "duration": 38,
    "start_time": "2023-05-05T13:08:42.282Z"
   },
   {
    "duration": 42,
    "start_time": "2023-05-05T13:08:42.322Z"
   },
   {
    "duration": 68,
    "start_time": "2023-05-05T13:08:42.367Z"
   },
   {
    "duration": 115,
    "start_time": "2023-05-05T13:08:42.439Z"
   },
   {
    "duration": 20,
    "start_time": "2023-05-05T13:08:42.556Z"
   },
   {
    "duration": 174,
    "start_time": "2023-05-05T13:08:42.579Z"
   },
   {
    "duration": 6,
    "start_time": "2023-05-05T13:09:11.349Z"
   },
   {
    "duration": 89,
    "start_time": "2023-05-05T13:09:36.826Z"
   },
   {
    "duration": 16,
    "start_time": "2023-05-05T13:09:43.647Z"
   },
   {
    "duration": 126,
    "start_time": "2023-05-05T13:10:03.547Z"
   },
   {
    "duration": 87,
    "start_time": "2023-05-05T13:10:07.050Z"
   },
   {
    "duration": 13,
    "start_time": "2023-05-05T13:10:07.443Z"
   },
   {
    "duration": 25,
    "start_time": "2023-05-05T13:10:11.362Z"
   },
   {
    "duration": 17,
    "start_time": "2023-05-05T13:10:21.366Z"
   },
   {
    "duration": 111,
    "start_time": "2023-05-05T13:10:38.549Z"
   },
   {
    "duration": 81,
    "start_time": "2023-05-05T13:11:37.334Z"
   },
   {
    "duration": 87,
    "start_time": "2023-05-05T13:19:01.342Z"
   },
   {
    "duration": 1126,
    "start_time": "2023-05-05T17:17:44.841Z"
   },
   {
    "duration": 168,
    "start_time": "2023-05-05T17:17:45.969Z"
   },
   {
    "duration": 167,
    "start_time": "2023-05-05T17:17:46.139Z"
   },
   {
    "duration": 119,
    "start_time": "2023-05-05T17:17:46.308Z"
   },
   {
    "duration": 4,
    "start_time": "2023-05-05T17:17:46.430Z"
   },
   {
    "duration": 13,
    "start_time": "2023-05-05T17:17:46.436Z"
   },
   {
    "duration": 109,
    "start_time": "2023-05-05T17:17:46.452Z"
   },
   {
    "duration": 134,
    "start_time": "2023-05-05T17:17:46.564Z"
   },
   {
    "duration": 34,
    "start_time": "2023-05-05T17:17:46.699Z"
   },
   {
    "duration": 12,
    "start_time": "2023-05-05T17:17:46.734Z"
   },
   {
    "duration": 1606,
    "start_time": "2023-05-05T17:17:46.748Z"
   },
   {
    "duration": 6,
    "start_time": "2023-05-05T17:17:48.356Z"
   },
   {
    "duration": 75,
    "start_time": "2023-05-05T17:17:48.363Z"
   },
   {
    "duration": 1741,
    "start_time": "2023-05-05T17:17:48.441Z"
   },
   {
    "duration": 36,
    "start_time": "2023-05-05T17:17:50.184Z"
   },
   {
    "duration": 26,
    "start_time": "2023-05-05T17:17:50.223Z"
   },
   {
    "duration": 172,
    "start_time": "2023-05-05T17:17:50.251Z"
   },
   {
    "duration": 182,
    "start_time": "2023-05-05T17:17:50.425Z"
   },
   {
    "duration": 87,
    "start_time": "2023-05-05T17:17:50.608Z"
   },
   {
    "duration": 196,
    "start_time": "2023-05-05T17:17:50.700Z"
   },
   {
    "duration": 148,
    "start_time": "2023-05-05T17:17:50.898Z"
   },
   {
    "duration": 13,
    "start_time": "2023-05-05T17:17:51.048Z"
   },
   {
    "duration": 174,
    "start_time": "2023-05-05T17:17:51.062Z"
   },
   {
    "duration": 91,
    "start_time": "2023-05-05T17:33:13.630Z"
   },
   {
    "duration": 127,
    "start_time": "2023-05-05T17:35:06.438Z"
   },
   {
    "duration": 57,
    "start_time": "2023-05-05T17:35:14.405Z"
   },
   {
    "duration": 57,
    "start_time": "2023-05-05T17:35:37.209Z"
   },
   {
    "duration": 27,
    "start_time": "2023-05-05T17:35:49.078Z"
   },
   {
    "duration": 60,
    "start_time": "2023-05-05T17:36:13.971Z"
   },
   {
    "duration": 140,
    "start_time": "2023-05-05T17:38:06.438Z"
   },
   {
    "duration": 65,
    "start_time": "2023-05-05T17:38:22.459Z"
   },
   {
    "duration": 60,
    "start_time": "2023-05-05T17:38:23.505Z"
   },
   {
    "duration": 26,
    "start_time": "2023-05-05T17:38:41.877Z"
   },
   {
    "duration": 36,
    "start_time": "2023-05-05T17:39:07.205Z"
   },
   {
    "duration": 91,
    "start_time": "2023-05-05T17:39:15.112Z"
   },
   {
    "duration": 16,
    "start_time": "2023-05-05T17:39:19.836Z"
   },
   {
    "duration": 361,
    "start_time": "2023-05-05T17:40:17.512Z"
   },
   {
    "duration": 55,
    "start_time": "2023-05-05T17:42:54.950Z"
   },
   {
    "duration": 45,
    "start_time": "2023-05-05T17:43:09.914Z"
   },
   {
    "duration": 46,
    "start_time": "2023-05-05T17:49:01.022Z"
   },
   {
    "duration": 1187,
    "start_time": "2023-05-05T17:49:17.323Z"
   },
   {
    "duration": 151,
    "start_time": "2023-05-05T17:49:18.513Z"
   },
   {
    "duration": 152,
    "start_time": "2023-05-05T17:49:18.666Z"
   },
   {
    "duration": 106,
    "start_time": "2023-05-05T17:49:18.820Z"
   },
   {
    "duration": 2,
    "start_time": "2023-05-05T17:49:18.929Z"
   },
   {
    "duration": 9,
    "start_time": "2023-05-05T17:49:18.933Z"
   },
   {
    "duration": 106,
    "start_time": "2023-05-05T17:49:18.944Z"
   },
   {
    "duration": 130,
    "start_time": "2023-05-05T17:49:19.051Z"
   },
   {
    "duration": 35,
    "start_time": "2023-05-05T17:49:19.183Z"
   },
   {
    "duration": 13,
    "start_time": "2023-05-05T17:49:19.219Z"
   },
   {
    "duration": 1523,
    "start_time": "2023-05-05T17:49:19.234Z"
   },
   {
    "duration": 6,
    "start_time": "2023-05-05T17:49:20.759Z"
   },
   {
    "duration": 25,
    "start_time": "2023-05-05T17:49:20.767Z"
   },
   {
    "duration": 1597,
    "start_time": "2023-05-05T17:49:20.795Z"
   },
   {
    "duration": 31,
    "start_time": "2023-05-05T17:49:22.394Z"
   },
   {
    "duration": 25,
    "start_time": "2023-05-05T17:49:22.427Z"
   },
   {
    "duration": 163,
    "start_time": "2023-05-05T17:49:22.453Z"
   },
   {
    "duration": 159,
    "start_time": "2023-05-05T17:49:22.617Z"
   },
   {
    "duration": 86,
    "start_time": "2023-05-05T17:49:22.778Z"
   },
   {
    "duration": 227,
    "start_time": "2023-05-05T17:49:22.866Z"
   },
   {
    "duration": 126,
    "start_time": "2023-05-05T17:49:23.095Z"
   },
   {
    "duration": 13,
    "start_time": "2023-05-05T17:49:23.223Z"
   },
   {
    "duration": 169,
    "start_time": "2023-05-05T17:49:23.238Z"
   },
   {
    "duration": 46,
    "start_time": "2023-05-05T17:49:23.409Z"
   },
   {
    "duration": 38,
    "start_time": "2023-05-05T17:49:23.457Z"
   },
   {
    "duration": 103,
    "start_time": "2023-05-05T17:50:27.326Z"
   },
   {
    "duration": 74,
    "start_time": "2023-05-05T17:52:36.720Z"
   },
   {
    "duration": 80,
    "start_time": "2023-05-05T17:52:55.189Z"
   },
   {
    "duration": 92,
    "start_time": "2023-05-05T17:53:00.275Z"
   },
   {
    "duration": 180,
    "start_time": "2023-05-05T17:53:25.023Z"
   },
   {
    "duration": 85,
    "start_time": "2023-05-05T17:55:17.924Z"
   },
   {
    "duration": 76,
    "start_time": "2023-05-05T17:55:33.866Z"
   },
   {
    "duration": 43,
    "start_time": "2023-05-05T17:55:42.462Z"
   },
   {
    "duration": 85,
    "start_time": "2023-05-05T17:55:50.395Z"
   },
   {
    "duration": 73,
    "start_time": "2023-05-05T17:55:59.537Z"
   },
   {
    "duration": 89,
    "start_time": "2023-05-05T17:56:04.941Z"
   },
   {
    "duration": 71,
    "start_time": "2023-05-05T17:56:18.941Z"
   },
   {
    "duration": 49,
    "start_time": "2023-05-05T17:56:27.153Z"
   },
   {
    "duration": 82,
    "start_time": "2023-05-05T17:56:31.121Z"
   },
   {
    "duration": 71,
    "start_time": "2023-05-05T17:56:35.243Z"
   },
   {
    "duration": 77,
    "start_time": "2023-05-05T17:56:44.614Z"
   },
   {
    "duration": 110,
    "start_time": "2023-05-05T17:56:59.913Z"
   },
   {
    "duration": 97,
    "start_time": "2023-05-05T17:57:16.633Z"
   },
   {
    "duration": 97,
    "start_time": "2023-05-05T17:57:25.239Z"
   },
   {
    "duration": 84,
    "start_time": "2023-05-05T17:57:33.265Z"
   },
   {
    "duration": 53,
    "start_time": "2023-05-05T17:58:03.823Z"
   },
   {
    "duration": 106,
    "start_time": "2023-05-05T17:58:16.686Z"
   },
   {
    "duration": 58,
    "start_time": "2023-05-05T17:58:21.764Z"
   },
   {
    "duration": 81,
    "start_time": "2023-05-05T17:58:32.483Z"
   },
   {
    "duration": 102,
    "start_time": "2023-05-05T17:58:59.004Z"
   },
   {
    "duration": 110,
    "start_time": "2023-05-05T17:59:48.712Z"
   },
   {
    "duration": 79,
    "start_time": "2023-05-05T17:59:58.564Z"
   },
   {
    "duration": 80,
    "start_time": "2023-05-05T18:01:02.724Z"
   },
   {
    "duration": 75,
    "start_time": "2023-05-05T18:01:26.231Z"
   },
   {
    "duration": 57,
    "start_time": "2023-05-05T19:22:13.684Z"
   },
   {
    "duration": 731,
    "start_time": "2023-05-05T19:31:41.131Z"
   },
   {
    "duration": 1549,
    "start_time": "2023-05-05T19:31:51.783Z"
   },
   {
    "duration": 737,
    "start_time": "2023-05-05T19:32:05.691Z"
   },
   {
    "duration": 877,
    "start_time": "2023-05-05T19:32:24.005Z"
   },
   {
    "duration": 5,
    "start_time": "2023-05-05T19:43:58.410Z"
   },
   {
    "duration": 19,
    "start_time": "2023-05-05T19:45:21.112Z"
   },
   {
    "duration": 12,
    "start_time": "2023-05-05T19:46:40.107Z"
   },
   {
    "duration": 37,
    "start_time": "2023-05-05T19:46:45.233Z"
   },
   {
    "duration": 67,
    "start_time": "2023-05-05T19:47:03.820Z"
   },
   {
    "duration": 80,
    "start_time": "2023-05-05T19:48:19.511Z"
   },
   {
    "duration": 73,
    "start_time": "2023-05-05T19:48:28.447Z"
   },
   {
    "duration": 80,
    "start_time": "2023-05-05T19:48:37.669Z"
   },
   {
    "duration": 57,
    "start_time": "2023-05-05T19:50:05.002Z"
   },
   {
    "duration": 56,
    "start_time": "2023-05-05T19:52:19.194Z"
   },
   {
    "duration": 61,
    "start_time": "2023-05-05T19:52:28.719Z"
   },
   {
    "duration": 5,
    "start_time": "2023-05-05T19:53:15.750Z"
   },
   {
    "duration": 4,
    "start_time": "2023-05-05T19:53:25.880Z"
   },
   {
    "duration": 12,
    "start_time": "2023-05-05T19:53:56.301Z"
   },
   {
    "duration": 11,
    "start_time": "2023-05-05T19:54:03.549Z"
   },
   {
    "duration": 5,
    "start_time": "2023-05-05T19:54:13.748Z"
   },
   {
    "duration": 7,
    "start_time": "2023-05-05T19:54:19.397Z"
   },
   {
    "duration": 724,
    "start_time": "2023-05-05T19:54:27.027Z"
   },
   {
    "duration": 730,
    "start_time": "2023-05-05T19:54:40.017Z"
   },
   {
    "duration": 7,
    "start_time": "2023-05-05T19:54:43.246Z"
   },
   {
    "duration": 8,
    "start_time": "2023-05-05T19:54:46.914Z"
   },
   {
    "duration": 7,
    "start_time": "2023-05-05T19:54:52.783Z"
   },
   {
    "duration": 47,
    "start_time": "2023-05-05T19:54:55.113Z"
   },
   {
    "duration": 47,
    "start_time": "2023-05-05T19:55:11.501Z"
   },
   {
    "duration": 47,
    "start_time": "2023-05-05T19:56:40.117Z"
   },
   {
    "duration": 10,
    "start_time": "2023-05-05T19:56:49.497Z"
   },
   {
    "duration": 10,
    "start_time": "2023-05-05T19:56:57.102Z"
   },
   {
    "duration": 7,
    "start_time": "2023-05-05T19:57:02.143Z"
   },
   {
    "duration": 8,
    "start_time": "2023-05-05T19:57:08.957Z"
   },
   {
    "duration": 8,
    "start_time": "2023-05-05T19:57:15.321Z"
   },
   {
    "duration": 13,
    "start_time": "2023-05-05T19:57:28.313Z"
   },
   {
    "duration": 8,
    "start_time": "2023-05-05T19:57:31.415Z"
   },
   {
    "duration": 72,
    "start_time": "2023-05-05T19:57:51.410Z"
   },
   {
    "duration": 6,
    "start_time": "2023-05-05T19:57:52.512Z"
   },
   {
    "duration": 59,
    "start_time": "2023-05-05T19:57:59.414Z"
   },
   {
    "duration": 9,
    "start_time": "2023-05-05T19:58:13.135Z"
   },
   {
    "duration": 10,
    "start_time": "2023-05-05T19:58:20.449Z"
   },
   {
    "duration": 9,
    "start_time": "2023-05-05T19:58:23.159Z"
   },
   {
    "duration": 35,
    "start_time": "2023-05-05T20:00:06.667Z"
   },
   {
    "duration": 40,
    "start_time": "2023-05-05T20:00:11.183Z"
   },
   {
    "duration": 39,
    "start_time": "2023-05-05T20:00:38.327Z"
   },
   {
    "duration": 49,
    "start_time": "2023-05-05T20:00:48.811Z"
   },
   {
    "duration": 33,
    "start_time": "2023-05-05T20:01:01.109Z"
   },
   {
    "duration": 120,
    "start_time": "2023-05-05T20:01:16.509Z"
   },
   {
    "duration": 69,
    "start_time": "2023-05-05T20:01:36.005Z"
   },
   {
    "duration": 66,
    "start_time": "2023-05-05T20:01:48.683Z"
   },
   {
    "duration": 886,
    "start_time": "2023-05-05T20:02:00.312Z"
   },
   {
    "duration": 75,
    "start_time": "2023-05-05T20:02:07.804Z"
   },
   {
    "duration": 772,
    "start_time": "2023-05-05T20:02:24.032Z"
   },
   {
    "duration": 797,
    "start_time": "2023-05-05T20:02:37.320Z"
   },
   {
    "duration": 85,
    "start_time": "2023-05-05T20:02:43.783Z"
   },
   {
    "duration": 196,
    "start_time": "2023-05-05T20:02:55.497Z"
   },
   {
    "duration": 204,
    "start_time": "2023-05-05T20:03:06.253Z"
   },
   {
    "duration": 206,
    "start_time": "2023-05-05T20:03:16.344Z"
   },
   {
    "duration": 122,
    "start_time": "2023-05-05T20:03:42.535Z"
   },
   {
    "duration": 208,
    "start_time": "2023-05-05T20:03:57.225Z"
   },
   {
    "duration": 176,
    "start_time": "2023-05-05T20:04:05.096Z"
   },
   {
    "duration": 73,
    "start_time": "2023-05-05T20:04:21.821Z"
   },
   {
    "duration": 174,
    "start_time": "2023-05-05T20:04:39.483Z"
   },
   {
    "duration": 187,
    "start_time": "2023-05-05T20:04:52.154Z"
   },
   {
    "duration": 300,
    "start_time": "2023-05-05T20:05:03.445Z"
   },
   {
    "duration": 278,
    "start_time": "2023-05-05T20:05:11.594Z"
   },
   {
    "duration": 324,
    "start_time": "2023-05-05T20:05:19.018Z"
   },
   {
    "duration": 6,
    "start_time": "2023-05-05T20:06:13.792Z"
   },
   {
    "duration": 5,
    "start_time": "2023-05-05T20:06:23.795Z"
   },
   {
    "duration": 320,
    "start_time": "2023-05-05T20:13:38.787Z"
   },
   {
    "duration": 53,
    "start_time": "2023-05-05T20:14:55.895Z"
   },
   {
    "duration": 5,
    "start_time": "2023-05-05T20:17:03.996Z"
   },
   {
    "duration": 54,
    "start_time": "2023-05-05T20:17:23.653Z"
   },
   {
    "duration": 69,
    "start_time": "2023-05-05T20:17:49.845Z"
   },
   {
    "duration": 67,
    "start_time": "2023-05-05T20:18:03.002Z"
   },
   {
    "duration": 283,
    "start_time": "2023-05-05T20:19:09.505Z"
   },
   {
    "duration": 62,
    "start_time": "2023-05-05T20:19:26.706Z"
   },
   {
    "duration": 322,
    "start_time": "2023-05-05T20:20:46.342Z"
   },
   {
    "duration": 310,
    "start_time": "2023-05-05T20:20:53.002Z"
   },
   {
    "duration": 324,
    "start_time": "2023-05-05T20:21:22.682Z"
   },
   {
    "duration": 302,
    "start_time": "2023-05-05T20:21:33.209Z"
   },
   {
    "duration": 288,
    "start_time": "2023-05-05T20:21:36.200Z"
   },
   {
    "duration": 300,
    "start_time": "2023-05-05T20:21:53.510Z"
   },
   {
    "duration": 342,
    "start_time": "2023-05-05T20:22:24.371Z"
   },
   {
    "duration": 64,
    "start_time": "2023-05-05T20:22:53.985Z"
   },
   {
    "duration": 291,
    "start_time": "2023-05-05T20:23:18.017Z"
   },
   {
    "duration": 207,
    "start_time": "2023-05-05T20:24:49.142Z"
   },
   {
    "duration": 196,
    "start_time": "2023-05-05T20:24:54.950Z"
   },
   {
    "duration": 214,
    "start_time": "2023-05-05T20:25:02.599Z"
   },
   {
    "duration": 231,
    "start_time": "2023-05-05T20:25:23.935Z"
   },
   {
    "duration": 220,
    "start_time": "2023-05-05T20:25:30.451Z"
   },
   {
    "duration": 110,
    "start_time": "2023-05-05T20:27:25.310Z"
   },
   {
    "duration": 56,
    "start_time": "2023-05-05T20:27:26.902Z"
   },
   {
    "duration": 19,
    "start_time": "2023-05-05T20:27:33.278Z"
   },
   {
    "duration": 19,
    "start_time": "2023-05-05T20:27:39.283Z"
   },
   {
    "duration": 40,
    "start_time": "2023-05-05T20:27:44.222Z"
   },
   {
    "duration": 18,
    "start_time": "2023-05-05T20:27:46.918Z"
   },
   {
    "duration": 25,
    "start_time": "2023-05-05T20:27:52.994Z"
   },
   {
    "duration": 4,
    "start_time": "2023-05-05T20:28:00.727Z"
   },
   {
    "duration": 26,
    "start_time": "2023-05-05T20:28:04.063Z"
   },
   {
    "duration": 17,
    "start_time": "2023-05-05T20:28:08.710Z"
   },
   {
    "duration": 4,
    "start_time": "2023-05-05T20:28:22.343Z"
   },
   {
    "duration": 35,
    "start_time": "2023-05-05T20:28:26.457Z"
   },
   {
    "duration": 28,
    "start_time": "2023-05-05T20:28:31.212Z"
   },
   {
    "duration": 217,
    "start_time": "2023-05-05T20:29:55.914Z"
   },
   {
    "duration": 48,
    "start_time": "2023-05-05T21:17:43.500Z"
   },
   {
    "duration": 56,
    "start_time": "2023-05-05T21:18:00.618Z"
   },
   {
    "duration": 232,
    "start_time": "2023-05-05T21:18:05.819Z"
   },
   {
    "duration": 32,
    "start_time": "2023-05-05T21:19:16.724Z"
   },
   {
    "duration": 22,
    "start_time": "2023-05-05T21:19:38.325Z"
   },
   {
    "duration": 22,
    "start_time": "2023-05-05T21:19:42.576Z"
   },
   {
    "duration": 30,
    "start_time": "2023-05-05T21:19:48.813Z"
   },
   {
    "duration": 3,
    "start_time": "2023-05-05T21:20:17.191Z"
   },
   {
    "duration": 29,
    "start_time": "2023-05-05T21:20:19.784Z"
   },
   {
    "duration": 254,
    "start_time": "2023-05-05T21:20:34.347Z"
   },
   {
    "duration": 247,
    "start_time": "2023-05-05T21:20:48.986Z"
   },
   {
    "duration": 270,
    "start_time": "2023-05-05T21:21:04.383Z"
   },
   {
    "duration": 26,
    "start_time": "2023-05-05T21:22:23.388Z"
   },
   {
    "duration": 238,
    "start_time": "2023-05-05T21:22:38.844Z"
   },
   {
    "duration": 234,
    "start_time": "2023-05-05T21:23:38.310Z"
   },
   {
    "duration": 239,
    "start_time": "2023-05-05T21:24:35.535Z"
   },
   {
    "duration": 230,
    "start_time": "2023-05-05T21:26:11.418Z"
   },
   {
    "duration": 173,
    "start_time": "2023-05-05T21:28:54.501Z"
   },
   {
    "duration": 181,
    "start_time": "2023-05-05T21:29:04.393Z"
   },
   {
    "duration": 173,
    "start_time": "2023-05-05T21:29:38.301Z"
   },
   {
    "duration": 231,
    "start_time": "2023-05-05T21:29:49.875Z"
   },
   {
    "duration": 249,
    "start_time": "2023-05-05T21:30:07.787Z"
   },
   {
    "duration": 226,
    "start_time": "2023-05-05T21:31:08.830Z"
   },
   {
    "duration": 3,
    "start_time": "2023-05-05T21:31:26.229Z"
   },
   {
    "duration": 234,
    "start_time": "2023-05-05T21:31:33.691Z"
   },
   {
    "duration": 232,
    "start_time": "2023-05-05T21:31:46.915Z"
   },
   {
    "duration": 219,
    "start_time": "2023-05-05T21:32:11.226Z"
   },
   {
    "duration": 227,
    "start_time": "2023-05-05T21:32:40.098Z"
   },
   {
    "duration": 245,
    "start_time": "2023-05-05T21:34:59.896Z"
   },
   {
    "duration": 239,
    "start_time": "2023-05-05T21:35:11.543Z"
   },
   {
    "duration": 42,
    "start_time": "2023-05-05T21:35:39.751Z"
   },
   {
    "duration": 246,
    "start_time": "2023-05-05T21:35:46.315Z"
   },
   {
    "duration": 226,
    "start_time": "2023-05-05T21:37:08.818Z"
   },
   {
    "duration": 244,
    "start_time": "2023-05-05T21:37:25.441Z"
   },
   {
    "duration": 236,
    "start_time": "2023-05-05T21:37:29.190Z"
   },
   {
    "duration": 295,
    "start_time": "2023-05-05T21:38:47.336Z"
   },
   {
    "duration": 76,
    "start_time": "2023-05-05T21:39:01.061Z"
   },
   {
    "duration": 255,
    "start_time": "2023-05-05T21:40:00.838Z"
   },
   {
    "duration": 235,
    "start_time": "2023-05-05T21:40:16.882Z"
   },
   {
    "duration": 239,
    "start_time": "2023-05-05T21:40:23.140Z"
   },
   {
    "duration": 246,
    "start_time": "2023-05-05T21:40:58.232Z"
   },
   {
    "duration": 255,
    "start_time": "2023-05-05T21:41:07.529Z"
   },
   {
    "duration": 75,
    "start_time": "2023-05-05T21:41:13.485Z"
   },
   {
    "duration": 235,
    "start_time": "2023-05-05T21:41:40.892Z"
   },
   {
    "duration": 11,
    "start_time": "2023-05-05T21:46:56.685Z"
   },
   {
    "duration": 1047,
    "start_time": "2023-05-05T21:47:20.886Z"
   },
   {
    "duration": 251,
    "start_time": "2023-05-05T21:47:29.087Z"
   },
   {
    "duration": 1101,
    "start_time": "2023-05-05T21:47:37.038Z"
   },
   {
    "duration": 251,
    "start_time": "2023-05-05T21:47:49.253Z"
   },
   {
    "duration": 300,
    "start_time": "2023-05-05T21:47:57.285Z"
   },
   {
    "duration": 602,
    "start_time": "2023-05-05T21:48:18.535Z"
   },
   {
    "duration": 637,
    "start_time": "2023-05-05T21:48:29.085Z"
   },
   {
    "duration": 609,
    "start_time": "2023-05-05T21:48:44.780Z"
   },
   {
    "duration": 248,
    "start_time": "2023-05-05T21:48:58.584Z"
   },
   {
    "duration": 55,
    "start_time": "2023-05-06T01:47:52.534Z"
   },
   {
    "duration": 1227,
    "start_time": "2023-05-06T01:47:58.626Z"
   },
   {
    "duration": 507,
    "start_time": "2023-05-06T01:47:59.855Z"
   },
   {
    "duration": 141,
    "start_time": "2023-05-06T01:48:00.364Z"
   },
   {
    "duration": 106,
    "start_time": "2023-05-06T01:48:00.507Z"
   },
   {
    "duration": 2,
    "start_time": "2023-05-06T01:48:00.615Z"
   },
   {
    "duration": 25,
    "start_time": "2023-05-06T01:48:00.619Z"
   },
   {
    "duration": 112,
    "start_time": "2023-05-06T01:48:00.646Z"
   },
   {
    "duration": 165,
    "start_time": "2023-05-06T01:48:00.760Z"
   },
   {
    "duration": 49,
    "start_time": "2023-05-06T01:48:00.927Z"
   },
   {
    "duration": 11,
    "start_time": "2023-05-06T01:48:00.978Z"
   },
   {
    "duration": 1238,
    "start_time": "2023-05-06T01:48:00.990Z"
   },
   {
    "duration": 5,
    "start_time": "2023-05-06T01:48:02.230Z"
   },
   {
    "duration": 55,
    "start_time": "2023-05-06T01:48:02.236Z"
   },
   {
    "duration": 539,
    "start_time": "2023-05-06T01:48:02.292Z"
   },
   {
    "duration": 39,
    "start_time": "2023-05-06T01:48:02.833Z"
   },
   {
    "duration": 25,
    "start_time": "2023-05-06T01:48:02.874Z"
   },
   {
    "duration": 155,
    "start_time": "2023-05-06T01:48:02.901Z"
   },
   {
    "duration": 156,
    "start_time": "2023-05-06T01:48:03.058Z"
   },
   {
    "duration": 79,
    "start_time": "2023-05-06T01:48:03.216Z"
   },
   {
    "duration": 281,
    "start_time": "2023-05-06T01:48:03.297Z"
   },
   {
    "duration": 127,
    "start_time": "2023-05-06T01:48:03.580Z"
   },
   {
    "duration": 63,
    "start_time": "2023-05-06T01:48:03.709Z"
   },
   {
    "duration": 161,
    "start_time": "2023-05-06T01:48:03.774Z"
   },
   {
    "duration": 65,
    "start_time": "2023-05-06T01:48:03.936Z"
   },
   {
    "duration": 96,
    "start_time": "2023-05-06T01:48:04.003Z"
   },
   {
    "duration": 1,
    "start_time": "2023-05-06T01:48:04.101Z"
   },
   {
    "duration": 0,
    "start_time": "2023-05-06T01:48:04.103Z"
   },
   {
    "duration": 0,
    "start_time": "2023-05-06T01:48:04.104Z"
   },
   {
    "duration": 0,
    "start_time": "2023-05-06T01:48:04.105Z"
   },
   {
    "duration": 0,
    "start_time": "2023-05-06T01:48:04.108Z"
   },
   {
    "duration": 2,
    "start_time": "2023-05-06T01:48:26.551Z"
   },
   {
    "duration": 193,
    "start_time": "2023-05-06T01:48:27.879Z"
   },
   {
    "duration": 1103,
    "start_time": "2023-05-06T01:48:48.343Z"
   },
   {
    "duration": 147,
    "start_time": "2023-05-06T01:48:49.448Z"
   },
   {
    "duration": 129,
    "start_time": "2023-05-06T01:48:49.599Z"
   },
   {
    "duration": 99,
    "start_time": "2023-05-06T01:48:49.730Z"
   },
   {
    "duration": 2,
    "start_time": "2023-05-06T01:48:49.831Z"
   },
   {
    "duration": 23,
    "start_time": "2023-05-06T01:48:49.835Z"
   },
   {
    "duration": 74,
    "start_time": "2023-05-06T01:48:49.871Z"
   },
   {
    "duration": 106,
    "start_time": "2023-05-06T01:48:49.946Z"
   },
   {
    "duration": 31,
    "start_time": "2023-05-06T01:48:50.054Z"
   },
   {
    "duration": 11,
    "start_time": "2023-05-06T01:48:50.087Z"
   },
   {
    "duration": 1240,
    "start_time": "2023-05-06T01:48:50.099Z"
   },
   {
    "duration": 5,
    "start_time": "2023-05-06T01:48:51.342Z"
   },
   {
    "duration": 24,
    "start_time": "2023-05-06T01:48:51.349Z"
   },
   {
    "duration": 557,
    "start_time": "2023-05-06T01:48:51.374Z"
   },
   {
    "duration": 28,
    "start_time": "2023-05-06T01:48:51.933Z"
   },
   {
    "duration": 25,
    "start_time": "2023-05-06T01:48:51.972Z"
   },
   {
    "duration": 139,
    "start_time": "2023-05-06T01:48:51.999Z"
   },
   {
    "duration": 149,
    "start_time": "2023-05-06T01:48:52.140Z"
   },
   {
    "duration": 69,
    "start_time": "2023-05-06T01:48:52.291Z"
   },
   {
    "duration": 292,
    "start_time": "2023-05-06T01:48:52.372Z"
   },
   {
    "duration": 131,
    "start_time": "2023-05-06T01:48:52.665Z"
   },
   {
    "duration": 12,
    "start_time": "2023-05-06T01:48:52.797Z"
   },
   {
    "duration": 163,
    "start_time": "2023-05-06T01:48:52.811Z"
   },
   {
    "duration": 57,
    "start_time": "2023-05-06T01:48:52.976Z"
   },
   {
    "duration": 2,
    "start_time": "2023-05-06T01:48:53.035Z"
   },
   {
    "duration": 187,
    "start_time": "2023-05-06T01:48:53.038Z"
   },
   {
    "duration": 0,
    "start_time": "2023-05-06T01:48:53.227Z"
   },
   {
    "duration": 0,
    "start_time": "2023-05-06T01:48:53.228Z"
   },
   {
    "duration": 0,
    "start_time": "2023-05-06T01:48:53.229Z"
   },
   {
    "duration": 0,
    "start_time": "2023-05-06T01:48:53.230Z"
   },
   {
    "duration": 77,
    "start_time": "2023-05-06T01:49:16.035Z"
   },
   {
    "duration": 83,
    "start_time": "2023-05-06T01:49:47.768Z"
   },
   {
    "duration": 227,
    "start_time": "2023-05-06T01:50:14.082Z"
   },
   {
    "duration": 266,
    "start_time": "2023-05-06T01:50:45.914Z"
   },
   {
    "duration": 225,
    "start_time": "2023-05-06T01:54:05.215Z"
   },
   {
    "duration": 243,
    "start_time": "2023-05-06T01:55:30.050Z"
   },
   {
    "duration": 11,
    "start_time": "2023-05-06T01:58:03.611Z"
   },
   {
    "duration": 6,
    "start_time": "2023-05-06T01:58:22.646Z"
   },
   {
    "duration": 7,
    "start_time": "2023-05-06T01:58:38.700Z"
   },
   {
    "duration": 3,
    "start_time": "2023-05-06T01:58:51.603Z"
   },
   {
    "duration": 5,
    "start_time": "2023-05-06T01:58:57.733Z"
   },
   {
    "duration": 5,
    "start_time": "2023-05-06T02:00:30.090Z"
   },
   {
    "duration": 5,
    "start_time": "2023-05-06T02:00:33.367Z"
   },
   {
    "duration": 5,
    "start_time": "2023-05-06T02:00:40.745Z"
   },
   {
    "duration": 1150,
    "start_time": "2023-05-06T02:04:36.351Z"
   },
   {
    "duration": 229,
    "start_time": "2023-05-06T02:05:52.714Z"
   },
   {
    "duration": 201,
    "start_time": "2023-05-06T02:06:08.123Z"
   },
   {
    "duration": 238,
    "start_time": "2023-05-06T02:06:30.166Z"
   },
   {
    "duration": 201,
    "start_time": "2023-05-06T02:06:54.301Z"
   },
   {
    "duration": 210,
    "start_time": "2023-05-06T02:07:21.288Z"
   },
   {
    "duration": 221,
    "start_time": "2023-05-06T02:08:01.648Z"
   },
   {
    "duration": 1108,
    "start_time": "2023-05-06T02:08:34.242Z"
   },
   {
    "duration": 207,
    "start_time": "2023-05-06T02:08:49.838Z"
   },
   {
    "duration": 209,
    "start_time": "2023-05-06T02:08:56.921Z"
   },
   {
    "duration": 223,
    "start_time": "2023-05-06T02:09:11.611Z"
   },
   {
    "duration": 215,
    "start_time": "2023-05-06T02:09:18.042Z"
   },
   {
    "duration": 1060,
    "start_time": "2023-05-06T02:09:29.161Z"
   },
   {
    "duration": 211,
    "start_time": "2023-05-06T02:09:38.233Z"
   },
   {
    "duration": 222,
    "start_time": "2023-05-06T02:09:59.470Z"
   },
   {
    "duration": 216,
    "start_time": "2023-05-06T02:10:31.482Z"
   },
   {
    "duration": 1405,
    "start_time": "2023-05-06T02:10:44.296Z"
   },
   {
    "duration": 1683,
    "start_time": "2023-05-06T02:10:58.151Z"
   },
   {
    "duration": 215,
    "start_time": "2023-05-06T02:11:24.159Z"
   },
   {
    "duration": 115,
    "start_time": "2023-05-06T02:11:48.337Z"
   },
   {
    "duration": 227,
    "start_time": "2023-05-06T02:11:51.432Z"
   },
   {
    "duration": 231,
    "start_time": "2023-05-06T02:12:00.570Z"
   },
   {
    "duration": 1521,
    "start_time": "2023-05-06T02:12:23.784Z"
   },
   {
    "duration": 219,
    "start_time": "2023-05-06T02:12:47.224Z"
   },
   {
    "duration": 226,
    "start_time": "2023-05-06T02:13:33.743Z"
   },
   {
    "duration": 213,
    "start_time": "2023-05-06T02:13:44.435Z"
   },
   {
    "duration": 1434,
    "start_time": "2023-05-06T02:14:01.527Z"
   },
   {
    "duration": 210,
    "start_time": "2023-05-06T02:14:50.040Z"
   },
   {
    "duration": 1256,
    "start_time": "2023-05-06T02:15:08.632Z"
   },
   {
    "duration": 222,
    "start_time": "2023-05-06T02:15:25.299Z"
   },
   {
    "duration": 218,
    "start_time": "2023-05-06T02:15:56.267Z"
   },
   {
    "duration": 230,
    "start_time": "2023-05-06T02:16:09.554Z"
   },
   {
    "duration": 212,
    "start_time": "2023-05-06T02:16:20.656Z"
   },
   {
    "duration": 196,
    "start_time": "2023-05-06T02:19:05.284Z"
   },
   {
    "duration": 75,
    "start_time": "2023-05-06T02:19:09.516Z"
   },
   {
    "duration": 233,
    "start_time": "2023-05-06T02:19:16.869Z"
   },
   {
    "duration": 232,
    "start_time": "2023-05-06T02:19:31.271Z"
   },
   {
    "duration": 171,
    "start_time": "2023-05-06T02:20:07.536Z"
   },
   {
    "duration": 216,
    "start_time": "2023-05-06T02:20:38.444Z"
   },
   {
    "duration": 217,
    "start_time": "2023-05-06T02:20:48.175Z"
   },
   {
    "duration": 235,
    "start_time": "2023-05-06T02:21:05.722Z"
   },
   {
    "duration": 239,
    "start_time": "2023-05-06T02:21:32.892Z"
   },
   {
    "duration": 244,
    "start_time": "2023-05-06T02:22:06.985Z"
   },
   {
    "duration": 266,
    "start_time": "2023-05-06T02:22:26.639Z"
   },
   {
    "duration": 207,
    "start_time": "2023-05-06T02:22:39.155Z"
   },
   {
    "duration": 208,
    "start_time": "2023-05-06T02:22:50.202Z"
   },
   {
    "duration": 224,
    "start_time": "2023-05-06T02:22:56.946Z"
   },
   {
    "duration": 214,
    "start_time": "2023-05-06T02:23:10.740Z"
   },
   {
    "duration": 228,
    "start_time": "2023-05-06T02:24:55.680Z"
   },
   {
    "duration": 76,
    "start_time": "2023-05-06T02:26:28.970Z"
   },
   {
    "duration": 241,
    "start_time": "2023-05-06T02:27:38.383Z"
   },
   {
    "duration": 8,
    "start_time": "2023-05-06T02:28:59.209Z"
   },
   {
    "duration": 93,
    "start_time": "2023-05-06T02:29:12.196Z"
   },
   {
    "duration": 109,
    "start_time": "2023-05-06T02:29:36.084Z"
   },
   {
    "duration": 82,
    "start_time": "2023-05-06T02:29:56.925Z"
   },
   {
    "duration": 76,
    "start_time": "2023-05-06T02:30:14.034Z"
   },
   {
    "duration": 77,
    "start_time": "2023-05-06T02:30:20.674Z"
   },
   {
    "duration": 82,
    "start_time": "2023-05-06T02:30:44.149Z"
   },
   {
    "duration": 82,
    "start_time": "2023-05-06T02:30:56.391Z"
   },
   {
    "duration": 6,
    "start_time": "2023-05-06T02:31:04.600Z"
   },
   {
    "duration": 77,
    "start_time": "2023-05-06T02:31:09.205Z"
   },
   {
    "duration": 88,
    "start_time": "2023-05-06T02:31:28.585Z"
   },
   {
    "duration": 82,
    "start_time": "2023-05-06T02:31:55.598Z"
   },
   {
    "duration": 249,
    "start_time": "2023-05-06T02:32:35.803Z"
   },
   {
    "duration": 211,
    "start_time": "2023-05-06T02:32:52.429Z"
   },
   {
    "duration": 276,
    "start_time": "2023-05-06T02:33:20.475Z"
   },
   {
    "duration": 291,
    "start_time": "2023-05-06T02:33:30.434Z"
   },
   {
    "duration": 260,
    "start_time": "2023-05-06T02:33:51.128Z"
   },
   {
    "duration": 255,
    "start_time": "2023-05-06T02:33:56.632Z"
   },
   {
    "duration": 301,
    "start_time": "2023-05-06T02:35:12.901Z"
   },
   {
    "duration": 227,
    "start_time": "2023-05-06T02:35:27.503Z"
   },
   {
    "duration": 265,
    "start_time": "2023-05-06T02:35:35.003Z"
   },
   {
    "duration": 85,
    "start_time": "2023-05-06T02:36:06.384Z"
   },
   {
    "duration": 107,
    "start_time": "2023-05-06T02:36:15.586Z"
   },
   {
    "duration": 83,
    "start_time": "2023-05-06T02:37:01.959Z"
   },
   {
    "duration": 114,
    "start_time": "2023-05-06T02:38:09.393Z"
   },
   {
    "duration": 1187,
    "start_time": "2023-05-06T02:38:21.040Z"
   },
   {
    "duration": 153,
    "start_time": "2023-05-06T02:38:22.229Z"
   },
   {
    "duration": 140,
    "start_time": "2023-05-06T02:38:22.383Z"
   },
   {
    "duration": 120,
    "start_time": "2023-05-06T02:38:22.527Z"
   },
   {
    "duration": 26,
    "start_time": "2023-05-06T02:38:22.648Z"
   },
   {
    "duration": 14,
    "start_time": "2023-05-06T02:38:22.675Z"
   },
   {
    "duration": 90,
    "start_time": "2023-05-06T02:38:22.691Z"
   },
   {
    "duration": 190,
    "start_time": "2023-05-06T02:38:22.783Z"
   },
   {
    "duration": 44,
    "start_time": "2023-05-06T02:38:22.975Z"
   },
   {
    "duration": 11,
    "start_time": "2023-05-06T02:38:23.022Z"
   },
   {
    "duration": 1268,
    "start_time": "2023-05-06T02:38:23.034Z"
   },
   {
    "duration": 6,
    "start_time": "2023-05-06T02:38:24.305Z"
   },
   {
    "duration": 17,
    "start_time": "2023-05-06T02:38:24.313Z"
   },
   {
    "duration": 682,
    "start_time": "2023-05-06T02:38:24.332Z"
   },
   {
    "duration": 31,
    "start_time": "2023-05-06T02:38:25.016Z"
   },
   {
    "duration": 52,
    "start_time": "2023-05-06T02:38:25.049Z"
   },
   {
    "duration": 191,
    "start_time": "2023-05-06T02:38:25.103Z"
   },
   {
    "duration": 153,
    "start_time": "2023-05-06T02:38:25.296Z"
   },
   {
    "duration": 79,
    "start_time": "2023-05-06T02:38:25.451Z"
   },
   {
    "duration": 360,
    "start_time": "2023-05-06T02:38:25.532Z"
   },
   {
    "duration": 121,
    "start_time": "2023-05-06T02:38:25.894Z"
   },
   {
    "duration": 72,
    "start_time": "2023-05-06T02:38:26.017Z"
   },
   {
    "duration": 199,
    "start_time": "2023-05-06T02:38:26.091Z"
   },
   {
    "duration": 61,
    "start_time": "2023-05-06T02:38:26.292Z"
   },
   {
    "duration": 17,
    "start_time": "2023-05-06T02:38:26.355Z"
   },
   {
    "duration": 71,
    "start_time": "2023-05-06T02:38:26.374Z"
   },
   {
    "duration": 0,
    "start_time": "2023-05-06T02:38:26.447Z"
   },
   {
    "duration": 0,
    "start_time": "2023-05-06T02:38:26.449Z"
   },
   {
    "duration": 0,
    "start_time": "2023-05-06T02:38:26.450Z"
   },
   {
    "duration": 0,
    "start_time": "2023-05-06T02:38:26.451Z"
   },
   {
    "duration": 0,
    "start_time": "2023-05-06T02:38:26.453Z"
   },
   {
    "duration": 255,
    "start_time": "2023-05-06T02:38:48.410Z"
   },
   {
    "duration": 214,
    "start_time": "2023-05-06T02:39:00.339Z"
   },
   {
    "duration": 234,
    "start_time": "2023-05-06T02:39:16.709Z"
   },
   {
    "duration": 91,
    "start_time": "2023-05-06T02:42:06.797Z"
   },
   {
    "duration": 101,
    "start_time": "2023-05-06T02:42:20.438Z"
   },
   {
    "duration": 80,
    "start_time": "2023-05-06T02:42:32.510Z"
   },
   {
    "duration": 95,
    "start_time": "2023-05-06T02:42:50.332Z"
   },
   {
    "duration": 73,
    "start_time": "2023-05-06T02:42:59.864Z"
   },
   {
    "duration": 87,
    "start_time": "2023-05-06T02:43:06.010Z"
   },
   {
    "duration": 91,
    "start_time": "2023-05-06T02:43:13.440Z"
   },
   {
    "duration": 77,
    "start_time": "2023-05-06T02:44:38.919Z"
   },
   {
    "duration": 72,
    "start_time": "2023-05-06T02:44:50.091Z"
   },
   {
    "duration": 175,
    "start_time": "2023-05-06T02:45:22.247Z"
   },
   {
    "duration": 75,
    "start_time": "2023-05-06T02:45:26.887Z"
   },
   {
    "duration": 115,
    "start_time": "2023-05-06T02:47:00.548Z"
   },
   {
    "duration": 79,
    "start_time": "2023-05-06T02:47:32.336Z"
   },
   {
    "duration": 74,
    "start_time": "2023-05-06T02:47:38.421Z"
   },
   {
    "duration": 111,
    "start_time": "2023-05-06T02:48:38.039Z"
   },
   {
    "duration": 114,
    "start_time": "2023-05-06T02:49:01.864Z"
   },
   {
    "duration": 143,
    "start_time": "2023-05-06T02:49:49.059Z"
   },
   {
    "duration": 1750,
    "start_time": "2023-05-06T02:49:54.703Z"
   },
   {
    "duration": 166,
    "start_time": "2023-05-06T02:50:01.237Z"
   },
   {
    "duration": 125,
    "start_time": "2023-05-06T02:50:21.676Z"
   },
   {
    "duration": 83,
    "start_time": "2023-05-06T02:50:37.094Z"
   },
   {
    "duration": 434,
    "start_time": "2023-05-06T02:51:06.026Z"
   },
   {
    "duration": 398,
    "start_time": "2023-05-06T02:51:12.663Z"
   },
   {
    "duration": 401,
    "start_time": "2023-05-06T02:52:05.078Z"
   },
   {
    "duration": 141,
    "start_time": "2023-05-06T02:52:58.264Z"
   },
   {
    "duration": 173,
    "start_time": "2023-05-06T02:53:06.803Z"
   },
   {
    "duration": 143,
    "start_time": "2023-05-06T02:54:05.490Z"
   },
   {
    "duration": 139,
    "start_time": "2023-05-06T02:54:24.683Z"
   },
   {
    "duration": 120,
    "start_time": "2023-05-06T02:54:29.647Z"
   },
   {
    "duration": 81,
    "start_time": "2023-05-06T02:54:57.364Z"
   },
   {
    "duration": 187,
    "start_time": "2023-05-06T02:55:29.077Z"
   },
   {
    "duration": 121,
    "start_time": "2023-05-06T02:55:37.087Z"
   },
   {
    "duration": 126,
    "start_time": "2023-05-06T02:55:48.303Z"
   },
   {
    "duration": 143,
    "start_time": "2023-05-06T02:55:51.027Z"
   },
   {
    "duration": 159,
    "start_time": "2023-05-06T02:55:56.697Z"
   },
   {
    "duration": 1245,
    "start_time": "2023-05-06T02:56:02.685Z"
   },
   {
    "duration": 1252,
    "start_time": "2023-05-06T02:56:07.512Z"
   },
   {
    "duration": 123,
    "start_time": "2023-05-06T02:56:11.033Z"
   },
   {
    "duration": 99,
    "start_time": "2023-05-06T02:56:37.350Z"
   },
   {
    "duration": 173,
    "start_time": "2023-05-06T02:56:48.150Z"
   },
   {
    "duration": 148,
    "start_time": "2023-05-06T02:56:55.109Z"
   },
   {
    "duration": 182,
    "start_time": "2023-05-06T02:57:14.586Z"
   },
   {
    "duration": 136,
    "start_time": "2023-05-06T02:57:24.345Z"
   },
   {
    "duration": 166,
    "start_time": "2023-05-06T02:58:04.209Z"
   },
   {
    "duration": 1350,
    "start_time": "2023-05-06T02:58:11.723Z"
   },
   {
    "duration": 110,
    "start_time": "2023-05-06T02:58:19.196Z"
   },
   {
    "duration": 1468,
    "start_time": "2023-05-06T02:58:26.705Z"
   },
   {
    "duration": 140,
    "start_time": "2023-05-06T02:58:30.954Z"
   },
   {
    "duration": 117,
    "start_time": "2023-05-06T02:58:39.081Z"
   },
   {
    "duration": 82,
    "start_time": "2023-05-06T02:59:02.678Z"
   },
   {
    "duration": 91,
    "start_time": "2023-05-06T03:04:11.235Z"
   },
   {
    "duration": 99,
    "start_time": "2023-05-06T03:05:49.146Z"
   },
   {
    "duration": 3,
    "start_time": "2023-05-06T03:07:28.913Z"
   },
   {
    "duration": 5,
    "start_time": "2023-05-06T03:07:39.476Z"
   },
   {
    "duration": 4,
    "start_time": "2023-05-06T03:07:52.228Z"
   },
   {
    "duration": 5,
    "start_time": "2023-05-06T03:08:49.209Z"
   },
   {
    "duration": 5,
    "start_time": "2023-05-06T03:08:51.944Z"
   },
   {
    "duration": 5,
    "start_time": "2023-05-06T03:08:54.552Z"
   },
   {
    "duration": 5,
    "start_time": "2023-05-06T03:09:08.091Z"
   },
   {
    "duration": 5,
    "start_time": "2023-05-06T03:09:09.293Z"
   },
   {
    "duration": 6,
    "start_time": "2023-05-06T03:09:49.321Z"
   },
   {
    "duration": 122,
    "start_time": "2023-05-06T03:11:28.956Z"
   },
   {
    "duration": 8,
    "start_time": "2023-05-06T03:13:01.186Z"
   },
   {
    "duration": 126,
    "start_time": "2023-05-06T03:13:03.818Z"
   },
   {
    "duration": 8,
    "start_time": "2023-05-06T03:13:51.676Z"
   },
   {
    "duration": 7,
    "start_time": "2023-05-06T03:13:55.222Z"
   },
   {
    "duration": 108,
    "start_time": "2023-05-06T03:13:56.779Z"
   },
   {
    "duration": 79,
    "start_time": "2023-05-06T03:14:01.411Z"
   },
   {
    "duration": 9,
    "start_time": "2023-05-06T03:14:51.966Z"
   },
   {
    "duration": 8,
    "start_time": "2023-05-06T03:15:09.523Z"
   },
   {
    "duration": 107,
    "start_time": "2023-05-06T03:15:11.035Z"
   },
   {
    "duration": 82,
    "start_time": "2023-05-06T03:15:11.847Z"
   },
   {
    "duration": 10,
    "start_time": "2023-05-06T03:15:29.355Z"
   },
   {
    "duration": 79,
    "start_time": "2023-05-06T03:15:32.007Z"
   },
   {
    "duration": 79,
    "start_time": "2023-05-06T03:15:32.787Z"
   },
   {
    "duration": 12,
    "start_time": "2023-05-06T03:15:46.286Z"
   },
   {
    "duration": 110,
    "start_time": "2023-05-06T03:15:47.028Z"
   },
   {
    "duration": 85,
    "start_time": "2023-05-06T03:15:47.404Z"
   },
   {
    "duration": 8,
    "start_time": "2023-05-06T03:16:02.555Z"
   },
   {
    "duration": 102,
    "start_time": "2023-05-06T03:16:35.266Z"
   },
   {
    "duration": 8,
    "start_time": "2023-05-06T03:17:05.210Z"
   },
   {
    "duration": 70,
    "start_time": "2023-05-06T03:17:07.785Z"
   },
   {
    "duration": 72,
    "start_time": "2023-05-06T03:17:08.315Z"
   },
   {
    "duration": 11,
    "start_time": "2023-05-06T03:17:39.661Z"
   },
   {
    "duration": 72,
    "start_time": "2023-05-06T03:17:41.155Z"
   },
   {
    "duration": 73,
    "start_time": "2023-05-06T03:17:41.599Z"
   },
   {
    "duration": 84,
    "start_time": "2023-05-06T03:18:07.025Z"
   },
   {
    "duration": 7,
    "start_time": "2023-05-06T03:18:36.528Z"
   },
   {
    "duration": 72,
    "start_time": "2023-05-06T03:18:37.900Z"
   },
   {
    "duration": 7,
    "start_time": "2023-05-06T03:18:44.310Z"
   },
   {
    "duration": 82,
    "start_time": "2023-05-06T03:18:45.656Z"
   },
   {
    "duration": 87,
    "start_time": "2023-05-06T03:20:29.564Z"
   },
   {
    "duration": 71,
    "start_time": "2023-05-06T03:20:38.614Z"
   },
   {
    "duration": 14,
    "start_time": "2023-05-06T03:27:46.122Z"
   },
   {
    "duration": 154,
    "start_time": "2023-05-06T03:27:50.006Z"
   },
   {
    "duration": 12,
    "start_time": "2023-05-06T03:28:23.790Z"
   },
   {
    "duration": 99,
    "start_time": "2023-05-06T03:28:25.541Z"
   },
   {
    "duration": 8,
    "start_time": "2023-05-06T03:30:10.134Z"
   },
   {
    "duration": 110,
    "start_time": "2023-05-06T03:30:11.801Z"
   },
   {
    "duration": 10,
    "start_time": "2023-05-06T03:30:26.308Z"
   },
   {
    "duration": 300,
    "start_time": "2023-05-06T03:30:26.849Z"
   },
   {
    "duration": 8,
    "start_time": "2023-05-06T03:31:11.486Z"
   },
   {
    "duration": 119,
    "start_time": "2023-05-06T03:31:12.586Z"
   },
   {
    "duration": 9,
    "start_time": "2023-05-06T03:32:53.357Z"
   },
   {
    "duration": 95,
    "start_time": "2023-05-06T03:32:55.046Z"
   },
   {
    "duration": 73,
    "start_time": "2023-05-06T03:33:40.688Z"
   },
   {
    "duration": 11,
    "start_time": "2023-05-06T03:33:55.104Z"
   },
   {
    "duration": 126,
    "start_time": "2023-05-06T03:33:56.550Z"
   },
   {
    "duration": 11,
    "start_time": "2023-05-06T03:35:01.200Z"
   },
   {
    "duration": 91,
    "start_time": "2023-05-06T03:35:02.636Z"
   },
   {
    "duration": 9,
    "start_time": "2023-05-06T03:35:17.403Z"
   },
   {
    "duration": 92,
    "start_time": "2023-05-06T03:35:17.943Z"
   },
   {
    "duration": 13,
    "start_time": "2023-05-06T03:36:22.703Z"
   },
   {
    "duration": 94,
    "start_time": "2023-05-06T03:36:23.823Z"
   },
   {
    "duration": 9,
    "start_time": "2023-05-06T03:37:44.888Z"
   },
   {
    "duration": 90,
    "start_time": "2023-05-06T03:37:45.833Z"
   },
   {
    "duration": 10,
    "start_time": "2023-05-06T03:38:04.471Z"
   },
   {
    "duration": 178,
    "start_time": "2023-05-06T03:38:05.713Z"
   },
   {
    "duration": 83,
    "start_time": "2023-05-06T03:38:16.563Z"
   },
   {
    "duration": 84,
    "start_time": "2023-05-06T03:38:17.295Z"
   },
   {
    "duration": 96,
    "start_time": "2023-05-06T03:39:05.921Z"
   },
   {
    "duration": 14,
    "start_time": "2023-05-06T03:39:12.867Z"
   },
   {
    "duration": 14,
    "start_time": "2023-05-06T03:39:23.423Z"
   },
   {
    "duration": 15,
    "start_time": "2023-05-06T03:39:32.849Z"
   },
   {
    "duration": 8,
    "start_time": "2023-05-06T03:42:14.024Z"
   },
   {
    "duration": 96,
    "start_time": "2023-05-06T03:42:15.381Z"
   },
   {
    "duration": 80,
    "start_time": "2023-05-06T03:42:37.708Z"
   },
   {
    "duration": 9,
    "start_time": "2023-05-06T03:42:39.883Z"
   },
   {
    "duration": 77,
    "start_time": "2023-05-06T03:42:44.625Z"
   },
   {
    "duration": 1114,
    "start_time": "2023-05-06T03:43:27.768Z"
   },
   {
    "duration": 179,
    "start_time": "2023-05-06T03:43:28.886Z"
   },
   {
    "duration": 140,
    "start_time": "2023-05-06T03:43:29.067Z"
   },
   {
    "duration": 129,
    "start_time": "2023-05-06T03:43:29.209Z"
   },
   {
    "duration": 3,
    "start_time": "2023-05-06T03:43:29.340Z"
   },
   {
    "duration": 31,
    "start_time": "2023-05-06T03:43:29.344Z"
   },
   {
    "duration": 103,
    "start_time": "2023-05-06T03:43:29.377Z"
   },
   {
    "duration": 108,
    "start_time": "2023-05-06T03:43:29.482Z"
   },
   {
    "duration": 28,
    "start_time": "2023-05-06T03:43:29.592Z"
   },
   {
    "duration": 13,
    "start_time": "2023-05-06T03:43:29.622Z"
   },
   {
    "duration": 1349,
    "start_time": "2023-05-06T03:43:29.637Z"
   },
   {
    "duration": 5,
    "start_time": "2023-05-06T03:43:30.988Z"
   },
   {
    "duration": 63,
    "start_time": "2023-05-06T03:43:30.995Z"
   },
   {
    "duration": 589,
    "start_time": "2023-05-06T03:43:31.059Z"
   },
   {
    "duration": 34,
    "start_time": "2023-05-06T03:43:31.650Z"
   },
   {
    "duration": 22,
    "start_time": "2023-05-06T03:43:31.685Z"
   },
   {
    "duration": 146,
    "start_time": "2023-05-06T03:43:31.709Z"
   },
   {
    "duration": 148,
    "start_time": "2023-05-06T03:43:31.856Z"
   },
   {
    "duration": 76,
    "start_time": "2023-05-06T03:43:32.005Z"
   },
   {
    "duration": 317,
    "start_time": "2023-05-06T03:43:32.083Z"
   },
   {
    "duration": 124,
    "start_time": "2023-05-06T03:43:32.401Z"
   },
   {
    "duration": 13,
    "start_time": "2023-05-06T03:43:32.527Z"
   },
   {
    "duration": 152,
    "start_time": "2023-05-06T03:43:32.541Z"
   },
   {
    "duration": 43,
    "start_time": "2023-05-06T03:43:32.695Z"
   },
   {
    "duration": 9,
    "start_time": "2023-05-06T03:43:32.740Z"
   },
   {
    "duration": 99,
    "start_time": "2023-05-06T03:43:32.751Z"
   },
   {
    "duration": 100,
    "start_time": "2023-05-06T03:43:32.851Z"
   },
   {
    "duration": 93,
    "start_time": "2023-05-06T03:43:32.955Z"
   },
   {
    "duration": 7,
    "start_time": "2023-05-06T03:43:33.050Z"
   },
   {
    "duration": 1568,
    "start_time": "2023-05-06T03:46:02.675Z"
   },
   {
    "duration": 1651,
    "start_time": "2023-05-06T03:46:12.432Z"
   },
   {
    "duration": 109,
    "start_time": "2023-05-06T03:48:36.790Z"
   },
   {
    "duration": 183,
    "start_time": "2023-05-06T03:51:33.339Z"
   },
   {
    "duration": 121,
    "start_time": "2023-05-06T03:51:41.589Z"
   },
   {
    "duration": 131,
    "start_time": "2023-05-06T03:51:49.671Z"
   },
   {
    "duration": 208,
    "start_time": "2023-05-06T03:52:04.764Z"
   },
   {
    "duration": 148,
    "start_time": "2023-05-06T03:52:08.978Z"
   },
   {
    "duration": 127,
    "start_time": "2023-05-06T03:52:16.327Z"
   },
   {
    "duration": 143,
    "start_time": "2023-05-06T03:52:31.429Z"
   },
   {
    "duration": 122,
    "start_time": "2023-05-06T03:52:42.527Z"
   },
   {
    "duration": 186,
    "start_time": "2023-05-06T03:52:55.460Z"
   },
   {
    "duration": 144,
    "start_time": "2023-05-06T03:53:02.747Z"
   },
   {
    "duration": 119,
    "start_time": "2023-05-06T03:53:08.422Z"
   },
   {
    "duration": 129,
    "start_time": "2023-05-06T03:53:58.995Z"
   },
   {
    "duration": 123,
    "start_time": "2023-05-06T03:55:09.469Z"
   },
   {
    "duration": 115,
    "start_time": "2023-05-06T03:55:20.685Z"
   },
   {
    "duration": 133,
    "start_time": "2023-05-06T03:56:31.771Z"
   },
   {
    "duration": 164,
    "start_time": "2023-05-06T03:56:57.947Z"
   },
   {
    "duration": 113,
    "start_time": "2023-05-06T03:57:07.043Z"
   },
   {
    "duration": 116,
    "start_time": "2023-05-06T03:57:17.724Z"
   },
   {
    "duration": 120,
    "start_time": "2023-05-06T03:57:44.574Z"
   },
   {
    "duration": 125,
    "start_time": "2023-05-06T03:57:57.094Z"
   },
   {
    "duration": 8,
    "start_time": "2023-05-06T03:58:42.437Z"
   },
   {
    "duration": 86,
    "start_time": "2023-05-06T03:58:43.153Z"
   },
   {
    "duration": 1418,
    "start_time": "2023-05-06T03:58:55.461Z"
   },
   {
    "duration": 1173,
    "start_time": "2023-05-06T03:59:16.867Z"
   },
   {
    "duration": 1157,
    "start_time": "2023-05-06T03:59:27.273Z"
   },
   {
    "duration": 15,
    "start_time": "2023-05-06T04:02:23.361Z"
   },
   {
    "duration": 1380,
    "start_time": "2023-05-06T04:02:31.049Z"
   },
   {
    "duration": 5,
    "start_time": "2023-05-06T04:03:23.024Z"
   },
   {
    "duration": 71,
    "start_time": "2023-05-06T04:03:28.615Z"
   },
   {
    "duration": 5,
    "start_time": "2023-05-06T04:05:18.982Z"
   },
   {
    "duration": 97,
    "start_time": "2023-05-06T04:05:23.527Z"
   },
   {
    "duration": 5,
    "start_time": "2023-05-06T04:06:18.830Z"
   },
   {
    "duration": 92,
    "start_time": "2023-05-06T04:06:22.652Z"
   },
   {
    "duration": 5,
    "start_time": "2023-05-06T04:06:35.787Z"
   },
   {
    "duration": 75,
    "start_time": "2023-05-06T04:06:50.741Z"
   },
   {
    "duration": 7,
    "start_time": "2023-05-06T04:07:24.744Z"
   },
   {
    "duration": 83,
    "start_time": "2023-05-06T04:07:28.903Z"
   },
   {
    "duration": 5,
    "start_time": "2023-05-06T04:07:39.147Z"
   },
   {
    "duration": 73,
    "start_time": "2023-05-06T04:07:43.457Z"
   },
   {
    "duration": 5,
    "start_time": "2023-05-06T04:07:52.585Z"
   },
   {
    "duration": 65,
    "start_time": "2023-05-06T04:07:57.838Z"
   },
   {
    "duration": 5,
    "start_time": "2023-05-06T04:09:05.724Z"
   },
   {
    "duration": 6,
    "start_time": "2023-05-06T04:09:29.409Z"
   },
   {
    "duration": 65,
    "start_time": "2023-05-06T04:09:32.554Z"
   },
   {
    "duration": 6,
    "start_time": "2023-05-06T04:09:47.909Z"
   },
   {
    "duration": 74,
    "start_time": "2023-05-06T04:09:51.108Z"
   },
   {
    "duration": 76,
    "start_time": "2023-05-06T04:10:02.822Z"
   },
   {
    "duration": 6,
    "start_time": "2023-05-06T04:10:06.310Z"
   },
   {
    "duration": 86,
    "start_time": "2023-05-06T04:10:09.066Z"
   },
   {
    "duration": 9,
    "start_time": "2023-05-06T04:10:27.056Z"
   },
   {
    "duration": 86,
    "start_time": "2023-05-06T04:10:31.598Z"
   },
   {
    "duration": 9,
    "start_time": "2023-05-06T04:11:05.134Z"
   },
   {
    "duration": 110,
    "start_time": "2023-05-06T04:12:27.775Z"
   },
   {
    "duration": 4,
    "start_time": "2023-05-06T04:28:01.540Z"
   },
   {
    "duration": 11,
    "start_time": "2023-05-06T04:28:31.550Z"
   },
   {
    "duration": 4,
    "start_time": "2023-05-06T04:28:35.398Z"
   },
   {
    "duration": 17,
    "start_time": "2023-05-06T04:28:35.742Z"
   },
   {
    "duration": 86,
    "start_time": "2023-05-06T04:29:10.905Z"
   },
   {
    "duration": 5,
    "start_time": "2023-05-06T04:29:35.982Z"
   },
   {
    "duration": 33,
    "start_time": "2023-05-06T04:29:37.290Z"
   },
   {
    "duration": 17,
    "start_time": "2023-05-06T04:29:58.633Z"
   },
   {
    "duration": 6,
    "start_time": "2023-05-06T04:30:17.281Z"
   },
   {
    "duration": 33,
    "start_time": "2023-05-06T04:30:17.662Z"
   },
   {
    "duration": 4,
    "start_time": "2023-05-06T04:30:40.201Z"
   },
   {
    "duration": 65,
    "start_time": "2023-05-06T04:30:41.901Z"
   },
   {
    "duration": 77,
    "start_time": "2023-05-06T04:36:59.914Z"
   },
   {
    "duration": 22,
    "start_time": "2023-05-06T04:37:30.860Z"
   },
   {
    "duration": 19,
    "start_time": "2023-05-06T04:37:40.754Z"
   },
   {
    "duration": 25,
    "start_time": "2023-05-06T04:38:09.098Z"
   },
   {
    "duration": 63,
    "start_time": "2023-05-06T04:38:14.778Z"
   },
   {
    "duration": 65,
    "start_time": "2023-05-06T04:38:29.849Z"
   },
   {
    "duration": 93,
    "start_time": "2023-05-06T04:38:43.826Z"
   },
   {
    "duration": 5,
    "start_time": "2023-05-06T04:40:05.872Z"
   },
   {
    "duration": 11,
    "start_time": "2023-05-06T04:40:20.885Z"
   },
   {
    "duration": 75,
    "start_time": "2023-05-06T04:40:50.200Z"
   },
   {
    "duration": 79,
    "start_time": "2023-05-06T04:40:57.408Z"
   },
   {
    "duration": 9,
    "start_time": "2023-05-06T04:41:02.972Z"
   },
   {
    "duration": 73,
    "start_time": "2023-05-06T04:41:23.485Z"
   },
   {
    "duration": 65,
    "start_time": "2023-05-06T04:41:50.627Z"
   },
   {
    "duration": 72,
    "start_time": "2023-05-06T04:42:06.896Z"
   },
   {
    "duration": 80,
    "start_time": "2023-05-06T04:42:20.155Z"
   },
   {
    "duration": 5,
    "start_time": "2023-05-06T04:43:57.269Z"
   },
   {
    "duration": 117,
    "start_time": "2023-05-06T04:44:30.028Z"
   },
   {
    "duration": 1088,
    "start_time": "2023-05-06T04:44:58.233Z"
   },
   {
    "duration": 161,
    "start_time": "2023-05-06T04:44:59.323Z"
   },
   {
    "duration": 194,
    "start_time": "2023-05-06T04:44:59.487Z"
   },
   {
    "duration": 105,
    "start_time": "2023-05-06T04:44:59.683Z"
   },
   {
    "duration": 3,
    "start_time": "2023-05-06T04:44:59.790Z"
   },
   {
    "duration": 18,
    "start_time": "2023-05-06T04:44:59.794Z"
   },
   {
    "duration": 92,
    "start_time": "2023-05-06T04:44:59.813Z"
   },
   {
    "duration": 110,
    "start_time": "2023-05-06T04:44:59.906Z"
   },
   {
    "duration": 29,
    "start_time": "2023-05-06T04:45:00.018Z"
   },
   {
    "duration": 28,
    "start_time": "2023-05-06T04:45:00.052Z"
   },
   {
    "duration": 1367,
    "start_time": "2023-05-06T04:45:00.082Z"
   },
   {
    "duration": 5,
    "start_time": "2023-05-06T04:45:01.451Z"
   },
   {
    "duration": 40,
    "start_time": "2023-05-06T04:45:01.458Z"
   },
   {
    "duration": 640,
    "start_time": "2023-05-06T04:45:01.500Z"
   },
   {
    "duration": 43,
    "start_time": "2023-05-06T04:45:02.141Z"
   },
   {
    "duration": 70,
    "start_time": "2023-05-06T04:45:02.186Z"
   },
   {
    "duration": 143,
    "start_time": "2023-05-06T04:45:02.258Z"
   },
   {
    "duration": 195,
    "start_time": "2023-05-06T04:45:02.403Z"
   },
   {
    "duration": 90,
    "start_time": "2023-05-06T04:45:02.600Z"
   },
   {
    "duration": 317,
    "start_time": "2023-05-06T04:45:02.691Z"
   },
   {
    "duration": 101,
    "start_time": "2023-05-06T04:45:03.010Z"
   },
   {
    "duration": 67,
    "start_time": "2023-05-06T04:45:03.113Z"
   },
   {
    "duration": 178,
    "start_time": "2023-05-06T04:45:03.181Z"
   },
   {
    "duration": 52,
    "start_time": "2023-05-06T04:45:03.362Z"
   },
   {
    "duration": 9,
    "start_time": "2023-05-06T04:45:03.416Z"
   },
   {
    "duration": 114,
    "start_time": "2023-05-06T04:45:03.427Z"
   },
   {
    "duration": 110,
    "start_time": "2023-05-06T04:45:03.543Z"
   },
   {
    "duration": 104,
    "start_time": "2023-05-06T04:45:03.671Z"
   },
   {
    "duration": 111,
    "start_time": "2023-05-06T04:45:03.776Z"
   },
   {
    "duration": 7,
    "start_time": "2023-05-06T04:45:03.888Z"
   },
   {
    "duration": 8,
    "start_time": "2023-05-06T04:45:03.896Z"
   },
   {
    "duration": 71,
    "start_time": "2023-05-06T04:45:03.905Z"
   },
   {
    "duration": 14,
    "start_time": "2023-05-06T04:45:03.978Z"
   },
   {
    "duration": 97,
    "start_time": "2023-05-06T04:45:03.994Z"
   },
   {
    "duration": 0,
    "start_time": "2023-05-06T04:45:04.093Z"
   },
   {
    "duration": 0,
    "start_time": "2023-05-06T04:45:04.094Z"
   },
   {
    "duration": 5,
    "start_time": "2023-05-06T04:45:10.832Z"
   },
   {
    "duration": 172,
    "start_time": "2023-05-06T04:45:12.262Z"
   },
   {
    "duration": 5,
    "start_time": "2023-05-06T04:45:46.903Z"
   },
   {
    "duration": 6,
    "start_time": "2023-05-06T04:46:01.088Z"
   },
   {
    "duration": 83,
    "start_time": "2023-05-06T04:46:02.606Z"
   },
   {
    "duration": 5,
    "start_time": "2023-05-06T04:46:41.009Z"
   },
   {
    "duration": 65,
    "start_time": "2023-05-06T04:46:42.124Z"
   },
   {
    "duration": 6,
    "start_time": "2023-05-06T04:46:51.787Z"
   },
   {
    "duration": 74,
    "start_time": "2023-05-06T04:46:53.114Z"
   },
   {
    "duration": 1108,
    "start_time": "2023-05-06T04:47:59.278Z"
   },
   {
    "duration": 153,
    "start_time": "2023-05-06T04:48:00.388Z"
   },
   {
    "duration": 149,
    "start_time": "2023-05-06T04:48:00.542Z"
   },
   {
    "duration": 109,
    "start_time": "2023-05-06T04:48:00.693Z"
   },
   {
    "duration": 3,
    "start_time": "2023-05-06T04:48:00.804Z"
   },
   {
    "duration": 34,
    "start_time": "2023-05-06T04:48:00.809Z"
   },
   {
    "duration": 130,
    "start_time": "2023-05-06T04:48:00.845Z"
   },
   {
    "duration": 99,
    "start_time": "2023-05-06T04:48:00.976Z"
   },
   {
    "duration": 33,
    "start_time": "2023-05-06T04:48:01.076Z"
   },
   {
    "duration": 22,
    "start_time": "2023-05-06T04:48:01.112Z"
   },
   {
    "duration": 1236,
    "start_time": "2023-05-06T04:48:01.136Z"
   },
   {
    "duration": 5,
    "start_time": "2023-05-06T04:48:02.374Z"
   },
   {
    "duration": 93,
    "start_time": "2023-05-06T04:48:02.381Z"
   },
   {
    "duration": 570,
    "start_time": "2023-05-06T04:48:02.476Z"
   },
   {
    "duration": 32,
    "start_time": "2023-05-06T04:48:03.047Z"
   },
   {
    "duration": 257,
    "start_time": "2023-05-06T04:48:03.081Z"
   },
   {
    "duration": 251,
    "start_time": "2023-05-06T04:48:03.340Z"
   },
   {
    "duration": 159,
    "start_time": "2023-05-06T04:48:03.594Z"
   },
   {
    "duration": 68,
    "start_time": "2023-05-06T04:48:03.755Z"
   },
   {
    "duration": 272,
    "start_time": "2023-05-06T04:48:03.825Z"
   },
   {
    "duration": 105,
    "start_time": "2023-05-06T04:48:04.099Z"
   },
   {
    "duration": 67,
    "start_time": "2023-05-06T04:48:04.205Z"
   },
   {
    "duration": 143,
    "start_time": "2023-05-06T04:48:04.274Z"
   },
   {
    "duration": 41,
    "start_time": "2023-05-06T04:48:04.419Z"
   },
   {
    "duration": 9,
    "start_time": "2023-05-06T04:48:04.472Z"
   },
   {
    "duration": 106,
    "start_time": "2023-05-06T04:48:04.483Z"
   },
   {
    "duration": 98,
    "start_time": "2023-05-06T04:48:04.590Z"
   },
   {
    "duration": 106,
    "start_time": "2023-05-06T04:48:04.691Z"
   },
   {
    "duration": 114,
    "start_time": "2023-05-06T04:48:04.799Z"
   },
   {
    "duration": 6,
    "start_time": "2023-05-06T04:48:04.914Z"
   },
   {
    "duration": 10,
    "start_time": "2023-05-06T04:48:04.922Z"
   },
   {
    "duration": 56,
    "start_time": "2023-05-06T04:48:04.934Z"
   },
   {
    "duration": 14,
    "start_time": "2023-05-06T04:48:04.991Z"
   },
   {
    "duration": 78,
    "start_time": "2023-05-06T04:48:05.008Z"
   },
   {
    "duration": 0,
    "start_time": "2023-05-06T04:48:05.088Z"
   },
   {
    "duration": 0,
    "start_time": "2023-05-06T04:48:05.090Z"
   },
   {
    "duration": 5,
    "start_time": "2023-05-06T04:48:17.235Z"
   },
   {
    "duration": 174,
    "start_time": "2023-05-06T04:48:18.635Z"
   },
   {
    "duration": 4,
    "start_time": "2023-05-06T05:32:29.536Z"
   },
   {
    "duration": 9,
    "start_time": "2023-05-06T05:32:37.672Z"
   },
   {
    "duration": 6,
    "start_time": "2023-05-06T05:32:44.626Z"
   },
   {
    "duration": 98,
    "start_time": "2023-05-06T05:32:46.187Z"
   },
   {
    "duration": 6,
    "start_time": "2023-05-06T05:33:05.528Z"
   },
   {
    "duration": 83,
    "start_time": "2023-05-06T05:33:06.038Z"
   },
   {
    "duration": 5,
    "start_time": "2023-05-06T05:36:31.884Z"
   },
   {
    "duration": 98,
    "start_time": "2023-05-06T05:36:34.177Z"
   },
   {
    "duration": 4,
    "start_time": "2023-05-06T05:37:18.508Z"
   },
   {
    "duration": 63,
    "start_time": "2023-05-06T05:37:19.782Z"
   },
   {
    "duration": 3,
    "start_time": "2023-05-06T05:38:14.079Z"
   },
   {
    "duration": 139,
    "start_time": "2023-05-06T05:38:24.850Z"
   },
   {
    "duration": 7,
    "start_time": "2023-05-06T05:38:27.324Z"
   },
   {
    "duration": 6,
    "start_time": "2023-05-06T05:38:30.945Z"
   },
   {
    "duration": 68,
    "start_time": "2023-05-06T05:38:32.481Z"
   },
   {
    "duration": 6,
    "start_time": "2023-05-06T05:38:49.456Z"
   },
   {
    "duration": 7,
    "start_time": "2023-05-06T05:39:12.065Z"
   },
   {
    "duration": 62,
    "start_time": "2023-05-06T05:39:12.387Z"
   },
   {
    "duration": 5,
    "start_time": "2023-05-06T05:39:32.754Z"
   },
   {
    "duration": 10,
    "start_time": "2023-05-06T05:39:46.776Z"
   },
   {
    "duration": 5,
    "start_time": "2023-05-06T05:39:49.715Z"
   },
   {
    "duration": 60,
    "start_time": "2023-05-06T05:39:50.091Z"
   },
   {
    "duration": 238,
    "start_time": "2023-05-06T05:40:58.789Z"
   },
   {
    "duration": 5,
    "start_time": "2023-05-06T05:41:08.341Z"
   },
   {
    "duration": 240,
    "start_time": "2023-05-06T05:41:09.880Z"
   },
   {
    "duration": 9,
    "start_time": "2023-05-06T05:41:34.738Z"
   },
   {
    "duration": 321,
    "start_time": "2023-05-06T05:41:35.868Z"
   },
   {
    "duration": 5,
    "start_time": "2023-05-06T05:41:53.484Z"
   },
   {
    "duration": 238,
    "start_time": "2023-05-06T05:41:53.771Z"
   },
   {
    "duration": 7,
    "start_time": "2023-05-06T05:43:17.741Z"
   },
   {
    "duration": 329,
    "start_time": "2023-05-06T05:43:18.213Z"
   },
   {
    "duration": 95,
    "start_time": "2023-05-06T05:43:32.567Z"
   },
   {
    "duration": 6,
    "start_time": "2023-05-06T05:43:42.914Z"
   },
   {
    "duration": 7,
    "start_time": "2023-05-06T05:45:01.210Z"
   },
   {
    "duration": 86,
    "start_time": "2023-05-06T05:45:01.749Z"
   },
   {
    "duration": 5,
    "start_time": "2023-05-06T05:45:11.648Z"
   },
   {
    "duration": 226,
    "start_time": "2023-05-06T05:45:13.425Z"
   },
   {
    "duration": 5,
    "start_time": "2023-05-06T05:45:18.867Z"
   },
   {
    "duration": 223,
    "start_time": "2023-05-06T05:45:19.111Z"
   },
   {
    "duration": 243,
    "start_time": "2023-05-06T05:49:09.822Z"
   },
   {
    "duration": 14,
    "start_time": "2023-05-06T05:50:51.165Z"
   },
   {
    "duration": 109,
    "start_time": "2023-05-06T05:50:51.901Z"
   },
   {
    "duration": 10,
    "start_time": "2023-05-06T05:51:06.678Z"
   },
   {
    "duration": 80,
    "start_time": "2023-05-06T05:51:06.994Z"
   },
   {
    "duration": 9,
    "start_time": "2023-05-06T05:52:01.479Z"
   },
   {
    "duration": 115,
    "start_time": "2023-05-06T05:52:02.174Z"
   },
   {
    "duration": 138,
    "start_time": "2023-05-06T05:52:08.541Z"
   },
   {
    "duration": 10,
    "start_time": "2023-05-06T05:52:32.667Z"
   },
   {
    "duration": 98,
    "start_time": "2023-05-06T05:52:33.162Z"
   },
   {
    "duration": 14,
    "start_time": "2023-05-06T05:52:51.850Z"
   },
   {
    "duration": 131,
    "start_time": "2023-05-06T05:52:52.141Z"
   },
   {
    "duration": 6,
    "start_time": "2023-05-06T05:53:12.435Z"
   },
   {
    "duration": 296,
    "start_time": "2023-05-06T05:53:13.040Z"
   },
   {
    "duration": 7,
    "start_time": "2023-05-06T05:56:46.950Z"
   },
   {
    "duration": 370,
    "start_time": "2023-05-06T05:56:47.673Z"
   },
   {
    "duration": 378,
    "start_time": "2023-05-06T05:56:58.695Z"
   },
   {
    "duration": 352,
    "start_time": "2023-05-06T05:57:13.453Z"
   },
   {
    "duration": 381,
    "start_time": "2023-05-06T05:57:21.432Z"
   },
   {
    "duration": 64,
    "start_time": "2023-05-06T05:57:36.223Z"
   },
   {
    "duration": 110,
    "start_time": "2023-05-06T07:26:03.012Z"
   },
   {
    "duration": 87,
    "start_time": "2023-05-06T07:26:07.444Z"
   },
   {
    "duration": 88,
    "start_time": "2023-05-06T07:26:12.323Z"
   },
   {
    "duration": 114,
    "start_time": "2023-05-06T07:26:16.772Z"
   },
   {
    "duration": 7,
    "start_time": "2023-05-06T07:27:53.091Z"
   },
   {
    "duration": 223,
    "start_time": "2023-05-06T07:27:54.306Z"
   },
   {
    "duration": 255,
    "start_time": "2023-05-06T07:28:23.306Z"
   },
   {
    "duration": 252,
    "start_time": "2023-05-06T07:28:26.137Z"
   },
   {
    "duration": 227,
    "start_time": "2023-05-06T07:28:26.406Z"
   },
   {
    "duration": 239,
    "start_time": "2023-05-06T07:28:26.686Z"
   },
   {
    "duration": 7,
    "start_time": "2023-05-06T08:26:03.465Z"
   },
   {
    "duration": 270,
    "start_time": "2023-05-06T08:26:20.767Z"
   },
   {
    "duration": 345,
    "start_time": "2023-05-06T08:26:34.548Z"
   },
   {
    "duration": 264,
    "start_time": "2023-05-06T08:26:47.096Z"
   },
   {
    "duration": 1400,
    "start_time": "2023-05-06T08:27:31.429Z"
   },
   {
    "duration": 207,
    "start_time": "2023-05-06T08:27:32.832Z"
   },
   {
    "duration": 156,
    "start_time": "2023-05-06T08:27:33.041Z"
   },
   {
    "duration": 147,
    "start_time": "2023-05-06T08:27:33.206Z"
   },
   {
    "duration": 3,
    "start_time": "2023-05-06T08:27:33.355Z"
   },
   {
    "duration": 9,
    "start_time": "2023-05-06T08:27:33.359Z"
   },
   {
    "duration": 152,
    "start_time": "2023-05-06T08:27:33.369Z"
   },
   {
    "duration": 125,
    "start_time": "2023-05-06T08:27:33.523Z"
   },
   {
    "duration": 51,
    "start_time": "2023-05-06T08:27:33.650Z"
   },
   {
    "duration": 18,
    "start_time": "2023-05-06T08:27:33.716Z"
   },
   {
    "duration": 1382,
    "start_time": "2023-05-06T08:27:33.736Z"
   },
   {
    "duration": 6,
    "start_time": "2023-05-06T08:27:35.120Z"
   },
   {
    "duration": 9,
    "start_time": "2023-05-06T08:27:35.128Z"
   },
   {
    "duration": 640,
    "start_time": "2023-05-06T08:27:35.139Z"
   },
   {
    "duration": 44,
    "start_time": "2023-05-06T08:27:35.781Z"
   },
   {
    "duration": 46,
    "start_time": "2023-05-06T08:27:35.835Z"
   },
   {
    "duration": 238,
    "start_time": "2023-05-06T08:27:35.883Z"
   },
   {
    "duration": 191,
    "start_time": "2023-05-06T08:27:36.127Z"
   },
   {
    "duration": 90,
    "start_time": "2023-05-06T08:27:36.319Z"
   },
   {
    "duration": 327,
    "start_time": "2023-05-06T08:27:36.414Z"
   },
   {
    "duration": 171,
    "start_time": "2023-05-06T08:27:36.742Z"
   },
   {
    "duration": 21,
    "start_time": "2023-05-06T08:27:36.915Z"
   },
   {
    "duration": 195,
    "start_time": "2023-05-06T08:27:36.938Z"
   },
   {
    "duration": 77,
    "start_time": "2023-05-06T08:27:37.134Z"
   },
   {
    "duration": 15,
    "start_time": "2023-05-06T08:27:37.216Z"
   },
   {
    "duration": 231,
    "start_time": "2023-05-06T08:27:37.232Z"
   },
   {
    "duration": 154,
    "start_time": "2023-05-06T08:27:37.465Z"
   },
   {
    "duration": 126,
    "start_time": "2023-05-06T08:27:37.630Z"
   },
   {
    "duration": 107,
    "start_time": "2023-05-06T08:27:37.758Z"
   },
   {
    "duration": 10,
    "start_time": "2023-05-06T08:27:37.867Z"
   },
   {
    "duration": 307,
    "start_time": "2023-05-06T08:27:37.890Z"
   },
   {
    "duration": 301,
    "start_time": "2023-05-06T08:27:38.203Z"
   },
   {
    "duration": 260,
    "start_time": "2023-05-06T08:27:38.508Z"
   },
   {
    "duration": 15,
    "start_time": "2023-05-06T08:27:38.770Z"
   },
   {
    "duration": 342,
    "start_time": "2023-05-06T08:27:38.787Z"
   },
   {
    "duration": 292,
    "start_time": "2023-05-06T08:27:39.133Z"
   },
   {
    "duration": 274,
    "start_time": "2023-05-06T08:27:39.427Z"
   },
   {
    "duration": 7,
    "start_time": "2023-05-06T08:29:00.606Z"
   },
   {
    "duration": 590,
    "start_time": "2023-05-06T08:29:01.147Z"
   },
   {
    "duration": 7,
    "start_time": "2023-05-06T08:29:20.248Z"
   },
   {
    "duration": 182,
    "start_time": "2023-05-06T08:29:20.719Z"
   },
   {
    "duration": 61,
    "start_time": "2023-05-06T08:30:14.795Z"
   },
   {
    "duration": 51,
    "start_time": "2023-05-06T08:30:36.598Z"
   },
   {
    "duration": 6,
    "start_time": "2023-05-06T08:30:54.661Z"
   },
   {
    "duration": 111,
    "start_time": "2023-05-06T08:30:55.406Z"
   },
   {
    "duration": 321,
    "start_time": "2023-05-06T08:31:00.850Z"
   },
   {
    "duration": 172,
    "start_time": "2023-05-06T08:31:08.135Z"
   },
   {
    "duration": 194,
    "start_time": "2023-05-06T08:31:20.195Z"
   },
   {
    "duration": 9,
    "start_time": "2023-05-06T08:32:53.859Z"
   },
   {
    "duration": 344,
    "start_time": "2023-05-06T08:32:56.268Z"
   },
   {
    "duration": 27,
    "start_time": "2023-05-06T08:33:05.290Z"
   },
   {
    "duration": 404,
    "start_time": "2023-05-06T08:33:05.744Z"
   },
   {
    "duration": 11,
    "start_time": "2023-05-06T08:33:24.430Z"
   },
   {
    "duration": 191,
    "start_time": "2023-05-06T08:33:24.794Z"
   },
   {
    "duration": 16,
    "start_time": "2023-05-06T08:33:35.224Z"
   },
   {
    "duration": 262,
    "start_time": "2023-05-06T08:33:37.287Z"
   },
   {
    "duration": 13,
    "start_time": "2023-05-06T08:33:44.369Z"
   },
   {
    "duration": 264,
    "start_time": "2023-05-06T08:33:46.467Z"
   },
   {
    "duration": 231,
    "start_time": "2023-05-06T08:34:13.738Z"
   },
   {
    "duration": 180,
    "start_time": "2023-05-06T08:34:14.204Z"
   },
   {
    "duration": 279,
    "start_time": "2023-05-06T08:34:16.644Z"
   },
   {
    "duration": 246,
    "start_time": "2023-05-06T08:37:30.012Z"
   },
   {
    "duration": 179,
    "start_time": "2023-05-06T08:37:40.620Z"
   },
   {
    "duration": 10,
    "start_time": "2023-05-06T08:37:50.971Z"
   },
   {
    "duration": 23,
    "start_time": "2023-05-06T08:37:53.202Z"
   },
   {
    "duration": 5,
    "start_time": "2023-05-06T08:38:42.222Z"
   },
   {
    "duration": 181,
    "start_time": "2023-05-06T08:38:43.364Z"
   },
   {
    "duration": 102,
    "start_time": "2023-05-06T08:38:58.091Z"
   },
   {
    "duration": 471,
    "start_time": "2023-05-06T08:40:19.646Z"
   },
   {
    "duration": 154,
    "start_time": "2023-05-06T08:40:28.648Z"
   },
   {
    "duration": 169,
    "start_time": "2023-05-06T08:40:40.327Z"
   },
   {
    "duration": 381,
    "start_time": "2023-05-06T08:40:50.252Z"
   },
   {
    "duration": 157,
    "start_time": "2023-05-06T08:41:01.600Z"
   },
   {
    "duration": 89,
    "start_time": "2023-05-06T08:41:04.720Z"
   },
   {
    "duration": 102,
    "start_time": "2023-05-06T08:41:15.027Z"
   },
   {
    "duration": 67,
    "start_time": "2023-05-06T08:41:20.715Z"
   },
   {
    "duration": 77,
    "start_time": "2023-05-06T08:41:29.659Z"
   },
   {
    "duration": 157,
    "start_time": "2023-05-06T08:42:58.557Z"
   },
   {
    "duration": 121,
    "start_time": "2023-05-06T08:43:02.092Z"
   },
   {
    "duration": 11,
    "start_time": "2023-05-06T08:44:07.548Z"
   },
   {
    "duration": 148,
    "start_time": "2023-05-06T08:44:22.206Z"
   },
   {
    "duration": 15,
    "start_time": "2023-05-06T08:44:25.838Z"
   },
   {
    "duration": 51,
    "start_time": "2023-05-06T08:44:49.832Z"
   },
   {
    "duration": 14,
    "start_time": "2023-05-06T08:45:04.034Z"
   },
   {
    "duration": 14,
    "start_time": "2023-05-06T08:45:08.302Z"
   },
   {
    "duration": 5,
    "start_time": "2023-05-06T08:45:59.345Z"
   },
   {
    "duration": 126,
    "start_time": "2023-05-06T08:46:17.601Z"
   },
   {
    "duration": 130,
    "start_time": "2023-05-06T08:46:32.034Z"
   },
   {
    "duration": 157,
    "start_time": "2023-05-06T08:46:55.485Z"
   },
   {
    "duration": 136,
    "start_time": "2023-05-06T08:47:12.972Z"
   },
   {
    "duration": 125,
    "start_time": "2023-05-06T08:47:23.130Z"
   },
   {
    "duration": 162,
    "start_time": "2023-05-06T08:47:28.907Z"
   },
   {
    "duration": 155,
    "start_time": "2023-05-06T08:47:38.282Z"
   },
   {
    "duration": 124,
    "start_time": "2023-05-06T08:47:43.434Z"
   },
   {
    "duration": 97,
    "start_time": "2023-05-06T08:47:48.631Z"
   },
   {
    "duration": 110,
    "start_time": "2023-05-06T08:47:59.434Z"
   },
   {
    "duration": 107,
    "start_time": "2023-05-06T08:48:06.374Z"
   },
   {
    "duration": 176,
    "start_time": "2023-05-06T08:48:15.520Z"
   },
   {
    "duration": 101,
    "start_time": "2023-05-06T08:48:45.624Z"
   },
   {
    "duration": 113,
    "start_time": "2023-05-06T08:49:01.640Z"
   },
   {
    "duration": 98,
    "start_time": "2023-05-06T08:49:07.534Z"
   },
   {
    "duration": 102,
    "start_time": "2023-05-06T08:49:17.148Z"
   },
   {
    "duration": 105,
    "start_time": "2023-05-06T08:49:31.857Z"
   },
   {
    "duration": 102,
    "start_time": "2023-05-06T08:49:37.830Z"
   },
   {
    "duration": 87,
    "start_time": "2023-05-06T08:49:45.349Z"
   },
   {
    "duration": 104,
    "start_time": "2023-05-06T08:49:52.845Z"
   },
   {
    "duration": 104,
    "start_time": "2023-05-06T08:49:58.078Z"
   },
   {
    "duration": 93,
    "start_time": "2023-05-06T08:50:03.035Z"
   },
   {
    "duration": 94,
    "start_time": "2023-05-06T08:50:10.141Z"
   },
   {
    "duration": 120,
    "start_time": "2023-05-06T08:50:30.401Z"
   },
   {
    "duration": 130,
    "start_time": "2023-05-06T08:51:30.791Z"
   },
   {
    "duration": 106,
    "start_time": "2023-05-06T08:51:35.231Z"
   },
   {
    "duration": 116,
    "start_time": "2023-05-06T08:51:43.769Z"
   },
   {
    "duration": 164,
    "start_time": "2023-05-06T08:52:00.670Z"
   },
   {
    "duration": 91,
    "start_time": "2023-05-06T08:52:27.298Z"
   },
   {
    "duration": 113,
    "start_time": "2023-05-06T08:52:39.366Z"
   },
   {
    "duration": 129,
    "start_time": "2023-05-06T08:52:55.703Z"
   },
   {
    "duration": 102,
    "start_time": "2023-05-06T08:53:03.237Z"
   },
   {
    "duration": 94,
    "start_time": "2023-05-06T08:53:18.098Z"
   },
   {
    "duration": 291,
    "start_time": "2023-05-06T08:53:56.562Z"
   },
   {
    "duration": 12,
    "start_time": "2023-05-06T08:54:03.103Z"
   },
   {
    "duration": 360,
    "start_time": "2023-05-06T08:54:09.707Z"
   },
   {
    "duration": 7,
    "start_time": "2023-05-06T08:54:22.931Z"
   },
   {
    "duration": 255,
    "start_time": "2023-05-06T08:54:26.440Z"
   },
   {
    "duration": 10,
    "start_time": "2023-05-06T08:55:35.951Z"
   },
   {
    "duration": 232,
    "start_time": "2023-05-06T08:55:38.854Z"
   },
   {
    "duration": 232,
    "start_time": "2023-05-06T08:55:44.331Z"
   },
   {
    "duration": 16,
    "start_time": "2023-05-06T08:55:57.465Z"
   },
   {
    "duration": 276,
    "start_time": "2023-05-06T08:56:00.435Z"
   },
   {
    "duration": 247,
    "start_time": "2023-05-06T08:56:05.837Z"
   },
   {
    "duration": 1221,
    "start_time": "2023-05-06T08:56:25.664Z"
   },
   {
    "duration": 199,
    "start_time": "2023-05-06T08:56:26.890Z"
   },
   {
    "duration": 153,
    "start_time": "2023-05-06T08:56:27.094Z"
   },
   {
    "duration": 94,
    "start_time": "2023-05-06T08:56:27.250Z"
   },
   {
    "duration": 2,
    "start_time": "2023-05-06T08:56:27.346Z"
   },
   {
    "duration": 29,
    "start_time": "2023-05-06T08:56:27.385Z"
   },
   {
    "duration": 79,
    "start_time": "2023-05-06T08:56:27.415Z"
   },
   {
    "duration": 130,
    "start_time": "2023-05-06T08:56:27.496Z"
   },
   {
    "duration": 23,
    "start_time": "2023-05-06T08:56:27.628Z"
   },
   {
    "duration": 9,
    "start_time": "2023-05-06T08:56:27.655Z"
   },
   {
    "duration": 1420,
    "start_time": "2023-05-06T08:56:27.665Z"
   },
   {
    "duration": 5,
    "start_time": "2023-05-06T08:56:29.087Z"
   },
   {
    "duration": 91,
    "start_time": "2023-05-06T08:56:29.094Z"
   },
   {
    "duration": 698,
    "start_time": "2023-05-06T08:56:29.187Z"
   },
   {
    "duration": 30,
    "start_time": "2023-05-06T08:56:29.886Z"
   },
   {
    "duration": 39,
    "start_time": "2023-05-06T08:56:29.920Z"
   },
   {
    "duration": 183,
    "start_time": "2023-05-06T08:56:29.961Z"
   },
   {
    "duration": 218,
    "start_time": "2023-05-06T08:56:30.146Z"
   },
   {
    "duration": 110,
    "start_time": "2023-05-06T08:56:30.383Z"
   },
   {
    "duration": 349,
    "start_time": "2023-05-06T08:56:30.495Z"
   },
   {
    "duration": 163,
    "start_time": "2023-05-06T08:56:30.846Z"
   },
   {
    "duration": 38,
    "start_time": "2023-05-06T08:56:31.011Z"
   },
   {
    "duration": 292,
    "start_time": "2023-05-06T08:56:31.051Z"
   },
   {
    "duration": 62,
    "start_time": "2023-05-06T08:56:31.346Z"
   },
   {
    "duration": 47,
    "start_time": "2023-05-06T08:56:31.409Z"
   },
   {
    "duration": 231,
    "start_time": "2023-05-06T08:56:31.458Z"
   },
   {
    "duration": 114,
    "start_time": "2023-05-06T08:56:31.691Z"
   },
   {
    "duration": 146,
    "start_time": "2023-05-06T08:56:31.808Z"
   },
   {
    "duration": 153,
    "start_time": "2023-05-06T08:56:31.956Z"
   },
   {
    "duration": 22,
    "start_time": "2023-05-06T08:56:32.115Z"
   },
   {
    "duration": 288,
    "start_time": "2023-05-06T08:56:32.139Z"
   },
   {
    "duration": 243,
    "start_time": "2023-05-06T08:56:32.429Z"
   },
   {
    "duration": 228,
    "start_time": "2023-05-06T08:56:32.673Z"
   },
   {
    "duration": 10,
    "start_time": "2023-05-06T08:56:32.903Z"
   },
   {
    "duration": 243,
    "start_time": "2023-05-06T08:56:32.914Z"
   },
   {
    "duration": 0,
    "start_time": "2023-05-06T08:56:33.159Z"
   },
   {
    "duration": 0,
    "start_time": "2023-05-06T08:56:33.160Z"
   },
   {
    "duration": 0,
    "start_time": "2023-05-06T08:56:33.162Z"
   },
   {
    "duration": 1195,
    "start_time": "2023-05-06T08:57:09.657Z"
   },
   {
    "duration": 195,
    "start_time": "2023-05-06T08:57:10.854Z"
   },
   {
    "duration": 187,
    "start_time": "2023-05-06T08:57:11.050Z"
   },
   {
    "duration": 120,
    "start_time": "2023-05-06T08:57:11.239Z"
   },
   {
    "duration": 2,
    "start_time": "2023-05-06T08:57:11.361Z"
   },
   {
    "duration": 34,
    "start_time": "2023-05-06T08:57:11.365Z"
   },
   {
    "duration": 113,
    "start_time": "2023-05-06T08:57:11.412Z"
   },
   {
    "duration": 112,
    "start_time": "2023-05-06T08:57:11.527Z"
   },
   {
    "duration": 25,
    "start_time": "2023-05-06T08:57:11.641Z"
   },
   {
    "duration": 19,
    "start_time": "2023-05-06T08:57:11.669Z"
   },
   {
    "duration": 1424,
    "start_time": "2023-05-06T08:57:11.689Z"
   },
   {
    "duration": 8,
    "start_time": "2023-05-06T08:57:13.114Z"
   },
   {
    "duration": 30,
    "start_time": "2023-05-06T08:57:13.123Z"
   },
   {
    "duration": 736,
    "start_time": "2023-05-06T08:57:13.155Z"
   },
   {
    "duration": 35,
    "start_time": "2023-05-06T08:57:13.898Z"
   },
   {
    "duration": 21,
    "start_time": "2023-05-06T08:57:13.935Z"
   },
   {
    "duration": 178,
    "start_time": "2023-05-06T08:57:13.958Z"
   },
   {
    "duration": 146,
    "start_time": "2023-05-06T08:57:14.138Z"
   },
   {
    "duration": 99,
    "start_time": "2023-05-06T08:57:14.290Z"
   },
   {
    "duration": 311,
    "start_time": "2023-05-06T08:57:14.390Z"
   },
   {
    "duration": 122,
    "start_time": "2023-05-06T08:57:14.703Z"
   },
   {
    "duration": 17,
    "start_time": "2023-05-06T08:57:14.827Z"
   },
   {
    "duration": 186,
    "start_time": "2023-05-06T08:57:14.847Z"
   },
   {
    "duration": 63,
    "start_time": "2023-05-06T08:57:15.034Z"
   },
   {
    "duration": 23,
    "start_time": "2023-05-06T08:57:15.116Z"
   },
   {
    "duration": 113,
    "start_time": "2023-05-06T08:57:15.141Z"
   },
   {
    "duration": 142,
    "start_time": "2023-05-06T08:57:15.256Z"
   },
   {
    "duration": 123,
    "start_time": "2023-05-06T08:57:15.401Z"
   },
   {
    "duration": 140,
    "start_time": "2023-05-06T08:57:15.527Z"
   },
   {
    "duration": 40,
    "start_time": "2023-05-06T08:57:15.669Z"
   },
   {
    "duration": 272,
    "start_time": "2023-05-06T08:57:15.721Z"
   },
   {
    "duration": 271,
    "start_time": "2023-05-06T08:57:16.010Z"
   },
   {
    "duration": 266,
    "start_time": "2023-05-06T08:57:16.283Z"
   },
   {
    "duration": 7,
    "start_time": "2023-05-06T08:57:16.551Z"
   },
   {
    "duration": 293,
    "start_time": "2023-05-06T08:57:16.560Z"
   },
   {
    "duration": 0,
    "start_time": "2023-05-06T08:57:16.854Z"
   },
   {
    "duration": 0,
    "start_time": "2023-05-06T08:57:16.856Z"
   },
   {
    "duration": 0,
    "start_time": "2023-05-06T08:57:16.857Z"
   },
   {
    "duration": 22,
    "start_time": "2023-05-06T08:57:36.439Z"
   },
   {
    "duration": 10,
    "start_time": "2023-05-06T08:58:09.946Z"
   },
   {
    "duration": 12,
    "start_time": "2023-05-06T08:58:56.735Z"
   },
   {
    "duration": 235,
    "start_time": "2023-05-06T08:59:07.835Z"
   },
   {
    "duration": 29,
    "start_time": "2023-05-06T08:59:11.604Z"
   },
   {
    "duration": 20,
    "start_time": "2023-05-06T08:59:31.255Z"
   },
   {
    "duration": 1003,
    "start_time": "2023-05-06T08:59:37.247Z"
   },
   {
    "duration": 180,
    "start_time": "2023-05-06T08:59:38.251Z"
   },
   {
    "duration": 122,
    "start_time": "2023-05-06T08:59:38.433Z"
   },
   {
    "duration": 143,
    "start_time": "2023-05-06T08:59:38.557Z"
   },
   {
    "duration": 10,
    "start_time": "2023-05-06T08:59:38.703Z"
   },
   {
    "duration": 13,
    "start_time": "2023-05-06T08:59:38.716Z"
   },
   {
    "duration": 78,
    "start_time": "2023-05-06T08:59:38.731Z"
   },
   {
    "duration": 109,
    "start_time": "2023-05-06T08:59:38.810Z"
   },
   {
    "duration": 22,
    "start_time": "2023-05-06T08:59:38.921Z"
   },
   {
    "duration": 12,
    "start_time": "2023-05-06T08:59:38.944Z"
   },
   {
    "duration": 1309,
    "start_time": "2023-05-06T08:59:38.957Z"
   },
   {
    "duration": 29,
    "start_time": "2023-05-06T08:59:40.277Z"
   },
   {
    "duration": 17,
    "start_time": "2023-05-06T08:59:40.318Z"
   },
   {
    "duration": 614,
    "start_time": "2023-05-06T08:59:40.337Z"
   },
   {
    "duration": 42,
    "start_time": "2023-05-06T08:59:40.953Z"
   },
   {
    "duration": 23,
    "start_time": "2023-05-06T08:59:41.006Z"
   },
   {
    "duration": 156,
    "start_time": "2023-05-06T08:59:41.031Z"
   },
   {
    "duration": 170,
    "start_time": "2023-05-06T08:59:41.188Z"
   },
   {
    "duration": 83,
    "start_time": "2023-05-06T08:59:41.359Z"
   },
   {
    "duration": 362,
    "start_time": "2023-05-06T08:59:41.443Z"
   },
   {
    "duration": 101,
    "start_time": "2023-05-06T08:59:41.814Z"
   },
   {
    "duration": 12,
    "start_time": "2023-05-06T08:59:41.922Z"
   },
   {
    "duration": 118,
    "start_time": "2023-05-06T08:59:41.936Z"
   },
   {
    "duration": 42,
    "start_time": "2023-05-06T08:59:42.055Z"
   },
   {
    "duration": 11,
    "start_time": "2023-05-06T08:59:42.098Z"
   },
   {
    "duration": 118,
    "start_time": "2023-05-06T08:59:42.110Z"
   },
   {
    "duration": 92,
    "start_time": "2023-05-06T08:59:42.229Z"
   },
   {
    "duration": 123,
    "start_time": "2023-05-06T08:59:42.322Z"
   },
   {
    "duration": 102,
    "start_time": "2023-05-06T08:59:42.447Z"
   },
   {
    "duration": 11,
    "start_time": "2023-05-06T08:59:42.550Z"
   },
   {
    "duration": 254,
    "start_time": "2023-05-06T08:59:42.563Z"
   },
   {
    "duration": 290,
    "start_time": "2023-05-06T08:59:42.819Z"
   },
   {
    "duration": 365,
    "start_time": "2023-05-06T08:59:43.111Z"
   },
   {
    "duration": 10,
    "start_time": "2023-05-06T08:59:43.478Z"
   },
   {
    "duration": 259,
    "start_time": "2023-05-06T08:59:43.490Z"
   },
   {
    "duration": 0,
    "start_time": "2023-05-06T08:59:43.750Z"
   },
   {
    "duration": 0,
    "start_time": "2023-05-06T08:59:43.752Z"
   },
   {
    "duration": 0,
    "start_time": "2023-05-06T08:59:43.753Z"
   },
   {
    "duration": 11,
    "start_time": "2023-05-06T09:00:48.132Z"
   },
   {
    "duration": 93,
    "start_time": "2023-05-06T09:00:48.562Z"
   },
   {
    "duration": 5,
    "start_time": "2023-05-06T09:01:25.850Z"
   },
   {
    "duration": 26,
    "start_time": "2023-05-06T09:01:32.755Z"
   },
   {
    "duration": 16,
    "start_time": "2023-05-06T09:01:35.388Z"
   },
   {
    "duration": 1256,
    "start_time": "2023-05-06T09:02:40.661Z"
   },
   {
    "duration": 214,
    "start_time": "2023-05-06T09:02:41.919Z"
   },
   {
    "duration": 165,
    "start_time": "2023-05-06T09:02:42.135Z"
   },
   {
    "duration": 135,
    "start_time": "2023-05-06T09:02:42.302Z"
   },
   {
    "duration": 2,
    "start_time": "2023-05-06T09:02:42.439Z"
   },
   {
    "duration": 52,
    "start_time": "2023-05-06T09:02:42.442Z"
   },
   {
    "duration": 136,
    "start_time": "2023-05-06T09:02:42.496Z"
   },
   {
    "duration": 132,
    "start_time": "2023-05-06T09:02:42.633Z"
   },
   {
    "duration": 54,
    "start_time": "2023-05-06T09:02:42.767Z"
   },
   {
    "duration": 12,
    "start_time": "2023-05-06T09:02:42.831Z"
   },
   {
    "duration": 1468,
    "start_time": "2023-05-06T09:02:42.846Z"
   },
   {
    "duration": 14,
    "start_time": "2023-05-06T09:02:44.321Z"
   },
   {
    "duration": 15,
    "start_time": "2023-05-06T09:02:44.337Z"
   },
   {
    "duration": 760,
    "start_time": "2023-05-06T09:02:44.354Z"
   },
   {
    "duration": 34,
    "start_time": "2023-05-06T09:02:45.126Z"
   },
   {
    "duration": 28,
    "start_time": "2023-05-06T09:02:45.162Z"
   },
   {
    "duration": 219,
    "start_time": "2023-05-06T09:02:45.194Z"
   },
   {
    "duration": 165,
    "start_time": "2023-05-06T09:02:45.425Z"
   },
   {
    "duration": 86,
    "start_time": "2023-05-06T09:02:45.592Z"
   },
   {
    "duration": 315,
    "start_time": "2023-05-06T09:02:45.680Z"
   },
   {
    "duration": 131,
    "start_time": "2023-05-06T09:02:45.997Z"
   },
   {
    "duration": 53,
    "start_time": "2023-05-06T09:02:46.130Z"
   },
   {
    "duration": 181,
    "start_time": "2023-05-06T09:02:46.185Z"
   },
   {
    "duration": 98,
    "start_time": "2023-05-06T09:02:46.368Z"
   },
   {
    "duration": 49,
    "start_time": "2023-05-06T09:02:46.468Z"
   },
   {
    "duration": 236,
    "start_time": "2023-05-06T09:02:46.519Z"
   },
   {
    "duration": 150,
    "start_time": "2023-05-06T09:02:46.757Z"
   },
   {
    "duration": 137,
    "start_time": "2023-05-06T09:02:46.910Z"
   },
   {
    "duration": 111,
    "start_time": "2023-05-06T09:02:47.048Z"
   },
   {
    "duration": 3,
    "start_time": "2023-05-06T09:02:47.161Z"
   },
   {
    "duration": 87,
    "start_time": "2023-05-06T09:02:47.166Z"
   },
   {
    "duration": 10,
    "start_time": "2023-05-06T09:02:47.255Z"
   },
   {
    "duration": 65,
    "start_time": "2023-05-06T09:02:47.266Z"
   },
   {
    "duration": 27,
    "start_time": "2023-05-06T09:02:47.333Z"
   },
   {
    "duration": 345,
    "start_time": "2023-05-06T09:02:47.362Z"
   },
   {
    "duration": 244,
    "start_time": "2023-05-06T09:02:47.710Z"
   },
   {
    "duration": 200,
    "start_time": "2023-05-06T09:02:47.956Z"
   },
   {
    "duration": 177,
    "start_time": "2023-05-06T09:02:48.158Z"
   },
   {
    "duration": 0,
    "start_time": "2023-05-06T09:02:48.337Z"
   },
   {
    "duration": 0,
    "start_time": "2023-05-06T09:02:48.339Z"
   },
   {
    "duration": 0,
    "start_time": "2023-05-06T09:02:48.339Z"
   },
   {
    "duration": 3,
    "start_time": "2023-05-06T09:02:56.539Z"
   },
   {
    "duration": 14,
    "start_time": "2023-05-06T09:02:57.135Z"
   },
   {
    "duration": 28,
    "start_time": "2023-05-06T09:02:57.897Z"
   },
   {
    "duration": 22,
    "start_time": "2023-05-06T09:03:00.658Z"
   },
   {
    "duration": 16,
    "start_time": "2023-05-06T09:03:06.940Z"
   },
   {
    "duration": 24,
    "start_time": "2023-05-06T09:03:07.365Z"
   },
   {
    "duration": 20,
    "start_time": "2023-05-06T09:03:07.836Z"
   },
   {
    "duration": 10,
    "start_time": "2023-05-06T09:03:23.237Z"
   },
   {
    "duration": 309,
    "start_time": "2023-05-06T09:03:28.536Z"
   },
   {
    "duration": 242,
    "start_time": "2023-05-06T09:03:34.740Z"
   },
   {
    "duration": 269,
    "start_time": "2023-05-06T09:03:37.500Z"
   },
   {
    "duration": 302,
    "start_time": "2023-05-06T09:03:44.897Z"
   },
   {
    "duration": 9,
    "start_time": "2023-05-06T09:04:29.340Z"
   },
   {
    "duration": 258,
    "start_time": "2023-05-06T09:04:36.443Z"
   },
   {
    "duration": 299,
    "start_time": "2023-05-06T09:04:39.928Z"
   },
   {
    "duration": 367,
    "start_time": "2023-05-06T09:05:00.256Z"
   },
   {
    "duration": 7,
    "start_time": "2023-05-06T09:05:23.841Z"
   },
   {
    "duration": 287,
    "start_time": "2023-05-06T09:05:24.636Z"
   },
   {
    "duration": 288,
    "start_time": "2023-05-06T09:05:28.065Z"
   },
   {
    "duration": 7,
    "start_time": "2023-05-06T09:05:56.933Z"
   },
   {
    "duration": 282,
    "start_time": "2023-05-06T09:05:57.297Z"
   },
   {
    "duration": 9,
    "start_time": "2023-05-06T09:06:06.345Z"
   },
   {
    "duration": 251,
    "start_time": "2023-05-06T09:06:06.739Z"
   },
   {
    "duration": 307,
    "start_time": "2023-05-06T09:06:09.045Z"
   },
   {
    "duration": 242,
    "start_time": "2023-05-06T09:06:10.694Z"
   },
   {
    "duration": 261,
    "start_time": "2023-05-06T09:06:11.438Z"
   },
   {
    "duration": 7,
    "start_time": "2023-05-06T09:06:38.548Z"
   },
   {
    "duration": 296,
    "start_time": "2023-05-06T09:06:39.057Z"
   },
   {
    "duration": 14,
    "start_time": "2023-05-06T09:07:03.855Z"
   },
   {
    "duration": 261,
    "start_time": "2023-05-06T09:07:04.637Z"
   },
   {
    "duration": 15,
    "start_time": "2023-05-06T09:07:53.034Z"
   },
   {
    "duration": 110,
    "start_time": "2023-05-06T09:07:55.930Z"
   },
   {
    "duration": 24,
    "start_time": "2023-05-06T09:08:13.704Z"
   },
   {
    "duration": 171,
    "start_time": "2023-05-06T09:08:14.653Z"
   },
   {
    "duration": 10,
    "start_time": "2023-05-06T09:08:38.340Z"
   },
   {
    "duration": 6,
    "start_time": "2023-05-06T09:08:44.058Z"
   },
   {
    "duration": 298,
    "start_time": "2023-05-06T09:08:46.751Z"
   },
   {
    "duration": 10,
    "start_time": "2023-05-06T09:09:34.554Z"
   },
   {
    "duration": 233,
    "start_time": "2023-05-06T09:09:35.018Z"
   },
   {
    "duration": 1183,
    "start_time": "2023-05-06T09:10:12.942Z"
   },
   {
    "duration": 195,
    "start_time": "2023-05-06T09:10:14.131Z"
   },
   {
    "duration": 177,
    "start_time": "2023-05-06T09:10:14.328Z"
   },
   {
    "duration": 115,
    "start_time": "2023-05-06T09:10:14.514Z"
   },
   {
    "duration": 4,
    "start_time": "2023-05-06T09:10:14.631Z"
   },
   {
    "duration": 16,
    "start_time": "2023-05-06T09:10:14.637Z"
   },
   {
    "duration": 96,
    "start_time": "2023-05-06T09:10:14.655Z"
   },
   {
    "duration": 114,
    "start_time": "2023-05-06T09:10:14.753Z"
   },
   {
    "duration": 39,
    "start_time": "2023-05-06T09:10:14.869Z"
   },
   {
    "duration": 32,
    "start_time": "2023-05-06T09:10:14.912Z"
   },
   {
    "duration": 1580,
    "start_time": "2023-05-06T09:10:14.946Z"
   },
   {
    "duration": 6,
    "start_time": "2023-05-06T09:10:16.532Z"
   },
   {
    "duration": 15,
    "start_time": "2023-05-06T09:10:16.540Z"
   },
   {
    "duration": 703,
    "start_time": "2023-05-06T09:10:16.557Z"
   },
   {
    "duration": 53,
    "start_time": "2023-05-06T09:10:17.262Z"
   },
   {
    "duration": 37,
    "start_time": "2023-05-06T09:10:17.317Z"
   },
   {
    "duration": 196,
    "start_time": "2023-05-06T09:10:17.356Z"
   },
   {
    "duration": 207,
    "start_time": "2023-05-06T09:10:17.554Z"
   },
   {
    "duration": 97,
    "start_time": "2023-05-06T09:10:17.763Z"
   },
   {
    "duration": 347,
    "start_time": "2023-05-06T09:10:17.862Z"
   },
   {
    "duration": 105,
    "start_time": "2023-05-06T09:10:18.210Z"
   },
   {
    "duration": 74,
    "start_time": "2023-05-06T09:10:18.318Z"
   },
   {
    "duration": 195,
    "start_time": "2023-05-06T09:10:18.393Z"
   },
   {
    "duration": 53,
    "start_time": "2023-05-06T09:10:18.589Z"
   },
   {
    "duration": 9,
    "start_time": "2023-05-06T09:10:18.644Z"
   },
   {
    "duration": 131,
    "start_time": "2023-05-06T09:10:18.655Z"
   },
   {
    "duration": 129,
    "start_time": "2023-05-06T09:10:18.790Z"
   },
   {
    "duration": 116,
    "start_time": "2023-05-06T09:10:18.925Z"
   },
   {
    "duration": 127,
    "start_time": "2023-05-06T09:10:19.043Z"
   },
   {
    "duration": 18,
    "start_time": "2023-05-06T09:10:19.171Z"
   },
   {
    "duration": 263,
    "start_time": "2023-05-06T09:10:19.206Z"
   },
   {
    "duration": 247,
    "start_time": "2023-05-06T09:10:19.471Z"
   },
   {
    "duration": 276,
    "start_time": "2023-05-06T09:10:19.727Z"
   },
   {
    "duration": 257,
    "start_time": "2023-05-06T09:10:20.012Z"
   },
   {
    "duration": 14,
    "start_time": "2023-05-06T09:10:20.271Z"
   },
   {
    "duration": 297,
    "start_time": "2023-05-06T09:10:20.287Z"
   },
   {
    "duration": 239,
    "start_time": "2023-05-06T09:10:20.585Z"
   },
   {
    "duration": 250,
    "start_time": "2023-05-06T09:10:20.827Z"
   },
   {
    "duration": 335,
    "start_time": "2023-05-06T09:10:21.086Z"
   },
   {
    "duration": 29,
    "start_time": "2023-05-06T09:15:50.789Z"
   },
   {
    "duration": 219,
    "start_time": "2023-05-06T09:15:53.802Z"
   },
   {
    "duration": 304,
    "start_time": "2023-05-06T09:15:54.351Z"
   },
   {
    "duration": 247,
    "start_time": "2023-05-06T09:15:55.052Z"
   },
   {
    "duration": 294,
    "start_time": "2023-05-06T09:15:55.452Z"
   },
   {
    "duration": 177,
    "start_time": "2023-05-06T09:29:58.946Z"
   },
   {
    "duration": 1894,
    "start_time": "2023-05-06T10:02:59.683Z"
   },
   {
    "duration": 2536,
    "start_time": "2023-05-06T10:03:26.018Z"
   },
   {
    "duration": 2538,
    "start_time": "2023-05-06T10:03:58.619Z"
   },
   {
    "duration": 2744,
    "start_time": "2023-05-06T10:05:49.698Z"
   },
   {
    "duration": 2461,
    "start_time": "2023-05-06T10:06:02.572Z"
   },
   {
    "duration": 2378,
    "start_time": "2023-05-06T10:06:28.727Z"
   },
   {
    "duration": 2529,
    "start_time": "2023-05-06T10:06:43.116Z"
   },
   {
    "duration": 2441,
    "start_time": "2023-05-06T10:06:53.067Z"
   },
   {
    "duration": 1733,
    "start_time": "2023-05-06T10:06:57.744Z"
   },
   {
    "duration": 2110,
    "start_time": "2023-05-06T10:07:08.281Z"
   },
   {
    "duration": 2522,
    "start_time": "2023-05-06T10:07:18.694Z"
   },
   {
    "duration": 6037,
    "start_time": "2023-05-06T10:07:40.463Z"
   },
   {
    "duration": 958,
    "start_time": "2023-05-06T10:09:50.636Z"
   },
   {
    "duration": 1174,
    "start_time": "2023-05-06T10:21:23.615Z"
   },
   {
    "duration": 198,
    "start_time": "2023-05-06T10:21:24.791Z"
   },
   {
    "duration": 154,
    "start_time": "2023-05-06T10:21:25.002Z"
   },
   {
    "duration": 156,
    "start_time": "2023-05-06T10:21:25.158Z"
   },
   {
    "duration": 5,
    "start_time": "2023-05-06T10:21:25.323Z"
   },
   {
    "duration": 33,
    "start_time": "2023-05-06T10:21:25.329Z"
   },
   {
    "duration": 105,
    "start_time": "2023-05-06T10:21:25.363Z"
   },
   {
    "duration": 162,
    "start_time": "2023-05-06T10:21:25.470Z"
   },
   {
    "duration": 71,
    "start_time": "2023-05-06T10:21:25.634Z"
   },
   {
    "duration": 15,
    "start_time": "2023-05-06T10:21:25.719Z"
   },
   {
    "duration": 2784,
    "start_time": "2023-05-06T10:21:25.736Z"
   },
   {
    "duration": 6,
    "start_time": "2023-05-06T10:21:28.522Z"
   },
   {
    "duration": 22,
    "start_time": "2023-05-06T10:21:28.530Z"
   },
   {
    "duration": 701,
    "start_time": "2023-05-06T10:21:28.555Z"
   },
   {
    "duration": 47,
    "start_time": "2023-05-06T10:21:29.258Z"
   },
   {
    "duration": 51,
    "start_time": "2023-05-06T10:21:29.307Z"
   },
   {
    "duration": 157,
    "start_time": "2023-05-06T10:21:29.359Z"
   },
   {
    "duration": 141,
    "start_time": "2023-05-06T10:21:29.518Z"
   },
   {
    "duration": 83,
    "start_time": "2023-05-06T10:21:29.661Z"
   },
   {
    "duration": 377,
    "start_time": "2023-05-06T10:21:29.746Z"
   },
   {
    "duration": 172,
    "start_time": "2023-05-06T10:21:30.125Z"
   },
   {
    "duration": 24,
    "start_time": "2023-05-06T10:21:30.299Z"
   },
   {
    "duration": 164,
    "start_time": "2023-05-06T10:21:30.325Z"
   },
   {
    "duration": 59,
    "start_time": "2023-05-06T10:21:30.493Z"
   },
   {
    "duration": 71,
    "start_time": "2023-05-06T10:21:30.554Z"
   },
   {
    "duration": 180,
    "start_time": "2023-05-06T10:21:30.628Z"
   },
   {
    "duration": 144,
    "start_time": "2023-05-06T10:21:30.814Z"
   },
   {
    "duration": 142,
    "start_time": "2023-05-06T10:21:30.959Z"
   },
   {
    "duration": 120,
    "start_time": "2023-05-06T10:21:31.103Z"
   },
   {
    "duration": 7,
    "start_time": "2023-05-06T10:21:31.225Z"
   },
   {
    "duration": 363,
    "start_time": "2023-05-06T10:21:31.234Z"
   },
   {
    "duration": 242,
    "start_time": "2023-05-06T10:21:31.609Z"
   },
   {
    "duration": 228,
    "start_time": "2023-05-06T10:21:31.853Z"
   },
   {
    "duration": 244,
    "start_time": "2023-05-06T10:21:32.082Z"
   },
   {
    "duration": 8,
    "start_time": "2023-05-06T10:21:32.330Z"
   },
   {
    "duration": 210,
    "start_time": "2023-05-06T10:21:32.340Z"
   },
   {
    "duration": 209,
    "start_time": "2023-05-06T10:21:32.552Z"
   },
   {
    "duration": 235,
    "start_time": "2023-05-06T10:21:32.762Z"
   },
   {
    "duration": 257,
    "start_time": "2023-05-06T10:21:33.014Z"
   },
   {
    "duration": 1358,
    "start_time": "2023-05-06T10:21:35.723Z"
   },
   {
    "duration": 253,
    "start_time": "2023-05-06T10:21:37.083Z"
   },
   {
    "duration": 152,
    "start_time": "2023-05-06T10:21:37.338Z"
   },
   {
    "duration": 123,
    "start_time": "2023-05-06T10:21:37.491Z"
   },
   {
    "duration": 3,
    "start_time": "2023-05-06T10:21:37.616Z"
   },
   {
    "duration": 6,
    "start_time": "2023-05-06T10:21:37.620Z"
   },
   {
    "duration": 121,
    "start_time": "2023-05-06T10:21:37.628Z"
   },
   {
    "duration": 143,
    "start_time": "2023-05-06T10:21:37.750Z"
   },
   {
    "duration": 43,
    "start_time": "2023-05-06T10:21:37.895Z"
   },
   {
    "duration": 24,
    "start_time": "2023-05-06T10:21:37.939Z"
   },
   {
    "duration": 2567,
    "start_time": "2023-05-06T10:21:37.965Z"
   },
   {
    "duration": 6,
    "start_time": "2023-05-06T10:21:40.535Z"
   },
   {
    "duration": 11,
    "start_time": "2023-05-06T10:21:40.543Z"
   },
   {
    "duration": 655,
    "start_time": "2023-05-06T10:21:40.578Z"
   },
   {
    "duration": 67,
    "start_time": "2023-05-06T10:21:41.234Z"
   },
   {
    "duration": 32,
    "start_time": "2023-05-06T10:21:41.303Z"
   },
   {
    "duration": 171,
    "start_time": "2023-05-06T10:21:41.337Z"
   },
   {
    "duration": 196,
    "start_time": "2023-05-06T10:21:41.509Z"
   },
   {
    "duration": 91,
    "start_time": "2023-05-06T10:21:41.708Z"
   },
   {
    "duration": 602,
    "start_time": "2023-05-06T10:21:41.811Z"
   },
   {
    "duration": 169,
    "start_time": "2023-05-06T10:21:42.415Z"
   },
   {
    "duration": 24,
    "start_time": "2023-05-06T10:21:42.586Z"
   },
   {
    "duration": 184,
    "start_time": "2023-05-06T10:21:42.613Z"
   },
   {
    "duration": 48,
    "start_time": "2023-05-06T10:21:42.806Z"
   },
   {
    "duration": 14,
    "start_time": "2023-05-06T10:21:42.856Z"
   },
   {
    "duration": 189,
    "start_time": "2023-05-06T10:21:42.872Z"
   },
   {
    "duration": 146,
    "start_time": "2023-05-06T10:21:43.063Z"
   },
   {
    "duration": 120,
    "start_time": "2023-05-06T10:21:43.211Z"
   },
   {
    "duration": 102,
    "start_time": "2023-05-06T10:21:43.332Z"
   },
   {
    "duration": 6,
    "start_time": "2023-05-06T10:21:43.436Z"
   },
   {
    "duration": 263,
    "start_time": "2023-05-06T10:21:43.443Z"
   },
   {
    "duration": 220,
    "start_time": "2023-05-06T10:21:43.711Z"
   },
   {
    "duration": 234,
    "start_time": "2023-05-06T10:21:43.932Z"
   },
   {
    "duration": 255,
    "start_time": "2023-05-06T10:21:44.167Z"
   },
   {
    "duration": 9,
    "start_time": "2023-05-06T10:21:44.423Z"
   },
   {
    "duration": 224,
    "start_time": "2023-05-06T10:21:44.433Z"
   },
   {
    "duration": 202,
    "start_time": "2023-05-06T10:21:44.659Z"
   },
   {
    "duration": 294,
    "start_time": "2023-05-06T10:21:44.863Z"
   },
   {
    "duration": 307,
    "start_time": "2023-05-06T10:21:45.158Z"
   },
   {
    "duration": 279,
    "start_time": "2023-05-06T10:22:42.469Z"
   },
   {
    "duration": 1123,
    "start_time": "2023-05-06T20:52:06.255Z"
   },
   {
    "duration": 173,
    "start_time": "2023-05-06T20:52:07.379Z"
   },
   {
    "duration": 135,
    "start_time": "2023-05-06T20:52:07.559Z"
   },
   {
    "duration": 104,
    "start_time": "2023-05-06T20:52:07.696Z"
   },
   {
    "duration": 3,
    "start_time": "2023-05-06T20:52:07.801Z"
   },
   {
    "duration": 21,
    "start_time": "2023-05-06T20:52:07.805Z"
   },
   {
    "duration": 108,
    "start_time": "2023-05-06T20:52:07.827Z"
   },
   {
    "duration": 120,
    "start_time": "2023-05-06T20:52:07.942Z"
   },
   {
    "duration": 26,
    "start_time": "2023-05-06T20:52:08.064Z"
   },
   {
    "duration": 10,
    "start_time": "2023-05-06T20:52:08.091Z"
   },
   {
    "duration": 2882,
    "start_time": "2023-05-06T20:52:08.102Z"
   },
   {
    "duration": 5,
    "start_time": "2023-05-06T20:52:10.986Z"
   },
   {
    "duration": 8,
    "start_time": "2023-05-06T20:52:10.993Z"
   },
   {
    "duration": 682,
    "start_time": "2023-05-06T20:52:11.004Z"
   },
   {
    "duration": 29,
    "start_time": "2023-05-06T20:52:11.688Z"
   },
   {
    "duration": 42,
    "start_time": "2023-05-06T20:52:11.718Z"
   },
   {
    "duration": 145,
    "start_time": "2023-05-06T20:52:11.762Z"
   },
   {
    "duration": 163,
    "start_time": "2023-05-06T20:52:11.909Z"
   },
   {
    "duration": 84,
    "start_time": "2023-05-06T20:52:12.074Z"
   },
   {
    "duration": 727,
    "start_time": "2023-05-06T20:52:12.159Z"
   },
   {
    "duration": 156,
    "start_time": "2023-05-06T20:52:12.888Z"
   },
   {
    "duration": 26,
    "start_time": "2023-05-06T20:52:13.046Z"
   },
   {
    "duration": 151,
    "start_time": "2023-05-06T20:52:13.073Z"
   },
   {
    "duration": 64,
    "start_time": "2023-05-06T20:52:13.226Z"
   },
   {
    "duration": 11,
    "start_time": "2023-05-06T20:52:13.292Z"
   },
   {
    "duration": 117,
    "start_time": "2023-05-06T20:52:13.304Z"
   },
   {
    "duration": 126,
    "start_time": "2023-05-06T20:52:13.423Z"
   },
   {
    "duration": 106,
    "start_time": "2023-05-06T20:52:13.552Z"
   },
   {
    "duration": 105,
    "start_time": "2023-05-06T20:52:13.661Z"
   },
   {
    "duration": 6,
    "start_time": "2023-05-06T20:52:13.768Z"
   },
   {
    "duration": 220,
    "start_time": "2023-05-06T20:52:13.775Z"
   },
   {
    "duration": 212,
    "start_time": "2023-05-06T20:52:13.996Z"
   },
   {
    "duration": 230,
    "start_time": "2023-05-06T20:52:14.209Z"
   },
   {
    "duration": 258,
    "start_time": "2023-05-06T20:52:14.440Z"
   },
   {
    "duration": 8,
    "start_time": "2023-05-06T20:52:14.703Z"
   },
   {
    "duration": 246,
    "start_time": "2023-05-06T20:52:14.713Z"
   },
   {
    "duration": 221,
    "start_time": "2023-05-06T20:52:14.960Z"
   },
   {
    "duration": 231,
    "start_time": "2023-05-06T20:52:15.183Z"
   },
   {
    "duration": 246,
    "start_time": "2023-05-06T20:52:15.417Z"
   },
   {
    "duration": 49,
    "start_time": "2023-05-07T02:26:57.554Z"
   },
   {
    "duration": 1277,
    "start_time": "2023-05-07T02:27:08.475Z"
   },
   {
    "duration": 503,
    "start_time": "2023-05-07T02:27:09.754Z"
   },
   {
    "duration": 130,
    "start_time": "2023-05-07T02:27:10.259Z"
   },
   {
    "duration": 96,
    "start_time": "2023-05-07T02:27:10.391Z"
   },
   {
    "duration": 2,
    "start_time": "2023-05-07T02:27:10.488Z"
   },
   {
    "duration": 20,
    "start_time": "2023-05-07T02:27:10.492Z"
   },
   {
    "duration": 85,
    "start_time": "2023-05-07T02:27:10.513Z"
   },
   {
    "duration": 115,
    "start_time": "2023-05-07T02:27:10.599Z"
   },
   {
    "duration": 37,
    "start_time": "2023-05-07T02:27:10.715Z"
   },
   {
    "duration": 10,
    "start_time": "2023-05-07T02:27:10.755Z"
   },
   {
    "duration": 2777,
    "start_time": "2023-05-07T02:27:10.767Z"
   },
   {
    "duration": 7,
    "start_time": "2023-05-07T02:27:13.545Z"
   },
   {
    "duration": 12,
    "start_time": "2023-05-07T02:27:13.554Z"
   },
   {
    "duration": 659,
    "start_time": "2023-05-07T02:27:13.568Z"
   },
   {
    "duration": 31,
    "start_time": "2023-05-07T02:27:14.229Z"
   },
   {
    "duration": 23,
    "start_time": "2023-05-07T02:27:14.261Z"
   },
   {
    "duration": 141,
    "start_time": "2023-05-07T02:27:14.285Z"
   },
   {
    "duration": 170,
    "start_time": "2023-05-07T02:27:14.427Z"
   },
   {
    "duration": 90,
    "start_time": "2023-05-07T02:27:14.599Z"
   },
   {
    "duration": 432,
    "start_time": "2023-05-07T02:27:14.691Z"
   },
   {
    "duration": 128,
    "start_time": "2023-05-07T02:27:15.125Z"
   },
   {
    "duration": 13,
    "start_time": "2023-05-07T02:27:15.255Z"
   },
   {
    "duration": 170,
    "start_time": "2023-05-07T02:27:15.270Z"
   },
   {
    "duration": 46,
    "start_time": "2023-05-07T02:27:15.442Z"
   },
   {
    "duration": 9,
    "start_time": "2023-05-07T02:27:15.489Z"
   },
   {
    "duration": 110,
    "start_time": "2023-05-07T02:27:15.499Z"
   },
   {
    "duration": 100,
    "start_time": "2023-05-07T02:27:15.610Z"
   },
   {
    "duration": 105,
    "start_time": "2023-05-07T02:27:15.714Z"
   },
   {
    "duration": 99,
    "start_time": "2023-05-07T02:27:15.820Z"
   },
   {
    "duration": 14,
    "start_time": "2023-05-07T02:27:15.935Z"
   },
   {
    "duration": 209,
    "start_time": "2023-05-07T02:27:15.950Z"
   },
   {
    "duration": 219,
    "start_time": "2023-05-07T02:27:16.161Z"
   },
   {
    "duration": 198,
    "start_time": "2023-05-07T02:27:16.382Z"
   },
   {
    "duration": 233,
    "start_time": "2023-05-07T02:27:16.581Z"
   },
   {
    "duration": 3,
    "start_time": "2023-05-07T02:27:16.816Z"
   },
   {
    "duration": 103,
    "start_time": "2023-05-07T02:27:16.821Z"
   },
   {
    "duration": 0,
    "start_time": "2023-05-07T02:27:16.925Z"
   },
   {
    "duration": 0,
    "start_time": "2023-05-07T02:27:16.926Z"
   },
   {
    "duration": 0,
    "start_time": "2023-05-07T02:27:16.927Z"
   },
   {
    "duration": 207,
    "start_time": "2023-05-07T02:27:59.129Z"
   },
   {
    "duration": 1072,
    "start_time": "2023-05-07T02:28:31.874Z"
   },
   {
    "duration": 164,
    "start_time": "2023-05-07T02:28:32.948Z"
   },
   {
    "duration": 142,
    "start_time": "2023-05-07T02:28:33.113Z"
   },
   {
    "duration": 100,
    "start_time": "2023-05-07T02:28:33.257Z"
   },
   {
    "duration": 3,
    "start_time": "2023-05-07T02:28:33.358Z"
   },
   {
    "duration": 13,
    "start_time": "2023-05-07T02:28:33.363Z"
   },
   {
    "duration": 90,
    "start_time": "2023-05-07T02:28:33.378Z"
   },
   {
    "duration": 114,
    "start_time": "2023-05-07T02:28:33.470Z"
   },
   {
    "duration": 28,
    "start_time": "2023-05-07T02:28:33.585Z"
   },
   {
    "duration": 24,
    "start_time": "2023-05-07T02:28:33.616Z"
   },
   {
    "duration": 2813,
    "start_time": "2023-05-07T02:28:33.642Z"
   },
   {
    "duration": 6,
    "start_time": "2023-05-07T02:28:36.457Z"
   },
   {
    "duration": 21,
    "start_time": "2023-05-07T02:28:36.464Z"
   },
   {
    "duration": 629,
    "start_time": "2023-05-07T02:28:36.487Z"
   },
   {
    "duration": 37,
    "start_time": "2023-05-07T02:28:37.117Z"
   },
   {
    "duration": 22,
    "start_time": "2023-05-07T02:28:37.155Z"
   },
   {
    "duration": 170,
    "start_time": "2023-05-07T02:28:37.179Z"
   },
   {
    "duration": 175,
    "start_time": "2023-05-07T02:28:37.351Z"
   },
   {
    "duration": 81,
    "start_time": "2023-05-07T02:28:37.528Z"
   },
   {
    "duration": 367,
    "start_time": "2023-05-07T02:28:37.611Z"
   },
   {
    "duration": 100,
    "start_time": "2023-05-07T02:28:37.979Z"
   },
   {
    "duration": 69,
    "start_time": "2023-05-07T02:28:38.081Z"
   },
   {
    "duration": 125,
    "start_time": "2023-05-07T02:28:38.152Z"
   },
   {
    "duration": 44,
    "start_time": "2023-05-07T02:28:38.279Z"
   },
   {
    "duration": 26,
    "start_time": "2023-05-07T02:28:38.325Z"
   },
   {
    "duration": 106,
    "start_time": "2023-05-07T02:28:38.352Z"
   },
   {
    "duration": 99,
    "start_time": "2023-05-07T02:28:38.459Z"
   },
   {
    "duration": 97,
    "start_time": "2023-05-07T02:28:38.561Z"
   },
   {
    "duration": 98,
    "start_time": "2023-05-07T02:28:38.659Z"
   },
   {
    "duration": 7,
    "start_time": "2023-05-07T02:28:38.761Z"
   },
   {
    "duration": 207,
    "start_time": "2023-05-07T02:28:38.769Z"
   },
   {
    "duration": 214,
    "start_time": "2023-05-07T02:28:38.978Z"
   },
   {
    "duration": 217,
    "start_time": "2023-05-07T02:28:39.194Z"
   },
   {
    "duration": 236,
    "start_time": "2023-05-07T02:28:39.412Z"
   },
   {
    "duration": 4,
    "start_time": "2023-05-07T02:28:39.650Z"
   },
   {
    "duration": 197,
    "start_time": "2023-05-07T02:28:39.655Z"
   },
   {
    "duration": 107,
    "start_time": "2023-05-07T02:28:39.853Z"
   },
   {
    "duration": 0,
    "start_time": "2023-05-07T02:28:39.962Z"
   },
   {
    "duration": 0,
    "start_time": "2023-05-07T02:28:39.963Z"
   },
   {
    "duration": 191,
    "start_time": "2023-05-07T02:29:15.461Z"
   },
   {
    "duration": 190,
    "start_time": "2023-05-07T02:29:23.681Z"
   },
   {
    "duration": 231,
    "start_time": "2023-05-07T02:29:29.795Z"
   },
   {
    "duration": 15,
    "start_time": "2023-05-07T02:35:09.287Z"
   },
   {
    "duration": 1129,
    "start_time": "2023-05-07T02:35:25.767Z"
   },
   {
    "duration": 170,
    "start_time": "2023-05-07T02:35:26.898Z"
   },
   {
    "duration": 145,
    "start_time": "2023-05-07T02:35:27.070Z"
   },
   {
    "duration": 135,
    "start_time": "2023-05-07T02:35:27.217Z"
   },
   {
    "duration": 3,
    "start_time": "2023-05-07T02:35:27.354Z"
   },
   {
    "duration": 23,
    "start_time": "2023-05-07T02:35:27.358Z"
   },
   {
    "duration": 87,
    "start_time": "2023-05-07T02:35:27.383Z"
   },
   {
    "duration": 111,
    "start_time": "2023-05-07T02:35:27.471Z"
   },
   {
    "duration": 30,
    "start_time": "2023-05-07T02:35:27.583Z"
   },
   {
    "duration": 31,
    "start_time": "2023-05-07T02:35:27.615Z"
   },
   {
    "duration": 2926,
    "start_time": "2023-05-07T02:35:27.648Z"
   },
   {
    "duration": 60,
    "start_time": "2023-05-07T02:35:30.576Z"
   },
   {
    "duration": 50,
    "start_time": "2023-05-07T02:35:30.638Z"
   },
   {
    "duration": 1662,
    "start_time": "2023-05-07T02:35:30.690Z"
   },
   {
    "duration": 27,
    "start_time": "2023-05-07T02:35:32.354Z"
   },
   {
    "duration": 83,
    "start_time": "2023-05-07T02:35:32.383Z"
   },
   {
    "duration": 190,
    "start_time": "2023-05-07T02:35:32.468Z"
   },
   {
    "duration": 158,
    "start_time": "2023-05-07T02:35:32.660Z"
   },
   {
    "duration": 82,
    "start_time": "2023-05-07T02:35:32.820Z"
   },
   {
    "duration": 14,
    "start_time": "2023-05-07T02:35:32.903Z"
   },
   {
    "duration": 407,
    "start_time": "2023-05-07T02:35:32.919Z"
   },
   {
    "duration": 133,
    "start_time": "2023-05-07T02:35:33.327Z"
   },
   {
    "duration": 11,
    "start_time": "2023-05-07T02:35:33.462Z"
   },
   {
    "duration": 171,
    "start_time": "2023-05-07T02:35:33.475Z"
   },
   {
    "duration": 48,
    "start_time": "2023-05-07T02:35:33.648Z"
   },
   {
    "duration": 9,
    "start_time": "2023-05-07T02:35:33.697Z"
   },
   {
    "duration": 166,
    "start_time": "2023-05-07T02:35:33.707Z"
   },
   {
    "duration": 109,
    "start_time": "2023-05-07T02:35:33.876Z"
   },
   {
    "duration": 117,
    "start_time": "2023-05-07T02:35:33.987Z"
   },
   {
    "duration": 122,
    "start_time": "2023-05-07T02:35:34.105Z"
   },
   {
    "duration": 12,
    "start_time": "2023-05-07T02:35:34.228Z"
   },
   {
    "duration": 420,
    "start_time": "2023-05-07T02:35:34.245Z"
   },
   {
    "duration": 303,
    "start_time": "2023-05-07T02:35:34.667Z"
   },
   {
    "duration": 258,
    "start_time": "2023-05-07T02:35:34.971Z"
   },
   {
    "duration": 295,
    "start_time": "2023-05-07T02:35:35.230Z"
   },
   {
    "duration": 242,
    "start_time": "2023-05-07T02:35:35.527Z"
   },
   {
    "duration": 244,
    "start_time": "2023-05-07T02:35:35.771Z"
   },
   {
    "duration": 241,
    "start_time": "2023-05-07T02:35:36.017Z"
   },
   {
    "duration": 283,
    "start_time": "2023-05-07T02:35:36.259Z"
   },
   {
    "duration": 28,
    "start_time": "2023-05-07T02:37:23.344Z"
   },
   {
    "duration": 148,
    "start_time": "2023-05-07T02:37:35.864Z"
   },
   {
    "duration": 269,
    "start_time": "2023-05-07T02:40:26.413Z"
   },
   {
    "duration": 6,
    "start_time": "2023-05-07T02:40:37.881Z"
   },
   {
    "duration": 229,
    "start_time": "2023-05-07T02:40:38.699Z"
   },
   {
    "duration": 223,
    "start_time": "2023-05-07T02:40:43.563Z"
   },
   {
    "duration": 55,
    "start_time": "2023-05-07T08:12:49.640Z"
   },
   {
    "duration": 1541,
    "start_time": "2023-05-07T08:13:01.947Z"
   },
   {
    "duration": 1053,
    "start_time": "2023-05-07T08:13:03.494Z"
   },
   {
    "duration": 206,
    "start_time": "2023-05-07T08:13:04.550Z"
   },
   {
    "duration": 177,
    "start_time": "2023-05-07T08:13:04.759Z"
   },
   {
    "duration": 28,
    "start_time": "2023-05-07T08:13:04.938Z"
   },
   {
    "duration": 188,
    "start_time": "2023-05-07T08:13:04.969Z"
   },
   {
    "duration": 0,
    "start_time": "2023-05-07T08:13:05.161Z"
   },
   {
    "duration": 0,
    "start_time": "2023-05-07T08:13:05.163Z"
   },
   {
    "duration": 0,
    "start_time": "2023-05-07T08:13:05.165Z"
   },
   {
    "duration": 0,
    "start_time": "2023-05-07T08:13:05.167Z"
   },
   {
    "duration": 0,
    "start_time": "2023-05-07T08:13:05.169Z"
   },
   {
    "duration": 0,
    "start_time": "2023-05-07T08:13:05.170Z"
   },
   {
    "duration": 0,
    "start_time": "2023-05-07T08:13:05.172Z"
   },
   {
    "duration": 0,
    "start_time": "2023-05-07T08:13:05.173Z"
   },
   {
    "duration": 0,
    "start_time": "2023-05-07T08:13:05.175Z"
   },
   {
    "duration": 0,
    "start_time": "2023-05-07T08:13:05.176Z"
   },
   {
    "duration": 0,
    "start_time": "2023-05-07T08:13:05.177Z"
   },
   {
    "duration": 0,
    "start_time": "2023-05-07T08:13:05.178Z"
   },
   {
    "duration": 0,
    "start_time": "2023-05-07T08:13:05.179Z"
   },
   {
    "duration": 0,
    "start_time": "2023-05-07T08:13:05.181Z"
   },
   {
    "duration": 0,
    "start_time": "2023-05-07T08:13:05.182Z"
   },
   {
    "duration": 0,
    "start_time": "2023-05-07T08:13:05.183Z"
   },
   {
    "duration": 0,
    "start_time": "2023-05-07T08:13:05.199Z"
   },
   {
    "duration": 0,
    "start_time": "2023-05-07T08:13:05.200Z"
   },
   {
    "duration": 0,
    "start_time": "2023-05-07T08:13:05.201Z"
   },
   {
    "duration": 0,
    "start_time": "2023-05-07T08:13:05.202Z"
   },
   {
    "duration": 0,
    "start_time": "2023-05-07T08:13:05.212Z"
   },
   {
    "duration": 0,
    "start_time": "2023-05-07T08:13:05.214Z"
   },
   {
    "duration": 0,
    "start_time": "2023-05-07T08:13:05.214Z"
   },
   {
    "duration": 0,
    "start_time": "2023-05-07T08:13:05.219Z"
   },
   {
    "duration": 0,
    "start_time": "2023-05-07T08:13:05.220Z"
   },
   {
    "duration": 0,
    "start_time": "2023-05-07T08:13:05.225Z"
   },
   {
    "duration": 0,
    "start_time": "2023-05-07T08:13:05.226Z"
   },
   {
    "duration": 0,
    "start_time": "2023-05-07T08:13:05.227Z"
   },
   {
    "duration": 0,
    "start_time": "2023-05-07T08:13:05.231Z"
   },
   {
    "duration": 0,
    "start_time": "2023-05-07T08:13:05.232Z"
   },
   {
    "duration": 0,
    "start_time": "2023-05-07T08:13:05.233Z"
   },
   {
    "duration": 0,
    "start_time": "2023-05-07T08:13:05.235Z"
   },
   {
    "duration": 0,
    "start_time": "2023-05-07T08:13:05.236Z"
   },
   {
    "duration": 13,
    "start_time": "2023-05-07T08:14:15.009Z"
   },
   {
    "duration": 18,
    "start_time": "2023-05-07T08:14:16.530Z"
   },
   {
    "duration": 4,
    "start_time": "2023-05-07T08:14:20.660Z"
   },
   {
    "duration": 218,
    "start_time": "2023-05-07T08:14:20.666Z"
   },
   {
    "duration": 151,
    "start_time": "2023-05-07T08:14:20.886Z"
   },
   {
    "duration": 126,
    "start_time": "2023-05-07T08:14:21.038Z"
   },
   {
    "duration": 7,
    "start_time": "2023-05-07T08:14:21.167Z"
   },
   {
    "duration": 36,
    "start_time": "2023-05-07T08:14:21.176Z"
   },
   {
    "duration": 110,
    "start_time": "2023-05-07T08:14:21.214Z"
   },
   {
    "duration": 173,
    "start_time": "2023-05-07T08:14:21.330Z"
   },
   {
    "duration": 43,
    "start_time": "2023-05-07T08:14:21.504Z"
   },
   {
    "duration": 13,
    "start_time": "2023-05-07T08:14:21.549Z"
   },
   {
    "duration": 3798,
    "start_time": "2023-05-07T08:14:21.566Z"
   },
   {
    "duration": 6,
    "start_time": "2023-05-07T08:14:25.366Z"
   },
   {
    "duration": 31,
    "start_time": "2023-05-07T08:14:25.374Z"
   },
   {
    "duration": 841,
    "start_time": "2023-05-07T08:14:25.407Z"
   },
   {
    "duration": 25,
    "start_time": "2023-05-07T08:14:26.250Z"
   },
   {
    "duration": 47,
    "start_time": "2023-05-07T08:14:26.276Z"
   },
   {
    "duration": 194,
    "start_time": "2023-05-07T08:14:26.325Z"
   },
   {
    "duration": 197,
    "start_time": "2023-05-07T08:14:26.524Z"
   },
   {
    "duration": 99,
    "start_time": "2023-05-07T08:14:26.723Z"
   },
   {
    "duration": 20,
    "start_time": "2023-05-07T08:14:26.823Z"
   },
   {
    "duration": 501,
    "start_time": "2023-05-07T08:14:26.844Z"
   },
   {
    "duration": 158,
    "start_time": "2023-05-07T08:14:27.347Z"
   },
   {
    "duration": 37,
    "start_time": "2023-05-07T08:14:27.510Z"
   },
   {
    "duration": 167,
    "start_time": "2023-05-07T08:14:27.553Z"
   },
   {
    "duration": 58,
    "start_time": "2023-05-07T08:14:27.726Z"
   },
   {
    "duration": 15,
    "start_time": "2023-05-07T08:14:27.798Z"
   },
   {
    "duration": 147,
    "start_time": "2023-05-07T08:14:27.815Z"
   },
   {
    "duration": 147,
    "start_time": "2023-05-07T08:14:27.963Z"
   },
   {
    "duration": 142,
    "start_time": "2023-05-07T08:14:28.113Z"
   },
   {
    "duration": 175,
    "start_time": "2023-05-07T08:14:28.256Z"
   },
   {
    "duration": 10,
    "start_time": "2023-05-07T08:14:28.433Z"
   },
   {
    "duration": 303,
    "start_time": "2023-05-07T08:14:28.445Z"
   },
   {
    "duration": 305,
    "start_time": "2023-05-07T08:14:28.750Z"
   },
   {
    "duration": 298,
    "start_time": "2023-05-07T08:14:29.056Z"
   },
   {
    "duration": 320,
    "start_time": "2023-05-07T08:14:29.356Z"
   },
   {
    "duration": 269,
    "start_time": "2023-05-07T08:14:29.678Z"
   },
   {
    "duration": 298,
    "start_time": "2023-05-07T08:14:29.948Z"
   },
   {
    "duration": 286,
    "start_time": "2023-05-07T08:14:30.248Z"
   },
   {
    "duration": 365,
    "start_time": "2023-05-07T08:14:30.536Z"
   },
   {
    "duration": 117,
    "start_time": "2023-05-07T08:15:29.393Z"
   },
   {
    "duration": 121,
    "start_time": "2023-05-07T08:15:32.410Z"
   },
   {
    "duration": 89,
    "start_time": "2023-05-07T08:16:05.108Z"
   },
   {
    "duration": 70,
    "start_time": "2023-05-07T08:16:19.371Z"
   },
   {
    "duration": 90,
    "start_time": "2023-05-07T08:16:35.527Z"
   },
   {
    "duration": 93,
    "start_time": "2023-05-07T08:17:04.008Z"
   },
   {
    "duration": 90,
    "start_time": "2023-05-07T08:17:10.642Z"
   },
   {
    "duration": 82,
    "start_time": "2023-05-07T08:17:14.657Z"
   },
   {
    "duration": 82,
    "start_time": "2023-05-07T08:23:48.552Z"
   },
   {
    "duration": 90,
    "start_time": "2023-05-07T08:24:14.446Z"
   },
   {
    "duration": 5,
    "start_time": "2023-05-07T08:26:18.164Z"
   },
   {
    "duration": 81,
    "start_time": "2023-05-07T08:26:20.808Z"
   },
   {
    "duration": 90,
    "start_time": "2023-05-07T08:26:38.547Z"
   },
   {
    "duration": 76,
    "start_time": "2023-05-07T08:26:59.418Z"
   },
   {
    "duration": 85,
    "start_time": "2023-05-07T08:29:55.836Z"
   },
   {
    "duration": 14,
    "start_time": "2023-05-07T08:29:59.376Z"
   },
   {
    "duration": 11,
    "start_time": "2023-05-07T09:00:50.042Z"
   },
   {
    "duration": 2,
    "start_time": "2023-05-07T09:03:48.088Z"
   },
   {
    "duration": 47,
    "start_time": "2023-05-07T09:18:22.813Z"
   },
   {
    "duration": 15,
    "start_time": "2023-05-07T09:18:28.320Z"
   },
   {
    "duration": 14,
    "start_time": "2023-05-07T09:19:38.753Z"
   },
   {
    "duration": 31,
    "start_time": "2023-05-07T09:20:45.331Z"
   },
   {
    "duration": 23,
    "start_time": "2023-05-07T09:20:59.755Z"
   },
   {
    "duration": 30,
    "start_time": "2023-05-07T09:21:24.039Z"
   },
   {
    "duration": 22,
    "start_time": "2023-05-07T09:21:37.436Z"
   },
   {
    "duration": 19,
    "start_time": "2023-05-07T09:21:41.923Z"
   },
   {
    "duration": 34,
    "start_time": "2023-05-07T09:21:52.889Z"
   },
   {
    "duration": 21,
    "start_time": "2023-05-07T09:27:59.283Z"
   },
   {
    "duration": 20,
    "start_time": "2023-05-07T09:28:44.266Z"
   },
   {
    "duration": 18,
    "start_time": "2023-05-07T09:28:48.386Z"
   },
   {
    "duration": 20,
    "start_time": "2023-05-07T09:29:28.984Z"
   },
   {
    "duration": 27,
    "start_time": "2023-05-07T09:30:25.573Z"
   },
   {
    "duration": 16,
    "start_time": "2023-05-07T09:30:42.267Z"
   },
   {
    "duration": 17,
    "start_time": "2023-05-07T09:30:55.053Z"
   },
   {
    "duration": 21,
    "start_time": "2023-05-07T09:33:17.515Z"
   },
   {
    "duration": 23,
    "start_time": "2023-05-07T09:33:27.055Z"
   },
   {
    "duration": 15,
    "start_time": "2023-05-07T09:35:35.213Z"
   },
   {
    "duration": 16,
    "start_time": "2023-05-07T09:38:03.242Z"
   },
   {
    "duration": 52,
    "start_time": "2023-05-07T09:38:35.036Z"
   },
   {
    "duration": 18,
    "start_time": "2023-05-07T09:38:40.582Z"
   },
   {
    "duration": 10,
    "start_time": "2023-05-07T09:39:11.056Z"
   },
   {
    "duration": 16,
    "start_time": "2023-05-07T09:39:20.770Z"
   },
   {
    "duration": 17,
    "start_time": "2023-05-07T09:41:57.563Z"
   },
   {
    "duration": 28,
    "start_time": "2023-05-07T09:42:03.789Z"
   },
   {
    "duration": 22,
    "start_time": "2023-05-07T09:42:31.494Z"
   },
   {
    "duration": 56,
    "start_time": "2023-05-07T09:42:41.088Z"
   },
   {
    "duration": 18,
    "start_time": "2023-05-07T09:42:56.412Z"
   },
   {
    "duration": 67,
    "start_time": "2023-05-07T09:45:28.381Z"
   },
   {
    "duration": 15,
    "start_time": "2023-05-07T09:45:36.616Z"
   },
   {
    "duration": 107,
    "start_time": "2023-05-07T09:45:51.873Z"
   },
   {
    "duration": 59,
    "start_time": "2023-05-07T09:49:41.749Z"
   },
   {
    "duration": 10,
    "start_time": "2023-05-07T09:49:47.407Z"
   },
   {
    "duration": 15,
    "start_time": "2023-05-07T09:50:21.212Z"
   },
   {
    "duration": 94,
    "start_time": "2023-05-07T09:50:29.492Z"
   },
   {
    "duration": 10,
    "start_time": "2023-05-07T09:50:41.524Z"
   },
   {
    "duration": 89,
    "start_time": "2023-05-07T09:50:48.988Z"
   },
   {
    "duration": 92,
    "start_time": "2023-05-07T09:50:55.846Z"
   },
   {
    "duration": 15,
    "start_time": "2023-05-07T09:51:04.890Z"
   },
   {
    "duration": 95,
    "start_time": "2023-05-07T09:51:08.369Z"
   },
   {
    "duration": 10,
    "start_time": "2023-05-07T09:51:39.403Z"
   },
   {
    "duration": 89,
    "start_time": "2023-05-07T09:51:48.317Z"
   },
   {
    "duration": 16,
    "start_time": "2023-05-07T09:52:27.250Z"
   },
   {
    "duration": 100,
    "start_time": "2023-05-07T09:52:31.449Z"
   },
   {
    "duration": 81,
    "start_time": "2023-05-07T09:52:44.774Z"
   },
   {
    "duration": 11,
    "start_time": "2023-05-07T09:53:01.474Z"
   },
   {
    "duration": 92,
    "start_time": "2023-05-07T09:53:02.909Z"
   },
   {
    "duration": 112,
    "start_time": "2023-05-07T09:53:17.257Z"
   },
   {
    "duration": 11,
    "start_time": "2023-05-07T09:53:51.873Z"
   },
   {
    "duration": 101,
    "start_time": "2023-05-07T09:53:53.309Z"
   },
   {
    "duration": 1214,
    "start_time": "2023-05-07T09:54:30.653Z"
   },
   {
    "duration": 179,
    "start_time": "2023-05-07T09:54:31.869Z"
   },
   {
    "duration": 173,
    "start_time": "2023-05-07T09:54:32.050Z"
   },
   {
    "duration": 124,
    "start_time": "2023-05-07T09:54:32.226Z"
   },
   {
    "duration": 6,
    "start_time": "2023-05-07T09:54:32.351Z"
   },
   {
    "duration": 10,
    "start_time": "2023-05-07T09:54:32.359Z"
   },
   {
    "duration": 112,
    "start_time": "2023-05-07T09:54:32.404Z"
   },
   {
    "duration": 137,
    "start_time": "2023-05-07T09:54:32.525Z"
   },
   {
    "duration": 46,
    "start_time": "2023-05-07T09:54:32.664Z"
   },
   {
    "duration": 11,
    "start_time": "2023-05-07T09:54:32.725Z"
   },
   {
    "duration": 3382,
    "start_time": "2023-05-07T09:54:32.738Z"
   },
   {
    "duration": 6,
    "start_time": "2023-05-07T09:54:36.122Z"
   },
   {
    "duration": 16,
    "start_time": "2023-05-07T09:54:36.129Z"
   },
   {
    "duration": 784,
    "start_time": "2023-05-07T09:54:36.147Z"
   },
   {
    "duration": 30,
    "start_time": "2023-05-07T09:54:36.933Z"
   },
   {
    "duration": 57,
    "start_time": "2023-05-07T09:54:36.965Z"
   },
   {
    "duration": 153,
    "start_time": "2023-05-07T09:54:37.024Z"
   },
   {
    "duration": 228,
    "start_time": "2023-05-07T09:54:37.179Z"
   },
   {
    "duration": 92,
    "start_time": "2023-05-07T09:54:37.411Z"
   },
   {
    "duration": 24,
    "start_time": "2023-05-07T09:54:37.504Z"
   },
   {
    "duration": 21,
    "start_time": "2023-05-07T09:54:37.531Z"
   },
   {
    "duration": 502,
    "start_time": "2023-05-07T09:54:37.554Z"
   },
   {
    "duration": 141,
    "start_time": "2023-05-07T09:54:38.057Z"
   },
   {
    "duration": 28,
    "start_time": "2023-05-07T09:54:38.201Z"
   },
   {
    "duration": 193,
    "start_time": "2023-05-07T09:54:38.231Z"
   },
   {
    "duration": 50,
    "start_time": "2023-05-07T09:54:38.427Z"
   },
   {
    "duration": 22,
    "start_time": "2023-05-07T09:54:38.493Z"
   },
   {
    "duration": 241,
    "start_time": "2023-05-07T09:54:38.522Z"
   },
   {
    "duration": 0,
    "start_time": "2023-05-07T09:54:38.765Z"
   },
   {
    "duration": 0,
    "start_time": "2023-05-07T09:54:38.766Z"
   },
   {
    "duration": 0,
    "start_time": "2023-05-07T09:54:38.768Z"
   },
   {
    "duration": 0,
    "start_time": "2023-05-07T09:54:38.770Z"
   },
   {
    "duration": 0,
    "start_time": "2023-05-07T09:54:38.772Z"
   },
   {
    "duration": 0,
    "start_time": "2023-05-07T09:54:38.773Z"
   },
   {
    "duration": 0,
    "start_time": "2023-05-07T09:54:38.774Z"
   },
   {
    "duration": 0,
    "start_time": "2023-05-07T09:54:38.800Z"
   },
   {
    "duration": 0,
    "start_time": "2023-05-07T09:54:38.801Z"
   },
   {
    "duration": 0,
    "start_time": "2023-05-07T09:54:38.802Z"
   },
   {
    "duration": 0,
    "start_time": "2023-05-07T09:54:38.802Z"
   },
   {
    "duration": 0,
    "start_time": "2023-05-07T09:54:38.805Z"
   },
   {
    "duration": 51,
    "start_time": "2023-05-07T09:55:22.724Z"
   },
   {
    "duration": 105,
    "start_time": "2023-05-07T09:55:24.802Z"
   },
   {
    "duration": 94,
    "start_time": "2023-05-07T09:55:50.508Z"
   },
   {
    "duration": 12,
    "start_time": "2023-05-07T09:56:10.243Z"
   },
   {
    "duration": 98,
    "start_time": "2023-05-07T09:56:29.521Z"
   },
   {
    "duration": 53,
    "start_time": "2023-05-07T09:56:59.033Z"
   },
   {
    "duration": 14,
    "start_time": "2023-05-07T09:57:01.117Z"
   },
   {
    "duration": 161,
    "start_time": "2023-05-07T09:57:07.442Z"
   },
   {
    "duration": 131,
    "start_time": "2023-05-07T09:57:14.474Z"
   },
   {
    "duration": 128,
    "start_time": "2023-05-07T09:57:22.716Z"
   },
   {
    "duration": 41,
    "start_time": "2023-05-07T09:57:42.012Z"
   },
   {
    "duration": 144,
    "start_time": "2023-05-07T09:57:47.696Z"
   },
   {
    "duration": 123,
    "start_time": "2023-05-07T09:57:55.212Z"
   },
   {
    "duration": 180,
    "start_time": "2023-05-07T09:58:24.904Z"
   },
   {
    "duration": 38,
    "start_time": "2023-05-07T09:59:20.135Z"
   },
   {
    "duration": 139,
    "start_time": "2023-05-07T09:59:29.195Z"
   },
   {
    "duration": 40,
    "start_time": "2023-05-07T09:59:35.247Z"
   },
   {
    "duration": 46,
    "start_time": "2023-05-07T09:59:45.756Z"
   },
   {
    "duration": 125,
    "start_time": "2023-05-07T09:59:48.700Z"
   },
   {
    "duration": 45,
    "start_time": "2023-05-07T10:00:01.058Z"
   },
   {
    "duration": 121,
    "start_time": "2023-05-07T10:00:03.239Z"
   },
   {
    "duration": 8,
    "start_time": "2023-05-07T10:02:11.129Z"
   },
   {
    "duration": 9,
    "start_time": "2023-05-07T10:02:59.079Z"
   },
   {
    "duration": 18,
    "start_time": "2023-05-07T10:03:04.769Z"
   },
   {
    "duration": 13,
    "start_time": "2023-05-07T10:03:16.371Z"
   },
   {
    "duration": 7,
    "start_time": "2023-05-07T10:04:12.145Z"
   },
   {
    "duration": 96,
    "start_time": "2023-05-07T10:04:30.461Z"
   },
   {
    "duration": 266,
    "start_time": "2023-05-07T10:05:24.206Z"
   },
   {
    "duration": 7,
    "start_time": "2023-05-07T10:05:34.873Z"
   },
   {
    "duration": 308,
    "start_time": "2023-05-07T10:05:37.533Z"
   },
   {
    "duration": 94,
    "start_time": "2023-05-07T10:05:47.139Z"
   },
   {
    "duration": 9,
    "start_time": "2023-05-07T10:06:41.732Z"
   },
   {
    "duration": 15,
    "start_time": "2023-05-07T10:06:52.386Z"
   },
   {
    "duration": 8,
    "start_time": "2023-05-07T10:07:03.616Z"
   },
   {
    "duration": 239,
    "start_time": "2023-05-07T10:07:05.521Z"
   },
   {
    "duration": 13,
    "start_time": "2023-05-07T10:07:07.418Z"
   },
   {
    "duration": 54,
    "start_time": "2023-05-07T10:07:27.316Z"
   },
   {
    "duration": 260,
    "start_time": "2023-05-07T10:07:31.906Z"
   },
   {
    "duration": 239,
    "start_time": "2023-05-07T10:07:39.274Z"
   },
   {
    "duration": 242,
    "start_time": "2023-05-07T10:07:45.126Z"
   },
   {
    "duration": 276,
    "start_time": "2023-05-07T10:07:49.354Z"
   },
   {
    "duration": 269,
    "start_time": "2023-05-07T10:07:54.595Z"
   },
   {
    "duration": 10,
    "start_time": "2023-05-07T10:07:59.279Z"
   },
   {
    "duration": 11,
    "start_time": "2023-05-07T10:08:45.757Z"
   },
   {
    "duration": 7,
    "start_time": "2023-05-07T10:08:53.135Z"
   },
   {
    "duration": 294,
    "start_time": "2023-05-07T10:08:53.605Z"
   },
   {
    "duration": 80,
    "start_time": "2023-05-07T10:10:01.283Z"
   },
   {
    "duration": 46,
    "start_time": "2023-05-07T10:10:05.717Z"
   },
   {
    "duration": 109,
    "start_time": "2023-05-07T10:10:14.967Z"
   },
   {
    "duration": 231,
    "start_time": "2023-05-07T10:10:49.178Z"
   },
   {
    "duration": 48,
    "start_time": "2023-05-07T10:12:54.264Z"
   },
   {
    "duration": 199,
    "start_time": "2023-05-07T10:13:32.508Z"
   },
   {
    "duration": 115,
    "start_time": "2023-05-07T10:13:46.875Z"
   },
   {
    "duration": 213,
    "start_time": "2023-05-07T10:14:11.306Z"
   },
   {
    "duration": 226,
    "start_time": "2023-05-07T10:14:19.244Z"
   },
   {
    "duration": 21,
    "start_time": "2023-05-07T10:15:17.597Z"
   },
   {
    "duration": 152,
    "start_time": "2023-05-07T10:15:24.685Z"
   },
   {
    "duration": 107,
    "start_time": "2023-05-07T10:15:47.134Z"
   },
   {
    "duration": 126,
    "start_time": "2023-05-07T10:20:27.793Z"
   },
   {
    "duration": 62,
    "start_time": "2023-05-07T10:20:38.295Z"
   },
   {
    "duration": 211,
    "start_time": "2023-05-07T10:20:39.726Z"
   },
   {
    "duration": 43,
    "start_time": "2023-05-07T10:21:06.010Z"
   },
   {
    "duration": 199,
    "start_time": "2023-05-07T10:21:10.162Z"
   },
   {
    "duration": 120,
    "start_time": "2023-05-07T10:21:12.441Z"
   },
   {
    "duration": 48,
    "start_time": "2023-05-07T10:21:37.053Z"
   },
   {
    "duration": 137,
    "start_time": "2023-05-07T10:21:37.875Z"
   },
   {
    "duration": 54,
    "start_time": "2023-05-07T10:21:53.361Z"
   },
   {
    "duration": 121,
    "start_time": "2023-05-07T10:21:54.720Z"
   },
   {
    "duration": 48,
    "start_time": "2023-05-07T10:22:00.470Z"
   },
   {
    "duration": 135,
    "start_time": "2023-05-07T10:22:01.345Z"
   },
   {
    "duration": 235,
    "start_time": "2023-05-07T10:22:09.970Z"
   },
   {
    "duration": 313,
    "start_time": "2023-05-07T10:23:00.624Z"
   },
   {
    "duration": 235,
    "start_time": "2023-05-07T10:23:11.390Z"
   },
   {
    "duration": 65,
    "start_time": "2023-05-07T10:23:24.114Z"
   },
   {
    "duration": 210,
    "start_time": "2023-05-07T10:24:10.814Z"
   },
   {
    "duration": 10,
    "start_time": "2023-05-07T10:24:45.961Z"
   },
   {
    "duration": 116,
    "start_time": "2023-05-07T10:24:54.904Z"
   },
   {
    "duration": 4,
    "start_time": "2023-05-07T10:25:10.747Z"
   },
   {
    "duration": 40,
    "start_time": "2023-05-07T10:25:12.612Z"
   },
   {
    "duration": 204,
    "start_time": "2023-05-07T10:25:15.856Z"
   },
   {
    "duration": 179,
    "start_time": "2023-05-07T10:25:22.605Z"
   },
   {
    "duration": 194,
    "start_time": "2023-05-07T10:26:11.525Z"
   },
   {
    "duration": 108,
    "start_time": "2023-05-07T10:26:54.709Z"
   },
   {
    "duration": 43,
    "start_time": "2023-05-07T10:27:30.409Z"
   },
   {
    "duration": 93,
    "start_time": "2023-05-07T10:28:23.540Z"
   },
   {
    "duration": 77,
    "start_time": "2023-05-07T10:28:37.743Z"
   },
   {
    "duration": 68,
    "start_time": "2023-05-07T10:28:42.003Z"
   },
   {
    "duration": 97,
    "start_time": "2023-05-07T10:28:55.224Z"
   },
   {
    "duration": 170,
    "start_time": "2023-05-07T10:29:03.808Z"
   },
   {
    "duration": 167,
    "start_time": "2023-05-07T10:29:09.542Z"
   },
   {
    "duration": 93,
    "start_time": "2023-05-07T10:29:15.579Z"
   },
   {
    "duration": 77,
    "start_time": "2023-05-07T10:29:21.028Z"
   },
   {
    "duration": 92,
    "start_time": "2023-05-07T10:29:24.824Z"
   },
   {
    "duration": 85,
    "start_time": "2023-05-07T10:29:29.068Z"
   },
   {
    "duration": 44,
    "start_time": "2023-05-07T10:32:11.714Z"
   },
   {
    "duration": 179,
    "start_time": "2023-05-07T10:32:17.126Z"
   },
   {
    "duration": 1245,
    "start_time": "2023-05-07T10:32:31.296Z"
   },
   {
    "duration": 168,
    "start_time": "2023-05-07T10:32:32.543Z"
   },
   {
    "duration": 153,
    "start_time": "2023-05-07T10:32:32.713Z"
   },
   {
    "duration": 128,
    "start_time": "2023-05-07T10:32:32.868Z"
   },
   {
    "duration": 9,
    "start_time": "2023-05-07T10:32:32.998Z"
   },
   {
    "duration": 11,
    "start_time": "2023-05-07T10:32:33.009Z"
   },
   {
    "duration": 96,
    "start_time": "2023-05-07T10:32:33.022Z"
   },
   {
    "duration": 114,
    "start_time": "2023-05-07T10:32:33.119Z"
   },
   {
    "duration": 25,
    "start_time": "2023-05-07T10:32:33.236Z"
   },
   {
    "duration": 10,
    "start_time": "2023-05-07T10:32:33.264Z"
   },
   {
    "duration": 3118,
    "start_time": "2023-05-07T10:32:33.295Z"
   },
   {
    "duration": 6,
    "start_time": "2023-05-07T10:32:36.415Z"
   },
   {
    "duration": 20,
    "start_time": "2023-05-07T10:32:36.422Z"
   },
   {
    "duration": 725,
    "start_time": "2023-05-07T10:32:36.443Z"
   },
   {
    "duration": 40,
    "start_time": "2023-05-07T10:32:37.170Z"
   },
   {
    "duration": 25,
    "start_time": "2023-05-07T10:32:37.212Z"
   },
   {
    "duration": 177,
    "start_time": "2023-05-07T10:32:37.240Z"
   },
   {
    "duration": 215,
    "start_time": "2023-05-07T10:32:37.420Z"
   },
   {
    "duration": 97,
    "start_time": "2023-05-07T10:32:37.637Z"
   },
   {
    "duration": 11,
    "start_time": "2023-05-07T10:32:37.736Z"
   },
   {
    "duration": 19,
    "start_time": "2023-05-07T10:32:37.749Z"
   },
   {
    "duration": 466,
    "start_time": "2023-05-07T10:32:37.796Z"
   },
   {
    "duration": 158,
    "start_time": "2023-05-07T10:32:38.263Z"
   },
   {
    "duration": 19,
    "start_time": "2023-05-07T10:32:38.423Z"
   },
   {
    "duration": 178,
    "start_time": "2023-05-07T10:32:38.444Z"
   },
   {
    "duration": 50,
    "start_time": "2023-05-07T10:32:38.624Z"
   },
   {
    "duration": 19,
    "start_time": "2023-05-07T10:32:38.676Z"
   },
   {
    "duration": 47,
    "start_time": "2023-05-07T10:32:38.707Z"
   },
   {
    "duration": 163,
    "start_time": "2023-05-07T10:32:38.756Z"
   },
   {
    "duration": 186,
    "start_time": "2023-05-07T10:32:38.921Z"
   },
   {
    "duration": 160,
    "start_time": "2023-05-07T10:32:39.109Z"
   },
   {
    "duration": 193,
    "start_time": "2023-05-07T10:32:39.270Z"
   },
   {
    "duration": 6,
    "start_time": "2023-05-07T10:32:39.465Z"
   },
   {
    "duration": 266,
    "start_time": "2023-05-07T10:32:39.473Z"
   },
   {
    "duration": 255,
    "start_time": "2023-05-07T10:32:39.741Z"
   },
   {
    "duration": 254,
    "start_time": "2023-05-07T10:32:40.005Z"
   },
   {
    "duration": 295,
    "start_time": "2023-05-07T10:32:40.261Z"
   },
   {
    "duration": 272,
    "start_time": "2023-05-07T10:32:40.557Z"
   },
   {
    "duration": 273,
    "start_time": "2023-05-07T10:32:40.832Z"
   },
   {
    "duration": 270,
    "start_time": "2023-05-07T10:32:41.107Z"
   },
   {
    "duration": 296,
    "start_time": "2023-05-07T10:32:41.379Z"
   },
   {
    "duration": 1033,
    "start_time": "2023-05-07T10:34:08.604Z"
   },
   {
    "duration": 3,
    "start_time": "2023-05-07T10:34:16.266Z"
   },
   {
    "duration": 256,
    "start_time": "2023-05-07T10:35:40.263Z"
   },
   {
    "duration": 1234,
    "start_time": "2023-05-07T10:41:59.610Z"
   },
   {
    "duration": 165,
    "start_time": "2023-05-07T10:42:00.847Z"
   },
   {
    "duration": 150,
    "start_time": "2023-05-07T10:42:01.017Z"
   },
   {
    "duration": 134,
    "start_time": "2023-05-07T10:42:01.168Z"
   },
   {
    "duration": 6,
    "start_time": "2023-05-07T10:42:01.306Z"
   },
   {
    "duration": 55,
    "start_time": "2023-05-07T10:42:01.314Z"
   },
   {
    "duration": 100,
    "start_time": "2023-05-07T10:42:01.371Z"
   },
   {
    "duration": 133,
    "start_time": "2023-05-07T10:42:01.473Z"
   },
   {
    "duration": 28,
    "start_time": "2023-05-07T10:42:01.609Z"
   },
   {
    "duration": 72,
    "start_time": "2023-05-07T10:42:01.639Z"
   },
   {
    "duration": 3140,
    "start_time": "2023-05-07T10:42:01.713Z"
   },
   {
    "duration": 5,
    "start_time": "2023-05-07T10:42:04.855Z"
   },
   {
    "duration": 10,
    "start_time": "2023-05-07T10:42:04.861Z"
   },
   {
    "duration": 699,
    "start_time": "2023-05-07T10:42:04.872Z"
   },
   {
    "duration": 36,
    "start_time": "2023-05-07T10:42:05.573Z"
   },
   {
    "duration": 25,
    "start_time": "2023-05-07T10:42:05.610Z"
   },
   {
    "duration": 167,
    "start_time": "2023-05-07T10:42:05.637Z"
   },
   {
    "duration": 156,
    "start_time": "2023-05-07T10:42:05.806Z"
   },
   {
    "duration": 78,
    "start_time": "2023-05-07T10:42:05.963Z"
   },
   {
    "duration": 9,
    "start_time": "2023-05-07T10:42:06.043Z"
   },
   {
    "duration": 16,
    "start_time": "2023-05-07T10:42:06.053Z"
   },
   {
    "duration": 442,
    "start_time": "2023-05-07T10:42:06.071Z"
   },
   {
    "duration": 129,
    "start_time": "2023-05-07T10:42:06.515Z"
   },
   {
    "duration": 57,
    "start_time": "2023-05-07T10:42:06.646Z"
   },
   {
    "duration": 137,
    "start_time": "2023-05-07T10:42:06.704Z"
   },
   {
    "duration": 63,
    "start_time": "2023-05-07T10:42:06.842Z"
   },
   {
    "duration": 4,
    "start_time": "2023-05-07T10:42:06.909Z"
   },
   {
    "duration": 45,
    "start_time": "2023-05-07T10:42:06.914Z"
   },
   {
    "duration": 184,
    "start_time": "2023-05-07T10:42:06.961Z"
   },
   {
    "duration": 182,
    "start_time": "2023-05-07T10:42:07.146Z"
   },
   {
    "duration": 217,
    "start_time": "2023-05-07T10:42:07.330Z"
   },
   {
    "duration": 247,
    "start_time": "2023-05-07T10:42:07.548Z"
   },
   {
    "duration": 11,
    "start_time": "2023-05-07T10:42:07.797Z"
   },
   {
    "duration": 24,
    "start_time": "2023-05-07T10:42:07.809Z"
   },
   {
    "duration": 346,
    "start_time": "2023-05-07T10:42:07.835Z"
   },
   {
    "duration": 256,
    "start_time": "2023-05-07T10:42:08.183Z"
   },
   {
    "duration": 263,
    "start_time": "2023-05-07T10:42:08.441Z"
   },
   {
    "duration": 269,
    "start_time": "2023-05-07T10:42:08.706Z"
   },
   {
    "duration": 8,
    "start_time": "2023-05-07T10:42:54.705Z"
   },
   {
    "duration": 148,
    "start_time": "2023-05-07T10:43:17.691Z"
   },
   {
    "duration": 7,
    "start_time": "2023-05-07T10:43:28.805Z"
   },
   {
    "duration": 7,
    "start_time": "2023-05-07T10:43:40.624Z"
   },
   {
    "duration": 15,
    "start_time": "2023-05-07T10:43:51.813Z"
   },
   {
    "duration": 1221,
    "start_time": "2023-05-07T12:58:40.999Z"
   },
   {
    "duration": 502,
    "start_time": "2023-05-07T12:58:42.222Z"
   },
   {
    "duration": 122,
    "start_time": "2023-05-07T12:58:42.725Z"
   },
   {
    "duration": 92,
    "start_time": "2023-05-07T12:58:42.849Z"
   },
   {
    "duration": 7,
    "start_time": "2023-05-07T12:58:42.943Z"
   },
   {
    "duration": 12,
    "start_time": "2023-05-07T12:58:42.972Z"
   },
   {
    "duration": 65,
    "start_time": "2023-05-07T12:58:42.986Z"
   },
   {
    "duration": 153,
    "start_time": "2023-05-07T12:58:43.052Z"
   },
   {
    "duration": 23,
    "start_time": "2023-05-07T12:58:43.207Z"
   },
   {
    "duration": 8,
    "start_time": "2023-05-07T12:58:43.233Z"
   },
   {
    "duration": 2229,
    "start_time": "2023-05-07T12:58:43.243Z"
   },
   {
    "duration": 5,
    "start_time": "2023-05-07T12:58:45.473Z"
   },
   {
    "duration": 13,
    "start_time": "2023-05-07T12:58:45.480Z"
   },
   {
    "duration": 610,
    "start_time": "2023-05-07T12:58:45.494Z"
   },
   {
    "duration": 28,
    "start_time": "2023-05-07T12:58:46.106Z"
   },
   {
    "duration": 41,
    "start_time": "2023-05-07T12:58:46.136Z"
   },
   {
    "duration": 167,
    "start_time": "2023-05-07T12:58:46.179Z"
   },
   {
    "duration": 153,
    "start_time": "2023-05-07T12:58:46.348Z"
   },
   {
    "duration": 71,
    "start_time": "2023-05-07T12:58:46.503Z"
   },
   {
    "duration": 8,
    "start_time": "2023-05-07T12:58:46.575Z"
   },
   {
    "duration": 16,
    "start_time": "2023-05-07T12:58:46.584Z"
   },
   {
    "duration": 378,
    "start_time": "2023-05-07T12:58:46.601Z"
   },
   {
    "duration": 122,
    "start_time": "2023-05-07T12:58:46.980Z"
   },
   {
    "duration": 70,
    "start_time": "2023-05-07T12:58:47.104Z"
   },
   {
    "duration": 133,
    "start_time": "2023-05-07T12:58:47.176Z"
   },
   {
    "duration": 46,
    "start_time": "2023-05-07T12:58:47.311Z"
   },
   {
    "duration": 4,
    "start_time": "2023-05-07T12:58:47.372Z"
   },
   {
    "duration": 58,
    "start_time": "2023-05-07T12:58:47.380Z"
   },
   {
    "duration": 225,
    "start_time": "2023-05-07T12:58:47.440Z"
   },
   {
    "duration": 0,
    "start_time": "2023-05-07T12:58:47.671Z"
   },
   {
    "duration": 0,
    "start_time": "2023-05-07T12:58:47.672Z"
   },
   {
    "duration": 0,
    "start_time": "2023-05-07T12:58:47.673Z"
   },
   {
    "duration": 0,
    "start_time": "2023-05-07T12:58:47.675Z"
   },
   {
    "duration": 0,
    "start_time": "2023-05-07T12:58:47.676Z"
   },
   {
    "duration": 0,
    "start_time": "2023-05-07T12:58:47.678Z"
   },
   {
    "duration": 0,
    "start_time": "2023-05-07T12:58:47.679Z"
   },
   {
    "duration": 0,
    "start_time": "2023-05-07T12:58:47.680Z"
   },
   {
    "duration": 0,
    "start_time": "2023-05-07T12:58:47.681Z"
   },
   {
    "duration": 44,
    "start_time": "2023-05-07T13:02:01.130Z"
   },
   {
    "duration": 13,
    "start_time": "2023-05-07T13:02:07.736Z"
   },
   {
    "duration": 1066,
    "start_time": "2023-05-07T13:02:16.268Z"
   },
   {
    "duration": 142,
    "start_time": "2023-05-07T13:02:17.336Z"
   },
   {
    "duration": 119,
    "start_time": "2023-05-07T13:02:17.480Z"
   },
   {
    "duration": 95,
    "start_time": "2023-05-07T13:02:17.601Z"
   },
   {
    "duration": 5,
    "start_time": "2023-05-07T13:02:17.697Z"
   },
   {
    "duration": 13,
    "start_time": "2023-05-07T13:02:17.703Z"
   },
   {
    "duration": 88,
    "start_time": "2023-05-07T13:02:17.717Z"
   },
   {
    "duration": 93,
    "start_time": "2023-05-07T13:02:17.807Z"
   },
   {
    "duration": 24,
    "start_time": "2023-05-07T13:02:17.902Z"
   },
   {
    "duration": 9,
    "start_time": "2023-05-07T13:02:17.928Z"
   },
   {
    "duration": 2223,
    "start_time": "2023-05-07T13:02:17.939Z"
   },
   {
    "duration": 11,
    "start_time": "2023-05-07T13:02:20.164Z"
   },
   {
    "duration": 24,
    "start_time": "2023-05-07T13:02:20.176Z"
   },
   {
    "duration": 573,
    "start_time": "2023-05-07T13:02:20.201Z"
   },
   {
    "duration": 25,
    "start_time": "2023-05-07T13:02:20.775Z"
   },
   {
    "duration": 24,
    "start_time": "2023-05-07T13:02:20.801Z"
   },
   {
    "duration": 145,
    "start_time": "2023-05-07T13:02:20.828Z"
   },
   {
    "duration": 141,
    "start_time": "2023-05-07T13:02:20.975Z"
   },
   {
    "duration": 80,
    "start_time": "2023-05-07T13:02:21.117Z"
   },
   {
    "duration": 8,
    "start_time": "2023-05-07T13:02:21.199Z"
   },
   {
    "duration": 18,
    "start_time": "2023-05-07T13:02:21.209Z"
   },
   {
    "duration": 329,
    "start_time": "2023-05-07T13:02:21.229Z"
   },
   {
    "duration": 138,
    "start_time": "2023-05-07T13:02:21.559Z"
   },
   {
    "duration": 15,
    "start_time": "2023-05-07T13:02:21.698Z"
   },
   {
    "duration": 126,
    "start_time": "2023-05-07T13:02:21.715Z"
   },
   {
    "duration": 53,
    "start_time": "2023-05-07T13:02:21.843Z"
   },
   {
    "duration": 3,
    "start_time": "2023-05-07T13:02:21.898Z"
   },
   {
    "duration": 76,
    "start_time": "2023-05-07T13:02:21.904Z"
   },
   {
    "duration": 186,
    "start_time": "2023-05-07T13:02:21.982Z"
   },
   {
    "duration": 0,
    "start_time": "2023-05-07T13:02:22.170Z"
   },
   {
    "duration": 0,
    "start_time": "2023-05-07T13:02:22.172Z"
   },
   {
    "duration": 0,
    "start_time": "2023-05-07T13:02:22.173Z"
   },
   {
    "duration": 0,
    "start_time": "2023-05-07T13:02:22.174Z"
   },
   {
    "duration": 0,
    "start_time": "2023-05-07T13:02:22.175Z"
   },
   {
    "duration": 0,
    "start_time": "2023-05-07T13:02:22.176Z"
   },
   {
    "duration": 0,
    "start_time": "2023-05-07T13:02:22.177Z"
   },
   {
    "duration": 0,
    "start_time": "2023-05-07T13:02:22.178Z"
   },
   {
    "duration": 0,
    "start_time": "2023-05-07T13:02:22.179Z"
   },
   {
    "duration": 97,
    "start_time": "2023-05-07T13:03:10.115Z"
   },
   {
    "duration": 4,
    "start_time": "2023-05-07T13:04:10.737Z"
   },
   {
    "duration": 41,
    "start_time": "2023-05-07T13:04:21.136Z"
   },
   {
    "duration": 3,
    "start_time": "2023-05-07T13:04:23.613Z"
   },
   {
    "duration": 1133,
    "start_time": "2023-05-07T13:04:33.591Z"
   },
   {
    "duration": 139,
    "start_time": "2023-05-07T13:04:34.725Z"
   },
   {
    "duration": 129,
    "start_time": "2023-05-07T13:04:34.865Z"
   },
   {
    "duration": 93,
    "start_time": "2023-05-07T13:04:34.996Z"
   },
   {
    "duration": 4,
    "start_time": "2023-05-07T13:04:35.091Z"
   },
   {
    "duration": 35,
    "start_time": "2023-05-07T13:04:35.097Z"
   },
   {
    "duration": 85,
    "start_time": "2023-05-07T13:04:35.134Z"
   },
   {
    "duration": 91,
    "start_time": "2023-05-07T13:04:35.220Z"
   },
   {
    "duration": 22,
    "start_time": "2023-05-07T13:04:35.313Z"
   },
   {
    "duration": 18,
    "start_time": "2023-05-07T13:04:35.337Z"
   },
   {
    "duration": 2398,
    "start_time": "2023-05-07T13:04:35.356Z"
   },
   {
    "duration": 5,
    "start_time": "2023-05-07T13:04:37.756Z"
   },
   {
    "duration": 30,
    "start_time": "2023-05-07T13:04:37.763Z"
   },
   {
    "duration": 555,
    "start_time": "2023-05-07T13:04:37.796Z"
   },
   {
    "duration": 37,
    "start_time": "2023-05-07T13:04:38.352Z"
   },
   {
    "duration": 20,
    "start_time": "2023-05-07T13:04:38.390Z"
   },
   {
    "duration": 124,
    "start_time": "2023-05-07T13:04:38.411Z"
   },
   {
    "duration": 158,
    "start_time": "2023-05-07T13:04:38.537Z"
   },
   {
    "duration": 64,
    "start_time": "2023-05-07T13:04:38.696Z"
   },
   {
    "duration": 23,
    "start_time": "2023-05-07T13:04:38.762Z"
   },
   {
    "duration": 24,
    "start_time": "2023-05-07T13:04:38.786Z"
   },
   {
    "duration": 329,
    "start_time": "2023-05-07T13:04:38.812Z"
   },
   {
    "duration": 136,
    "start_time": "2023-05-07T13:04:39.142Z"
   },
   {
    "duration": 20,
    "start_time": "2023-05-07T13:04:39.280Z"
   },
   {
    "duration": 144,
    "start_time": "2023-05-07T13:04:39.302Z"
   },
   {
    "duration": 51,
    "start_time": "2023-05-07T13:04:39.448Z"
   },
   {
    "duration": 4,
    "start_time": "2023-05-07T13:04:39.500Z"
   },
   {
    "duration": 30,
    "start_time": "2023-05-07T13:04:39.505Z"
   },
   {
    "duration": 51,
    "start_time": "2023-05-07T13:04:39.537Z"
   },
   {
    "duration": 152,
    "start_time": "2023-05-07T13:04:39.589Z"
   },
   {
    "duration": 155,
    "start_time": "2023-05-07T13:04:39.742Z"
   },
   {
    "duration": 151,
    "start_time": "2023-05-07T13:04:39.898Z"
   },
   {
    "duration": 171,
    "start_time": "2023-05-07T13:04:40.050Z"
   },
   {
    "duration": 5,
    "start_time": "2023-05-07T13:04:40.223Z"
   },
   {
    "duration": 17,
    "start_time": "2023-05-07T13:04:40.230Z"
   },
   {
    "duration": 214,
    "start_time": "2023-05-07T13:04:40.248Z"
   },
   {
    "duration": 221,
    "start_time": "2023-05-07T13:04:40.464Z"
   },
   {
    "duration": 201,
    "start_time": "2023-05-07T13:04:40.687Z"
   },
   {
    "duration": 240,
    "start_time": "2023-05-07T13:04:40.889Z"
   },
   {
    "duration": 1177,
    "start_time": "2023-05-07T13:07:31.033Z"
   },
   {
    "duration": 158,
    "start_time": "2023-05-07T13:07:32.212Z"
   },
   {
    "duration": 156,
    "start_time": "2023-05-07T13:07:32.372Z"
   },
   {
    "duration": 115,
    "start_time": "2023-05-07T13:07:32.531Z"
   },
   {
    "duration": 10,
    "start_time": "2023-05-07T13:07:32.647Z"
   },
   {
    "duration": 20,
    "start_time": "2023-05-07T13:07:32.659Z"
   },
   {
    "duration": 106,
    "start_time": "2023-05-07T13:07:32.680Z"
   },
   {
    "duration": 116,
    "start_time": "2023-05-07T13:07:32.791Z"
   },
   {
    "duration": 39,
    "start_time": "2023-05-07T13:07:32.909Z"
   },
   {
    "duration": 39,
    "start_time": "2023-05-07T13:07:32.952Z"
   },
   {
    "duration": 2602,
    "start_time": "2023-05-07T13:07:32.997Z"
   },
   {
    "duration": 6,
    "start_time": "2023-05-07T13:07:35.602Z"
   },
   {
    "duration": 17,
    "start_time": "2023-05-07T13:07:35.610Z"
   },
   {
    "duration": 839,
    "start_time": "2023-05-07T13:07:35.628Z"
   },
   {
    "duration": 27,
    "start_time": "2023-05-07T13:07:36.468Z"
   },
   {
    "duration": 28,
    "start_time": "2023-05-07T13:07:36.496Z"
   },
   {
    "duration": 143,
    "start_time": "2023-05-07T13:07:36.525Z"
   },
   {
    "duration": 150,
    "start_time": "2023-05-07T13:07:36.671Z"
   },
   {
    "duration": 77,
    "start_time": "2023-05-07T13:07:36.822Z"
   },
   {
    "duration": 9,
    "start_time": "2023-05-07T13:07:36.900Z"
   },
   {
    "duration": 26,
    "start_time": "2023-05-07T13:07:36.911Z"
   },
   {
    "duration": 407,
    "start_time": "2023-05-07T13:07:36.939Z"
   },
   {
    "duration": 141,
    "start_time": "2023-05-07T13:07:37.347Z"
   },
   {
    "duration": 18,
    "start_time": "2023-05-07T13:07:37.490Z"
   },
   {
    "duration": 192,
    "start_time": "2023-05-07T13:07:37.510Z"
   },
   {
    "duration": 58,
    "start_time": "2023-05-07T13:07:37.704Z"
   },
   {
    "duration": 10,
    "start_time": "2023-05-07T13:07:37.778Z"
   },
   {
    "duration": 8,
    "start_time": "2023-05-07T13:07:37.792Z"
   },
   {
    "duration": 9,
    "start_time": "2023-05-07T13:07:37.801Z"
   },
   {
    "duration": 148,
    "start_time": "2023-05-07T13:07:37.812Z"
   },
   {
    "duration": 166,
    "start_time": "2023-05-07T13:07:37.962Z"
   },
   {
    "duration": 166,
    "start_time": "2023-05-07T13:07:38.129Z"
   },
   {
    "duration": 167,
    "start_time": "2023-05-07T13:07:38.296Z"
   },
   {
    "duration": 6,
    "start_time": "2023-05-07T13:07:38.465Z"
   },
   {
    "duration": 36,
    "start_time": "2023-05-07T13:07:38.473Z"
   },
   {
    "duration": 205,
    "start_time": "2023-05-07T13:07:38.510Z"
   },
   {
    "duration": 217,
    "start_time": "2023-05-07T13:07:38.716Z"
   },
   {
    "duration": 204,
    "start_time": "2023-05-07T13:07:38.935Z"
   },
   {
    "duration": 225,
    "start_time": "2023-05-07T13:07:39.140Z"
   },
   {
    "duration": 120,
    "start_time": "2023-05-07T13:09:15.946Z"
   },
   {
    "duration": 14,
    "start_time": "2023-05-07T13:09:26.553Z"
   },
   {
    "duration": 1037,
    "start_time": "2023-05-07T13:10:18.583Z"
   },
   {
    "duration": 146,
    "start_time": "2023-05-07T13:10:19.622Z"
   },
   {
    "duration": 126,
    "start_time": "2023-05-07T13:10:19.769Z"
   },
   {
    "duration": 106,
    "start_time": "2023-05-07T13:10:19.896Z"
   },
   {
    "duration": 4,
    "start_time": "2023-05-07T13:10:20.004Z"
   },
   {
    "duration": 14,
    "start_time": "2023-05-07T13:10:20.009Z"
   },
   {
    "duration": 86,
    "start_time": "2023-05-07T13:10:20.024Z"
   },
   {
    "duration": 98,
    "start_time": "2023-05-07T13:10:20.111Z"
   },
   {
    "duration": 22,
    "start_time": "2023-05-07T13:10:20.210Z"
   },
   {
    "duration": 8,
    "start_time": "2023-05-07T13:10:20.235Z"
   },
   {
    "duration": 2346,
    "start_time": "2023-05-07T13:10:20.244Z"
   },
   {
    "duration": 6,
    "start_time": "2023-05-07T13:10:22.592Z"
   },
   {
    "duration": 12,
    "start_time": "2023-05-07T13:10:22.599Z"
   },
   {
    "duration": 615,
    "start_time": "2023-05-07T13:10:22.613Z"
   },
   {
    "duration": 26,
    "start_time": "2023-05-07T13:10:23.229Z"
   },
   {
    "duration": 34,
    "start_time": "2023-05-07T13:10:23.257Z"
   },
   {
    "duration": 130,
    "start_time": "2023-05-07T13:10:23.293Z"
   },
   {
    "duration": 142,
    "start_time": "2023-05-07T13:10:23.425Z"
   },
   {
    "duration": 71,
    "start_time": "2023-05-07T13:10:23.568Z"
   },
   {
    "duration": 7,
    "start_time": "2023-05-07T13:10:23.641Z"
   },
   {
    "duration": 35,
    "start_time": "2023-05-07T13:10:23.650Z"
   },
   {
    "duration": 322,
    "start_time": "2023-05-07T13:10:23.687Z"
   },
   {
    "duration": 101,
    "start_time": "2023-05-07T13:10:24.010Z"
   },
   {
    "duration": 14,
    "start_time": "2023-05-07T13:10:24.112Z"
   },
   {
    "duration": 166,
    "start_time": "2023-05-07T13:10:24.128Z"
   },
   {
    "duration": 42,
    "start_time": "2023-05-07T13:10:24.295Z"
   },
   {
    "duration": 4,
    "start_time": "2023-05-07T13:10:24.338Z"
   },
   {
    "duration": 9,
    "start_time": "2023-05-07T13:10:24.345Z"
   },
   {
    "duration": 166,
    "start_time": "2023-05-07T13:10:24.377Z"
   },
   {
    "duration": 174,
    "start_time": "2023-05-07T13:10:24.545Z"
   },
   {
    "duration": 172,
    "start_time": "2023-05-07T13:10:24.720Z"
   },
   {
    "duration": 198,
    "start_time": "2023-05-07T13:10:24.894Z"
   },
   {
    "duration": 7,
    "start_time": "2023-05-07T13:10:25.095Z"
   },
   {
    "duration": 10,
    "start_time": "2023-05-07T13:10:25.104Z"
   },
   {
    "duration": 236,
    "start_time": "2023-05-07T13:10:25.116Z"
   },
   {
    "duration": 252,
    "start_time": "2023-05-07T13:10:25.354Z"
   },
   {
    "duration": 252,
    "start_time": "2023-05-07T13:10:25.608Z"
   },
   {
    "duration": 287,
    "start_time": "2023-05-07T13:10:25.861Z"
   },
   {
    "duration": 1268,
    "start_time": "2023-05-07T20:38:35.317Z"
   },
   {
    "duration": 194,
    "start_time": "2023-05-07T20:38:36.587Z"
   },
   {
    "duration": 163,
    "start_time": "2023-05-07T20:38:36.783Z"
   },
   {
    "duration": 121,
    "start_time": "2023-05-07T20:38:36.949Z"
   },
   {
    "duration": 5,
    "start_time": "2023-05-07T20:38:37.072Z"
   },
   {
    "duration": 46,
    "start_time": "2023-05-07T20:38:37.079Z"
   },
   {
    "duration": 101,
    "start_time": "2023-05-07T20:38:37.132Z"
   },
   {
    "duration": 123,
    "start_time": "2023-05-07T20:38:37.234Z"
   },
   {
    "duration": 32,
    "start_time": "2023-05-07T20:38:37.359Z"
   },
   {
    "duration": 36,
    "start_time": "2023-05-07T20:38:37.394Z"
   },
   {
    "duration": 3263,
    "start_time": "2023-05-07T20:38:37.432Z"
   },
   {
    "duration": 6,
    "start_time": "2023-05-07T20:38:40.696Z"
   },
   {
    "duration": 26,
    "start_time": "2023-05-07T20:38:40.704Z"
   },
   {
    "duration": 766,
    "start_time": "2023-05-07T20:38:40.733Z"
   },
   {
    "duration": 42,
    "start_time": "2023-05-07T20:38:41.501Z"
   },
   {
    "duration": 28,
    "start_time": "2023-05-07T20:38:41.545Z"
   },
   {
    "duration": 174,
    "start_time": "2023-05-07T20:38:41.575Z"
   },
   {
    "duration": 208,
    "start_time": "2023-05-07T20:38:41.751Z"
   },
   {
    "duration": 101,
    "start_time": "2023-05-07T20:38:41.961Z"
   },
   {
    "duration": 11,
    "start_time": "2023-05-07T20:38:42.064Z"
   },
   {
    "duration": 40,
    "start_time": "2023-05-07T20:38:42.078Z"
   },
   {
    "duration": 756,
    "start_time": "2023-05-07T20:38:42.120Z"
   },
   {
    "duration": 175,
    "start_time": "2023-05-07T20:38:42.877Z"
   },
   {
    "duration": 17,
    "start_time": "2023-05-07T20:38:43.054Z"
   },
   {
    "duration": 187,
    "start_time": "2023-05-07T20:38:43.073Z"
   },
   {
    "duration": 71,
    "start_time": "2023-05-07T20:38:43.261Z"
   },
   {
    "duration": 5,
    "start_time": "2023-05-07T20:38:43.334Z"
   },
   {
    "duration": 45,
    "start_time": "2023-05-07T20:38:43.343Z"
   },
   {
    "duration": 247,
    "start_time": "2023-05-07T20:38:43.390Z"
   },
   {
    "duration": 196,
    "start_time": "2023-05-07T20:38:43.639Z"
   },
   {
    "duration": 198,
    "start_time": "2023-05-07T20:38:43.837Z"
   },
   {
    "duration": 223,
    "start_time": "2023-05-07T20:38:44.036Z"
   },
   {
    "duration": 10,
    "start_time": "2023-05-07T20:38:44.261Z"
   },
   {
    "duration": 35,
    "start_time": "2023-05-07T20:38:44.273Z"
   },
   {
    "duration": 304,
    "start_time": "2023-05-07T20:38:44.310Z"
   },
   {
    "duration": 245,
    "start_time": "2023-05-07T20:38:44.625Z"
   },
   {
    "duration": 251,
    "start_time": "2023-05-07T20:38:44.872Z"
   },
   {
    "duration": 265,
    "start_time": "2023-05-07T20:38:45.129Z"
   },
   {
    "duration": 1289,
    "start_time": "2023-06-26T22:16:58.510Z"
   },
   {
    "duration": 565,
    "start_time": "2023-06-26T22:16:59.801Z"
   },
   {
    "duration": 169,
    "start_time": "2023-06-26T22:17:00.368Z"
   },
   {
    "duration": 127,
    "start_time": "2023-06-26T22:17:00.539Z"
   },
   {
    "duration": 7,
    "start_time": "2023-06-26T22:17:00.669Z"
   },
   {
    "duration": 39,
    "start_time": "2023-06-26T22:17:00.678Z"
   },
   {
    "duration": 113,
    "start_time": "2023-06-26T22:17:00.719Z"
   },
   {
    "duration": 120,
    "start_time": "2023-06-26T22:17:00.834Z"
   },
   {
    "duration": 29,
    "start_time": "2023-06-26T22:17:00.956Z"
   },
   {
    "duration": 57,
    "start_time": "2023-06-26T22:17:00.987Z"
   },
   {
    "duration": 3217,
    "start_time": "2023-06-26T22:17:01.046Z"
   },
   {
    "duration": 7,
    "start_time": "2023-06-26T22:17:04.265Z"
   },
   {
    "duration": 12,
    "start_time": "2023-06-26T22:17:04.275Z"
   },
   {
    "duration": 885,
    "start_time": "2023-06-26T22:17:04.291Z"
   },
   {
    "duration": 28,
    "start_time": "2023-06-26T22:17:05.177Z"
   },
   {
    "duration": 52,
    "start_time": "2023-06-26T22:17:05.206Z"
   },
   {
    "duration": 177,
    "start_time": "2023-06-26T22:17:05.261Z"
   },
   {
    "duration": 175,
    "start_time": "2023-06-26T22:17:05.441Z"
   },
   {
    "duration": 89,
    "start_time": "2023-06-26T22:17:05.617Z"
   },
   {
    "duration": 11,
    "start_time": "2023-06-26T22:17:05.708Z"
   },
   {
    "duration": 42,
    "start_time": "2023-06-26T22:17:05.720Z"
   },
   {
    "duration": 207,
    "start_time": "2023-06-26T22:17:05.764Z"
   },
   {
    "duration": 187,
    "start_time": "2023-06-26T22:17:05.973Z"
   },
   {
    "duration": 28,
    "start_time": "2023-06-26T22:17:06.162Z"
   },
   {
    "duration": 151,
    "start_time": "2023-06-26T22:17:06.192Z"
   },
   {
    "duration": 72,
    "start_time": "2023-06-26T22:17:06.345Z"
   },
   {
    "duration": 5,
    "start_time": "2023-06-26T22:17:06.420Z"
   },
   {
    "duration": 41,
    "start_time": "2023-06-26T22:17:06.428Z"
   },
   {
    "duration": 187,
    "start_time": "2023-06-26T22:17:06.471Z"
   },
   {
    "duration": 202,
    "start_time": "2023-06-26T22:17:06.660Z"
   },
   {
    "duration": 202,
    "start_time": "2023-06-26T22:17:06.864Z"
   },
   {
    "duration": 228,
    "start_time": "2023-06-26T22:17:07.068Z"
   },
   {
    "duration": 10,
    "start_time": "2023-06-26T22:17:07.298Z"
   },
   {
    "duration": 15,
    "start_time": "2023-06-26T22:17:07.310Z"
   },
   {
    "duration": 322,
    "start_time": "2023-06-26T22:17:07.327Z"
   },
   {
    "duration": 314,
    "start_time": "2023-06-26T22:17:07.653Z"
   },
   {
    "duration": 272,
    "start_time": "2023-06-26T22:17:07.968Z"
   },
   {
    "duration": 356,
    "start_time": "2023-06-26T22:17:08.242Z"
   },
   {
    "duration": 4,
    "start_time": "2023-06-26T22:31:43.709Z"
   },
   {
    "duration": 286,
    "start_time": "2023-06-26T22:31:43.715Z"
   },
   {
    "duration": 117,
    "start_time": "2023-06-26T22:31:44.003Z"
   },
   {
    "duration": 132,
    "start_time": "2023-06-26T22:31:44.121Z"
   },
   {
    "duration": 6,
    "start_time": "2023-06-26T22:31:44.256Z"
   },
   {
    "duration": 18,
    "start_time": "2023-06-26T22:31:44.264Z"
   },
   {
    "duration": 101,
    "start_time": "2023-06-26T22:31:44.284Z"
   },
   {
    "duration": 137,
    "start_time": "2023-06-26T22:31:44.387Z"
   },
   {
    "duration": 36,
    "start_time": "2023-06-26T22:31:44.526Z"
   },
   {
    "duration": 13,
    "start_time": "2023-06-26T22:31:44.564Z"
   },
   {
    "duration": 3203,
    "start_time": "2023-06-26T22:31:44.578Z"
   },
   {
    "duration": 6,
    "start_time": "2023-06-26T22:31:47.784Z"
   },
   {
    "duration": 31,
    "start_time": "2023-06-26T22:31:47.793Z"
   },
   {
    "duration": 738,
    "start_time": "2023-06-26T22:31:47.826Z"
   },
   {
    "duration": 34,
    "start_time": "2023-06-26T22:31:48.566Z"
   },
   {
    "duration": 23,
    "start_time": "2023-06-26T22:31:48.602Z"
   },
   {
    "duration": 158,
    "start_time": "2023-06-26T22:31:48.627Z"
   },
   {
    "duration": 402,
    "start_time": "2023-06-26T22:31:48.786Z"
   },
   {
    "duration": 86,
    "start_time": "2023-06-26T22:31:49.190Z"
   },
   {
    "duration": 12,
    "start_time": "2023-06-26T22:31:49.278Z"
   },
   {
    "duration": 35,
    "start_time": "2023-06-26T22:31:49.292Z"
   },
   {
    "duration": 32,
    "start_time": "2023-06-26T22:31:49.330Z"
   },
   {
    "duration": 104,
    "start_time": "2023-06-26T22:31:49.364Z"
   },
   {
    "duration": 17,
    "start_time": "2023-06-26T22:31:49.469Z"
   },
   {
    "duration": 149,
    "start_time": "2023-06-26T22:31:49.488Z"
   },
   {
    "duration": 61,
    "start_time": "2023-06-26T22:31:49.639Z"
   },
   {
    "duration": 4,
    "start_time": "2023-06-26T22:31:49.702Z"
   },
   {
    "duration": 13,
    "start_time": "2023-06-26T22:31:49.708Z"
   },
   {
    "duration": 190,
    "start_time": "2023-06-26T22:31:49.751Z"
   },
   {
    "duration": 212,
    "start_time": "2023-06-26T22:31:49.943Z"
   },
   {
    "duration": 196,
    "start_time": "2023-06-26T22:31:50.157Z"
   },
   {
    "duration": 266,
    "start_time": "2023-06-26T22:31:50.355Z"
   },
   {
    "duration": 8,
    "start_time": "2023-06-26T22:31:50.623Z"
   },
   {
    "duration": 34,
    "start_time": "2023-06-26T22:31:50.632Z"
   },
   {
    "duration": 337,
    "start_time": "2023-06-26T22:31:50.668Z"
   },
   {
    "duration": 348,
    "start_time": "2023-06-26T22:31:51.007Z"
   },
   {
    "duration": 316,
    "start_time": "2023-06-26T22:31:51.359Z"
   },
   {
    "duration": 345,
    "start_time": "2023-06-26T22:31:51.677Z"
   },
   {
    "duration": 18,
    "start_time": "2023-06-26T23:00:12.692Z"
   }
  ],
  "kernelspec": {
   "display_name": "Python 3 (ipykernel)",
   "language": "python",
   "name": "python3"
  },
  "language_info": {
   "codemirror_mode": {
    "name": "ipython",
    "version": 3
   },
   "file_extension": ".py",
   "mimetype": "text/x-python",
   "name": "python",
   "nbconvert_exporter": "python",
   "pygments_lexer": "ipython3",
   "version": "3.9.5"
  },
  "toc": {
   "base_numbering": 1,
   "nav_menu": {},
   "number_sections": false,
   "sideBar": true,
   "skip_h1_title": false,
   "title_cell": "Table of Contents",
   "title_sidebar": "Исследование пользовательского поведения",
   "toc_cell": true,
   "toc_position": {
    "height": "calc(100% - 180px)",
    "left": "10px",
    "top": "150px",
    "width": "290.875px"
   },
   "toc_section_display": true,
   "toc_window_display": false
  }
 },
 "nbformat": 4,
 "nbformat_minor": 2
}
